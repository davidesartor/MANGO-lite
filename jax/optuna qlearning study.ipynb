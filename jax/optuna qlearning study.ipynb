{
 "cells": [
  {
   "cell_type": "code",
   "execution_count": 1,
   "metadata": {},
   "outputs": [],
   "source": [
    "import os\n",
    "os.environ[\"CUDA_VISIBLE_DEVICES\"] = \"0\"\n",
    "import jax\n",
    "from jax import numpy as jnp\n",
    "import optax\n",
    "from functools import partial\n",
    "import sim\n",
    "import optuna\n",
    "import matplotlib.pyplot as plt"
   ]
  },
  {
   "cell_type": "code",
   "execution_count": 2,
   "metadata": {},
   "outputs": [
    {
     "data": {
      "text/plain": [
       "[cuda(id=0)]"
      ]
     },
     "execution_count": 2,
     "metadata": {},
     "output_type": "execute_result"
    }
   ],
   "source": [
    "jax.devices()"
   ]
  },
  {
   "cell_type": "code",
   "execution_count": 3,
   "metadata": {},
   "outputs": [
    {
     "name": "stdout",
     "output_type": "stream",
     "text": [
      "Listening on http://127.0.0.1:8080/\n",
      "Hit Ctrl-C to quit.\n",
      "\n",
      "127.0.0.1 - - [08/Feb/2024 09:29:58] \"GET / HTTP/1.1\" 302 0\n",
      "127.0.0.1 - - [08/Feb/2024 09:29:58] \"GET /dashboard HTTP/1.1\" 304 0\n",
      "127.0.0.1 - - [08/Feb/2024 09:29:59] \"GET /static/bundle.js HTTP/1.1\" 304 0\n",
      "127.0.0.1 - - [08/Feb/2024 09:30:00] \"GET /api/studies HTTP/1.1\" 200 137\n",
      "127.0.0.1 - - [08/Feb/2024 09:30:02] \"GET /api/meta HTTP/1.1\" 200 32\n",
      "/home/davide_sartor/.conda/envs/dl_env/lib/python3.10/site-packages/optuna/study/_study_summary.py:115: FutureWarning: `system_attrs` has been deprecated in v3.1.0. The removal of this feature is currently scheduled for v5.0.0, but this schedule is subject to change. See https://github.com/optuna/optuna/releases/tag/v3.1.0.\n",
      "  warnings.warn(\n",
      "127.0.0.1 - - [08/Feb/2024 09:30:02] \"GET /api/studies/1?after=0 HTTP/1.1\" 200 88075\n",
      "127.0.0.1 - - [08/Feb/2024 09:30:02] \"GET /api/studies/1/param_importances HTTP/1.1\" 200 205\n",
      "127.0.0.1 - - [08/Feb/2024 09:30:03] \"GET /api/studies/1/param_importances HTTP/1.1\" 200 205\n",
      "127.0.0.1 - - [08/Feb/2024 09:30:12] \"GET /api/studies/1?after=100 HTTP/1.1\" 200 1715\n",
      "127.0.0.1 - - [08/Feb/2024 09:30:23] \"GET /api/studies/1?after=100 HTTP/1.1\" 200 1715\n",
      "127.0.0.1 - - [08/Feb/2024 09:30:34] \"GET /api/studies/1?after=100 HTTP/1.1\" 200 1715\n",
      "127.0.0.1 - - [08/Feb/2024 09:30:40] \"GET / HTTP/1.1\" 302 0\n",
      "127.0.0.1 - - [08/Feb/2024 09:30:41] \"GET /api/studies HTTP/1.1\" 200 137\n",
      "127.0.0.1 - - [08/Feb/2024 09:30:44] \"GET /api/studies/1?after=100 HTTP/1.1\" 200 1715\n",
      "127.0.0.1 - - [08/Feb/2024 09:30:55] \"GET /api/studies/1?after=100 HTTP/1.1\" 200 1715\n",
      "127.0.0.1 - - [08/Feb/2024 09:31:01] \"GET / HTTP/1.1\" 302 0\n",
      "127.0.0.1 - - [08/Feb/2024 09:31:01] \"GET /api/studies HTTP/1.1\" 200 137\n",
      "127.0.0.1 - - [08/Feb/2024 09:31:06] \"GET /api/studies/1?after=100 HTTP/1.1\" 200 1715\n"
     ]
    }
   ],
   "source": [
    "!optuna-dashboard sqlite:///qlearning4x4.db"
   ]
  },
  {
   "cell_type": "code",
   "execution_count": 3,
   "metadata": {},
   "outputs": [
    {
     "name": "stderr",
     "output_type": "stream",
     "text": [
      "[I 2024-02-08 07:36:25,511] A new study created in RDB with name: qlearning\n"
     ]
    },
    {
     "data": {
      "application/vnd.jupyter.widget-view+json": {
       "model_id": "d4a9fcec63f1465b854c7eedb7e5ef21",
       "version_major": 2,
       "version_minor": 0
      },
      "text/plain": [
       "  0%|          | 0/100 [00:00<?, ?it/s]"
      ]
     },
     "metadata": {},
     "output_type": "display_data"
    },
    {
     "data": {
      "application/vnd.jupyter.widget-view+json": {
       "model_id": "6eae801d03c64e4683d04e041b6ebd21",
       "version_major": 2,
       "version_minor": 0
      },
      "text/plain": [
       "  0%|          | 0/3125 [00:00<?, ?it/s]"
      ]
     },
     "metadata": {},
     "output_type": "display_data"
    },
    {
     "name": "stdout",
     "output_type": "stream",
     "text": [
      "[I 2024-02-08 07:37:16,137] Trial 0 finished with value: 0.11687999963760376 and parameters: {'lr': 0.0041823181213999, 'annealing': 0.42434748874478134}. Best is trial 0 with value: 0.11687999963760376.\n"
     ]
    },
    {
     "data": {
      "application/vnd.jupyter.widget-view+json": {
       "model_id": "0d9580debcd34bcf8d992105a587f5a1",
       "version_major": 2,
       "version_minor": 0
      },
      "text/plain": [
       "  0%|          | 0/3125 [00:00<?, ?it/s]"
      ]
     },
     "metadata": {},
     "output_type": "display_data"
    },
    {
     "name": "stdout",
     "output_type": "stream",
     "text": [
      "[I 2024-02-08 07:37:57,234] Trial 1 finished with value: 0.07595499604940414 and parameters: {'lr': 0.0006838528096292352, 'annealing': 0.11318514465214205}. Best is trial 0 with value: 0.11687999963760376.\n"
     ]
    },
    {
     "data": {
      "application/vnd.jupyter.widget-view+json": {
       "model_id": "1f1bf2bcd2bc4c649fe06b3502b3e78c",
       "version_major": 2,
       "version_minor": 0
      },
      "text/plain": [
       "  0%|          | 0/3125 [00:00<?, ?it/s]"
      ]
     },
     "metadata": {},
     "output_type": "display_data"
    },
    {
     "name": "stdout",
     "output_type": "stream",
     "text": [
      "[I 2024-02-08 07:38:36,696] Trial 2 finished with value: 0.11275500059127808 and parameters: {'lr': 0.003910158909654521, 'annealing': 0.16662650510766203}. Best is trial 0 with value: 0.11687999963760376.\n"
     ]
    },
    {
     "data": {
      "application/vnd.jupyter.widget-view+json": {
       "model_id": "daaa706cda3b498c830a3c6fa2c5cf34",
       "version_major": 2,
       "version_minor": 0
      },
      "text/plain": [
       "  0%|          | 0/3125 [00:00<?, ?it/s]"
      ]
     },
     "metadata": {},
     "output_type": "display_data"
    },
    {
     "name": "stdout",
     "output_type": "stream",
     "text": [
      "[I 2024-02-08 07:39:17,489] Trial 3 finished with value: 0.13129499554634094 and parameters: {'lr': 0.000606347320712814, 'annealing': 0.2799822438671996}. Best is trial 3 with value: 0.13129499554634094.\n"
     ]
    },
    {
     "data": {
      "application/vnd.jupyter.widget-view+json": {
       "model_id": "54eec88f8f994ca4971046d6f70ccace",
       "version_major": 2,
       "version_minor": 0
      },
      "text/plain": [
       "  0%|          | 0/3125 [00:00<?, ?it/s]"
      ]
     },
     "metadata": {},
     "output_type": "display_data"
    },
    {
     "name": "stdout",
     "output_type": "stream",
     "text": [
      "[I 2024-02-08 07:39:57,072] Trial 4 finished with value: 0.12525999546051025 and parameters: {'lr': 0.001469956945171775, 'annealing': 0.2788655854553571}. Best is trial 3 with value: 0.13129499554634094.\n"
     ]
    },
    {
     "data": {
      "application/vnd.jupyter.widget-view+json": {
       "model_id": "947d5f87d3274c3c8b2382dfd7b58bc1",
       "version_major": 2,
       "version_minor": 0
      },
      "text/plain": [
       "  0%|          | 0/3125 [00:00<?, ?it/s]"
      ]
     },
     "metadata": {},
     "output_type": "display_data"
    },
    {
     "name": "stdout",
     "output_type": "stream",
     "text": [
      "[I 2024-02-08 07:40:36,818] Trial 5 finished with value: 0.110835000872612 and parameters: {'lr': 0.006538482693091124, 'annealing': 0.1245762024601727}. Best is trial 3 with value: 0.13129499554634094.\n"
     ]
    },
    {
     "data": {
      "application/vnd.jupyter.widget-view+json": {
       "model_id": "a56559fba03c4fd38ed7724620d2b5df",
       "version_major": 2,
       "version_minor": 0
      },
      "text/plain": [
       "  0%|          | 0/3125 [00:00<?, ?it/s]"
      ]
     },
     "metadata": {},
     "output_type": "display_data"
    },
    {
     "name": "stdout",
     "output_type": "stream",
     "text": [
      "[I 2024-02-08 07:41:17,660] Trial 6 finished with value: 0.10293499380350113 and parameters: {'lr': 0.006743695577726217, 'annealing': 0.10031201324763779}. Best is trial 3 with value: 0.13129499554634094.\n"
     ]
    },
    {
     "data": {
      "application/vnd.jupyter.widget-view+json": {
       "model_id": "df3d6a52727b4a3996107ef6e41c9fd2",
       "version_major": 2,
       "version_minor": 0
      },
      "text/plain": [
       "  0%|          | 0/3125 [00:00<?, ?it/s]"
      ]
     },
     "metadata": {},
     "output_type": "display_data"
    },
    {
     "name": "stdout",
     "output_type": "stream",
     "text": [
      "[I 2024-02-08 07:41:57,595] Trial 7 finished with value: 0.13436000049114227 and parameters: {'lr': 0.00042719867056681773, 'annealing': 0.47382353250757403}. Best is trial 7 with value: 0.13436000049114227.\n"
     ]
    },
    {
     "data": {
      "application/vnd.jupyter.widget-view+json": {
       "model_id": "10cd000fd48448df9ad2a3856c427280",
       "version_major": 2,
       "version_minor": 0
      },
      "text/plain": [
       "  0%|          | 0/3125 [00:00<?, ?it/s]"
      ]
     },
     "metadata": {},
     "output_type": "display_data"
    },
    {
     "name": "stdout",
     "output_type": "stream",
     "text": [
      "[I 2024-02-08 07:42:37,869] Trial 8 finished with value: 0.1312749981880188 and parameters: {'lr': 0.00019836058691119154, 'annealing': 0.35014285602544015}. Best is trial 7 with value: 0.13436000049114227.\n"
     ]
    },
    {
     "data": {
      "application/vnd.jupyter.widget-view+json": {
       "model_id": "bcef0e24a621477b808916defa589e86",
       "version_major": 2,
       "version_minor": 0
      },
      "text/plain": [
       "  0%|          | 0/3125 [00:00<?, ?it/s]"
      ]
     },
     "metadata": {},
     "output_type": "display_data"
    },
    {
     "name": "stdout",
     "output_type": "stream",
     "text": [
      "[I 2024-02-08 07:43:19,212] Trial 9 finished with value: 0.11002499610185623 and parameters: {'lr': 0.005171813234523682, 'annealing': 0.13113660223120813}. Best is trial 7 with value: 0.13436000049114227.\n"
     ]
    },
    {
     "data": {
      "application/vnd.jupyter.widget-view+json": {
       "model_id": "313c6d4a41db47d69d792ce9261edf5e",
       "version_major": 2,
       "version_minor": 0
      },
      "text/plain": [
       "  0%|          | 0/3125 [00:00<?, ?it/s]"
      ]
     },
     "metadata": {},
     "output_type": "display_data"
    },
    {
     "name": "stdout",
     "output_type": "stream",
     "text": [
      "[I 2024-02-08 07:44:00,673] Trial 10 finished with value: 0.12306499481201172 and parameters: {'lr': 0.00010371504359795652, 'annealing': 0.4997674933350441}. Best is trial 7 with value: 0.13436000049114227.\n"
     ]
    },
    {
     "data": {
      "application/vnd.jupyter.widget-view+json": {
       "model_id": "d33d8998a1d34963b55fffeaac5a33a8",
       "version_major": 2,
       "version_minor": 0
      },
      "text/plain": [
       "  0%|          | 0/3125 [00:00<?, ?it/s]"
      ]
     },
     "metadata": {},
     "output_type": "display_data"
    },
    {
     "name": "stdout",
     "output_type": "stream",
     "text": [
      "[I 2024-02-08 07:44:41,066] Trial 11 finished with value: 0.12781500816345215 and parameters: {'lr': 0.0004860490080073841, 'annealing': 0.2589872977852722}. Best is trial 7 with value: 0.13436000049114227.\n"
     ]
    },
    {
     "data": {
      "application/vnd.jupyter.widget-view+json": {
       "model_id": "2494a71e0ebc4d899c8932a5f045a3a1",
       "version_major": 2,
       "version_minor": 0
      },
      "text/plain": [
       "  0%|          | 0/3125 [00:00<?, ?it/s]"
      ]
     },
     "metadata": {},
     "output_type": "display_data"
    },
    {
     "name": "stdout",
     "output_type": "stream",
     "text": [
      "[I 2024-02-08 07:45:21,720] Trial 12 finished with value: 0.13332998752593994 and parameters: {'lr': 0.0003414879576182911, 'annealing': 0.35158538905074077}. Best is trial 7 with value: 0.13436000049114227.\n"
     ]
    },
    {
     "data": {
      "application/vnd.jupyter.widget-view+json": {
       "model_id": "fa3e16212c2545a5a3d8ef04fec1dd6d",
       "version_major": 2,
       "version_minor": 0
      },
      "text/plain": [
       "  0%|          | 0/3125 [00:00<?, ?it/s]"
      ]
     },
     "metadata": {},
     "output_type": "display_data"
    },
    {
     "name": "stdout",
     "output_type": "stream",
     "text": [
      "[I 2024-02-08 07:46:05,006] Trial 13 finished with value: 0.13417500257492065 and parameters: {'lr': 0.00028789674848522, 'annealing': 0.3824092731034323}. Best is trial 7 with value: 0.13436000049114227.\n"
     ]
    },
    {
     "data": {
      "application/vnd.jupyter.widget-view+json": {
       "model_id": "a9a11d2ad0224379be33b880128215df",
       "version_major": 2,
       "version_minor": 0
      },
      "text/plain": [
       "  0%|          | 0/3125 [00:00<?, ?it/s]"
      ]
     },
     "metadata": {},
     "output_type": "display_data"
    },
    {
     "name": "stdout",
     "output_type": "stream",
     "text": [
      "[I 2024-02-08 07:46:51,125] Trial 14 finished with value: 0.1273300051689148 and parameters: {'lr': 0.0013334797684905698, 'annealing': 0.4986942529159854}. Best is trial 7 with value: 0.13436000049114227.\n"
     ]
    },
    {
     "data": {
      "application/vnd.jupyter.widget-view+json": {
       "model_id": "299df6a26300448bad8b4bc1cba76960",
       "version_major": 2,
       "version_minor": 0
      },
      "text/plain": [
       "  0%|          | 0/3125 [00:00<?, ?it/s]"
      ]
     },
     "metadata": {},
     "output_type": "display_data"
    },
    {
     "name": "stdout",
     "output_type": "stream",
     "text": [
      "[I 2024-02-08 07:47:35,693] Trial 15 finished with value: 0.1319199949502945 and parameters: {'lr': 0.0002238202877166832, 'annealing': 0.4271229976330114}. Best is trial 7 with value: 0.13436000049114227.\n"
     ]
    },
    {
     "data": {
      "application/vnd.jupyter.widget-view+json": {
       "model_id": "248a547fc2d34b20baf6f7422b5887fe",
       "version_major": 2,
       "version_minor": 0
      },
      "text/plain": [
       "  0%|          | 0/3125 [00:00<?, ?it/s]"
      ]
     },
     "metadata": {},
     "output_type": "display_data"
    },
    {
     "name": "stdout",
     "output_type": "stream",
     "text": [
      "[I 2024-02-08 07:48:15,668] Trial 16 finished with value: 0.1239749938249588 and parameters: {'lr': 0.00010020806477653322, 'annealing': 0.43301509660648146}. Best is trial 7 with value: 0.13436000049114227.\n"
     ]
    },
    {
     "data": {
      "application/vnd.jupyter.widget-view+json": {
       "model_id": "ac2e674fb8a14cfbb9cf9f05eace7608",
       "version_major": 2,
       "version_minor": 0
      },
      "text/plain": [
       "  0%|          | 0/3125 [00:00<?, ?it/s]"
      ]
     },
     "metadata": {},
     "output_type": "display_data"
    },
    {
     "name": "stdout",
     "output_type": "stream",
     "text": [
      "[I 2024-02-08 07:48:56,325] Trial 17 finished with value: 0.12111499905586243 and parameters: {'lr': 0.0021086553166409575, 'annealing': 0.3627163361409333}. Best is trial 7 with value: 0.13436000049114227.\n"
     ]
    },
    {
     "data": {
      "application/vnd.jupyter.widget-view+json": {
       "model_id": "e61f236b62fa46b2971cfb9336c4ac8c",
       "version_major": 2,
       "version_minor": 0
      },
      "text/plain": [
       "  0%|          | 0/3125 [00:00<?, ?it/s]"
      ]
     },
     "metadata": {},
     "output_type": "display_data"
    },
    {
     "name": "stdout",
     "output_type": "stream",
     "text": [
      "[I 2024-02-08 07:49:38,817] Trial 18 finished with value: 0.13296499848365784 and parameters: {'lr': 0.0002757012470716436, 'annealing': 0.457028027039671}. Best is trial 7 with value: 0.13436000049114227.\n"
     ]
    },
    {
     "data": {
      "application/vnd.jupyter.widget-view+json": {
       "model_id": "aedc0f4ac11e4b998cde0bb7e0d16db2",
       "version_major": 2,
       "version_minor": 0
      },
      "text/plain": [
       "  0%|          | 0/3125 [00:00<?, ?it/s]"
      ]
     },
     "metadata": {},
     "output_type": "display_data"
    },
    {
     "name": "stdout",
     "output_type": "stream",
     "text": [
      "[I 2024-02-08 07:50:20,922] Trial 19 finished with value: 0.12953999638557434 and parameters: {'lr': 0.00016327098506562296, 'annealing': 0.3817615495969998}. Best is trial 7 with value: 0.13436000049114227.\n"
     ]
    },
    {
     "data": {
      "application/vnd.jupyter.widget-view+json": {
       "model_id": "bff43149d8854ca796c648673c0c2f3a",
       "version_major": 2,
       "version_minor": 0
      },
      "text/plain": [
       "  0%|          | 0/3125 [00:00<?, ?it/s]"
      ]
     },
     "metadata": {},
     "output_type": "display_data"
    },
    {
     "name": "stdout",
     "output_type": "stream",
     "text": [
      "[I 2024-02-08 07:51:00,038] Trial 20 finished with value: 0.13219000399112701 and parameters: {'lr': 0.0004097469700946819, 'annealing': 0.21270951699346657}. Best is trial 7 with value: 0.13436000049114227.\n"
     ]
    },
    {
     "data": {
      "application/vnd.jupyter.widget-view+json": {
       "model_id": "c1af0415b28b4827b0b5725d1201b170",
       "version_major": 2,
       "version_minor": 0
      },
      "text/plain": [
       "  0%|          | 0/3125 [00:00<?, ?it/s]"
      ]
     },
     "metadata": {},
     "output_type": "display_data"
    },
    {
     "name": "stdout",
     "output_type": "stream",
     "text": [
      "[I 2024-02-08 07:51:42,099] Trial 21 finished with value: 0.13337498903274536 and parameters: {'lr': 0.00035781856094390123, 'annealing': 0.32688264377694937}. Best is trial 7 with value: 0.13436000049114227.\n"
     ]
    },
    {
     "data": {
      "application/vnd.jupyter.widget-view+json": {
       "model_id": "14a2306bf1a9426abfe0ca1c507f481b",
       "version_major": 2,
       "version_minor": 0
      },
      "text/plain": [
       "  0%|          | 0/3125 [00:00<?, ?it/s]"
      ]
     },
     "metadata": {},
     "output_type": "display_data"
    },
    {
     "name": "stdout",
     "output_type": "stream",
     "text": [
      "[I 2024-02-08 07:52:21,737] Trial 22 finished with value: 0.13049998879432678 and parameters: {'lr': 0.0008234927754532368, 'annealing': 0.3299142106345105}. Best is trial 7 with value: 0.13436000049114227.\n"
     ]
    },
    {
     "data": {
      "application/vnd.jupyter.widget-view+json": {
       "model_id": "6e399c19aa72473cbe37b10efbe43fe1",
       "version_major": 2,
       "version_minor": 0
      },
      "text/plain": [
       "  0%|          | 0/3125 [00:00<?, ?it/s]"
      ]
     },
     "metadata": {},
     "output_type": "display_data"
    },
    {
     "name": "stdout",
     "output_type": "stream",
     "text": [
      "[I 2024-02-08 07:53:01,617] Trial 23 finished with value: 0.1332949995994568 and parameters: {'lr': 0.0003309374735882078, 'annealing': 0.39769363293016835}. Best is trial 7 with value: 0.13436000049114227.\n"
     ]
    },
    {
     "data": {
      "application/vnd.jupyter.widget-view+json": {
       "model_id": "5622a32a78964423b6ca4f2c162db7b4",
       "version_major": 2,
       "version_minor": 0
      },
      "text/plain": [
       "  0%|          | 0/3125 [00:00<?, ?it/s]"
      ]
     },
     "metadata": {},
     "output_type": "display_data"
    },
    {
     "name": "stdout",
     "output_type": "stream",
     "text": [
      "[I 2024-02-08 07:53:41,573] Trial 24 finished with value: 0.12974999845027924 and parameters: {'lr': 0.00014606764134081747, 'annealing': 0.3157153779206431}. Best is trial 7 with value: 0.13436000049114227.\n"
     ]
    },
    {
     "data": {
      "application/vnd.jupyter.widget-view+json": {
       "model_id": "ef21b70aedd446c7a850fd2f549753f4",
       "version_major": 2,
       "version_minor": 0
      },
      "text/plain": [
       "  0%|          | 0/3125 [00:00<?, ?it/s]"
      ]
     },
     "metadata": {},
     "output_type": "display_data"
    },
    {
     "name": "stdout",
     "output_type": "stream",
     "text": [
      "[I 2024-02-08 07:54:22,430] Trial 25 finished with value: 0.13370999693870544 and parameters: {'lr': 0.00048679469115194733, 'annealing': 0.45660945953086557}. Best is trial 7 with value: 0.13436000049114227.\n"
     ]
    },
    {
     "data": {
      "application/vnd.jupyter.widget-view+json": {
       "model_id": "205606f70ecb47bc956cdc1f2f7f71e3",
       "version_major": 2,
       "version_minor": 0
      },
      "text/plain": [
       "  0%|          | 0/3125 [00:00<?, ?it/s]"
      ]
     },
     "metadata": {},
     "output_type": "display_data"
    },
    {
     "name": "stdout",
     "output_type": "stream",
     "text": [
      "[I 2024-02-08 07:55:01,819] Trial 26 finished with value: 0.12750500440597534 and parameters: {'lr': 0.000978005554647811, 'annealing': 0.4652554908373338}. Best is trial 7 with value: 0.13436000049114227.\n"
     ]
    },
    {
     "data": {
      "application/vnd.jupyter.widget-view+json": {
       "model_id": "1f6dfe9497ba4f3aae5cf43345649f04",
       "version_major": 2,
       "version_minor": 0
      },
      "text/plain": [
       "  0%|          | 0/3125 [00:00<?, ?it/s]"
      ]
     },
     "metadata": {},
     "output_type": "display_data"
    },
    {
     "name": "stdout",
     "output_type": "stream",
     "text": [
      "[I 2024-02-08 07:55:42,175] Trial 27 finished with value: 0.13055498898029327 and parameters: {'lr': 0.000531893921983242, 'annealing': 0.46441083727655713}. Best is trial 7 with value: 0.13436000049114227.\n"
     ]
    },
    {
     "data": {
      "application/vnd.jupyter.widget-view+json": {
       "model_id": "0a1c0c8f83514f708477d59947b71eb9",
       "version_major": 2,
       "version_minor": 0
      },
      "text/plain": [
       "  0%|          | 0/3125 [00:00<?, ?it/s]"
      ]
     },
     "metadata": {},
     "output_type": "display_data"
    },
    {
     "name": "stdout",
     "output_type": "stream",
     "text": [
      "[I 2024-02-08 07:56:25,094] Trial 28 finished with value: 0.13244499266147614 and parameters: {'lr': 0.0002455950011083127, 'annealing': 0.3940180553850591}. Best is trial 7 with value: 0.13436000049114227.\n"
     ]
    },
    {
     "data": {
      "application/vnd.jupyter.widget-view+json": {
       "model_id": "ac7fa0f2becf491ebda9638e3a448e18",
       "version_major": 2,
       "version_minor": 0
      },
      "text/plain": [
       "  0%|          | 0/3125 [00:00<?, ?it/s]"
      ]
     },
     "metadata": {},
     "output_type": "display_data"
    },
    {
     "name": "stdout",
     "output_type": "stream",
     "text": [
      "[I 2024-02-08 07:57:04,276] Trial 29 finished with value: 0.12089499831199646 and parameters: {'lr': 0.00228682612618815, 'annealing': 0.4179336322323846}. Best is trial 7 with value: 0.13436000049114227.\n"
     ]
    },
    {
     "data": {
      "application/vnd.jupyter.widget-view+json": {
       "model_id": "39ff2e00c6274e469b40502bc36bf66f",
       "version_major": 2,
       "version_minor": 0
      },
      "text/plain": [
       "  0%|          | 0/3125 [00:00<?, ?it/s]"
      ]
     },
     "metadata": {},
     "output_type": "display_data"
    },
    {
     "name": "stdout",
     "output_type": "stream",
     "text": [
      "[I 2024-02-08 07:57:46,470] Trial 30 finished with value: 0.12615999579429626 and parameters: {'lr': 0.0012291650841661998, 'annealing': 0.4446299328852926}. Best is trial 7 with value: 0.13436000049114227.\n"
     ]
    },
    {
     "data": {
      "application/vnd.jupyter.widget-view+json": {
       "model_id": "0c8f8cfd979c45aeaab457eefcae1bc8",
       "version_major": 2,
       "version_minor": 0
      },
      "text/plain": [
       "  0%|          | 0/3125 [00:00<?, ?it/s]"
      ]
     },
     "metadata": {},
     "output_type": "display_data"
    },
    {
     "name": "stdout",
     "output_type": "stream",
     "text": [
      "[I 2024-02-08 07:58:26,829] Trial 31 finished with value: 0.13438498973846436 and parameters: {'lr': 0.00040024070344635054, 'annealing': 0.47811419790955667}. Best is trial 31 with value: 0.13438498973846436.\n"
     ]
    },
    {
     "data": {
      "application/vnd.jupyter.widget-view+json": {
       "model_id": "8eec7e443a4144f18d635f84ebc42b46",
       "version_major": 2,
       "version_minor": 0
      },
      "text/plain": [
       "  0%|          | 0/3125 [00:00<?, ?it/s]"
      ]
     },
     "metadata": {},
     "output_type": "display_data"
    },
    {
     "name": "stdout",
     "output_type": "stream",
     "text": [
      "[I 2024-02-08 07:59:05,705] Trial 32 finished with value: 0.13111500442028046 and parameters: {'lr': 0.0007397478260258173, 'annealing': 0.48320555723215575}. Best is trial 31 with value: 0.13438498973846436.\n"
     ]
    },
    {
     "data": {
      "application/vnd.jupyter.widget-view+json": {
       "model_id": "98f679b102714128aabe0c0c70ea0c96",
       "version_major": 2,
       "version_minor": 0
      },
      "text/plain": [
       "  0%|          | 0/3125 [00:00<?, ?it/s]"
      ]
     },
     "metadata": {},
     "output_type": "display_data"
    },
    {
     "name": "stdout",
     "output_type": "stream",
     "text": [
      "[I 2024-02-08 07:59:46,894] Trial 33 finished with value: 0.13015499711036682 and parameters: {'lr': 0.00046724953803871795, 'annealing': 0.41255151510478494}. Best is trial 31 with value: 0.13438498973846436.\n"
     ]
    },
    {
     "data": {
      "application/vnd.jupyter.widget-view+json": {
       "model_id": "f4291d050fe04471bf58e04c6e35fcde",
       "version_major": 2,
       "version_minor": 0
      },
      "text/plain": [
       "  0%|          | 0/3125 [00:00<?, ?it/s]"
      ]
     },
     "metadata": {},
     "output_type": "display_data"
    },
    {
     "name": "stdout",
     "output_type": "stream",
     "text": [
      "[I 2024-02-08 08:00:26,797] Trial 34 finished with value: 0.13291999697685242 and parameters: {'lr': 0.0005666399190673031, 'annealing': 0.47327965993260307}. Best is trial 31 with value: 0.13438498973846436.\n"
     ]
    },
    {
     "data": {
      "application/vnd.jupyter.widget-view+json": {
       "model_id": "99d6df1dbf9c4eb2abe3a1b49433f63c",
       "version_major": 2,
       "version_minor": 0
      },
      "text/plain": [
       "  0%|          | 0/3125 [00:00<?, ?it/s]"
      ]
     },
     "metadata": {},
     "output_type": "display_data"
    },
    {
     "name": "stdout",
     "output_type": "stream",
     "text": [
      "[I 2024-02-08 08:01:07,778] Trial 35 finished with value: 0.13284499943256378 and parameters: {'lr': 0.0002851719296293112, 'annealing': 0.4467610528994521}. Best is trial 31 with value: 0.13438498973846436.\n"
     ]
    },
    {
     "data": {
      "application/vnd.jupyter.widget-view+json": {
       "model_id": "35cc480efa30499e8430afe6a70618a0",
       "version_major": 2,
       "version_minor": 0
      },
      "text/plain": [
       "  0%|          | 0/3125 [00:00<?, ?it/s]"
      ]
     },
     "metadata": {},
     "output_type": "display_data"
    },
    {
     "name": "stdout",
     "output_type": "stream",
     "text": [
      "[I 2024-02-08 08:01:50,098] Trial 36 finished with value: 0.13094499707221985 and parameters: {'lr': 0.0006829327482564455, 'annealing': 0.3711367680959147}. Best is trial 31 with value: 0.13438498973846436.\n"
     ]
    },
    {
     "data": {
      "application/vnd.jupyter.widget-view+json": {
       "model_id": "1501e4db69244bbb8813300eede6f96d",
       "version_major": 2,
       "version_minor": 0
      },
      "text/plain": [
       "  0%|          | 0/3125 [00:00<?, ?it/s]"
      ]
     },
     "metadata": {},
     "output_type": "display_data"
    },
    {
     "name": "stdout",
     "output_type": "stream",
     "text": [
      "[I 2024-02-08 08:02:30,042] Trial 37 finished with value: 0.12928499281406403 and parameters: {'lr': 0.0001798848649121434, 'annealing': 0.48408406946146826}. Best is trial 31 with value: 0.13438498973846436.\n"
     ]
    },
    {
     "data": {
      "application/vnd.jupyter.widget-view+json": {
       "model_id": "ecb282976f3549b58425a3d707cc1bd3",
       "version_major": 2,
       "version_minor": 0
      },
      "text/plain": [
       "  0%|          | 0/3125 [00:00<?, ?it/s]"
      ]
     },
     "metadata": {},
     "output_type": "display_data"
    },
    {
     "name": "stdout",
     "output_type": "stream",
     "text": [
      "[I 2024-02-08 08:03:11,239] Trial 38 finished with value: 0.12624499201774597 and parameters: {'lr': 0.0001333256486314864, 'annealing': 0.41354522010242933}. Best is trial 31 with value: 0.13438498973846436.\n"
     ]
    },
    {
     "data": {
      "application/vnd.jupyter.widget-view+json": {
       "model_id": "b126f4edbd604ef1bc61049225c0b3bf",
       "version_major": 2,
       "version_minor": 0
      },
      "text/plain": [
       "  0%|          | 0/3125 [00:00<?, ?it/s]"
      ]
     },
     "metadata": {},
     "output_type": "display_data"
    },
    {
     "name": "stdout",
     "output_type": "stream",
     "text": [
      "[I 2024-02-08 08:03:53,380] Trial 39 finished with value: 0.1334649920463562 and parameters: {'lr': 0.000434051893473816, 'annealing': 0.4410527461650079}. Best is trial 31 with value: 0.13438498973846436.\n"
     ]
    },
    {
     "data": {
      "application/vnd.jupyter.widget-view+json": {
       "model_id": "d24339ab9dd245518a5c796825e9e85a",
       "version_major": 2,
       "version_minor": 0
      },
      "text/plain": [
       "  0%|          | 0/3125 [00:00<?, ?it/s]"
      ]
     },
     "metadata": {},
     "output_type": "display_data"
    },
    {
     "name": "stdout",
     "output_type": "stream",
     "text": [
      "[I 2024-02-08 08:04:34,241] Trial 40 finished with value: 0.1275549978017807 and parameters: {'lr': 0.0010032763002271877, 'annealing': 0.3961485395920322}. Best is trial 31 with value: 0.13438498973846436.\n"
     ]
    },
    {
     "data": {
      "application/vnd.jupyter.widget-view+json": {
       "model_id": "8cabf720ca01438b95ff74a261b34afe",
       "version_major": 2,
       "version_minor": 0
      },
      "text/plain": [
       "  0%|          | 0/3125 [00:00<?, ?it/s]"
      ]
     },
     "metadata": {},
     "output_type": "display_data"
    },
    {
     "name": "stdout",
     "output_type": "stream",
     "text": [
      "[I 2024-02-08 08:05:13,388] Trial 41 finished with value: 0.1348550021648407 and parameters: {'lr': 0.0004043639228429181, 'annealing': 0.44595467494154095}. Best is trial 41 with value: 0.1348550021648407.\n"
     ]
    },
    {
     "data": {
      "application/vnd.jupyter.widget-view+json": {
       "model_id": "1b59371373284e0399033f415a6b57d4",
       "version_major": 2,
       "version_minor": 0
      },
      "text/plain": [
       "  0%|          | 0/3125 [00:00<?, ?it/s]"
      ]
     },
     "metadata": {},
     "output_type": "display_data"
    },
    {
     "name": "stdout",
     "output_type": "stream",
     "text": [
      "[I 2024-02-08 08:05:52,405] Trial 42 finished with value: 0.13304999470710754 and parameters: {'lr': 0.00031029686116608283, 'annealing': 0.4801859438549396}. Best is trial 41 with value: 0.1348550021648407.\n"
     ]
    },
    {
     "data": {
      "application/vnd.jupyter.widget-view+json": {
       "model_id": "5c4fd3e303ab4306bc70d3b1dcdc092d",
       "version_major": 2,
       "version_minor": 0
      },
      "text/plain": [
       "  0%|          | 0/3125 [00:00<?, ?it/s]"
      ]
     },
     "metadata": {},
     "output_type": "display_data"
    },
    {
     "name": "stdout",
     "output_type": "stream",
     "text": [
      "[I 2024-02-08 08:06:33,774] Trial 43 finished with value: 0.13284000754356384 and parameters: {'lr': 0.0005972965580897968, 'annealing': 0.4532708208379846}. Best is trial 41 with value: 0.1348550021648407.\n"
     ]
    },
    {
     "data": {
      "application/vnd.jupyter.widget-view+json": {
       "model_id": "a692ff842da1429e90719353474aea8d",
       "version_major": 2,
       "version_minor": 0
      },
      "text/plain": [
       "  0%|          | 0/3125 [00:00<?, ?it/s]"
      ]
     },
     "metadata": {},
     "output_type": "display_data"
    },
    {
     "name": "stdout",
     "output_type": "stream",
     "text": [
      "[I 2024-02-08 08:07:15,360] Trial 44 finished with value: 0.11372999846935272 and parameters: {'lr': 0.00934336092158521, 'annealing': 0.4936440492498958}. Best is trial 41 with value: 0.1348550021648407.\n"
     ]
    },
    {
     "data": {
      "application/vnd.jupyter.widget-view+json": {
       "model_id": "8c26856548f24cf392e24155e5e13cbe",
       "version_major": 2,
       "version_minor": 0
      },
      "text/plain": [
       "  0%|          | 0/3125 [00:00<?, ?it/s]"
      ]
     },
     "metadata": {},
     "output_type": "display_data"
    },
    {
     "name": "stdout",
     "output_type": "stream",
     "text": [
      "[I 2024-02-08 08:07:55,911] Trial 45 finished with value: 0.13049998879432678 and parameters: {'lr': 0.0002097953037802057, 'annealing': 0.43141087739639833}. Best is trial 41 with value: 0.1348550021648407.\n"
     ]
    },
    {
     "data": {
      "application/vnd.jupyter.widget-view+json": {
       "model_id": "f45d314081814aaeba6a8967c1cf6bc5",
       "version_major": 2,
       "version_minor": 0
      },
      "text/plain": [
       "  0%|          | 0/3125 [00:00<?, ?it/s]"
      ]
     },
     "metadata": {},
     "output_type": "display_data"
    },
    {
     "name": "stdout",
     "output_type": "stream",
     "text": [
      "[I 2024-02-08 08:08:35,665] Trial 46 finished with value: 0.13391000032424927 and parameters: {'lr': 0.00035465406143001926, 'annealing': 0.23888718683377058}. Best is trial 41 with value: 0.1348550021648407.\n"
     ]
    },
    {
     "data": {
      "application/vnd.jupyter.widget-view+json": {
       "model_id": "a5f0f7a38353468f8937028215f55d9a",
       "version_major": 2,
       "version_minor": 0
      },
      "text/plain": [
       "  0%|          | 0/3125 [00:00<?, ?it/s]"
      ]
     },
     "metadata": {},
     "output_type": "display_data"
    },
    {
     "name": "stdout",
     "output_type": "stream",
     "text": [
      "[I 2024-02-08 08:09:16,919] Trial 47 finished with value: 0.1340399980545044 and parameters: {'lr': 0.00039571980864526197, 'annealing': 0.2616018373551877}. Best is trial 41 with value: 0.1348550021648407.\n"
     ]
    },
    {
     "data": {
      "application/vnd.jupyter.widget-view+json": {
       "model_id": "c44b61b19864423bb07b8e05b1e9c229",
       "version_major": 2,
       "version_minor": 0
      },
      "text/plain": [
       "  0%|          | 0/3125 [00:00<?, ?it/s]"
      ]
     },
     "metadata": {},
     "output_type": "display_data"
    },
    {
     "name": "stdout",
     "output_type": "stream",
     "text": [
      "[I 2024-02-08 08:09:57,020] Trial 48 finished with value: 0.13299499452114105 and parameters: {'lr': 0.0002685909493869673, 'annealing': 0.28744787496560803}. Best is trial 41 with value: 0.1348550021648407.\n"
     ]
    },
    {
     "data": {
      "application/vnd.jupyter.widget-view+json": {
       "model_id": "5611a0342e504e6999d5dd9cd5735d08",
       "version_major": 2,
       "version_minor": 0
      },
      "text/plain": [
       "  0%|          | 0/3125 [00:00<?, ?it/s]"
      ]
     },
     "metadata": {},
     "output_type": "display_data"
    },
    {
     "name": "stdout",
     "output_type": "stream",
     "text": [
      "[I 2024-02-08 08:10:38,429] Trial 49 finished with value: 0.13365499675273895 and parameters: {'lr': 0.00039523546646230896, 'annealing': 0.2154531238395073}. Best is trial 41 with value: 0.1348550021648407.\n"
     ]
    },
    {
     "data": {
      "application/vnd.jupyter.widget-view+json": {
       "model_id": "e9d16625420c4c4c825392dec7cdaa6b",
       "version_major": 2,
       "version_minor": 0
      },
      "text/plain": [
       "  0%|          | 0/3125 [00:00<?, ?it/s]"
      ]
     },
     "metadata": {},
     "output_type": "display_data"
    },
    {
     "name": "stdout",
     "output_type": "stream",
     "text": [
      "[I 2024-02-08 08:11:20,441] Trial 50 finished with value: 0.12275999784469604 and parameters: {'lr': 0.0017450095512363919, 'annealing': 0.17025323112734803}. Best is trial 41 with value: 0.1348550021648407.\n"
     ]
    },
    {
     "data": {
      "application/vnd.jupyter.widget-view+json": {
       "model_id": "d8fa56af54e944959e775e79fa356f8b",
       "version_major": 2,
       "version_minor": 0
      },
      "text/plain": [
       "  0%|          | 0/3125 [00:00<?, ?it/s]"
      ]
     },
     "metadata": {},
     "output_type": "display_data"
    },
    {
     "name": "stdout",
     "output_type": "stream",
     "text": [
      "[I 2024-02-08 08:12:01,948] Trial 51 finished with value: 0.13332499563694 and parameters: {'lr': 0.00037045552796366346, 'annealing': 0.2535320119645803}. Best is trial 41 with value: 0.1348550021648407.\n"
     ]
    },
    {
     "data": {
      "application/vnd.jupyter.widget-view+json": {
       "model_id": "ca6b39e6282741779000e53ee215d9f4",
       "version_major": 2,
       "version_minor": 0
      },
      "text/plain": [
       "  0%|          | 0/3125 [00:00<?, ?it/s]"
      ]
     },
     "metadata": {},
     "output_type": "display_data"
    },
    {
     "name": "stdout",
     "output_type": "stream",
     "text": [
      "[I 2024-02-08 08:12:44,968] Trial 52 finished with value: 0.1344749927520752 and parameters: {'lr': 0.0002345599412144608, 'annealing': 0.24308832772588873}. Best is trial 41 with value: 0.1348550021648407.\n"
     ]
    },
    {
     "data": {
      "application/vnd.jupyter.widget-view+json": {
       "model_id": "80b317e38f7f4987a273b8bd0d20a64b",
       "version_major": 2,
       "version_minor": 0
      },
      "text/plain": [
       "  0%|          | 0/3125 [00:00<?, ?it/s]"
      ]
     },
     "metadata": {},
     "output_type": "display_data"
    },
    {
     "name": "stdout",
     "output_type": "stream",
     "text": [
      "[I 2024-02-08 08:13:24,245] Trial 53 finished with value: 0.13379499316215515 and parameters: {'lr': 0.00020455352698983022, 'annealing': 0.22372259792665689}. Best is trial 41 with value: 0.1348550021648407.\n"
     ]
    },
    {
     "data": {
      "application/vnd.jupyter.widget-view+json": {
       "model_id": "4e72684d5f1440d2bcb6d2f34bab4a39",
       "version_major": 2,
       "version_minor": 0
      },
      "text/plain": [
       "  0%|          | 0/3125 [00:00<?, ?it/s]"
      ]
     },
     "metadata": {},
     "output_type": "display_data"
    },
    {
     "name": "stdout",
     "output_type": "stream",
     "text": [
      "[I 2024-02-08 08:14:03,700] Trial 54 finished with value: 0.13402999937534332 and parameters: {'lr': 0.00023057494541478668, 'annealing': 0.26921888876809497}. Best is trial 41 with value: 0.1348550021648407.\n"
     ]
    },
    {
     "data": {
      "application/vnd.jupyter.widget-view+json": {
       "model_id": "0058e415bc5f4483b3ef0aeb48eb45e0",
       "version_major": 2,
       "version_minor": 0
      },
      "text/plain": [
       "  0%|          | 0/3125 [00:00<?, ?it/s]"
      ]
     },
     "metadata": {},
     "output_type": "display_data"
    },
    {
     "name": "stdout",
     "output_type": "stream",
     "text": [
      "[I 2024-02-08 08:14:42,641] Trial 55 finished with value: 0.1271200031042099 and parameters: {'lr': 0.0001220803624144307, 'annealing': 0.24721092829687102}. Best is trial 41 with value: 0.1348550021648407.\n"
     ]
    },
    {
     "data": {
      "application/vnd.jupyter.widget-view+json": {
       "model_id": "c4014e6c3b0c444bbe29867dd5e4bea7",
       "version_major": 2,
       "version_minor": 0
      },
      "text/plain": [
       "  0%|          | 0/3125 [00:00<?, ?it/s]"
      ]
     },
     "metadata": {},
     "output_type": "display_data"
    },
    {
     "name": "stdout",
     "output_type": "stream",
     "text": [
      "[I 2024-02-08 08:15:23,178] Trial 56 finished with value: 0.12832500040531158 and parameters: {'lr': 0.00016788545777258286, 'annealing': 0.171864804662865}. Best is trial 41 with value: 0.1348550021648407.\n"
     ]
    },
    {
     "data": {
      "application/vnd.jupyter.widget-view+json": {
       "model_id": "ee678613b77046fe9d0f3f6ffa29f966",
       "version_major": 2,
       "version_minor": 0
      },
      "text/plain": [
       "  0%|          | 0/3125 [00:00<?, ?it/s]"
      ]
     },
     "metadata": {},
     "output_type": "display_data"
    },
    {
     "name": "stdout",
     "output_type": "stream",
     "text": [
      "[I 2024-02-08 08:16:05,738] Trial 57 finished with value: 0.13315999507904053 and parameters: {'lr': 0.00028420608380894005, 'annealing': 0.3006594502235333}. Best is trial 41 with value: 0.1348550021648407.\n"
     ]
    },
    {
     "data": {
      "application/vnd.jupyter.widget-view+json": {
       "model_id": "2569b3d3b7d9403cb0456abe84b977d2",
       "version_major": 2,
       "version_minor": 0
      },
      "text/plain": [
       "  0%|          | 0/3125 [00:00<?, ?it/s]"
      ]
     },
     "metadata": {},
     "output_type": "display_data"
    },
    {
     "name": "stdout",
     "output_type": "stream",
     "text": [
      "[I 2024-02-08 08:16:48,689] Trial 58 finished with value: 0.13095000386238098 and parameters: {'lr': 0.0004805671801465304, 'annealing': 0.1953750946864551}. Best is trial 41 with value: 0.1348550021648407.\n"
     ]
    },
    {
     "data": {
      "application/vnd.jupyter.widget-view+json": {
       "model_id": "1f30ade046e84c61943630622e931e27",
       "version_major": 2,
       "version_minor": 0
      },
      "text/plain": [
       "  0%|          | 0/3125 [00:00<?, ?it/s]"
      ]
     },
     "metadata": {},
     "output_type": "display_data"
    },
    {
     "name": "stdout",
     "output_type": "stream",
     "text": [
      "[I 2024-02-08 08:17:27,378] Trial 59 finished with value: 0.1297300010919571 and parameters: {'lr': 0.0007945866482111843, 'annealing': 0.284963295192282}. Best is trial 41 with value: 0.1348550021648407.\n"
     ]
    },
    {
     "data": {
      "application/vnd.jupyter.widget-view+json": {
       "model_id": "16490818989446ceb78ee16c2a0e9227",
       "version_major": 2,
       "version_minor": 0
      },
      "text/plain": [
       "  0%|          | 0/3125 [00:00<?, ?it/s]"
      ]
     },
     "metadata": {},
     "output_type": "display_data"
    },
    {
     "name": "stdout",
     "output_type": "stream",
     "text": [
      "[I 2024-02-08 08:18:09,896] Trial 60 finished with value: 0.1326649934053421 and parameters: {'lr': 0.0002456088079570009, 'annealing': 0.3450586444866985}. Best is trial 41 with value: 0.1348550021648407.\n"
     ]
    },
    {
     "data": {
      "application/vnd.jupyter.widget-view+json": {
       "model_id": "dc57b05ebe3a40668b316bfccf7a98db",
       "version_major": 2,
       "version_minor": 0
      },
      "text/plain": [
       "  0%|          | 0/3125 [00:00<?, ?it/s]"
      ]
     },
     "metadata": {},
     "output_type": "display_data"
    },
    {
     "name": "stdout",
     "output_type": "stream",
     "text": [
      "[I 2024-02-08 08:18:55,416] Trial 61 finished with value: 0.13357999920845032 and parameters: {'lr': 0.0002359668135056699, 'annealing': 0.26183501704446077}. Best is trial 41 with value: 0.1348550021648407.\n"
     ]
    },
    {
     "data": {
      "application/vnd.jupyter.widget-view+json": {
       "model_id": "7cf5fb82d2ca469d9eda834653201708",
       "version_major": 2,
       "version_minor": 0
      },
      "text/plain": [
       "  0%|          | 0/3125 [00:00<?, ?it/s]"
      ]
     },
     "metadata": {},
     "output_type": "display_data"
    },
    {
     "name": "stdout",
     "output_type": "stream",
     "text": [
      "[I 2024-02-08 08:19:36,849] Trial 62 finished with value: 0.13457000255584717 and parameters: {'lr': 0.0003144324956665533, 'annealing': 0.26533159695773906}. Best is trial 41 with value: 0.1348550021648407.\n"
     ]
    },
    {
     "data": {
      "application/vnd.jupyter.widget-view+json": {
       "model_id": "932dd79e95604a6dbb97f83c9b578b97",
       "version_major": 2,
       "version_minor": 0
      },
      "text/plain": [
       "  0%|          | 0/3125 [00:00<?, ?it/s]"
      ]
     },
     "metadata": {},
     "output_type": "display_data"
    },
    {
     "name": "stdout",
     "output_type": "stream",
     "text": [
      "[I 2024-02-08 08:20:17,606] Trial 63 finished with value: 0.13411499559879303 and parameters: {'lr': 0.0003205178044209168, 'annealing': 0.2315160862116959}. Best is trial 41 with value: 0.1348550021648407.\n"
     ]
    },
    {
     "data": {
      "application/vnd.jupyter.widget-view+json": {
       "model_id": "4f9921d2aee54aafb257cb71922e92c7",
       "version_major": 2,
       "version_minor": 0
      },
      "text/plain": [
       "  0%|          | 0/3125 [00:00<?, ?it/s]"
      ]
     },
     "metadata": {},
     "output_type": "display_data"
    },
    {
     "name": "stdout",
     "output_type": "stream",
     "text": [
      "[I 2024-02-08 08:21:04,118] Trial 64 finished with value: 0.1340249925851822 and parameters: {'lr': 0.00031534679715518034, 'annealing': 0.23547860434476328}. Best is trial 41 with value: 0.1348550021648407.\n"
     ]
    },
    {
     "data": {
      "application/vnd.jupyter.widget-view+json": {
       "model_id": "0b17503fddb84c1a8f3c95a9d6c1c580",
       "version_major": 2,
       "version_minor": 0
      },
      "text/plain": [
       "  0%|          | 0/3125 [00:00<?, ?it/s]"
      ]
     },
     "metadata": {},
     "output_type": "display_data"
    },
    {
     "name": "stdout",
     "output_type": "stream",
     "text": [
      "[I 2024-02-08 08:21:47,713] Trial 65 finished with value: 0.13341499865055084 and parameters: {'lr': 0.0003264334798930008, 'annealing': 0.20503833829855272}. Best is trial 41 with value: 0.1348550021648407.\n"
     ]
    },
    {
     "data": {
      "application/vnd.jupyter.widget-view+json": {
       "model_id": "f7230eed96fd4709af4e9f4ca6b13afd",
       "version_major": 2,
       "version_minor": 0
      },
      "text/plain": [
       "  0%|          | 0/3125 [00:00<?, ?it/s]"
      ]
     },
     "metadata": {},
     "output_type": "display_data"
    },
    {
     "name": "stdout",
     "output_type": "stream",
     "text": [
      "[I 2024-02-08 08:22:30,296] Trial 66 finished with value: 0.12973999977111816 and parameters: {'lr': 0.000621420166509124, 'annealing': 0.18811121662140795}. Best is trial 41 with value: 0.1348550021648407.\n"
     ]
    },
    {
     "data": {
      "application/vnd.jupyter.widget-view+json": {
       "model_id": "01bd01e93d3445629596caa95213c90e",
       "version_major": 2,
       "version_minor": 0
      },
      "text/plain": [
       "  0%|          | 0/3125 [00:00<?, ?it/s]"
      ]
     },
     "metadata": {},
     "output_type": "display_data"
    },
    {
     "name": "stdout",
     "output_type": "stream",
     "text": [
      "[I 2024-02-08 08:23:12,340] Trial 67 finished with value: 0.1307699978351593 and parameters: {'lr': 0.00015111284197164492, 'annealing': 0.274218199968514}. Best is trial 41 with value: 0.1348550021648407.\n"
     ]
    },
    {
     "data": {
      "application/vnd.jupyter.widget-view+json": {
       "model_id": "9550f8c52bcc411fa826f65d7b7edfb7",
       "version_major": 2,
       "version_minor": 0
      },
      "text/plain": [
       "  0%|          | 0/3125 [00:00<?, ?it/s]"
      ]
     },
     "metadata": {},
     "output_type": "display_data"
    },
    {
     "name": "stdout",
     "output_type": "stream",
     "text": [
      "[I 2024-02-08 08:23:54,968] Trial 68 finished with value: 0.1333099901676178 and parameters: {'lr': 0.00042824148123660796, 'annealing': 0.29973385342305814}. Best is trial 41 with value: 0.1348550021648407.\n"
     ]
    },
    {
     "data": {
      "application/vnd.jupyter.widget-view+json": {
       "model_id": "539bde82fdc44f458dac2bace2ba8cbe",
       "version_major": 2,
       "version_minor": 0
      },
      "text/plain": [
       "  0%|          | 0/3125 [00:00<?, ?it/s]"
      ]
     },
     "metadata": {},
     "output_type": "display_data"
    },
    {
     "name": "stdout",
     "output_type": "stream",
     "text": [
      "[I 2024-02-08 08:24:37,347] Trial 69 finished with value: 0.13319998979568481 and parameters: {'lr': 0.0005549535688238144, 'annealing': 0.4731173488273011}. Best is trial 41 with value: 0.1348550021648407.\n"
     ]
    },
    {
     "data": {
      "application/vnd.jupyter.widget-view+json": {
       "model_id": "699b422f892143c88fd382a26fe1e447",
       "version_major": 2,
       "version_minor": 0
      },
      "text/plain": [
       "  0%|          | 0/3125 [00:00<?, ?it/s]"
      ]
     },
     "metadata": {},
     "output_type": "display_data"
    },
    {
     "name": "stdout",
     "output_type": "stream",
     "text": [
      "[I 2024-02-08 08:25:18,089] Trial 70 finished with value: 0.13169999420642853 and parameters: {'lr': 0.0002676504446944107, 'annealing': 0.49843217198949125}. Best is trial 41 with value: 0.1348550021648407.\n"
     ]
    },
    {
     "data": {
      "application/vnd.jupyter.widget-view+json": {
       "model_id": "5dfc4ba6ff7a4a64b0ec31c22d75ed84",
       "version_major": 2,
       "version_minor": 0
      },
      "text/plain": [
       "  0%|          | 0/3125 [00:00<?, ?it/s]"
      ]
     },
     "metadata": {},
     "output_type": "display_data"
    },
    {
     "name": "stdout",
     "output_type": "stream",
     "text": [
      "[I 2024-02-08 08:26:03,889] Trial 71 finished with value: 0.13372498750686646 and parameters: {'lr': 0.00018646824619418975, 'annealing': 0.22867264719332678}. Best is trial 41 with value: 0.1348550021648407.\n"
     ]
    },
    {
     "data": {
      "application/vnd.jupyter.widget-view+json": {
       "model_id": "1aafa025f15643a28bf1d13fdd0f2b39",
       "version_major": 2,
       "version_minor": 0
      },
      "text/plain": [
       "  0%|          | 0/3125 [00:00<?, ?it/s]"
      ]
     },
     "metadata": {},
     "output_type": "display_data"
    },
    {
     "name": "stdout",
     "output_type": "stream",
     "text": [
      "[I 2024-02-08 08:26:44,556] Trial 72 finished with value: 0.13261500000953674 and parameters: {'lr': 0.0003893494367094814, 'annealing': 0.2486582203827404}. Best is trial 41 with value: 0.1348550021648407.\n"
     ]
    },
    {
     "data": {
      "application/vnd.jupyter.widget-view+json": {
       "model_id": "f9eb12955c954d10ac6136e023201739",
       "version_major": 2,
       "version_minor": 0
      },
      "text/plain": [
       "  0%|          | 0/3125 [00:00<?, ?it/s]"
      ]
     },
     "metadata": {},
     "output_type": "display_data"
    },
    {
     "name": "stdout",
     "output_type": "stream",
     "text": [
      "[I 2024-02-08 08:27:25,316] Trial 73 finished with value: 0.11753999441862106 and parameters: {'lr': 0.0038014682665124923, 'annealing': 0.2598938721647504}. Best is trial 41 with value: 0.1348550021648407.\n"
     ]
    },
    {
     "data": {
      "application/vnd.jupyter.widget-view+json": {
       "model_id": "3d5d991790e149c994afda4e5c98a5ad",
       "version_major": 2,
       "version_minor": 0
      },
      "text/plain": [
       "  0%|          | 0/3125 [00:00<?, ?it/s]"
      ]
     },
     "metadata": {},
     "output_type": "display_data"
    },
    {
     "name": "stdout",
     "output_type": "stream",
     "text": [
      "[I 2024-02-08 08:28:05,440] Trial 74 finished with value: 0.13215500116348267 and parameters: {'lr': 0.0005046856906621408, 'annealing': 0.3008711456588838}. Best is trial 41 with value: 0.1348550021648407.\n"
     ]
    },
    {
     "data": {
      "application/vnd.jupyter.widget-view+json": {
       "model_id": "be445435f3fa4021999262a0610eed01",
       "version_major": 2,
       "version_minor": 0
      },
      "text/plain": [
       "  0%|          | 0/3125 [00:00<?, ?it/s]"
      ]
     },
     "metadata": {},
     "output_type": "display_data"
    },
    {
     "name": "stdout",
     "output_type": "stream",
     "text": [
      "[I 2024-02-08 08:28:44,952] Trial 75 finished with value: 0.1331699937582016 and parameters: {'lr': 0.0004309308659552881, 'annealing': 0.3290186718697101}. Best is trial 41 with value: 0.1348550021648407.\n"
     ]
    },
    {
     "data": {
      "application/vnd.jupyter.widget-view+json": {
       "model_id": "323948f2a32842cf82a9aefd1705d735",
       "version_major": 2,
       "version_minor": 0
      },
      "text/plain": [
       "  0%|          | 0/3125 [00:00<?, ?it/s]"
      ]
     },
     "metadata": {},
     "output_type": "display_data"
    },
    {
     "name": "stdout",
     "output_type": "stream",
     "text": [
      "[I 2024-02-08 08:29:24,341] Trial 76 finished with value: 0.13196000456809998 and parameters: {'lr': 0.00029893621472337826, 'annealing': 0.13198457659148582}. Best is trial 41 with value: 0.1348550021648407.\n"
     ]
    },
    {
     "data": {
      "application/vnd.jupyter.widget-view+json": {
       "model_id": "beae9b59ff0643f7ac900e7280e8f757",
       "version_major": 2,
       "version_minor": 0
      },
      "text/plain": [
       "  0%|          | 0/3125 [00:00<?, ?it/s]"
      ]
     },
     "metadata": {},
     "output_type": "display_data"
    },
    {
     "name": "stdout",
     "output_type": "stream",
     "text": [
      "[I 2024-02-08 08:30:06,129] Trial 77 finished with value: 0.13420000672340393 and parameters: {'lr': 0.00035628234438954577, 'annealing': 0.4657479490355426}. Best is trial 41 with value: 0.1348550021648407.\n"
     ]
    },
    {
     "data": {
      "application/vnd.jupyter.widget-view+json": {
       "model_id": "9cda2136862d49f3bdd9209b5b9f2d48",
       "version_major": 2,
       "version_minor": 0
      },
      "text/plain": [
       "  0%|          | 0/3125 [00:00<?, ?it/s]"
      ]
     },
     "metadata": {},
     "output_type": "display_data"
    },
    {
     "name": "stdout",
     "output_type": "stream",
     "text": [
      "[I 2024-02-08 08:30:48,044] Trial 78 finished with value: 0.1332249939441681 and parameters: {'lr': 0.0006596868246061952, 'annealing': 0.46307211893312655}. Best is trial 41 with value: 0.1348550021648407.\n"
     ]
    },
    {
     "data": {
      "application/vnd.jupyter.widget-view+json": {
       "model_id": "3c4f8db1fb084a31b881779606fcf179",
       "version_major": 2,
       "version_minor": 0
      },
      "text/plain": [
       "  0%|          | 0/3125 [00:00<?, ?it/s]"
      ]
     },
     "metadata": {},
     "output_type": "display_data"
    },
    {
     "name": "stdout",
     "output_type": "stream",
     "text": [
      "[I 2024-02-08 08:31:29,088] Trial 79 finished with value: 0.13064000010490417 and parameters: {'lr': 0.00021587840913061092, 'annealing': 0.43547009678013265}. Best is trial 41 with value: 0.1348550021648407.\n"
     ]
    },
    {
     "data": {
      "application/vnd.jupyter.widget-view+json": {
       "model_id": "fc04cbe000cd4c5780d2c8f6f6e295bd",
       "version_major": 2,
       "version_minor": 0
      },
      "text/plain": [
       "  0%|          | 0/3125 [00:00<?, ?it/s]"
      ]
     },
     "metadata": {},
     "output_type": "display_data"
    },
    {
     "name": "stdout",
     "output_type": "stream",
     "text": [
      "[I 2024-02-08 08:32:10,028] Trial 80 finished with value: 0.13408999145030975 and parameters: {'lr': 0.0003358579511833308, 'annealing': 0.38216854788375726}. Best is trial 41 with value: 0.1348550021648407.\n"
     ]
    },
    {
     "data": {
      "application/vnd.jupyter.widget-view+json": {
       "model_id": "a67e3c55e7a440d7b42a8e7331efcd2f",
       "version_major": 2,
       "version_minor": 0
      },
      "text/plain": [
       "  0%|          | 0/3125 [00:00<?, ?it/s]"
      ]
     },
     "metadata": {},
     "output_type": "display_data"
    },
    {
     "name": "stdout",
     "output_type": "stream",
     "text": [
      "[I 2024-02-08 08:32:49,673] Trial 81 finished with value: 0.13411998748779297 and parameters: {'lr': 0.0003374262587241702, 'annealing': 0.405510843351666}. Best is trial 41 with value: 0.1348550021648407.\n"
     ]
    },
    {
     "data": {
      "application/vnd.jupyter.widget-view+json": {
       "model_id": "f7b7d3d0555441f7b50fe96277a9117f",
       "version_major": 2,
       "version_minor": 0
      },
      "text/plain": [
       "  0%|          | 0/3125 [00:00<?, ?it/s]"
      ]
     },
     "metadata": {},
     "output_type": "display_data"
    },
    {
     "name": "stdout",
     "output_type": "stream",
     "text": [
      "[I 2024-02-08 08:33:28,920] Trial 82 finished with value: 0.13251999020576477 and parameters: {'lr': 0.00025953277606926244, 'annealing': 0.4056612249964088}. Best is trial 41 with value: 0.1348550021648407.\n"
     ]
    },
    {
     "data": {
      "application/vnd.jupyter.widget-view+json": {
       "model_id": "40c01c9dabca4693a0441d6b4a117c23",
       "version_major": 2,
       "version_minor": 0
      },
      "text/plain": [
       "  0%|          | 0/3125 [00:00<?, ?it/s]"
      ]
     },
     "metadata": {},
     "output_type": "display_data"
    },
    {
     "name": "stdout",
     "output_type": "stream",
     "text": [
      "[I 2024-02-08 08:34:09,267] Trial 83 finished with value: 0.13457000255584717 and parameters: {'lr': 0.0003497251885491541, 'annealing': 0.4213581884298018}. Best is trial 41 with value: 0.1348550021648407.\n"
     ]
    },
    {
     "data": {
      "application/vnd.jupyter.widget-view+json": {
       "model_id": "4b8caeb503a44697a204373c12310042",
       "version_major": 2,
       "version_minor": 0
      },
      "text/plain": [
       "  0%|          | 0/3125 [00:00<?, ?it/s]"
      ]
     },
     "metadata": {},
     "output_type": "display_data"
    },
    {
     "name": "stdout",
     "output_type": "stream",
     "text": [
      "[I 2024-02-08 08:34:48,592] Trial 84 finished with value: 0.13064000010490417 and parameters: {'lr': 0.0004569439534707132, 'annealing': 0.4221728061786662}. Best is trial 41 with value: 0.1348550021648407.\n"
     ]
    },
    {
     "data": {
      "application/vnd.jupyter.widget-view+json": {
       "model_id": "3bd25262fb4a4c8599d3a3f296a37627",
       "version_major": 2,
       "version_minor": 0
      },
      "text/plain": [
       "  0%|          | 0/3125 [00:00<?, ?it/s]"
      ]
     },
     "metadata": {},
     "output_type": "display_data"
    },
    {
     "name": "stdout",
     "output_type": "stream",
     "text": [
      "[I 2024-02-08 08:35:29,577] Trial 85 finished with value: 0.13464000821113586 and parameters: {'lr': 0.00035985477882992276, 'annealing': 0.44774468510786775}. Best is trial 41 with value: 0.1348550021648407.\n"
     ]
    },
    {
     "data": {
      "application/vnd.jupyter.widget-view+json": {
       "model_id": "97cc8dda589644b9a8e5cb0636ac7bf3",
       "version_major": 2,
       "version_minor": 0
      },
      "text/plain": [
       "  0%|          | 0/3125 [00:00<?, ?it/s]"
      ]
     },
     "metadata": {},
     "output_type": "display_data"
    },
    {
     "name": "stdout",
     "output_type": "stream",
     "text": [
      "[I 2024-02-08 08:36:09,209] Trial 86 finished with value: 0.1337900012731552 and parameters: {'lr': 0.0005399987838444011, 'annealing': 0.48881624211014907}. Best is trial 41 with value: 0.1348550021648407.\n"
     ]
    },
    {
     "data": {
      "application/vnd.jupyter.widget-view+json": {
       "model_id": "5f4d722d49034ecf9acbe3a76b144cb2",
       "version_major": 2,
       "version_minor": 0
      },
      "text/plain": [
       "  0%|          | 0/3125 [00:00<?, ?it/s]"
      ]
     },
     "metadata": {},
     "output_type": "display_data"
    },
    {
     "name": "stdout",
     "output_type": "stream",
     "text": [
      "[I 2024-02-08 08:36:48,748] Trial 87 finished with value: 0.1349399983882904 and parameters: {'lr': 0.0003721441147225115, 'annealing': 0.452791870016522}. Best is trial 87 with value: 0.1349399983882904.\n"
     ]
    },
    {
     "data": {
      "application/vnd.jupyter.widget-view+json": {
       "model_id": "b44a0fa8c84d498aa91e310a0a94fc54",
       "version_major": 2,
       "version_minor": 0
      },
      "text/plain": [
       "  0%|          | 0/3125 [00:00<?, ?it/s]"
      ]
     },
     "metadata": {},
     "output_type": "display_data"
    },
    {
     "name": "stdout",
     "output_type": "stream",
     "text": [
      "[I 2024-02-08 08:37:30,099] Trial 88 finished with value: 0.1348000019788742 and parameters: {'lr': 0.00037666686737698605, 'annealing': 0.44779458220444396}. Best is trial 87 with value: 0.1349399983882904.\n"
     ]
    },
    {
     "data": {
      "application/vnd.jupyter.widget-view+json": {
       "model_id": "de23740dbb0e45659d66f88f71e1237a",
       "version_major": 2,
       "version_minor": 0
      },
      "text/plain": [
       "  0%|          | 0/3125 [00:00<?, ?it/s]"
      ]
     },
     "metadata": {},
     "output_type": "display_data"
    },
    {
     "name": "stdout",
     "output_type": "stream",
     "text": [
      "[I 2024-02-08 08:38:16,630] Trial 89 finished with value: 0.12964999675750732 and parameters: {'lr': 0.0009015937092924165, 'annealing': 0.4753740293700879}. Best is trial 87 with value: 0.1349399983882904.\n"
     ]
    },
    {
     "data": {
      "application/vnd.jupyter.widget-view+json": {
       "model_id": "ba96aa4ea9fd47529bc2895df3245c0c",
       "version_major": 2,
       "version_minor": 0
      },
      "text/plain": [
       "  0%|          | 0/3125 [00:00<?, ?it/s]"
      ]
     },
     "metadata": {},
     "output_type": "display_data"
    },
    {
     "name": "stdout",
     "output_type": "stream",
     "text": [
      "[I 2024-02-08 08:38:57,361] Trial 90 finished with value: 0.1341249942779541 and parameters: {'lr': 0.0003897003496871652, 'annealing': 0.44963293361627016}. Best is trial 87 with value: 0.1349399983882904.\n"
     ]
    },
    {
     "data": {
      "application/vnd.jupyter.widget-view+json": {
       "model_id": "0968b95179904bb9bc0aa3dd83930745",
       "version_major": 2,
       "version_minor": 0
      },
      "text/plain": [
       "  0%|          | 0/3125 [00:00<?, ?it/s]"
      ]
     },
     "metadata": {},
     "output_type": "display_data"
    },
    {
     "name": "stdout",
     "output_type": "stream",
     "text": [
      "[I 2024-02-08 08:39:38,922] Trial 91 finished with value: 0.13518500328063965 and parameters: {'lr': 0.000371610810670586, 'annealing': 0.4601666091058003}. Best is trial 91 with value: 0.13518500328063965.\n"
     ]
    },
    {
     "data": {
      "application/vnd.jupyter.widget-view+json": {
       "model_id": "83a338e7fe1e4b76967d2f3fdc55f728",
       "version_major": 2,
       "version_minor": 0
      },
      "text/plain": [
       "  0%|          | 0/3125 [00:00<?, ?it/s]"
      ]
     },
     "metadata": {},
     "output_type": "display_data"
    },
    {
     "name": "stdout",
     "output_type": "stream",
     "text": [
      "[I 2024-02-08 08:40:17,917] Trial 92 finished with value: 0.13325999677181244 and parameters: {'lr': 0.0004949127872743335, 'annealing': 0.43623615694790424}. Best is trial 91 with value: 0.13518500328063965.\n"
     ]
    },
    {
     "data": {
      "application/vnd.jupyter.widget-view+json": {
       "model_id": "b19aedf76f5942afa34e23700d54b44e",
       "version_major": 2,
       "version_minor": 0
      },
      "text/plain": [
       "  0%|          | 0/3125 [00:00<?, ?it/s]"
      ]
     },
     "metadata": {},
     "output_type": "display_data"
    },
    {
     "name": "stdout",
     "output_type": "stream",
     "text": [
      "[I 2024-02-08 08:40:58,970] Trial 93 finished with value: 0.13324999809265137 and parameters: {'lr': 0.0002847247323214211, 'annealing': 0.4596340035599966}. Best is trial 91 with value: 0.13518500328063965.\n"
     ]
    },
    {
     "data": {
      "application/vnd.jupyter.widget-view+json": {
       "model_id": "9a0cbdf3d49949a883ac735407187f47",
       "version_major": 2,
       "version_minor": 0
      },
      "text/plain": [
       "  0%|          | 0/3125 [00:00<?, ?it/s]"
      ]
     },
     "metadata": {},
     "output_type": "display_data"
    },
    {
     "name": "stdout",
     "output_type": "stream",
     "text": [
      "[I 2024-02-08 08:41:41,714] Trial 94 finished with value: 0.13381999731063843 and parameters: {'lr': 0.00044001812112166915, 'annealing': 0.42767163700707744}. Best is trial 91 with value: 0.13518500328063965.\n"
     ]
    },
    {
     "data": {
      "application/vnd.jupyter.widget-view+json": {
       "model_id": "b267dc3c409b4847b9fbd20d89767b6a",
       "version_major": 2,
       "version_minor": 0
      },
      "text/plain": [
       "  0%|          | 0/3125 [00:00<?, ?it/s]"
      ]
     },
     "metadata": {},
     "output_type": "display_data"
    },
    {
     "name": "stdout",
     "output_type": "stream",
     "text": [
      "[I 2024-02-08 08:42:21,533] Trial 95 finished with value: 0.1343199908733368 and parameters: {'lr': 0.0003636873300396183, 'annealing': 0.4519851662304438}. Best is trial 91 with value: 0.13518500328063965.\n"
     ]
    },
    {
     "data": {
      "application/vnd.jupyter.widget-view+json": {
       "model_id": "0007e1162ec44a12845b81a9de7d039b",
       "version_major": 2,
       "version_minor": 0
      },
      "text/plain": [
       "  0%|          | 0/3125 [00:00<?, ?it/s]"
      ]
     },
     "metadata": {},
     "output_type": "display_data"
    },
    {
     "name": "stdout",
     "output_type": "stream",
     "text": [
      "[I 2024-02-08 08:43:01,429] Trial 96 finished with value: 0.13013999164104462 and parameters: {'lr': 0.00018570728911879863, 'annealing': 0.4704327759657171}. Best is trial 91 with value: 0.13518500328063965.\n"
     ]
    },
    {
     "data": {
      "application/vnd.jupyter.widget-view+json": {
       "model_id": "ba9d41f94a334f9ab41c6cd068eb514e",
       "version_major": 2,
       "version_minor": 0
      },
      "text/plain": [
       "  0%|          | 0/3125 [00:00<?, ?it/s]"
      ]
     },
     "metadata": {},
     "output_type": "display_data"
    },
    {
     "name": "stdout",
     "output_type": "stream",
     "text": [
      "[I 2024-02-08 08:43:42,997] Trial 97 finished with value: 0.13224999606609344 and parameters: {'lr': 0.00024844402521666096, 'annealing': 0.4446560686823643}. Best is trial 91 with value: 0.13518500328063965.\n"
     ]
    },
    {
     "data": {
      "application/vnd.jupyter.widget-view+json": {
       "model_id": "c1a426d260f04e92b57bd718eed76456",
       "version_major": 2,
       "version_minor": 0
      },
      "text/plain": [
       "  0%|          | 0/3125 [00:00<?, ?it/s]"
      ]
     },
     "metadata": {},
     "output_type": "display_data"
    },
    {
     "name": "stdout",
     "output_type": "stream",
     "text": [
      "[I 2024-02-08 08:44:27,316] Trial 98 finished with value: 0.13223999738693237 and parameters: {'lr': 0.0007291619622487387, 'annealing': 0.4836842067060735}. Best is trial 91 with value: 0.13518500328063965.\n"
     ]
    },
    {
     "data": {
      "application/vnd.jupyter.widget-view+json": {
       "model_id": "3d89fd651a9e422f9d7c61feeb5fe8a0",
       "version_major": 2,
       "version_minor": 0
      },
      "text/plain": [
       "  0%|          | 0/3125 [00:00<?, ?it/s]"
      ]
     },
     "metadata": {},
     "output_type": "display_data"
    },
    {
     "name": "stdout",
     "output_type": "stream",
     "text": [
      "[I 2024-02-08 08:45:08,701] Trial 99 finished with value: 0.13352499902248383 and parameters: {'lr': 0.00029707973368550477, 'annealing': 0.4403960523962793}. Best is trial 91 with value: 0.13518500328063965.\n"
     ]
    }
   ],
   "source": [
    "def objective(trial):\n",
    "    seed = 42\n",
    "    map_size = 4\n",
    "    max_interactions = 100_000\n",
    "    map_scale = int(jnp.log2(map_size))\n",
    "\n",
    "    # hyperparams\n",
    "    lr = trial.suggest_float(\"lr\", 1e-4, 1e-2, log=True)\n",
    "    rollout_length = 2 * map_size**2\n",
    "    n_rollouts = max_interactions // rollout_length\n",
    "    train_iter = 8\n",
    "\n",
    "    # setup annealing schedules\n",
    "    dur = int(train_iter * n_rollouts * trial.suggest_float(f\"annealing\", 0.1, 1.0 / map_scale))\n",
    "    annealing_fn = optax.linear_schedule(1.0, 0.01, dur)\n",
    "\n",
    "    run_simulation = partial(\n",
    "        sim.run_q_learning_simulation,\n",
    "        map_size=map_size,\n",
    "        n_rollouts=n_rollouts,\n",
    "        rollout_length=rollout_length,\n",
    "        train_iter=train_iter,\n",
    "        lr=lr,\n",
    "        annealing_fn=annealing_fn,\n",
    "    )\n",
    "    rng_key = jax.random.PRNGKey(seed)\n",
    "    env, dql_state, results = jax.vmap(run_simulation)(jax.random.split(rng_key, 8))\n",
    "\n",
    "    best = results.eval_reward.max(axis=0)\n",
    "    worst = results.eval_reward.min(axis=0)\n",
    "    accuracy = (best.mean() + worst.mean())/2\n",
    "\n",
    "    return accuracy\n",
    "\n",
    "\n",
    "study = optuna.create_study(\n",
    "    study_name=\"qlearning\",\n",
    "    storage=\"sqlite:///qlearning4x4.db\",\n",
    "    load_if_exists=True,\n",
    "    direction=\"maximize\"\n",
    ")\n",
    "\n",
    "study.optimize(objective, n_trials=100, show_progress_bar=True)"
   ]
  }
 ],
 "metadata": {
  "kernelspec": {
   "display_name": "Python 3",
   "language": "python",
   "name": "python3"
  },
  "language_info": {
   "codemirror_mode": {
    "name": "ipython",
    "version": 3
   },
   "file_extension": ".py",
   "mimetype": "text/x-python",
   "name": "python",
   "nbconvert_exporter": "python",
   "pygments_lexer": "ipython3",
   "version": "3.10.13"
  }
 },
 "nbformat": 4,
 "nbformat_minor": 2
}
