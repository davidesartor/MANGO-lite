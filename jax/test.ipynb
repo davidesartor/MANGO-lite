{
 "cells": [
  {
   "cell_type": "code",
   "execution_count": 35,
   "metadata": {},
   "outputs": [
    {
     "data": {
      "text/plain": [
       "[cuda(id=0)]"
      ]
     },
     "execution_count": 35,
     "metadata": {},
     "output_type": "execute_result"
    }
   ],
   "source": [
    "import os\n",
    "os.environ[\"CUDA_VISIBLE_DEVICES\"] = \"2\"\n",
    "import jax\n",
    "from flax import struct\n",
    "from flax.core import frozen_dict\n",
    "\n",
    "from tqdm.auto import tqdm\n",
    "from functools import partial\n",
    "import optax\n",
    "#jax.config.update(\"jax_platform_name\", \"cpu\")\n",
    "jax.devices()\n"
   ]
  },
  {
   "cell_type": "code",
   "execution_count": 36,
   "metadata": {},
   "outputs": [],
   "source": [
    "import frozen_lake\n",
    "import utils\n",
    "import policies"
   ]
  },
  {
   "cell_type": "code",
   "execution_count": 37,
   "metadata": {},
   "outputs": [],
   "source": [
    "rng_key = jax.random.PRNGKey(42)\n",
    "\n",
    "# initialize env\n",
    "env = frozen_lake.FrozenLake((4, 4))\n",
    "rng_key, rng_env_init = jax.random.split(rng_key)\n",
    "env_params = env.init(rng_env_init)\n",
    "\n",
    "# create example obs to initialize policy\n",
    "rng_key, rng_reset, rng_obs = jax.random.split(rng_key, 3)\n",
    "env_state = env.reset(rng_reset, env_params)\n",
    "env_obs = env.get_obs(rng_obs, env_state, env_params)\n",
    "mock_data = (jax.random.PRNGKey(42), env_obs)\n",
    "\n",
    "# initialize policy\n",
    "policy = policies.DQNet([16, 16], 4)\n",
    "optimizer = optax.adam(1e-3)\n",
    "rng_key, rng_policy_init = jax.random.split(rng_key)\n",
    "policy_params = policy.init(rng_policy_init, *mock_data)\n",
    "optimizer_state = optimizer.init(policy_params)"
   ]
  },
  {
   "cell_type": "code",
   "execution_count": 38,
   "metadata": {},
   "outputs": [],
   "source": [
    "rollout = jax.jit(partial(utils.rollout, env, policy, steps=1000, env_params=env_params))\n",
    "grad = jax.grad(partial(utils.loss_fn, policy))\n",
    "\n",
    "@jax.jit\n",
    "def train_step(rng_key, policy_params, optimizer_state):\n",
    "    # rollout\n",
    "    transitions = rollout(rng_key, policy_params)\n",
    "\n",
    "    # train\n",
    "    gradients = grad(policy_params, transitions)\n",
    "    updates, optimizer_state = optimizer.update(gradients, optimizer_state)\n",
    "    policy_params = optax.apply_updates(policy_params, updates)\n",
    "    return policy_params, optimizer_state"
   ]
  },
  {
   "cell_type": "code",
   "execution_count": 39,
   "metadata": {},
   "outputs": [
    {
     "data": {
      "application/vnd.jupyter.widget-view+json": {
       "model_id": "d459f98bcbc6497cbc4e6617dbf02fee",
       "version_major": 2,
       "version_minor": 0
      },
      "text/plain": [
       "  0%|          | 0/1000 [00:00<?, ?it/s]"
      ]
     },
     "metadata": {},
     "output_type": "display_data"
    },
    {
     "data": {
      "image/png": "[encoded data removed]",
      "text/plain": [
       "<Figure size 240x240 with 1 Axes>"
      ]
     },
     "metadata": {},
     "output_type": "display_data"
    }
   ],
   "source": [
    "for rng_key in tqdm(jax.random.split(rng_key, 100)):\n",
    "    policy_params, optimizer_state = train_step(rng_key, policy_params, optimizer_state)\n",
    "\n",
    "# replace epsilon with 0\n",
    "policy_params = jax.tree_util.tree_map_with_path(\n",
    "    lambda path, x: 0.0 if path[-1].key == \"epsilon\" else x, policy_params\n",
    ")\n",
    "transitions = rollout(rng_key, policy_params)\n",
    "frozen_lake.render(transitions.env_state, env_params)"
   ]
  },
  {
   "cell_type": "code",
   "execution_count": null,
   "metadata": {},
   "outputs": [],
   "source": []
  },
  {
   "cell_type": "code",
   "execution_count": null,
   "metadata": {},
   "outputs": [],
   "source": []
  }
 ],
 "metadata": {
  "kernelspec": {
   "display_name": "Python 3",
   "language": "python",
   "name": "python3"
  },
  "language_info": {
   "codemirror_mode": {
    "name": "ipython",
    "version": 3
   },
   "file_extension": ".py",
   "mimetype": "text/x-python",
   "name": "python",
   "nbconvert_exporter": "python",
   "pygments_lexer": "ipython3",
   "version": "3.10.13"
  }
 },
 "nbformat": 4,
 "nbformat_minor": 2
}
