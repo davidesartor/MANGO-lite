{
 "cells": [
  {
   "cell_type": "code",
   "execution_count": 6,
   "metadata": {},
   "outputs": [],
   "source": [
    "import os\n",
    "os.environ[\"CUDA_VISIBLE_DEVICES\"] = \"1\"\n",
    "import jax\n",
    "from jax import numpy as jnp\n",
    "from jax.experimental import host_callback\n",
    "\n",
    "from tqdm.auto import tqdm\n",
    "from functools import partial\n",
    "import optax\n",
    "import matplotlib.pyplot as plt\n",
    "from pprint import pprint\n",
    "\n",
    "from flax import linen as nn\n",
    "from typing import Sequence\n",
    "\n",
    "from functools import partial\n",
    "from typing import Callable, Sequence\n",
    "from flax import struct\n",
    "from flax import linen as nn\n",
    "import jax\n",
    "import jax.numpy as jnp\n",
    "import optax\n",
    "from functools import partial\n",
    "import numpy as np\n",
    "\n",
    "import actions\n",
    "import qlearning\n",
    "import replay\n",
    "import plotting\n",
    "from utils import ConvNet, Transition\n",
    "from frozen_lake import EnvState, FrozenLake, ObsType, ActType, RNGKey\n"
   ]
  },
  {
   "cell_type": "code",
   "execution_count": 7,
   "metadata": {},
   "outputs": [
    {
     "data": {
      "text/plain": [
       "[cuda(id=0)]"
      ]
     },
     "execution_count": 7,
     "metadata": {},
     "output_type": "execute_result"
    }
   ],
   "source": [
    "jax.devices()"
   ]
  },
  {
   "cell_type": "code",
   "execution_count": 8,
   "metadata": {},
   "outputs": [],
   "source": [
    "import frozen_lake, utils, replay, qlearning\n",
    "rng_key = jax.random.PRNGKey(0)\n",
    "map_size = 8\n",
    "rng_env_init, rng_env_reset, rng_dql = jax.random.split(rng_key, 3)\n",
    "env = frozen_lake.FrozenLake.make(rng_env_init, (map_size, map_size))\n",
    "env_state, env_obs = env.reset(rng_env_reset)"
   ]
  },
  {
   "cell_type": "code",
   "execution_count": 9,
   "metadata": {},
   "outputs": [],
   "source": [
    "@partial(jax.jit, static_argnames=(\"steps\"))\n",
    "def random_rollout(\n",
    "    env: FrozenLake, rng_key: RNGKey, steps: int\n",
    "):\n",
    "\n",
    "    def scan_compatible_step(carry, rng_key: RNGKey):\n",
    "        env_state, obs = carry\n",
    "        rng_action, rng_step, rng_reset = jax.random.split(rng_key, 3)\n",
    "        action = jax.random.randint(rng_action, (), 0, 4)\n",
    "        next_env_state, next_obs, reward, done, info = env.step(env_state, rng_step, action)\n",
    "        transition = Transition(env_state, obs, action, next_obs, reward, done, info)\n",
    "\n",
    "        # reset the environment if done\n",
    "        next_env_state, next_obs = jax.lax.cond(\n",
    "            done,\n",
    "            lambda: env.reset(rng_reset),\n",
    "            lambda: (next_env_state, next_obs),\n",
    "        )\n",
    "        return (next_env_state, next_obs), transition\n",
    "\n",
    "    rng_env_reset, rng_steps = jax.random.split(rng_key)\n",
    "    rng_steps = jax.random.split(rng_steps, steps)\n",
    "    env_state, obs = env.reset(rng_env_reset)\n",
    "    _, transitions = jax.lax.scan(scan_compatible_step, (env_state, obs), rng_steps)\n",
    "    return transitions"
   ]
  },
  {
   "cell_type": "code",
   "execution_count": 11,
   "metadata": {},
   "outputs": [
    {
     "name": "stdout",
     "output_type": "stream",
     "text": [
      "27.1 ms ± 1.38 ms per loop (mean ± std. dev. of 7 runs, 10 loops each)\n"
     ]
    },
    {
     "ename": "",
     "evalue": "",
     "output_type": "error",
     "traceback": [
      "\u001b[1;31mThe Kernel crashed while executing code in the the current cell or a previous cell. Please review the code in the cell(s) to identify a possible cause of the failure. Click <a href='https://aka.ms/vscodeJupyterKernelCrash'>here</a> for more info. View Jupyter <a href='command:jupyter.viewOutput'>log</a> for further details."
     ]
    }
   ],
   "source": [
    "%timeit random_rollout(env, rng_key, 256)"
   ]
  }
 ],
 "metadata": {
  "kernelspec": {
   "display_name": "Python 3",
   "language": "python",
   "name": "python3"
  },
  "language_info": {
   "codemirror_mode": {
    "name": "ipython",
    "version": 3
   },
   "file_extension": ".py",
   "mimetype": "text/x-python",
   "name": "python",
   "nbconvert_exporter": "python",
   "pygments_lexer": "ipython3",
   "version": "3.10.13"
  }
 },
 "nbformat": 4,
 "nbformat_minor": 2
}
