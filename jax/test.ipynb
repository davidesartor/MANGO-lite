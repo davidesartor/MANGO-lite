{
 "cells": [
  {
   "cell_type": "code",
   "execution_count": 98,
   "metadata": {},
   "outputs": [],
   "source": [
    "import os\n",
    "os.environ[\"CUDA_VISIBLE_DEVICES\"] = \"2\"\n",
    "import jax\n",
    "from jax import numpy as jnp\n",
    "from jax.experimental import host_callback\n",
    "\n",
    "from tqdm.auto import tqdm\n",
    "from functools import partial\n",
    "import optax\n",
    "import matplotlib.pyplot as plt\n",
    "\n",
    "from flax import linen as nn\n",
    "from typing import Sequence\n",
    "\n",
    "from functools import partial\n",
    "from typing import Callable, Sequence\n",
    "from flax import struct\n",
    "from flax import linen as nn\n",
    "import jax\n",
    "import jax.numpy as jnp\n",
    "import optax\n",
    "\n",
    "import qlearning\n",
    "import replay\n",
    "from frozen_lake import EnvState, FrozenLake, ObsType, ActType, RNGKey\n",
    "\n"
   ]
  },
  {
   "cell_type": "code",
   "execution_count": 99,
   "metadata": {},
   "outputs": [
    {
     "data": {
      "text/plain": [
       "[cuda(id=0)]"
      ]
     },
     "execution_count": 99,
     "metadata": {},
     "output_type": "execute_result"
    }
   ],
   "source": [
    "jax.devices()"
   ]
  },
  {
   "cell_type": "code",
   "execution_count": 100,
   "metadata": {},
   "outputs": [
    {
     "name": "stdout",
     "output_type": "stream",
     "text": [
      "{'params': {'a': Array([1.], dtype=float32)}}\n",
      "[1. 1. 1. 1. 1. 1. 1. 1. 1. 1. 1. 1. 1. 1. 1. 1.]\n"
     ]
    }
   ],
   "source": [
    "from typing import Any\n",
    "import optax\n",
    "\n",
    "\n",
    "class Network(nn.Module):\n",
    "    @nn.compact\n",
    "    def __call__(self, x):\n",
    "        return self.param('a', nn.initializers.ones, (1,))*x\n",
    "\n",
    "\n",
    "x = jnp.ones((16,))\n",
    "network = Network()\n",
    "params = network.init(jax.random.PRNGKey(0), x)\n",
    "y = network.apply(params, x)\n",
    "print(params)\n",
    "print(y)\n"
   ]
  },
  {
   "cell_type": "code",
   "execution_count": 101,
   "metadata": {},
   "outputs": [
    {
     "name": "stdout",
     "output_type": "stream",
     "text": [
      "{'params': {'a': Array([0.999], dtype=float32)}}\n",
      "[0.999 0.999 0.999 0.999 0.999 0.999 0.999 0.999 0.999 0.999 0.999 0.999\n",
      " 0.999 0.999 0.999 0.999]\n"
     ]
    }
   ],
   "source": [
    "tx = optax.adam(1e-3)\n",
    "opt_state = tx.init(params)\n",
    "grads = jax.grad(lambda params: network.apply(params, x).sum())(params)\n",
    "updates, opt_state = tx.update(grads, opt_state, params)\n",
    "params = optax.apply_updates(params, updates)\n",
    "y = network.apply(params, x)\n",
    "print(params)\n",
    "print(y)"
   ]
  },
  {
   "cell_type": "code",
   "execution_count": 108,
   "metadata": {},
   "outputs": [
    {
     "name": "stdout",
     "output_type": "stream",
     "text": [
      "Policy(params={'params': {'a': Array([1.], dtype=float32)}}, apply_fn=<bound method Module.apply of Network()>, eps=1.0)\n",
      "Policy(params={'params': {'a': Array([0.999], dtype=float32)}}, apply_fn=<bound method Module.apply of Network()>, eps=Array(1., dtype=float32))\n"
     ]
    },
    {
     "ename": "",
     "evalue": "",
     "output_type": "error",
     "traceback": [
      "\u001b[1;31mThe Kernel crashed while executing code in the the current cell or a previous cell. Please review the code in the cell(s) to identify a possible cause of the failure. Click <a href='https://aka.ms/vscodeJupyterKernelCrash'>here</a> for more info. View Jupyter <a href='command:jupyter.viewOutput'>log</a> for further details."
     ]
    }
   ],
   "source": [
    "class Policy(struct.PyTreeNode):\n",
    "    params: Any\n",
    "    apply_fn: Callable = struct.field(pytree_node=False)\n",
    "    eps: float = 1.0\n",
    "\n",
    "    def fow(self, x):\n",
    "        return self.apply_fn(self.params, x)\n",
    "    \n",
    "\n",
    "params = network.init(jax.random.PRNGKey(0), x)\n",
    "policy = Policy(params, network.apply, eps=1.0)\n",
    "print(policy)\n",
    "\n",
    "tx = optax.adam(1e-3)\n",
    "opt_state = tx.init(policy)\n",
    "grads = jax.grad(lambda policy: Policy.fow(policy, x).sum())(policy)\n",
    "\n",
    "updates, opt_state = tx.update(grads, opt_state, policy)\n",
    "policy = optax.apply_updates(policy, updates)\n",
    "print(policy)\n",
    "\n",
    "\n",
    "\n"
   ]
  },
  {
   "cell_type": "code",
   "execution_count": 5,
   "metadata": {},
   "outputs": [
    {
     "name": "stdout",
     "output_type": "stream",
     "text": [
      "(256, 5, 5)\n",
      "188 µs ± 2.19 µs per loop (mean ± std. dev. of 7 runs, 10,000 loops each)\n"
     ]
    }
   ],
   "source": [
    "from utils import ConvNet\n",
    "\n",
    "n_actions = 5\n",
    "n_layers = 3\n",
    "\n",
    "MultiConvNet = nn.vmap(\n",
    "    ConvNet,\n",
    "    in_axes=None,\n",
    "    axis_size=n_actions,\n",
    "    variable_axes={\"params\": 0},\n",
    "    split_rngs={\"params\": True},\n",
    ")\n",
    "\n",
    "\n",
    "x = jnp.ones((8, 8, 3))\n",
    "y = jnp.stack([x] * 256)\n",
    "\n",
    "net = MultiConvNet([16, 16, 16], n_actions)\n",
    "params = net.init(jax.random.PRNGKey(0), x)\n",
    "jitted = jax.jit(jax.vmap(net.apply, in_axes=(None, 0)))\n",
    "print(jitted(params, y).shape)\n",
    "%timeit jitted(params, y)"
   ]
  },
  {
   "cell_type": "code",
   "execution_count": null,
   "metadata": {},
   "outputs": [],
   "source": [
    "class MangoLayer(struct.PyTreeNode):\n",
    "    qnet_apply_fn: list[Callable] = struct.field(pytree_node=False)\n",
    "\n",
    "    @jax.jit\n",
    "    def get_action(\n",
    "        self, params: list[optax.Params], rng_key: RNGKey, obs: ObsType, epsilon: float\n",
    "    ) -> ActType:\n",
    "        rng_eps, rng_action = jax.random.split(rng_key)\n",
    "        qval = self.qnet_apply_fn(params, obs)\n",
    "        return jax.lax.select(\n",
    "            jax.random.uniform(rng_eps) < epsilon,\n",
    "            jax.random.randint(rng_action, shape=(), minval=0, maxval=qval.size),\n",
    "            qval.argmax(),\n",
    "        )\n",
    "\n",
    "    def rollout(\n",
    "        self,\n",
    "        params: optax.Params,\n",
    "        rng_key: RNGKey,\n",
    "        env: FrozenLake,\n",
    "        n_steps: int,\n",
    "        epsilon: Sequence[float],\n",
    "    ):\n",
    "        def scan_compatible_step(carry, rng_key: RNGKey):\n",
    "            env_state, obs, mango_state = carry\n",
    "            rng_action, rng_step, rng_reset = jax.random.split(rng_key, 3)\n",
    "            mango_state, action = self.get_action(params, mango_state, rng_action, obs, epsilon)\n",
    "            next_env_state, next_obs, reward, done, info = env.step(rng_step, env_state, action)\n",
    "            transition = Transition(env_state, obs, action, next_obs, reward, done, info)\n",
    "\n",
    "            # reset the environment if done\n",
    "            carry = jax.lax.cond(\n",
    "                done,\n",
    "                lambda: env.reset(rng_reset),\n",
    "                lambda: (next_env_state, next_obs),\n",
    "            )\n",
    "            return carry, transition\n",
    "\n",
    "        rng_reset, *rng_steps = jax.random.split(rng_key, n_steps + 1)\n",
    "        final_state, transitions = jax.lax.scan(\n",
    "            scan_compatible_step, env.reset(rng_reset), jnp.array(rng_steps)\n",
    "        )\n",
    "        return transitions\n"
   ]
  }
 ],
 "metadata": {
  "kernelspec": {
   "display_name": "Python 3",
   "language": "python",
   "name": "python3"
  },
  "language_info": {
   "codemirror_mode": {
    "name": "ipython",
    "version": 3
   },
   "file_extension": ".py",
   "mimetype": "text/x-python",
   "name": "python",
   "nbconvert_exporter": "python",
   "pygments_lexer": "ipython3",
   "version": "3.10.13"
  }
 },
 "nbformat": 4,
 "nbformat_minor": 2
}
