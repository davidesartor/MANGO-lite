{
 "cells": [
  {
   "cell_type": "code",
   "execution_count": 7,
   "metadata": {},
   "outputs": [
    {
     "data": {
      "text/plain": [
       "[cuda(id=0)]"
      ]
     },
     "execution_count": 7,
     "metadata": {},
     "output_type": "execute_result"
    }
   ],
   "source": [
    "import os\n",
    "os.environ[\"CUDA_VISIBLE_DEVICES\"] = \"2\"\n",
    "import frozen_lake\n",
    "import jax\n",
    "import jax.numpy as jnp\n",
    "import jax.random as random\n",
    "import jax\n",
    "from typing import Optional\n",
    "from functools import partial\n",
    "import matplotlib.pyplot as plt\n",
    "from typing import NamedTuple\n",
    "from tqdm.auto import tqdm\n",
    "#jax.config.update(\"jax_platform_name\", \"cpu\")\n",
    "jax.devices()"
   ]
  },
  {
   "cell_type": "code",
   "execution_count": 8,
   "metadata": {},
   "outputs": [],
   "source": [
    "from frozen_lake import generate_frozen_chunk, get_preset_map"
   ]
  },
  {
   "cell_type": "code",
   "execution_count": 9,
   "metadata": {},
   "outputs": [],
   "source": [
    "class FrozenLake:\n",
    "    def __init__(\n",
    "        self,\n",
    "        shape: tuple[int, int],\n",
    "        frozen_prob: Optional[float] = None,\n",
    "        rng_key: Optional[jax.Array] = None,\n",
    "    ):\n",
    "        if rng_key is None:\n",
    "            self.frozen = get_preset_map(*shape)\n",
    "            self.agent_start = jnp.array([[0, 0]])\n",
    "            self.goal_start = jnp.array([[-1, -1]])\n",
    "            self.rng_key = jax.random.PRNGKey(0)\n",
    "        else:\n",
    "            self.rng_key, subkey1, subkey2 = random.split(rng_key, 3)\n",
    "            if frozen_prob is None:\n",
    "                p = random.uniform(subkey1, minval=0.5, maxval=0.8)\n",
    "            else:\n",
    "                p = jnp.array(frozen_prob)\n",
    "            self.frozen = generate_frozen_chunk(subkey2, shape, p)\n",
    "            self.agent_start = jnp.indices(shape)[:, self.frozen == 1].T\n",
    "            self.goal_start = jnp.indices(shape)[:, self.frozen == 1].T\n",
    "\n",
    "    def step(self, action: jax.Array):\n",
    "        assert action in [0, 1, 2, 3]\n",
    "        LEFT, DOWN, RIGHT, UP = 0, 1, 2, 3\n",
    "        delta = jnp.select(\n",
    "            [action == LEFT, action == DOWN, action == RIGHT, action == UP],\n",
    "            [jnp.array([0, -1]), jnp.array([1, 0]), jnp.array([0, 1]), jnp.array([-1, 0])],\n",
    "        )\n",
    "        new_pos = jnp.clip(self.agent_pos + delta, 0, jnp.array(self.frozen.shape))\n",
    "        print(new_pos)\n",
    "        self.agent_pos = new_pos\n",
    "\n",
    "    def reset(self):\n",
    "        self.rng_key, subkey1, subkey2 = random.split(self.rng_key, 3)\n",
    "        self.agent_pos = random.choice(subkey1, self.agent_start)\n",
    "        self.goal_pos = random.choice(subkey2, self.goal_start)\n",
    "        return self.agent_pos, {}\n",
    "\n",
    "    def play(self):\n",
    "        self.reset()\n",
    "        self.render()\n",
    "        while True:\n",
    "            action = jnp.array({\"w\": 0, \"a\": 1, \"s\": 2, \"d\": 3}.get(input()))\n",
    "            if action is None:\n",
    "                break\n",
    "            self.step(action)\n",
    "            self.render()\n",
    "\n",
    "    def render(self):\n",
    "        import matplotlib.pyplot as plt\n",
    "\n",
    "        rows, cols = self.frozen.shape\n",
    "        plt.figure(figsize=(cols, rows), dpi=60)\n",
    "        plt.xticks([])\n",
    "        plt.yticks([])\n",
    "        # plt the map\n",
    "        plt.imshow(1 - self.frozen, cmap=\"Blues\", vmin=-0.1, vmax=3)\n",
    "        # plt the frozen\n",
    "        y, x = jnp.where(self.frozen == 0)\n",
    "        plt.scatter(x, y, marker=\"o\", s=3000, c=\"snow\", edgecolors=\"white\")\n",
    "        # plt the holes\n",
    "        y, x = jnp.where(self.frozen == 0)\n",
    "        plt.scatter(x, y, marker=\"o\", s=3000, c=\"tab:blue\", edgecolors=\"white\")\n",
    "        # plt the goal\n",
    "        y, x = self.goal_pos\n",
    "        plt.scatter(x, y, marker=\"*\", s=800, c=\"orange\", edgecolors=\"black\")\n",
    "        # plt the agent\n",
    "        y, x = self.agent_pos\n",
    "        plt.scatter(x, y + 0.15, marker=\"o\", s=400, c=\"pink\", edgecolors=\"black\")\n",
    "        plt.scatter(x, y - 0.15, marker=\"^\", s=400, c=\"green\", edgecolors=\"black\")\n",
    "        plt.show()"
   ]
  },
  {
   "cell_type": "code",
   "execution_count": 21,
   "metadata": {},
   "outputs": [
    {
     "name": "stdout",
     "output_type": "stream",
     "text": [
      "[2 5]\n",
      "[2 4]\n",
      "[2 3]\n",
      "[2 2]\n",
      "[2 1]\n",
      "[2 0]\n",
      "[2 0]\n",
      "[2 0]\n",
      "[2 0]\n",
      "[2 0]\n"
     ]
    },
    {
     "data": {
      "image/png": "[encoded data removed]",
      "text/plain": [
       "<Figure size 480x480 with 1 Axes>"
      ]
     },
     "metadata": {},
     "output_type": "display_data"
    }
   ],
   "source": [
    "rng_key = random.PRNGKey(seed)\n",
    "env = FrozenLake((8, 8), rng_key=rng_key, frozen_prob=0.5)\n",
    "env.reset()\n",
    "for _ in range(10):\n",
    "    env.step(0)\n",
    "    char = input()\n",
    "    if char == \"q\":\n",
    "        break\n",
    "    if char == \"r\":\n",
    "        env.reset()\n",
    "env.render()"
   ]
  },
  {
   "cell_type": "code",
   "execution_count": null,
   "metadata": {},
   "outputs": [],
   "source": []
  }
 ],
 "metadata": {
  "kernelspec": {
   "display_name": "Python 3",
   "language": "python",
   "name": "python3"
  },
  "language_info": {
   "codemirror_mode": {
    "name": "ipython",
    "version": 3
   },
   "file_extension": ".py",
   "mimetype": "text/x-python",
   "name": "python",
   "nbconvert_exporter": "python",
   "pygments_lexer": "ipython3",
   "version": "3.10.13"
  }
 },
 "nbformat": 4,
 "nbformat_minor": 2
}
