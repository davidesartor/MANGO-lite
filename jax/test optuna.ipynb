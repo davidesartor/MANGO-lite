{
 "cells": [
  {
   "cell_type": "code",
   "execution_count": 1,
   "metadata": {},
   "outputs": [],
   "source": [
    "import os\n",
    "\n",
    "os.environ[\"CUDA_VISIBLE_DEVICES\"] = \"1\"\n",
    "import jax\n",
    "from jax import numpy as jnp\n",
    "from jax.experimental import host_callback\n",
    "\n",
    "from tqdm.auto import tqdm\n",
    "from functools import partial\n",
    "import optax\n",
    "import matplotlib.pyplot as plt\n",
    "from pprint import pprint\n",
    "\n",
    "from flax import linen as nn\n",
    "from typing import Sequence\n",
    "\n",
    "from functools import partial\n",
    "from typing import Callable, Sequence\n",
    "from flax import struct\n",
    "from flax import linen as nn\n",
    "import jax\n",
    "import jax.numpy as jnp\n",
    "import optax\n",
    "from functools import partial\n",
    "import numpy as np\n",
    "\n",
    "import actions\n",
    "import qlearning\n",
    "import replay\n",
    "import plotting\n",
    "from utils import ConvNet, Transition\n",
    "from frozen_lake import EnvState, FrozenLake, ObsType, ActType, RNGKey\n",
    "\n",
    "from mango_utils import MultiDQLTrainState\n",
    "from mango_utils import eps_greedy_rollout, aggregate\n",
    "import sim\n",
    "import optuna\n"
   ]
  },
  {
   "cell_type": "code",
   "execution_count": 2,
   "metadata": {},
   "outputs": [
    {
     "data": {
      "text/plain": [
       "[cuda(id=0)]"
      ]
     },
     "execution_count": 2,
     "metadata": {},
     "output_type": "execute_result"
    }
   ],
   "source": [
    "jax.devices()"
   ]
  },
  {
   "cell_type": "code",
   "execution_count": 3,
   "metadata": {},
   "outputs": [
    {
     "name": "stderr",
     "output_type": "stream",
     "text": [
      "[I 2024-02-07 08:14:32,193] A new study created in RDB with name: mango\n"
     ]
    },
    {
     "data": {
      "application/vnd.jupyter.widget-view+json": {
       "model_id": "56e66b985dd2401c9bb5d2a95d2617e7",
       "version_major": 2,
       "version_minor": 0
      },
      "text/plain": [
       "  0%|          | 0/100 [00:00<?, ?it/s]"
      ]
     },
     "metadata": {},
     "output_type": "display_data"
    },
    {
     "data": {
      "application/vnd.jupyter.widget-view+json": {
       "model_id": "89ab06c690424a7d86e7df611ccf1431",
       "version_major": 2,
       "version_minor": 0
      },
      "text/plain": [
       "  0%|          | 0/2000 [00:00<?, ?it/s]"
      ]
     },
     "metadata": {},
     "output_type": "display_data"
    },
    {
     "name": "stdout",
     "output_type": "stream",
     "text": [
      "[I 2024-02-07 08:15:33,500] Trial 0 finished with value: 0.025859376415610313 and parameters: {'lr': 0.0008195194117554066, 'annealing_0': 0.38484120940426425, 'annealing_1': 0.35573267121612584}. Best is trial 0 with value: 0.025859376415610313.\n"
     ]
    },
    {
     "data": {
      "application/vnd.jupyter.widget-view+json": {
       "model_id": "1671f057c50843699faa9aa3b958122d",
       "version_major": 2,
       "version_minor": 0
      },
      "text/plain": [
       "  0%|          | 0/2000 [00:00<?, ?it/s]"
      ]
     },
     "metadata": {},
     "output_type": "display_data"
    },
    {
     "name": "stdout",
     "output_type": "stream",
     "text": [
      "[I 2024-02-07 08:16:21,910] Trial 1 finished with value: 0.03998633101582527 and parameters: {'lr': 0.0001714492618766146, 'annealing_0': 0.37242983917051964, 'annealing_1': 0.16839991888253047}. Best is trial 1 with value: 0.03998633101582527.\n"
     ]
    },
    {
     "data": {
      "application/vnd.jupyter.widget-view+json": {
       "model_id": "90982199f3fc4aa8b2e1ed8ccbb6cca0",
       "version_major": 2,
       "version_minor": 0
      },
      "text/plain": [
       "  0%|          | 0/2000 [00:00<?, ?it/s]"
      ]
     },
     "metadata": {},
     "output_type": "display_data"
    },
    {
     "name": "stdout",
     "output_type": "stream",
     "text": [
      "[I 2024-02-07 08:17:11,814] Trial 2 finished with value: 0.04866211116313934 and parameters: {'lr': 0.006765665311623443, 'annealing_0': 0.10253290890735914, 'annealing_1': 0.17270681524497883}. Best is trial 2 with value: 0.04866211116313934.\n"
     ]
    },
    {
     "data": {
      "application/vnd.jupyter.widget-view+json": {
       "model_id": "c58f778be23448cf9eacb61d7fded173",
       "version_major": 2,
       "version_minor": 0
      },
      "text/plain": [
       "  0%|          | 0/2000 [00:00<?, ?it/s]"
      ]
     },
     "metadata": {},
     "output_type": "display_data"
    },
    {
     "name": "stdout",
     "output_type": "stream",
     "text": [
      "[I 2024-02-07 08:18:00,257] Trial 3 finished with value: 0.005146484822034836 and parameters: {'lr': 0.005465803710645387, 'annealing_0': 0.4819362729550062, 'annealing_1': 0.3038166533678254}. Best is trial 2 with value: 0.04866211116313934.\n"
     ]
    },
    {
     "data": {
      "application/vnd.jupyter.widget-view+json": {
       "model_id": "fb01487466124ac5b47c6b0cbc351f6f",
       "version_major": 2,
       "version_minor": 0
      },
      "text/plain": [
       "  0%|          | 0/2000 [00:00<?, ?it/s]"
      ]
     },
     "metadata": {},
     "output_type": "display_data"
    },
    {
     "name": "stdout",
     "output_type": "stream",
     "text": [
      "[I 2024-02-07 08:18:48,477] Trial 4 finished with value: 0.009218750521540642 and parameters: {'lr': 0.003543218797495898, 'annealing_0': 0.2812352670780185, 'annealing_1': 0.10589139712090456}. Best is trial 2 with value: 0.04866211116313934.\n"
     ]
    },
    {
     "data": {
      "application/vnd.jupyter.widget-view+json": {
       "model_id": "d728eb06d9004b58b5e4d8e6fcaca24f",
       "version_major": 2,
       "version_minor": 0
      },
      "text/plain": [
       "  0%|          | 0/2000 [00:00<?, ?it/s]"
      ]
     },
     "metadata": {},
     "output_type": "display_data"
    },
    {
     "name": "stdout",
     "output_type": "stream",
     "text": [
      "[I 2024-02-07 08:19:38,368] Trial 5 finished with value: 0.02680664137005806 and parameters: {'lr': 0.0026769687670099795, 'annealing_0': 0.33426168457252925, 'annealing_1': 0.16849816867452716}. Best is trial 2 with value: 0.04866211116313934.\n"
     ]
    },
    {
     "data": {
      "application/vnd.jupyter.widget-view+json": {
       "model_id": "5ea83b15b6504f138dd9264b36a7d13a",
       "version_major": 2,
       "version_minor": 0
      },
      "text/plain": [
       "  0%|          | 0/2000 [00:00<?, ?it/s]"
      ]
     },
     "metadata": {},
     "output_type": "display_data"
    },
    {
     "name": "stdout",
     "output_type": "stream",
     "text": [
      "[I 2024-02-07 08:20:33,624] Trial 6 finished with value: 0.02721875160932541 and parameters: {'lr': 0.002803268975739113, 'annealing_0': 0.15527913153285297, 'annealing_1': 0.2076213535555768}. Best is trial 2 with value: 0.04866211116313934.\n"
     ]
    },
    {
     "data": {
      "application/vnd.jupyter.widget-view+json": {
       "model_id": "9ffbd50313da48388361e1d0c53b957c",
       "version_major": 2,
       "version_minor": 0
      },
      "text/plain": [
       "  0%|          | 0/2000 [00:00<?, ?it/s]"
      ]
     },
     "metadata": {},
     "output_type": "display_data"
    },
    {
     "name": "stdout",
     "output_type": "stream",
     "text": [
      "[I 2024-02-07 08:21:23,080] Trial 7 finished with value: 0.03145508095622063 and parameters: {'lr': 0.0009810903180158094, 'annealing_0': 0.1826992765481238, 'annealing_1': 0.4100688763961199}. Best is trial 2 with value: 0.04866211116313934.\n"
     ]
    },
    {
     "data": {
      "application/vnd.jupyter.widget-view+json": {
       "model_id": "794698dd643641c0bed93b809f198b67",
       "version_major": 2,
       "version_minor": 0
      },
      "text/plain": [
       "  0%|          | 0/2000 [00:00<?, ?it/s]"
      ]
     },
     "metadata": {},
     "output_type": "display_data"
    },
    {
     "name": "stdout",
     "output_type": "stream",
     "text": [
      "[I 2024-02-07 08:22:12,402] Trial 8 finished with value: 0.034589845687150955 and parameters: {'lr': 0.0019155775820767207, 'annealing_0': 0.20980444186054226, 'annealing_1': 0.19102055453886557}. Best is trial 2 with value: 0.04866211116313934.\n"
     ]
    },
    {
     "data": {
      "application/vnd.jupyter.widget-view+json": {
       "model_id": "e0c17d9a07514eae90a7a7bb98119c5f",
       "version_major": 2,
       "version_minor": 0
      },
      "text/plain": [
       "  0%|          | 0/2000 [00:00<?, ?it/s]"
      ]
     },
     "metadata": {},
     "output_type": "display_data"
    },
    {
     "name": "stdout",
     "output_type": "stream",
     "text": [
      "[I 2024-02-07 08:23:02,076] Trial 9 finished with value: 0.02539062686264515 and parameters: {'lr': 0.00012105308347744771, 'annealing_0': 0.40807011533458437, 'annealing_1': 0.4172207484389252}. Best is trial 2 with value: 0.04866211116313934.\n"
     ]
    },
    {
     "data": {
      "application/vnd.jupyter.widget-view+json": {
       "model_id": "5cb920cc444c494b9d55ce7c87f7e9b6",
       "version_major": 2,
       "version_minor": 0
      },
      "text/plain": [
       "  0%|          | 0/2000 [00:00<?, ?it/s]"
      ]
     },
     "metadata": {},
     "output_type": "display_data"
    },
    {
     "name": "stdout",
     "output_type": "stream",
     "text": [
      "[I 2024-02-07 08:23:51,077] Trial 10 finished with value: 0.04670312628149986 and parameters: {'lr': 0.007018262778815104, 'annealing_0': 0.1192607297200951, 'annealing_1': 0.2635811336066091}. Best is trial 2 with value: 0.04866211116313934.\n"
     ]
    },
    {
     "data": {
      "application/vnd.jupyter.widget-view+json": {
       "model_id": "7d7be0fe838042a1a3ae2fc145a0fcf3",
       "version_major": 2,
       "version_minor": 0
      },
      "text/plain": [
       "  0%|          | 0/2000 [00:00<?, ?it/s]"
      ]
     },
     "metadata": {},
     "output_type": "display_data"
    },
    {
     "name": "stdout",
     "output_type": "stream",
     "text": [
      "[I 2024-02-07 08:24:41,279] Trial 11 finished with value: 0.03793945536017418 and parameters: {'lr': 0.009024990955328879, 'annealing_0': 0.12795308594737972, 'annealing_1': 0.26773696256599067}. Best is trial 2 with value: 0.04866211116313934.\n"
     ]
    },
    {
     "data": {
      "application/vnd.jupyter.widget-view+json": {
       "model_id": "fa433ce31a4a4848b314adf3f27faa53",
       "version_major": 2,
       "version_minor": 0
      },
      "text/plain": [
       "  0%|          | 0/2000 [00:00<?, ?it/s]"
      ]
     },
     "metadata": {},
     "output_type": "display_data"
    },
    {
     "name": "stdout",
     "output_type": "stream",
     "text": [
      "[I 2024-02-07 08:25:30,869] Trial 12 finished with value: 0.053974613547325134 and parameters: {'lr': 0.009874440219249929, 'annealing_0': 0.11255746204740197, 'annealing_1': 0.26192343306242116}. Best is trial 12 with value: 0.053974613547325134.\n"
     ]
    },
    {
     "data": {
      "application/vnd.jupyter.widget-view+json": {
       "model_id": "582eef032d5b42c2ac8f5ddb39b7c0eb",
       "version_major": 2,
       "version_minor": 0
      },
      "text/plain": [
       "  0%|          | 0/2000 [00:00<?, ?it/s]"
      ]
     },
     "metadata": {},
     "output_type": "display_data"
    },
    {
     "name": "stdout",
     "output_type": "stream",
     "text": [
      "[I 2024-02-07 08:26:20,605] Trial 13 finished with value: 0.031779296696186066 and parameters: {'lr': 0.009795377238464235, 'annealing_0': 0.24772477067079846, 'annealing_1': 0.12502467589359417}. Best is trial 12 with value: 0.053974613547325134.\n"
     ]
    },
    {
     "data": {
      "application/vnd.jupyter.widget-view+json": {
       "model_id": "7edf585b8ef04d34a3144ce64d01f874",
       "version_major": 2,
       "version_minor": 0
      },
      "text/plain": [
       "  0%|          | 0/2000 [00:00<?, ?it/s]"
      ]
     },
     "metadata": {},
     "output_type": "display_data"
    },
    {
     "name": "stdout",
     "output_type": "stream",
     "text": [
      "[I 2024-02-07 08:27:10,269] Trial 14 finished with value: 0.05345312878489494 and parameters: {'lr': 0.0005696799167882968, 'annealing_0': 0.10424183495238738, 'annealing_1': 0.23790747083946148}. Best is trial 12 with value: 0.053974613547325134.\n"
     ]
    },
    {
     "data": {
      "application/vnd.jupyter.widget-view+json": {
       "model_id": "f39bb1a640b54c1582ee45fba2f1fa4a",
       "version_major": 2,
       "version_minor": 0
      },
      "text/plain": [
       "  0%|          | 0/2000 [00:00<?, ?it/s]"
      ]
     },
     "metadata": {},
     "output_type": "display_data"
    },
    {
     "name": "stdout",
     "output_type": "stream",
     "text": [
      "[I 2024-02-07 08:28:00,057] Trial 15 finished with value: 0.041923828423023224 and parameters: {'lr': 0.00041034112786247066, 'annealing_0': 0.21894172776211124, 'annealing_1': 0.3188005495882237}. Best is trial 12 with value: 0.053974613547325134.\n"
     ]
    },
    {
     "data": {
      "application/vnd.jupyter.widget-view+json": {
       "model_id": "3687b012732245a49933a0f55956585f",
       "version_major": 2,
       "version_minor": 0
      },
      "text/plain": [
       "  0%|          | 0/2000 [00:00<?, ?it/s]"
      ]
     },
     "metadata": {},
     "output_type": "display_data"
    },
    {
     "name": "stdout",
     "output_type": "stream",
     "text": [
      "[I 2024-02-07 08:28:51,192] Trial 16 finished with value: 0.05137695372104645 and parameters: {'lr': 0.000347618339794436, 'annealing_0': 0.16054814387387195, 'annealing_1': 0.49340449305231}. Best is trial 12 with value: 0.053974613547325134.\n"
     ]
    },
    {
     "data": {
      "application/vnd.jupyter.widget-view+json": {
       "model_id": "b2440c2054344958bc125818ae23506f",
       "version_major": 2,
       "version_minor": 0
      },
      "text/plain": [
       "  0%|          | 0/2000 [00:00<?, ?it/s]"
      ]
     },
     "metadata": {},
     "output_type": "display_data"
    },
    {
     "name": "stdout",
     "output_type": "stream",
     "text": [
      "[I 2024-02-07 08:29:40,975] Trial 17 finished with value: 0.016453126445412636 and parameters: {'lr': 0.0005445720772884548, 'annealing_0': 0.2734692130453938, 'annealing_1': 0.23800905041276657}. Best is trial 12 with value: 0.053974613547325134.\n"
     ]
    },
    {
     "data": {
      "application/vnd.jupyter.widget-view+json": {
       "model_id": "1c0f6ee4c1934518ab3e4f8e422898f4",
       "version_major": 2,
       "version_minor": 0
      },
      "text/plain": [
       "  0%|          | 0/2000 [00:00<?, ?it/s]"
      ]
     },
     "metadata": {},
     "output_type": "display_data"
    },
    {
     "name": "stdout",
     "output_type": "stream",
     "text": [
      "[I 2024-02-07 08:30:31,329] Trial 18 finished with value: 0.033808596432209015 and parameters: {'lr': 0.0014909291775858369, 'annealing_0': 0.1967939028491512, 'annealing_1': 0.3516865602497501}. Best is trial 12 with value: 0.053974613547325134.\n"
     ]
    },
    {
     "data": {
      "application/vnd.jupyter.widget-view+json": {
       "model_id": "fa9f1c7c319a4a5492aee6b58e607550",
       "version_major": 2,
       "version_minor": 0
      },
      "text/plain": [
       "  0%|          | 0/2000 [00:00<?, ?it/s]"
      ]
     },
     "metadata": {},
     "output_type": "display_data"
    },
    {
     "name": "stdout",
     "output_type": "stream",
     "text": [
      "[I 2024-02-07 08:31:19,472] Trial 19 finished with value: 0.08140625059604645 and parameters: {'lr': 0.00021864899015764362, 'annealing_0': 0.14043634087419443, 'annealing_1': 0.23672370324852676}. Best is trial 19 with value: 0.08140625059604645.\n"
     ]
    },
    {
     "data": {
      "application/vnd.jupyter.widget-view+json": {
       "model_id": "12d4b9154ac24e6fbc09160418922616",
       "version_major": 2,
       "version_minor": 0
      },
      "text/plain": [
       "  0%|          | 0/2000 [00:00<?, ?it/s]"
      ]
     },
     "metadata": {},
     "output_type": "display_data"
    },
    {
     "name": "stdout",
     "output_type": "stream",
     "text": [
      "[I 2024-02-07 08:32:07,456] Trial 20 finished with value: 0.043492190539836884 and parameters: {'lr': 0.00023258207376015768, 'annealing_0': 0.24231687766024518, 'annealing_1': 0.34012017559973806}. Best is trial 19 with value: 0.08140625059604645.\n"
     ]
    },
    {
     "data": {
      "application/vnd.jupyter.widget-view+json": {
       "model_id": "ae7ea3e721c14f60939a98043c893ede",
       "version_major": 2,
       "version_minor": 0
      },
      "text/plain": [
       "  0%|          | 0/2000 [00:00<?, ?it/s]"
      ]
     },
     "metadata": {},
     "output_type": "display_data"
    },
    {
     "name": "stdout",
     "output_type": "stream",
     "text": [
      "[I 2024-02-07 08:32:56,525] Trial 21 finished with value: 0.07731445878744125 and parameters: {'lr': 0.0002580278309716201, 'annealing_0': 0.14776264310954101, 'annealing_1': 0.24089593864317677}. Best is trial 19 with value: 0.08140625059604645.\n"
     ]
    },
    {
     "data": {
      "application/vnd.jupyter.widget-view+json": {
       "model_id": "f5eb83e5083144e1937b4a9d31552be0",
       "version_major": 2,
       "version_minor": 0
      },
      "text/plain": [
       "  0%|          | 0/2000 [00:00<?, ?it/s]"
      ]
     },
     "metadata": {},
     "output_type": "display_data"
    },
    {
     "name": "stdout",
     "output_type": "stream",
     "text": [
      "[I 2024-02-07 08:33:46,028] Trial 22 finished with value: 0.0794980525970459 and parameters: {'lr': 0.00022852450860757765, 'annealing_0': 0.14775242050178908, 'annealing_1': 0.26775481838882137}. Best is trial 19 with value: 0.08140625059604645.\n"
     ]
    },
    {
     "data": {
      "application/vnd.jupyter.widget-view+json": {
       "model_id": "99304a5b1ee24361b2afe8b37f2f8505",
       "version_major": 2,
       "version_minor": 0
      },
      "text/plain": [
       "  0%|          | 0/2000 [00:00<?, ?it/s]"
      ]
     },
     "metadata": {},
     "output_type": "display_data"
    },
    {
     "name": "stdout",
     "output_type": "stream",
     "text": [
      "[I 2024-02-07 08:34:39,990] Trial 23 finished with value: 0.08583594113588333 and parameters: {'lr': 0.00023609100658187346, 'annealing_0': 0.15690032455569314, 'annealing_1': 0.2210256260253612}. Best is trial 23 with value: 0.08583594113588333.\n"
     ]
    },
    {
     "data": {
      "application/vnd.jupyter.widget-view+json": {
       "model_id": "2d3ff3098a7645efa46605f4d21eea54",
       "version_major": 2,
       "version_minor": 0
      },
      "text/plain": [
       "  0%|          | 0/2000 [00:00<?, ?it/s]"
      ]
     },
     "metadata": {},
     "output_type": "display_data"
    },
    {
     "name": "stdout",
     "output_type": "stream",
     "text": [
      "[I 2024-02-07 08:35:29,765] Trial 24 finished with value: 0.06343750655651093 and parameters: {'lr': 0.00010416495611837691, 'annealing_0': 0.1765113491390921, 'annealing_1': 0.21510380630146486}. Best is trial 23 with value: 0.08583594113588333.\n"
     ]
    },
    {
     "data": {
      "application/vnd.jupyter.widget-view+json": {
       "model_id": "8c21ba9875f845d9b932741e7485d4a4",
       "version_major": 2,
       "version_minor": 0
      },
      "text/plain": [
       "  0%|          | 0/2000 [00:00<?, ?it/s]"
      ]
     },
     "metadata": {},
     "output_type": "display_data"
    },
    {
     "name": "stdout",
     "output_type": "stream",
     "text": [
      "[I 2024-02-07 08:36:21,185] Trial 25 finished with value: 0.06264453381299973 and parameters: {'lr': 0.00015711868912607376, 'annealing_0': 0.22761163459727374, 'annealing_1': 0.28675514093148685}. Best is trial 23 with value: 0.08583594113588333.\n"
     ]
    },
    {
     "data": {
      "application/vnd.jupyter.widget-view+json": {
       "model_id": "18e39e0cf72546b89ec4ab225af9ed6f",
       "version_major": 2,
       "version_minor": 0
      },
      "text/plain": [
       "  0%|          | 0/2000 [00:00<?, ?it/s]"
      ]
     },
     "metadata": {},
     "output_type": "display_data"
    },
    {
     "name": "stdout",
     "output_type": "stream",
     "text": [
      "[I 2024-02-07 08:37:10,821] Trial 26 finished with value: 0.07950390875339508 and parameters: {'lr': 0.00024448104557761883, 'annealing_0': 0.1429047894815456, 'annealing_1': 0.3883336893557763}. Best is trial 23 with value: 0.08583594113588333.\n"
     ]
    },
    {
     "data": {
      "application/vnd.jupyter.widget-view+json": {
       "model_id": "562dd6ddf8eb44ef8a60d5f678c3cc3a",
       "version_major": 2,
       "version_minor": 0
      },
      "text/plain": [
       "  0%|          | 0/2000 [00:00<?, ?it/s]"
      ]
     },
     "metadata": {},
     "output_type": "display_data"
    },
    {
     "name": "stdout",
     "output_type": "stream",
     "text": [
      "[I 2024-02-07 08:37:59,524] Trial 27 finished with value: 0.03603124991059303 and parameters: {'lr': 0.00034415737043613624, 'annealing_0': 0.31082455184320035, 'annealing_1': 0.4294140716379446}. Best is trial 23 with value: 0.08583594113588333.\n"
     ]
    },
    {
     "data": {
      "application/vnd.jupyter.widget-view+json": {
       "model_id": "cfc4592e8bd641d493b2a81ca60915b7",
       "version_major": 2,
       "version_minor": 0
      },
      "text/plain": [
       "  0%|          | 0/2000 [00:00<?, ?it/s]"
      ]
     },
     "metadata": {},
     "output_type": "display_data"
    },
    {
     "name": "stdout",
     "output_type": "stream",
     "text": [
      "[I 2024-02-07 08:38:50,081] Trial 28 finished with value: 0.045689456164836884 and parameters: {'lr': 0.0006889313865711568, 'annealing_0': 0.193262025618618, 'annealing_1': 0.3872668099446277}. Best is trial 23 with value: 0.08583594113588333.\n"
     ]
    },
    {
     "data": {
      "application/vnd.jupyter.widget-view+json": {
       "model_id": "134c6fe4ccd047d0a13a1740210e9467",
       "version_major": 2,
       "version_minor": 0
      },
      "text/plain": [
       "  0%|          | 0/2000 [00:00<?, ?it/s]"
      ]
     },
     "metadata": {},
     "output_type": "display_data"
    },
    {
     "name": "stdout",
     "output_type": "stream",
     "text": [
      "[I 2024-02-07 08:39:38,357] Trial 29 finished with value: 0.05868750438094139 and parameters: {'lr': 0.0001670669192755458, 'annealing_0': 0.13622606281745347, 'annealing_1': 0.46146060923477267}. Best is trial 23 with value: 0.08583594113588333.\n"
     ]
    },
    {
     "data": {
      "application/vnd.jupyter.widget-view+json": {
       "model_id": "cf6674bf24814a6096e471dadacba2bd",
       "version_major": 2,
       "version_minor": 0
      },
      "text/plain": [
       "  0%|          | 0/2000 [00:00<?, ?it/s]"
      ]
     },
     "metadata": {},
     "output_type": "display_data"
    },
    {
     "name": "stdout",
     "output_type": "stream",
     "text": [
      "[I 2024-02-07 08:40:26,305] Trial 30 finished with value: 0.03902344033122063 and parameters: {'lr': 0.0004632859623207823, 'annealing_0': 0.17371190808198209, 'annealing_1': 0.3714191052678524}. Best is trial 23 with value: 0.08583594113588333.\n"
     ]
    },
    {
     "data": {
      "application/vnd.jupyter.widget-view+json": {
       "model_id": "7dc5922b48264c498758b9c65c332f8d",
       "version_major": 2,
       "version_minor": 0
      },
      "text/plain": [
       "  0%|          | 0/2000 [00:00<?, ?it/s]"
      ]
     },
     "metadata": {},
     "output_type": "display_data"
    },
    {
     "name": "stdout",
     "output_type": "stream",
     "text": [
      "[I 2024-02-07 08:41:15,933] Trial 31 finished with value: 0.0742167979478836 and parameters: {'lr': 0.0002462503286575508, 'annealing_0': 0.1404166181998867, 'annealing_1': 0.3284630000937117}. Best is trial 23 with value: 0.08583594113588333.\n"
     ]
    },
    {
     "data": {
      "application/vnd.jupyter.widget-view+json": {
       "model_id": "aeaac5822b7e4cb681f4544e25846dca",
       "version_major": 2,
       "version_minor": 0
      },
      "text/plain": [
       "  0%|          | 0/2000 [00:00<?, ?it/s]"
      ]
     },
     "metadata": {},
     "output_type": "display_data"
    },
    {
     "name": "stdout",
     "output_type": "stream",
     "text": [
      "[I 2024-02-07 08:42:05,549] Trial 32 finished with value: 0.08216406404972076 and parameters: {'lr': 0.00018855387494288919, 'annealing_0': 0.1536664346519212, 'annealing_1': 0.2863983161832358}. Best is trial 23 with value: 0.08583594113588333.\n"
     ]
    },
    {
     "data": {
      "application/vnd.jupyter.widget-view+json": {
       "model_id": "87d0c455a8d74e01a999d768ea7e0b4a",
       "version_major": 2,
       "version_minor": 0
      },
      "text/plain": [
       "  0%|          | 0/2000 [00:00<?, ?it/s]"
      ]
     },
     "metadata": {},
     "output_type": "display_data"
    },
    {
     "name": "stdout",
     "output_type": "stream",
     "text": [
      "[I 2024-02-07 08:42:56,142] Trial 33 finished with value: 0.06333008408546448 and parameters: {'lr': 0.00013782945676995038, 'annealing_0': 0.16355706181799892, 'annealing_1': 0.14231783815650742}. Best is trial 23 with value: 0.08583594113588333.\n"
     ]
    },
    {
     "data": {
      "application/vnd.jupyter.widget-view+json": {
       "model_id": "d364002c0815452ab83cee4b65d48491",
       "version_major": 2,
       "version_minor": 0
      },
      "text/plain": [
       "  0%|          | 0/2000 [00:00<?, ?it/s]"
      ]
     },
     "metadata": {},
     "output_type": "display_data"
    },
    {
     "name": "stdout",
     "output_type": "stream",
     "text": [
      "[I 2024-02-07 08:43:46,040] Trial 34 finished with value: 0.07395508140325546 and parameters: {'lr': 0.0001951649852012802, 'annealing_0': 0.10050418951240317, 'annealing_1': 0.2886150963425126}. Best is trial 23 with value: 0.08583594113588333.\n"
     ]
    },
    {
     "data": {
      "application/vnd.jupyter.widget-view+json": {
       "model_id": "1edba872cb73443f9a5b87e456c53cde",
       "version_major": 2,
       "version_minor": 0
      },
      "text/plain": [
       "  0%|          | 0/2000 [00:00<?, ?it/s]"
      ]
     },
     "metadata": {},
     "output_type": "display_data"
    },
    {
     "name": "stdout",
     "output_type": "stream",
     "text": [
      "[I 2024-02-07 08:44:36,611] Trial 35 finished with value: 0.02347656339406967 and parameters: {'lr': 0.0003054001343709218, 'annealing_0': 0.4624129332878527, 'annealing_1': 0.307119499408542}. Best is trial 23 with value: 0.08583594113588333.\n"
     ]
    },
    {
     "data": {
      "application/vnd.jupyter.widget-view+json": {
       "model_id": "3c015fc83b15493d8b9b81fa430fc07c",
       "version_major": 2,
       "version_minor": 0
      },
      "text/plain": [
       "  0%|          | 0/2000 [00:00<?, ?it/s]"
      ]
     },
     "metadata": {},
     "output_type": "display_data"
    },
    {
     "name": "stdout",
     "output_type": "stream",
     "text": [
      "[I 2024-02-07 08:45:26,837] Trial 36 finished with value: 0.034345705062150955 and parameters: {'lr': 0.0001934680149235412, 'annealing_0': 0.3721188337839988, 'annealing_1': 0.21008217894770992}. Best is trial 23 with value: 0.08583594113588333.\n"
     ]
    },
    {
     "data": {
      "application/vnd.jupyter.widget-view+json": {
       "model_id": "41033d44b91644a1a320064ad618c291",
       "version_major": 2,
       "version_minor": 0
      },
      "text/plain": [
       "  0%|          | 0/2000 [00:00<?, ?it/s]"
      ]
     },
     "metadata": {},
     "output_type": "display_data"
    },
    {
     "name": "stdout",
     "output_type": "stream",
     "text": [
      "[I 2024-02-07 08:46:16,726] Trial 37 finished with value: 0.058701176196336746 and parameters: {'lr': 0.00010838080730391202, 'annealing_0': 0.2592667791822975, 'annealing_1': 0.1440195911323206}. Best is trial 23 with value: 0.08583594113588333.\n"
     ]
    },
    {
     "data": {
      "application/vnd.jupyter.widget-view+json": {
       "model_id": "aac6fb625a1f4cb6b86c5b693d7a89a6",
       "version_major": 2,
       "version_minor": 0
      },
      "text/plain": [
       "  0%|          | 0/2000 [00:00<?, ?it/s]"
      ]
     },
     "metadata": {},
     "output_type": "display_data"
    },
    {
     "name": "stdout",
     "output_type": "stream",
     "text": [
      "[I 2024-02-07 08:47:08,261] Trial 38 finished with value: 0.03782226890325546 and parameters: {'lr': 0.0008458288983546692, 'annealing_0': 0.20574514952110406, 'annealing_1': 0.18959478386980488}. Best is trial 23 with value: 0.08583594113588333.\n"
     ]
    },
    {
     "data": {
      "application/vnd.jupyter.widget-view+json": {
       "model_id": "51e32a2da7c14b0e800c7383ed672e1f",
       "version_major": 2,
       "version_minor": 0
      },
      "text/plain": [
       "  0%|          | 0/2000 [00:00<?, ?it/s]"
      ]
     },
     "metadata": {},
     "output_type": "display_data"
    },
    {
     "name": "stdout",
     "output_type": "stream",
     "text": [
      "[I 2024-02-07 08:47:57,528] Trial 39 finished with value: 0.030478516593575478 and parameters: {'lr': 0.001352376176470509, 'annealing_0': 0.132276499112378, 'annealing_1': 0.2247168283833072}. Best is trial 23 with value: 0.08583594113588333.\n"
     ]
    },
    {
     "data": {
      "application/vnd.jupyter.widget-view+json": {
       "model_id": "00a7bb15e0cc4c9db78fb2b8b69016ff",
       "version_major": 2,
       "version_minor": 0
      },
      "text/plain": [
       "  0%|          | 0/2000 [00:00<?, ?it/s]"
      ]
     },
     "metadata": {},
     "output_type": "display_data"
    },
    {
     "name": "stdout",
     "output_type": "stream",
     "text": [
      "[I 2024-02-07 08:48:46,605] Trial 40 finished with value: 0.056470707058906555 and parameters: {'lr': 0.00014033703295310577, 'annealing_0': 0.29448457119017796, 'annealing_1': 0.18726500624637188}. Best is trial 23 with value: 0.08583594113588333.\n"
     ]
    },
    {
     "data": {
      "application/vnd.jupyter.widget-view+json": {
       "model_id": "ac8639047f3e4376be745f177ae0e464",
       "version_major": 2,
       "version_minor": 0
      },
      "text/plain": [
       "  0%|          | 0/2000 [00:00<?, ?it/s]"
      ]
     },
     "metadata": {},
     "output_type": "display_data"
    },
    {
     "name": "stdout",
     "output_type": "stream",
     "text": [
      "[I 2024-02-07 08:49:36,954] Trial 41 finished with value: 0.06516992300748825 and parameters: {'lr': 0.0002828700246868778, 'annealing_0': 0.18098447845906748, 'annealing_1': 0.28919610277804475}. Best is trial 23 with value: 0.08583594113588333.\n"
     ]
    },
    {
     "data": {
      "application/vnd.jupyter.widget-view+json": {
       "model_id": "e6d2fb372b1a41488d40d9f99348e229",
       "version_major": 2,
       "version_minor": 0
      },
      "text/plain": [
       "  0%|          | 0/2000 [00:00<?, ?it/s]"
      ]
     },
     "metadata": {},
     "output_type": "display_data"
    },
    {
     "name": "stdout",
     "output_type": "stream",
     "text": [
      "[I 2024-02-07 08:50:26,825] Trial 42 finished with value: 0.08351562917232513 and parameters: {'lr': 0.0002100820826760292, 'annealing_0': 0.15432114114932782, 'annealing_1': 0.2564359599812101}. Best is trial 23 with value: 0.08583594113588333.\n"
     ]
    },
    {
     "data": {
      "application/vnd.jupyter.widget-view+json": {
       "model_id": "71c2e498e0a048c9b3d7e14edd72cc7d",
       "version_major": 2,
       "version_minor": 0
      },
      "text/plain": [
       "  0%|          | 0/2000 [00:00<?, ?it/s]"
      ]
     },
     "metadata": {},
     "output_type": "display_data"
    },
    {
     "name": "stdout",
     "output_type": "stream",
     "text": [
      "[I 2024-02-07 08:51:16,693] Trial 43 finished with value: 0.07962890714406967 and parameters: {'lr': 0.0001930156961961634, 'annealing_0': 0.16129258117381068, 'annealing_1': 0.25244595583457}. Best is trial 23 with value: 0.08583594113588333.\n"
     ]
    },
    {
     "data": {
      "application/vnd.jupyter.widget-view+json": {
       "model_id": "0799c48132204790bcdf015d641cde07",
       "version_major": 2,
       "version_minor": 0
      },
      "text/plain": [
       "  0%|          | 0/2000 [00:00<?, ?it/s]"
      ]
     },
     "metadata": {},
     "output_type": "display_data"
    },
    {
     "name": "stdout",
     "output_type": "stream",
     "text": [
      "[I 2024-02-07 08:52:05,374] Trial 44 finished with value: 0.07195312529802322 and parameters: {'lr': 0.00016840264629362962, 'annealing_0': 0.122253052612953, 'annealing_1': 0.2575206729108699}. Best is trial 23 with value: 0.08583594113588333.\n"
     ]
    },
    {
     "data": {
      "application/vnd.jupyter.widget-view+json": {
       "model_id": "e43d6eb8f91d49498a17889821d9d711",
       "version_major": 2,
       "version_minor": 0
      },
      "text/plain": [
       "  0%|          | 0/2000 [00:00<?, ?it/s]"
      ]
     },
     "metadata": {},
     "output_type": "display_data"
    },
    {
     "name": "stdout",
     "output_type": "stream",
     "text": [
      "[I 2024-02-07 08:52:56,715] Trial 45 finished with value: 0.060166019946336746 and parameters: {'lr': 0.00040054956462842105, 'annealing_0': 0.16641095060411826, 'annealing_1': 0.24474102906504208}. Best is trial 23 with value: 0.08583594113588333.\n"
     ]
    },
    {
     "data": {
      "application/vnd.jupyter.widget-view+json": {
       "model_id": "488c4c20dbb14242b5dc9e26f0f42a76",
       "version_major": 2,
       "version_minor": 0
      },
      "text/plain": [
       "  0%|          | 0/2000 [00:00<?, ?it/s]"
      ]
     },
     "metadata": {},
     "output_type": "display_data"
    },
    {
     "name": "stdout",
     "output_type": "stream",
     "text": [
      "[I 2024-02-07 08:53:45,172] Trial 46 finished with value: 0.07916992902755737 and parameters: {'lr': 0.00019309332319468402, 'annealing_0': 0.19334241018303588, 'annealing_1': 0.1655086738998785}. Best is trial 23 with value: 0.08583594113588333.\n"
     ]
    },
    {
     "data": {
      "application/vnd.jupyter.widget-view+json": {
       "model_id": "f6bf4d6a7d434bcfa383cc5252ba3885",
       "version_major": 2,
       "version_minor": 0
      },
      "text/plain": [
       "  0%|          | 0/2000 [00:00<?, ?it/s]"
      ]
     },
     "metadata": {},
     "output_type": "display_data"
    },
    {
     "name": "stdout",
     "output_type": "stream",
     "text": [
      "[I 2024-02-07 08:54:34,729] Trial 47 finished with value: 0.05791992321610451 and parameters: {'lr': 0.00012422284542690674, 'annealing_0': 0.23755826641825478, 'annealing_1': 0.2763264597201524}. Best is trial 23 with value: 0.08583594113588333.\n"
     ]
    },
    {
     "data": {
      "application/vnd.jupyter.widget-view+json": {
       "model_id": "20eb0067a8984016bb5e830f7d09d042",
       "version_major": 2,
       "version_minor": 0
      },
      "text/plain": [
       "  0%|          | 0/2000 [00:00<?, ?it/s]"
      ]
     },
     "metadata": {},
     "output_type": "display_data"
    },
    {
     "name": "stdout",
     "output_type": "stream",
     "text": [
      "[I 2024-02-07 08:55:24,417] Trial 48 finished with value: 0.04899023845791817 and parameters: {'lr': 0.00031545884895402444, 'annealing_0': 0.11551794429359166, 'annealing_1': 0.30587613234205896}. Best is trial 23 with value: 0.08583594113588333.\n"
     ]
    },
    {
     "data": {
      "application/vnd.jupyter.widget-view+json": {
       "model_id": "9ba5aadd90ce49f8890809ead6f925e0",
       "version_major": 2,
       "version_minor": 0
      },
      "text/plain": [
       "  0%|          | 0/2000 [00:00<?, ?it/s]"
      ]
     },
     "metadata": {},
     "output_type": "display_data"
    },
    {
     "name": "stdout",
     "output_type": "stream",
     "text": [
      "[I 2024-02-07 08:56:13,693] Trial 49 finished with value: 0.06978711485862732 and parameters: {'lr': 0.0001988131190304722, 'annealing_0': 0.21277752248160764, 'annealing_1': 0.2245784784533819}. Best is trial 23 with value: 0.08583594113588333.\n"
     ]
    },
    {
     "data": {
      "application/vnd.jupyter.widget-view+json": {
       "model_id": "7e0a3dcae76f49f5bd544f9593a62658",
       "version_major": 2,
       "version_minor": 0
      },
      "text/plain": [
       "  0%|          | 0/2000 [00:00<?, ?it/s]"
      ]
     },
     "metadata": {},
     "output_type": "display_data"
    },
    {
     "name": "stdout",
     "output_type": "stream",
     "text": [
      "[I 2024-02-07 08:57:05,893] Trial 50 finished with value: 0.03461914137005806 and parameters: {'lr': 0.00044947409436528783, 'annealing_0': 0.1606781373111008, 'annealing_1': 0.20025879306982866}. Best is trial 23 with value: 0.08583594113588333.\n"
     ]
    },
    {
     "data": {
      "application/vnd.jupyter.widget-view+json": {
       "model_id": "bb8c60ed59f543df89b55423e90de4f5",
       "version_major": 2,
       "version_minor": 0
      },
      "text/plain": [
       "  0%|          | 0/2000 [00:00<?, ?it/s]"
      ]
     },
     "metadata": {},
     "output_type": "display_data"
    },
    {
     "name": "stdout",
     "output_type": "stream",
     "text": [
      "[I 2024-02-07 08:57:56,453] Trial 51 finished with value: 0.04330078512430191 and parameters: {'lr': 0.004586779110466445, 'annealing_0': 0.1413453809092906, 'annealing_1': 0.2511037132373468}. Best is trial 23 with value: 0.08583594113588333.\n"
     ]
    },
    {
     "data": {
      "application/vnd.jupyter.widget-view+json": {
       "model_id": "fd4abddb89864c398358fe4181d751c3",
       "version_major": 2,
       "version_minor": 0
      },
      "text/plain": [
       "  0%|          | 0/2000 [00:00<?, ?it/s]"
      ]
     },
     "metadata": {},
     "output_type": "display_data"
    },
    {
     "name": "stdout",
     "output_type": "stream",
     "text": [
      "[I 2024-02-07 08:58:46,036] Trial 52 finished with value: 0.07067383080720901 and parameters: {'lr': 0.0002204364258189864, 'annealing_0': 0.12265390790087276, 'annealing_1': 0.22346053123210502}. Best is trial 23 with value: 0.08583594113588333.\n"
     ]
    },
    {
     "data": {
      "application/vnd.jupyter.widget-view+json": {
       "model_id": "0b0f847c78834f92899a62af535580b4",
       "version_major": 2,
       "version_minor": 0
      },
      "text/plain": [
       "  0%|          | 0/2000 [00:00<?, ?it/s]"
      ]
     },
     "metadata": {},
     "output_type": "display_data"
    },
    {
     "name": "stdout",
     "output_type": "stream",
     "text": [
      "[I 2024-02-07 08:59:36,049] Trial 53 finished with value: 0.06256835907697678 and parameters: {'lr': 0.0002780787936795626, 'annealing_0': 0.18966181310225957, 'annealing_1': 0.2776563594562687}. Best is trial 23 with value: 0.08583594113588333.\n"
     ]
    },
    {
     "data": {
      "application/vnd.jupyter.widget-view+json": {
       "model_id": "331c1e10b1694e16bd3922d9968d3e89",
       "version_major": 2,
       "version_minor": 0
      },
      "text/plain": [
       "  0%|          | 0/2000 [00:00<?, ?it/s]"
      ]
     },
     "metadata": {},
     "output_type": "display_data"
    },
    {
     "name": "stdout",
     "output_type": "stream",
     "text": [
      "[I 2024-02-07 09:00:25,689] Trial 54 finished with value: 0.07135742157697678 and parameters: {'lr': 0.00014731044504043218, 'annealing_0': 0.1537152257611283, 'annealing_1': 0.3235268118545418}. Best is trial 23 with value: 0.08583594113588333.\n"
     ]
    },
    {
     "data": {
      "application/vnd.jupyter.widget-view+json": {
       "model_id": "62919286a3484733812172159f34203a",
       "version_major": 2,
       "version_minor": 0
      },
      "text/plain": [
       "  0%|          | 0/2000 [00:00<?, ?it/s]"
      ]
     },
     "metadata": {},
     "output_type": "display_data"
    },
    {
     "name": "stdout",
     "output_type": "stream",
     "text": [
      "[I 2024-02-07 09:01:17,028] Trial 55 finished with value: 0.046845704317092896 and parameters: {'lr': 0.0006050332073376808, 'annealing_0': 0.17454752207379637, 'annealing_1': 0.23490154912909247}. Best is trial 23 with value: 0.08583594113588333.\n"
     ]
    },
    {
     "data": {
      "application/vnd.jupyter.widget-view+json": {
       "model_id": "66862d61512e4a62b2ac569daa50ff4d",
       "version_major": 2,
       "version_minor": 0
      },
      "text/plain": [
       "  0%|          | 0/2000 [00:00<?, ?it/s]"
      ]
     },
     "metadata": {},
     "output_type": "display_data"
    },
    {
     "name": "stdout",
     "output_type": "stream",
     "text": [
      "[I 2024-02-07 09:02:08,240] Trial 56 finished with value: 0.06256835907697678 and parameters: {'lr': 0.00035326334794199855, 'annealing_0': 0.10686642781341692, 'annealing_1': 0.2564519910924491}. Best is trial 23 with value: 0.08583594113588333.\n"
     ]
    },
    {
     "data": {
      "application/vnd.jupyter.widget-view+json": {
       "model_id": "9b23ba49be6e4b59b29b4ab8b429ba38",
       "version_major": 2,
       "version_minor": 0
      },
      "text/plain": [
       "  0%|          | 0/2000 [00:00<?, ?it/s]"
      ]
     },
     "metadata": {},
     "output_type": "display_data"
    },
    {
     "name": "stdout",
     "output_type": "stream",
     "text": [
      "[I 2024-02-07 09:02:56,769] Trial 57 finished with value: 0.060468751937150955 and parameters: {'lr': 0.00011918796488966835, 'annealing_0': 0.1487703092933141, 'annealing_1': 0.17591348102232712}. Best is trial 23 with value: 0.08583594113588333.\n"
     ]
    },
    {
     "data": {
      "application/vnd.jupyter.widget-view+json": {
       "model_id": "2c1288ffe4e044cf887a0cf65f6bafe1",
       "version_major": 2,
       "version_minor": 0
      },
      "text/plain": [
       "  0%|          | 0/2000 [00:00<?, ?it/s]"
      ]
     },
     "metadata": {},
     "output_type": "display_data"
    },
    {
     "name": "stdout",
     "output_type": "stream",
     "text": [
      "[I 2024-02-07 09:03:45,191] Trial 58 finished with value: 0.05458984524011612 and parameters: {'lr': 0.00025394820054855356, 'annealing_0': 0.22209731272697913, 'annealing_1': 0.3623323880975131}. Best is trial 23 with value: 0.08583594113588333.\n"
     ]
    },
    {
     "data": {
      "application/vnd.jupyter.widget-view+json": {
       "model_id": "5a8928b174b34bac912f96b183e10c7c",
       "version_major": 2,
       "version_minor": 0
      },
      "text/plain": [
       "  0%|          | 0/2000 [00:00<?, ?it/s]"
      ]
     },
     "metadata": {},
     "output_type": "display_data"
    },
    {
     "name": "stdout",
     "output_type": "stream",
     "text": [
      "[I 2024-02-07 09:04:34,480] Trial 59 finished with value: 0.07247070968151093 and parameters: {'lr': 0.00018041671305338465, 'annealing_0': 0.12966022941051897, 'annealing_1': 0.29970200028284605}. Best is trial 23 with value: 0.08583594113588333.\n"
     ]
    },
    {
     "data": {
      "application/vnd.jupyter.widget-view+json": {
       "model_id": "82354a314ad74048aaddb60786a8e352",
       "version_major": 2,
       "version_minor": 0
      },
      "text/plain": [
       "  0%|          | 0/2000 [00:00<?, ?it/s]"
      ]
     },
     "metadata": {},
     "output_type": "display_data"
    },
    {
     "name": "stdout",
     "output_type": "stream",
     "text": [
      "[I 2024-02-07 09:05:24,397] Trial 60 finished with value: 0.028085939586162567 and parameters: {'lr': 0.0002179061546070763, 'annealing_0': 0.4108132421242724, 'annealing_1': 0.3438435162913829}. Best is trial 23 with value: 0.08583594113588333.\n"
     ]
    },
    {
     "data": {
      "application/vnd.jupyter.widget-view+json": {
       "model_id": "7ae2230f39ca4ca1bb24220ba22fe21c",
       "version_major": 2,
       "version_minor": 0
      },
      "text/plain": [
       "  0%|          | 0/2000 [00:00<?, ?it/s]"
      ]
     },
     "metadata": {},
     "output_type": "display_data"
    },
    {
     "name": "stdout",
     "output_type": "stream",
     "text": [
      "[I 2024-02-07 09:06:12,760] Trial 61 finished with value: 0.08748828619718552 and parameters: {'lr': 0.0002279767933365725, 'annealing_0': 0.1489937365315999, 'annealing_1': 0.2718963097032579}. Best is trial 61 with value: 0.08748828619718552.\n"
     ]
    },
    {
     "data": {
      "application/vnd.jupyter.widget-view+json": {
       "model_id": "1b1bb37db98a4d8aa984ae50591a4b4e",
       "version_major": 2,
       "version_minor": 0
      },
      "text/plain": [
       "  0%|          | 0/2000 [00:00<?, ?it/s]"
      ]
     },
     "metadata": {},
     "output_type": "display_data"
    },
    {
     "name": "stdout",
     "output_type": "stream",
     "text": [
      "[I 2024-02-07 09:07:01,653] Trial 62 finished with value: 0.043125003576278687 and parameters: {'lr': 0.0003808373702473132, 'annealing_0': 0.20393248916530032, 'annealing_1': 0.2721203420261142}. Best is trial 61 with value: 0.08748828619718552.\n"
     ]
    },
    {
     "data": {
      "application/vnd.jupyter.widget-view+json": {
       "model_id": "82469c6bb118418781e93ced7988fcd0",
       "version_major": 2,
       "version_minor": 0
      },
      "text/plain": [
       "  0%|          | 0/2000 [00:00<?, ?it/s]"
      ]
     },
     "metadata": {},
     "output_type": "display_data"
    },
    {
     "name": "stdout",
     "output_type": "stream",
     "text": [
      "[I 2024-02-07 09:07:51,401] Trial 63 finished with value: 0.0742773488163948 and parameters: {'lr': 0.00015456455574024207, 'annealing_0': 0.158804482709615, 'annealing_1': 0.23139792816306085}. Best is trial 61 with value: 0.08748828619718552.\n"
     ]
    },
    {
     "data": {
      "application/vnd.jupyter.widget-view+json": {
       "model_id": "ad795d52ab824f7a89a6994f93e4e15e",
       "version_major": 2,
       "version_minor": 0
      },
      "text/plain": [
       "  0%|          | 0/2000 [00:00<?, ?it/s]"
      ]
     },
     "metadata": {},
     "output_type": "display_data"
    },
    {
     "name": "stdout",
     "output_type": "stream",
     "text": [
      "[I 2024-02-07 09:08:40,496] Trial 64 finished with value: 0.07362305372953415 and parameters: {'lr': 0.0003057558894183804, 'annealing_0': 0.180083876732028, 'annealing_1': 0.24711750271702285}. Best is trial 61 with value: 0.08748828619718552.\n"
     ]
    },
    {
     "data": {
      "application/vnd.jupyter.widget-view+json": {
       "model_id": "f8e4356677504e1fba84311acd3c2853",
       "version_major": 2,
       "version_minor": 0
      },
      "text/plain": [
       "  0%|          | 0/2000 [00:00<?, ?it/s]"
      ]
     },
     "metadata": {},
     "output_type": "display_data"
    },
    {
     "name": "stdout",
     "output_type": "stream",
     "text": [
      "[I 2024-02-07 09:09:31,908] Trial 65 finished with value: 0.03959961235523224 and parameters: {'lr': 0.0004948351319251554, 'annealing_0': 0.13678256101062136, 'annealing_1': 0.39642121413973375}. Best is trial 61 with value: 0.08748828619718552.\n"
     ]
    },
    {
     "data": {
      "application/vnd.jupyter.widget-view+json": {
       "model_id": "a308347483174aee96112aa49437b837",
       "version_major": 2,
       "version_minor": 0
      },
      "text/plain": [
       "  0%|          | 0/2000 [00:00<?, ?it/s]"
      ]
     },
     "metadata": {},
     "output_type": "display_data"
    },
    {
     "name": "stdout",
     "output_type": "stream",
     "text": [
      "[I 2024-02-07 09:10:20,150] Trial 66 finished with value: 0.05454101786017418 and parameters: {'lr': 0.00022803965108766257, 'annealing_0': 0.11538982001901729, 'annealing_1': 0.4350119856376464}. Best is trial 61 with value: 0.08748828619718552.\n"
     ]
    },
    {
     "data": {
      "application/vnd.jupyter.widget-view+json": {
       "model_id": "d722485322a64e229bd6727645397b4b",
       "version_major": 2,
       "version_minor": 0
      },
      "text/plain": [
       "  0%|          | 0/2000 [00:00<?, ?it/s]"
      ]
     },
     "metadata": {},
     "output_type": "display_data"
    },
    {
     "name": "stdout",
     "output_type": "stream",
     "text": [
      "[I 2024-02-07 09:11:10,853] Trial 67 finished with value: 0.0805371105670929 and parameters: {'lr': 0.0001342752447837551, 'annealing_0': 0.14838355119395866, 'annealing_1': 0.2032661549350292}. Best is trial 61 with value: 0.08748828619718552.\n"
     ]
    },
    {
     "data": {
      "application/vnd.jupyter.widget-view+json": {
       "model_id": "115ff53e4e624aab8cabb86b9c4183bf",
       "version_major": 2,
       "version_minor": 0
      },
      "text/plain": [
       "  0%|          | 0/2000 [00:00<?, ?it/s]"
      ]
     },
     "metadata": {},
     "output_type": "display_data"
    },
    {
     "name": "stdout",
     "output_type": "stream",
     "text": [
      "[I 2024-02-07 09:11:59,120] Trial 68 finished with value: 0.06441015750169754 and parameters: {'lr': 0.00013221260997402535, 'annealing_0': 0.17142142886420822, 'annealing_1': 0.20740398851034209}. Best is trial 61 with value: 0.08748828619718552.\n"
     ]
    },
    {
     "data": {
      "application/vnd.jupyter.widget-view+json": {
       "model_id": "de79c8c93c9c42f786ffa3435eda7cf1",
       "version_major": 2,
       "version_minor": 0
      },
      "text/plain": [
       "  0%|          | 0/2000 [00:00<?, ?it/s]"
      ]
     },
     "metadata": {},
     "output_type": "display_data"
    },
    {
     "name": "stdout",
     "output_type": "stream",
     "text": [
      "[I 2024-02-07 09:12:49,009] Trial 69 finished with value: 0.07881640642881393 and parameters: {'lr': 0.00010043147778955208, 'annealing_0': 0.1556552646240172, 'annealing_1': 0.2003452340237276}. Best is trial 61 with value: 0.08748828619718552.\n"
     ]
    },
    {
     "data": {
      "application/vnd.jupyter.widget-view+json": {
       "model_id": "824301704019416485c37278a12a8e0e",
       "version_major": 2,
       "version_minor": 0
      },
      "text/plain": [
       "  0%|          | 0/2000 [00:00<?, ?it/s]"
      ]
     },
     "metadata": {},
     "output_type": "display_data"
    },
    {
     "name": "stdout",
     "output_type": "stream",
     "text": [
      "[I 2024-02-07 09:13:37,821] Trial 70 finished with value: 0.08806641399860382 and parameters: {'lr': 0.0001664043851835694, 'annealing_0': 0.12965551624583602, 'annealing_1': 0.2616188996604494}. Best is trial 70 with value: 0.08806641399860382.\n"
     ]
    },
    {
     "data": {
      "application/vnd.jupyter.widget-view+json": {
       "model_id": "f0263e93693346308ecf9c4226b68578",
       "version_major": 2,
       "version_minor": 0
      },
      "text/plain": [
       "  0%|          | 0/2000 [00:00<?, ?it/s]"
      ]
     },
     "metadata": {},
     "output_type": "display_data"
    },
    {
     "name": "stdout",
     "output_type": "stream",
     "text": [
      "[I 2024-02-07 09:14:29,008] Trial 71 finished with value: 0.08089453727006912 and parameters: {'lr': 0.00017665037126832507, 'annealing_0': 0.12881681064039877, 'annealing_1': 0.2654113095422516}. Best is trial 70 with value: 0.08806641399860382.\n"
     ]
    },
    {
     "data": {
      "application/vnd.jupyter.widget-view+json": {
       "model_id": "5ea23ce55ec64b22989d056b40b15f50",
       "version_major": 2,
       "version_minor": 0
      },
      "text/plain": [
       "  0%|          | 0/2000 [00:00<?, ?it/s]"
      ]
     },
     "metadata": {},
     "output_type": "display_data"
    },
    {
     "name": "stdout",
     "output_type": "stream",
     "text": [
      "[I 2024-02-07 09:15:19,497] Trial 72 finished with value: 0.08250977098941803 and parameters: {'lr': 0.00016689194074731, 'annealing_0': 0.12745972964180935, 'annealing_1': 0.2947095145875978}. Best is trial 70 with value: 0.08806641399860382.\n"
     ]
    },
    {
     "data": {
      "application/vnd.jupyter.widget-view+json": {
       "model_id": "49b0773c84694eb89c3ef27a9a9e1679",
       "version_major": 2,
       "version_minor": 0
      },
      "text/plain": [
       "  0%|          | 0/2000 [00:00<?, ?it/s]"
      ]
     },
     "metadata": {},
     "output_type": "display_data"
    },
    {
     "name": "stdout",
     "output_type": "stream",
     "text": [
      "[I 2024-02-07 09:16:08,738] Trial 73 finished with value: 0.06722656637430191 and parameters: {'lr': 0.00027112555438779185, 'annealing_0': 0.10006212448082502, 'annealing_1': 0.29372029725470034}. Best is trial 70 with value: 0.08806641399860382.\n"
     ]
    },
    {
     "data": {
      "application/vnd.jupyter.widget-view+json": {
       "model_id": "bd5469d3d9cb452cb29d367988ebbec0",
       "version_major": 2,
       "version_minor": 0
      },
      "text/plain": [
       "  0%|          | 0/2000 [00:00<?, ?it/s]"
      ]
     },
     "metadata": {},
     "output_type": "display_data"
    },
    {
     "name": "stdout",
     "output_type": "stream",
     "text": [
      "[I 2024-02-07 09:16:59,020] Trial 74 finished with value: 0.07762304693460464 and parameters: {'lr': 0.00016282926290143502, 'annealing_0': 0.12967365132718583, 'annealing_1': 0.3119103741118352}. Best is trial 70 with value: 0.08806641399860382.\n"
     ]
    },
    {
     "data": {
      "application/vnd.jupyter.widget-view+json": {
       "model_id": "33cd028ef78142f78dc215b5e44a434d",
       "version_major": 2,
       "version_minor": 0
      },
      "text/plain": [
       "  0%|          | 0/2000 [00:00<?, ?it/s]"
      ]
     },
     "metadata": {},
     "output_type": "display_data"
    },
    {
     "name": "stdout",
     "output_type": "stream",
     "text": [
      "[I 2024-02-07 09:17:47,792] Trial 75 finished with value: 0.03729492425918579 and parameters: {'lr': 0.0024850536285555085, 'annealing_0': 0.11591298886521337, 'annealing_1': 0.28051785702823184}. Best is trial 70 with value: 0.08806641399860382.\n"
     ]
    },
    {
     "data": {
      "application/vnd.jupyter.widget-view+json": {
       "model_id": "5ea59f5f978c45fda89218fb3458689e",
       "version_major": 2,
       "version_minor": 0
      },
      "text/plain": [
       "  0%|          | 0/2000 [00:00<?, ?it/s]"
      ]
     },
     "metadata": {},
     "output_type": "display_data"
    },
    {
     "name": "stdout",
     "output_type": "stream",
     "text": [
      "[I 2024-02-07 09:18:39,549] Trial 76 finished with value: 0.07366210967302322 and parameters: {'lr': 0.00011754239108666503, 'annealing_0': 0.12705908544225178, 'annealing_1': 0.26476193451873054}. Best is trial 70 with value: 0.08806641399860382.\n"
     ]
    },
    {
     "data": {
      "application/vnd.jupyter.widget-view+json": {
       "model_id": "63f9917a7eb34df1b7316a97e89dd54c",
       "version_major": 2,
       "version_minor": 0
      },
      "text/plain": [
       "  0%|          | 0/2000 [00:00<?, ?it/s]"
      ]
     },
     "metadata": {},
     "output_type": "display_data"
    },
    {
     "name": "stdout",
     "output_type": "stream",
     "text": [
      "[I 2024-02-07 09:19:27,757] Trial 77 finished with value: 0.07270703464746475 and parameters: {'lr': 0.00017222423108474976, 'annealing_0': 0.13740527716660889, 'annealing_1': 0.3360234725320746}. Best is trial 70 with value: 0.08806641399860382.\n"
     ]
    },
    {
     "data": {
      "application/vnd.jupyter.widget-view+json": {
       "model_id": "8c9d65883ffe42eb8c58ee0a4324d144",
       "version_major": 2,
       "version_minor": 0
      },
      "text/plain": [
       "  0%|          | 0/2000 [00:00<?, ?it/s]"
      ]
     },
     "metadata": {},
     "output_type": "display_data"
    },
    {
     "name": "stdout",
     "output_type": "stream",
     "text": [
      "[I 2024-02-07 09:20:17,105] Trial 78 finished with value: 0.04365234449505806 and parameters: {'lr': 0.00014764517851110996, 'annealing_0': 0.34175468686397337, 'annealing_1': 0.262371674412841}. Best is trial 70 with value: 0.08806641399860382.\n"
     ]
    },
    {
     "data": {
      "application/vnd.jupyter.widget-view+json": {
       "model_id": "d3403a39d96a4a43ab39280cad61879b",
       "version_major": 2,
       "version_minor": 0
      },
      "text/plain": [
       "  0%|          | 0/2000 [00:00<?, ?it/s]"
      ]
     },
     "metadata": {},
     "output_type": "display_data"
    },
    {
     "name": "stdout",
     "output_type": "stream",
     "text": [
      "[I 2024-02-07 09:21:05,558] Trial 79 finished with value: 0.07252148538827896 and parameters: {'lr': 0.00022238649343329385, 'annealing_0': 0.1843966305539428, 'annealing_1': 0.28617026342097696}. Best is trial 70 with value: 0.08806641399860382.\n"
     ]
    },
    {
     "data": {
      "application/vnd.jupyter.widget-view+json": {
       "model_id": "aea1fdbe44444d41af1bf1f75bc49089",
       "version_major": 2,
       "version_minor": 0
      },
      "text/plain": [
       "  0%|          | 0/2000 [00:00<?, ?it/s]"
      ]
     },
     "metadata": {},
     "output_type": "display_data"
    },
    {
     "name": "stdout",
     "output_type": "stream",
     "text": [
      "[I 2024-02-07 09:21:55,720] Trial 80 finished with value: 0.07966797053813934 and parameters: {'lr': 0.00017934360126012477, 'annealing_0': 0.10988261835450017, 'annealing_1': 0.3190928414926526}. Best is trial 70 with value: 0.08806641399860382.\n"
     ]
    },
    {
     "data": {
      "application/vnd.jupyter.widget-view+json": {
       "model_id": "1a670f3605534c0d9a46b7f1cba5a19b",
       "version_major": 2,
       "version_minor": 0
      },
      "text/plain": [
       "  0%|          | 0/2000 [00:00<?, ?it/s]"
      ]
     },
     "metadata": {},
     "output_type": "display_data"
    },
    {
     "name": "stdout",
     "output_type": "stream",
     "text": [
      "[I 2024-02-07 09:22:47,253] Trial 81 finished with value: 0.08470703661441803 and parameters: {'lr': 0.00013719890058490184, 'annealing_0': 0.150515783288893, 'annealing_1': 0.21696189192854837}. Best is trial 70 with value: 0.08806641399860382.\n"
     ]
    },
    {
     "data": {
      "application/vnd.jupyter.widget-view+json": {
       "model_id": "25a04bc1f42e4bc0a5d9ad9122420b04",
       "version_major": 2,
       "version_minor": 0
      },
      "text/plain": [
       "  0%|          | 0/2000 [00:00<?, ?it/s]"
      ]
     },
     "metadata": {},
     "output_type": "display_data"
    },
    {
     "name": "stdout",
     "output_type": "stream",
     "text": [
      "[I 2024-02-07 09:23:38,887] Trial 82 finished with value: 0.0741894543170929 and parameters: {'lr': 0.0002051039437858039, 'annealing_0': 0.1466570256048747, 'annealing_1': 0.2200657082114056}. Best is trial 70 with value: 0.08806641399860382.\n"
     ]
    },
    {
     "data": {
      "application/vnd.jupyter.widget-view+json": {
       "model_id": "781f3900e1644958902bfe611b6211e7",
       "version_major": 2,
       "version_minor": 0
      },
      "text/plain": [
       "  0%|          | 0/2000 [00:00<?, ?it/s]"
      ]
     },
     "metadata": {},
     "output_type": "display_data"
    },
    {
     "name": "stdout",
     "output_type": "stream",
     "text": [
      "[I 2024-02-07 09:24:33,362] Trial 83 finished with value: 0.06169922277331352 and parameters: {'lr': 0.00011313062017335257, 'annealing_0': 0.1701035411393199, 'annealing_1': 0.24131753691709232}. Best is trial 70 with value: 0.08806641399860382.\n"
     ]
    },
    {
     "data": {
      "application/vnd.jupyter.widget-view+json": {
       "model_id": "3faa1275510545b893990cda9b2d96db",
       "version_major": 2,
       "version_minor": 0
      },
      "text/plain": [
       "  0%|          | 0/2000 [00:00<?, ?it/s]"
      ]
     },
     "metadata": {},
     "output_type": "display_data"
    },
    {
     "name": "stdout",
     "output_type": "stream",
     "text": [
      "[I 2024-02-07 09:25:22,238] Trial 84 finished with value: 0.07192382961511612 and parameters: {'lr': 0.00024806493442215206, 'annealing_0': 0.1216929841150477, 'annealing_1': 0.27055335267826436}. Best is trial 70 with value: 0.08806641399860382.\n"
     ]
    },
    {
     "data": {
      "application/vnd.jupyter.widget-view+json": {
       "model_id": "b09595f574034aebb61987ef16e4a57e",
       "version_major": 2,
       "version_minor": 0
      },
      "text/plain": [
       "  0%|          | 0/2000 [00:00<?, ?it/s]"
      ]
     },
     "metadata": {},
     "output_type": "display_data"
    },
    {
     "name": "stdout",
     "output_type": "stream",
     "text": [
      "[I 2024-02-07 09:26:13,982] Trial 85 finished with value: 0.08040039241313934 and parameters: {'lr': 0.00015569715717065474, 'annealing_0': 0.137380845718831, 'annealing_1': 0.23315499712256935}. Best is trial 70 with value: 0.08806641399860382.\n"
     ]
    },
    {
     "data": {
      "application/vnd.jupyter.widget-view+json": {
       "model_id": "1f341ae05f35474793264f048cded454",
       "version_major": 2,
       "version_minor": 0
      },
      "text/plain": [
       "  0%|          | 0/2000 [00:00<?, ?it/s]"
      ]
     },
     "metadata": {},
     "output_type": "display_data"
    },
    {
     "name": "stdout",
     "output_type": "stream",
     "text": [
      "[I 2024-02-07 09:27:02,437] Trial 86 finished with value: 0.07517578452825546 and parameters: {'lr': 0.00013206096823711812, 'annealing_0': 0.15282002014551718, 'annealing_1': 0.2957359951789238}. Best is trial 70 with value: 0.08806641399860382.\n"
     ]
    },
    {
     "data": {
      "application/vnd.jupyter.widget-view+json": {
       "model_id": "3239b96f5dcd46deb92feddd711970d5",
       "version_major": 2,
       "version_minor": 0
      },
      "text/plain": [
       "  0%|          | 0/2000 [00:00<?, ?it/s]"
      ]
     },
     "metadata": {},
     "output_type": "display_data"
    },
    {
     "name": "stdout",
     "output_type": "stream",
     "text": [
      "[I 2024-02-07 09:27:52,290] Trial 87 finished with value: 0.08240820467472076 and parameters: {'lr': 0.0001770574526532259, 'annealing_0': 0.1679596363799442, 'annealing_1': 0.25203715314716013}. Best is trial 70 with value: 0.08806641399860382.\n"
     ]
    },
    {
     "data": {
      "application/vnd.jupyter.widget-view+json": {
       "model_id": "9b8ee99b01d14a8c9a09a38100ded74c",
       "version_major": 2,
       "version_minor": 0
      },
      "text/plain": [
       "  0%|          | 0/2000 [00:00<?, ?it/s]"
      ]
     },
     "metadata": {},
     "output_type": "display_data"
    },
    {
     "name": "stdout",
     "output_type": "stream",
     "text": [
      "[I 2024-02-07 09:28:42,901] Trial 88 finished with value: 0.05697266012430191 and parameters: {'lr': 0.0003155148738248756, 'annealing_0': 0.16464725331399147, 'annealing_1': 0.21169628753639283}. Best is trial 70 with value: 0.08806641399860382.\n"
     ]
    },
    {
     "data": {
      "application/vnd.jupyter.widget-view+json": {
       "model_id": "34c0debc7f3b48e6b265055ad4e44853",
       "version_major": 2,
       "version_minor": 0
      },
      "text/plain": [
       "  0%|          | 0/2000 [00:00<?, ?it/s]"
      ]
     },
     "metadata": {},
     "output_type": "display_data"
    },
    {
     "name": "stdout",
     "output_type": "stream",
     "text": [
      "[I 2024-02-07 09:29:33,154] Trial 89 finished with value: 0.01704101637005806 and parameters: {'lr': 0.0002053965871004505, 'annealing_0': 0.4935431752679027, 'annealing_1': 0.24851562178538375}. Best is trial 70 with value: 0.08806641399860382.\n"
     ]
    },
    {
     "data": {
      "application/vnd.jupyter.widget-view+json": {
       "model_id": "3be559bd6ecf48e2a673414725b28878",
       "version_major": 2,
       "version_minor": 0
      },
      "text/plain": [
       "  0%|          | 0/2000 [00:00<?, ?it/s]"
      ]
     },
     "metadata": {},
     "output_type": "display_data"
    },
    {
     "name": "stdout",
     "output_type": "stream",
     "text": [
      "[I 2024-02-07 09:30:22,876] Trial 90 finished with value: 0.035087890923023224 and parameters: {'lr': 0.0013184380918502426, 'annealing_0': 0.18566208253016483, 'annealing_1': 0.18242552662004058}. Best is trial 70 with value: 0.08806641399860382.\n"
     ]
    },
    {
     "data": {
      "application/vnd.jupyter.widget-view+json": {
       "model_id": "02b5bae1bca0426295a81b868810e306",
       "version_major": 2,
       "version_minor": 0
      },
      "text/plain": [
       "  0%|          | 0/2000 [00:00<?, ?it/s]"
      ]
     },
     "metadata": {},
     "output_type": "display_data"
    },
    {
     "name": "stdout",
     "output_type": "stream",
     "text": [
      "[I 2024-02-07 09:31:11,874] Trial 91 finished with value: 0.06736718863248825 and parameters: {'lr': 0.00018049311937581866, 'annealing_0': 0.14164072651501092, 'annealing_1': 0.2612828053454097}. Best is trial 70 with value: 0.08806641399860382.\n"
     ]
    },
    {
     "data": {
      "application/vnd.jupyter.widget-view+json": {
       "model_id": "efc8d51d78c64f47acde9224c72d41cd",
       "version_major": 2,
       "version_minor": 0
      },
      "text/plain": [
       "  0%|          | 0/2000 [00:00<?, ?it/s]"
      ]
     },
     "metadata": {},
     "output_type": "display_data"
    },
    {
     "name": "stdout",
     "output_type": "stream",
     "text": [
      "[I 2024-02-07 09:32:00,585] Trial 92 finished with value: 0.07139648497104645 and parameters: {'lr': 0.00016414456802919965, 'annealing_0': 0.13179639628432374, 'annealing_1': 0.2763632942659444}. Best is trial 70 with value: 0.08806641399860382.\n"
     ]
    },
    {
     "data": {
      "application/vnd.jupyter.widget-view+json": {
       "model_id": "feedf386feb742f3a4f0607b501c6b64",
       "version_major": 2,
       "version_minor": 0
      },
      "text/plain": [
       "  0%|          | 0/2000 [00:00<?, ?it/s]"
      ]
     },
     "metadata": {},
     "output_type": "display_data"
    },
    {
     "name": "stdout",
     "output_type": "stream",
     "text": [
      "[I 2024-02-07 09:32:48,746] Trial 93 finished with value: 0.08220703154802322 and parameters: {'lr': 0.00014281213135091525, 'annealing_0': 0.1101606332392511, 'annealing_1': 0.22903901748685312}. Best is trial 70 with value: 0.08806641399860382.\n"
     ]
    },
    {
     "data": {
      "application/vnd.jupyter.widget-view+json": {
       "model_id": "c6ffe76261d448e69f35105dc6b8edc6",
       "version_major": 2,
       "version_minor": 0
      },
      "text/plain": [
       "  0%|          | 0/2000 [00:00<?, ?it/s]"
      ]
     },
     "metadata": {},
     "output_type": "display_data"
    },
    {
     "name": "stdout",
     "output_type": "stream",
     "text": [
      "[I 2024-02-07 09:33:37,095] Trial 94 finished with value: 0.0891406312584877 and parameters: {'lr': 0.00014794269083553044, 'annealing_0': 0.10888055683915626, 'annealing_1': 0.2292455478010213}. Best is trial 94 with value: 0.0891406312584877.\n"
     ]
    },
    {
     "data": {
      "application/vnd.jupyter.widget-view+json": {
       "model_id": "58b95073f81d42f4af6577a587fc8dce",
       "version_major": 2,
       "version_minor": 0
      },
      "text/plain": [
       "  0%|          | 0/2000 [00:00<?, ?it/s]"
      ]
     },
     "metadata": {},
     "output_type": "display_data"
    },
    {
     "name": "stdout",
     "output_type": "stream",
     "text": [
      "[I 2024-02-07 09:34:26,716] Trial 95 finished with value: 0.07794922590255737 and parameters: {'lr': 0.0001252110101425845, 'annealing_0': 0.10834184306257859, 'annealing_1': 0.22656061238547523}. Best is trial 94 with value: 0.0891406312584877.\n"
     ]
    },
    {
     "data": {
      "application/vnd.jupyter.widget-view+json": {
       "model_id": "84ded5a7658341bab2243a6d680e4a2b",
       "version_major": 2,
       "version_minor": 0
      },
      "text/plain": [
       "  0%|          | 0/2000 [00:00<?, ?it/s]"
      ]
     },
     "metadata": {},
     "output_type": "display_data"
    },
    {
     "name": "stdout",
     "output_type": "stream",
     "text": [
      "[I 2024-02-07 09:35:19,373] Trial 96 finished with value: 0.0818164125084877 and parameters: {'lr': 0.00014690357259083462, 'annealing_0': 0.11576633475951005, 'annealing_1': 0.21656605937402423}. Best is trial 94 with value: 0.0891406312584877.\n"
     ]
    },
    {
     "data": {
      "application/vnd.jupyter.widget-view+json": {
       "model_id": "7831bcff7ec44467a51c9d27eeb50b7c",
       "version_major": 2,
       "version_minor": 0
      },
      "text/plain": [
       "  0%|          | 0/2000 [00:00<?, ?it/s]"
      ]
     },
     "metadata": {},
     "output_type": "display_data"
    },
    {
     "name": "stdout",
     "output_type": "stream",
     "text": [
      "[I 2024-02-07 09:36:10,453] Trial 97 finished with value: 0.07147461175918579 and parameters: {'lr': 0.00011288701730408318, 'annealing_0': 0.15322918134435504, 'annealing_1': 0.24285780256313227}. Best is trial 94 with value: 0.0891406312584877.\n"
     ]
    },
    {
     "data": {
      "application/vnd.jupyter.widget-view+json": {
       "model_id": "b8f04e75432f4440a02642e9e5e7a3da",
       "version_major": 2,
       "version_minor": 0
      },
      "text/plain": [
       "  0%|          | 0/2000 [00:00<?, ?it/s]"
      ]
     },
     "metadata": {},
     "output_type": "display_data"
    },
    {
     "name": "stdout",
     "output_type": "stream",
     "text": [
      "[I 2024-02-07 09:37:01,021] Trial 98 finished with value: 0.07850586622953415 and parameters: {'lr': 0.0001404325310947836, 'annealing_0': 0.10466484870974527, 'annealing_1': 0.19411285452271443}. Best is trial 94 with value: 0.0891406312584877.\n"
     ]
    },
    {
     "data": {
      "application/vnd.jupyter.widget-view+json": {
       "model_id": "e555d7ccd8194323a86a9d3031bb9ade",
       "version_major": 2,
       "version_minor": 0
      },
      "text/plain": [
       "  0%|          | 0/2000 [00:00<?, ?it/s]"
      ]
     },
     "metadata": {},
     "output_type": "display_data"
    },
    {
     "name": "stdout",
     "output_type": "stream",
     "text": [
      "[I 2024-02-07 09:37:52,147] Trial 99 finished with value: 0.06842773407697678 and parameters: {'lr': 0.00010363507109447253, 'annealing_0': 0.16781346561389346, 'annealing_1': 0.282342209668513}. Best is trial 94 with value: 0.0891406312584877.\n"
     ]
    }
   ],
   "source": [
    "def objective(trial):\n",
    "    seed = 42\n",
    "    map_size = 4\n",
    "    max_interactions = 64 * 1000\n",
    "    map_scale = int(jnp.log2(map_size))\n",
    "\n",
    "    # hyperparams\n",
    "    lr = trial.suggest_float(\"lr\", 1e-4, 1e-2, log=True)\n",
    "    rollout_length = 2 * map_size**2\n",
    "    n_rollouts = max_interactions // rollout_length\n",
    "    train_iter = 8\n",
    "\n",
    "    # setup annealing schedules\n",
    "    annealing_durations = [\n",
    "        int(train_iter * n_rollouts * trial.suggest_float(f\"annealing_{i}\", 0.1, 1.0 / map_scale))\n",
    "        for i in range(map_scale)\n",
    "    ]\n",
    "    annealing_starts = jnp.cumsum(jnp.array([0] + annealing_durations[:-1]))\n",
    "    annealing_schedules = [\n",
    "        optax.linear_schedule(1.0, 0.0, dur, start)\n",
    "        for dur, start in zip(annealing_durations, annealing_starts)\n",
    "    ]\n",
    "\n",
    "    @jax.jit\n",
    "    def annealing_fn(step):\n",
    "        return jnp.array([schedule(step) for schedule in annealing_schedules])\n",
    "\n",
    "    run_simulation = partial(\n",
    "        sim.run_mango_simulation,\n",
    "        map_size=map_size,\n",
    "        n_rollouts=n_rollouts,\n",
    "        rollout_length=rollout_length,\n",
    "        train_iter=train_iter,\n",
    "        lr=lr,\n",
    "        annealing_fn=annealing_fn,\n",
    "    )\n",
    "    rng_key = jax.random.PRNGKey(seed)\n",
    "    env, dql_state, results = jax.vmap(run_simulation)(jax.random.split(rng_key, 8))\n",
    "\n",
    "    accuracy = results.eval_reward[:, :, :, 0, -1].mean()\n",
    "    return accuracy\n",
    "\n",
    "\n",
    "study = optuna.create_study(\n",
    "    study_name=\"mango\",\n",
    "    storage=\"sqlite:///mango.db\",\n",
    "    load_if_exists=True,\n",
    "    direction=\"maximize\"\n",
    ")\n",
    "\n",
    "study.optimize(objective, n_trials=100, show_progress_bar=True)"
   ]
  },
  {
   "cell_type": "code",
   "execution_count": null,
   "metadata": {},
   "outputs": [],
   "source": [
    "!optuna-dashboard sqlite:///mango.db"
   ]
  }
 ],
 "metadata": {
  "kernelspec": {
   "display_name": "Python 3",
   "language": "python",
   "name": "python3"
  },
  "language_info": {
   "codemirror_mode": {
    "name": "ipython",
    "version": 3
   },
   "file_extension": ".py",
   "mimetype": "text/x-python",
   "name": "python",
   "nbconvert_exporter": "python",
   "pygments_lexer": "ipython3",
   "version": "3.10.13"
  }
 },
 "nbformat": 4,
 "nbformat_minor": 2
}
