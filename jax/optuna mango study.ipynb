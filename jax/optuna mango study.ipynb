{
 "cells": [
  {
   "cell_type": "code",
   "execution_count": 1,
   "metadata": {},
   "outputs": [],
   "source": [
    "import os\n",
    "os.environ[\"CUDA_VISIBLE_DEVICES\"] = \"1\"\n",
    "import jax\n",
    "from jax import numpy as jnp\n",
    "import optax\n",
    "from functools import partial\n",
    "import sim\n",
    "import optuna\n",
    "import matplotlib.pyplot as plt"
   ]
  },
  {
   "cell_type": "code",
   "execution_count": 2,
   "metadata": {},
   "outputs": [
    {
     "data": {
      "text/plain": [
       "[cuda(id=0)]"
      ]
     },
     "execution_count": 2,
     "metadata": {},
     "output_type": "execute_result"
    }
   ],
   "source": [
    "jax.devices()"
   ]
  },
  {
   "cell_type": "code",
   "execution_count": 3,
   "metadata": {},
   "outputs": [
    {
     "name": "stdout",
     "output_type": "stream",
     "text": [
      "Listening on http://127.0.0.1:8080/\n",
      "Hit Ctrl-C to quit.\n",
      "\n",
      "127.0.0.1 - - [08/Feb/2024 09:41:19] \"GET / HTTP/1.1\" 302 0\n",
      "127.0.0.1 - - [08/Feb/2024 09:41:19] \"GET /api/studies HTTP/1.1\" 200 133\n",
      "127.0.0.1 - - [08/Feb/2024 09:41:21] \"GET /api/meta HTTP/1.1\" 200 32\n",
      "/home/davide_sartor/.conda/envs/dl_env/lib/python3.10/site-packages/optuna/study/_study_summary.py:115: FutureWarning: `system_attrs` has been deprecated in v3.1.0. The removal of this feature is currently scheduled for v5.0.0, but this schedule is subject to change. See https://github.com/optuna/optuna/releases/tag/v3.1.0.\n",
      "  warnings.warn(\n",
      "/home/davide_sartor/.conda/envs/dl_env/lib/python3.10/site-packages/optuna/study/_study_summary.py:115: FutureWarning: `system_attrs` has been deprecated in v3.1.0. The removal of this feature is currently scheduled for v5.0.0, but this schedule is subject to change. See https://github.com/optuna/optuna/releases/tag/v3.1.0.\n",
      "  warnings.warn(\n",
      "127.0.0.1 - - [08/Feb/2024 09:41:21] \"GET /api/studies/1?after=0 HTTP/1.1\" 200 114848\n",
      "127.0.0.1 - - [08/Feb/2024 09:41:22] \"GET /api/studies/1/param_importances HTTP/1.1\" 200 305\n",
      "127.0.0.1 - - [08/Feb/2024 09:41:22] \"GET /api/studies/1/param_importances HTTP/1.1\" 200 305\n",
      "/home/davide_sartor/.conda/envs/dl_env/lib/python3.10/site-packages/optuna/study/_study_summary.py:115: FutureWarning: `system_attrs` has been deprecated in v3.1.0. The removal of this feature is currently scheduled for v5.0.0, but this schedule is subject to change. See https://github.com/optuna/optuna/releases/tag/v3.1.0.\n",
      "  warnings.warn(\n",
      "127.0.0.1 - - [08/Feb/2024 09:41:34] \"GET /api/studies/1?after=100 HTTP/1.1\" 200 2231\n",
      "127.0.0.1 - - [08/Feb/2024 09:41:45] \"GET /api/studies/1?after=100 HTTP/1.1\" 200 2231\n",
      "127.0.0.1 - - [08/Feb/2024 09:41:56] \"GET /api/studies/1?after=100 HTTP/1.1\" 200 2231\n",
      "127.0.0.1 - - [08/Feb/2024 09:42:07] \"GET /api/studies/1?after=100 HTTP/1.1\" 200 2231\n",
      "127.0.0.1 - - [08/Feb/2024 09:42:07] \"GET /api/studies/1/param_importances HTTP/1.1\" 200 305\n",
      "127.0.0.1 - - [08/Feb/2024 09:42:18] \"GET /api/studies/1?after=100 HTTP/1.1\" 200 2231\n",
      "127.0.0.1 - - [08/Feb/2024 09:42:28] \"GET /api/studies/1?after=100 HTTP/1.1\" 200 2231\n",
      "127.0.0.1 - - [08/Feb/2024 09:42:38] \"GET /api/studies/1?after=100 HTTP/1.1\" 200 2231\n",
      "127.0.0.1 - - [08/Feb/2024 09:42:49] \"GET /api/studies/1?after=100 HTTP/1.1\" 200 2231\n",
      "127.0.0.1 - - [08/Feb/2024 09:42:59] \"GET /api/studies/1?after=100 HTTP/1.1\" 200 2231\n",
      "127.0.0.1 - - [08/Feb/2024 09:43:09] \"GET /api/studies/1?after=100 HTTP/1.1\" 200 2231\n",
      "127.0.0.1 - - [08/Feb/2024 09:43:20] \"GET /api/studies/1?after=100 HTTP/1.1\" 200 2231\n",
      "127.0.0.1 - - [08/Feb/2024 09:43:31] \"GET /api/studies/1?after=100 HTTP/1.1\" 200 2231\n",
      "127.0.0.1 - - [08/Feb/2024 09:43:42] \"GET /api/studies/1?after=100 HTTP/1.1\" 200 2231\n",
      "127.0.0.1 - - [08/Feb/2024 09:43:53] \"GET /api/studies/1?after=100 HTTP/1.1\" 200 2231\n",
      "127.0.0.1 - - [08/Feb/2024 09:44:05] \"GET /api/studies/1?after=100 HTTP/1.1\" 200 2231\n",
      "127.0.0.1 - - [08/Feb/2024 09:44:15] \"GET /api/studies/1?after=100 HTTP/1.1\" 200 2231\n",
      "127.0.0.1 - - [08/Feb/2024 09:44:26] \"GET /api/studies/1?after=100 HTTP/1.1\" 200 2231\n",
      "127.0.0.1 - - [08/Feb/2024 09:44:37] \"GET /api/studies/1?after=100 HTTP/1.1\" 200 2231\n",
      "127.0.0.1 - - [08/Feb/2024 09:44:48] \"GET /api/studies/1?after=100 HTTP/1.1\" 200 2231\n",
      "127.0.0.1 - - [08/Feb/2024 09:44:59] \"GET /api/studies/1?after=100 HTTP/1.1\" 200 2231\n",
      "127.0.0.1 - - [08/Feb/2024 09:45:10] \"GET /api/studies/1?after=100 HTTP/1.1\" 200 2231\n",
      "127.0.0.1 - - [08/Feb/2024 09:45:21] \"GET /api/studies/1?after=100 HTTP/1.1\" 200 2231\n",
      "127.0.0.1 - - [08/Feb/2024 09:45:32] \"GET /api/studies/1?after=100 HTTP/1.1\" 200 2231\n",
      "127.0.0.1 - - [08/Feb/2024 09:45:43] \"GET /api/studies/1?after=100 HTTP/1.1\" 200 2231\n",
      "127.0.0.1 - - [08/Feb/2024 09:45:54] \"GET /api/studies/1?after=100 HTTP/1.1\" 200 2231\n",
      "127.0.0.1 - - [08/Feb/2024 09:46:05] \"GET /api/studies/1?after=100 HTTP/1.1\" 200 2231\n",
      "127.0.0.1 - - [08/Feb/2024 09:46:16] \"GET /api/studies/1?after=100 HTTP/1.1\" 200 2231\n",
      "127.0.0.1 - - [08/Feb/2024 09:46:27] \"GET /api/studies/1?after=100 HTTP/1.1\" 200 2231\n",
      "127.0.0.1 - - [08/Feb/2024 09:46:38] \"GET /api/studies/1?after=100 HTTP/1.1\" 200 2231\n",
      "127.0.0.1 - - [08/Feb/2024 09:46:49] \"GET /api/studies/1?after=100 HTTP/1.1\" 200 2231\n"
     ]
    }
   ],
   "source": [
    "!optuna-dashboard sqlite:///mango4x4.db"
   ]
  },
  {
   "cell_type": "code",
   "execution_count": 3,
   "metadata": {},
   "outputs": [
    {
     "name": "stderr",
     "output_type": "stream",
     "text": [
      "[I 2024-02-08 07:37:09,027] A new study created in RDB with name: mango\n"
     ]
    },
    {
     "data": {
      "application/vnd.jupyter.widget-view+json": {
       "model_id": "76ae066c695949f694e8a43a3488061d",
       "version_major": 2,
       "version_minor": 0
      },
      "text/plain": [
       "  0%|          | 0/100 [00:00<?, ?it/s]"
      ]
     },
     "metadata": {},
     "output_type": "display_data"
    },
    {
     "data": {
      "application/vnd.jupyter.widget-view+json": {
       "model_id": "43c283e8b8a44204a0e4015c85fefd2c",
       "version_major": 2,
       "version_minor": 0
      },
      "text/plain": [
       "  0%|          | 0/3125 [00:00<?, ?it/s]"
      ]
     },
     "metadata": {},
     "output_type": "display_data"
    },
    {
     "name": "stdout",
     "output_type": "stream",
     "text": [
      "[I 2024-02-08 07:38:17,796] Trial 0 finished with value: 0.03718499839305878 and parameters: {'lr': 0.00014236230525882483, 'annealing_0': 0.34457509950697773, 'annealing_1': 0.47744952834674026}. Best is trial 0 with value: 0.03718499839305878.\n"
     ]
    },
    {
     "data": {
      "application/vnd.jupyter.widget-view+json": {
       "model_id": "6949189da91a49558ea0955c3b973b9f",
       "version_major": 2,
       "version_minor": 0
      },
      "text/plain": [
       "  0%|          | 0/3125 [00:00<?, ?it/s]"
      ]
     },
     "metadata": {},
     "output_type": "display_data"
    },
    {
     "name": "stdout",
     "output_type": "stream",
     "text": [
      "[I 2024-02-08 07:39:13,792] Trial 1 finished with value: 0.013774999417364597 and parameters: {'lr': 0.007381466366857376, 'annealing_0': 0.3218120281225492, 'annealing_1': 0.18247410308337317}. Best is trial 0 with value: 0.03718499839305878.\n"
     ]
    },
    {
     "data": {
      "application/vnd.jupyter.widget-view+json": {
       "model_id": "a2700b2e7073407194e58378a9f016e2",
       "version_major": 2,
       "version_minor": 0
      },
      "text/plain": [
       "  0%|          | 0/3125 [00:00<?, ?it/s]"
      ]
     },
     "metadata": {},
     "output_type": "display_data"
    },
    {
     "name": "stdout",
     "output_type": "stream",
     "text": [
      "[I 2024-02-08 07:40:10,277] Trial 2 finished with value: 0.03870999813079834 and parameters: {'lr': 0.00010465153569409935, 'annealing_0': 0.4313438704901166, 'annealing_1': 0.13174529184940353}. Best is trial 2 with value: 0.03870999813079834.\n"
     ]
    },
    {
     "data": {
      "application/vnd.jupyter.widget-view+json": {
       "model_id": "d72d82e128ec46d78f6c32857b8359a7",
       "version_major": 2,
       "version_minor": 0
      },
      "text/plain": [
       "  0%|          | 0/3125 [00:00<?, ?it/s]"
      ]
     },
     "metadata": {},
     "output_type": "display_data"
    },
    {
     "name": "stdout",
     "output_type": "stream",
     "text": [
      "[I 2024-02-08 07:41:06,457] Trial 3 finished with value: 0.03600499778985977 and parameters: {'lr': 0.002357400727178634, 'annealing_0': 0.35366358326058156, 'annealing_1': 0.3726422678389384}. Best is trial 2 with value: 0.03870999813079834.\n"
     ]
    },
    {
     "data": {
      "application/vnd.jupyter.widget-view+json": {
       "model_id": "693047323f35448e822108b043880087",
       "version_major": 2,
       "version_minor": 0
      },
      "text/plain": [
       "  0%|          | 0/3125 [00:00<?, ?it/s]"
      ]
     },
     "metadata": {},
     "output_type": "display_data"
    },
    {
     "name": "stdout",
     "output_type": "stream",
     "text": [
      "[I 2024-02-08 07:42:01,881] Trial 4 finished with value: 0.034199997782707214 and parameters: {'lr': 0.0011959505592161693, 'annealing_0': 0.1894821589709717, 'annealing_1': 0.3461145691526309}. Best is trial 2 with value: 0.03870999813079834.\n"
     ]
    },
    {
     "data": {
      "application/vnd.jupyter.widget-view+json": {
       "model_id": "11b28ef59026458c847416732ae167b4",
       "version_major": 2,
       "version_minor": 0
      },
      "text/plain": [
       "  0%|          | 0/3125 [00:00<?, ?it/s]"
      ]
     },
     "metadata": {},
     "output_type": "display_data"
    },
    {
     "name": "stdout",
     "output_type": "stream",
     "text": [
      "[I 2024-02-08 07:42:57,236] Trial 5 finished with value: 0.023099999874830246 and parameters: {'lr': 0.005463853429641562, 'annealing_0': 0.38571831683954994, 'annealing_1': 0.20720921494749367}. Best is trial 2 with value: 0.03870999813079834.\n"
     ]
    },
    {
     "data": {
      "application/vnd.jupyter.widget-view+json": {
       "model_id": "38d73ad758de4e3b901f1b3f5c2ff431",
       "version_major": 2,
       "version_minor": 0
      },
      "text/plain": [
       "  0%|          | 0/3125 [00:00<?, ?it/s]"
      ]
     },
     "metadata": {},
     "output_type": "display_data"
    },
    {
     "name": "stdout",
     "output_type": "stream",
     "text": [
      "[I 2024-02-08 07:43:54,102] Trial 6 finished with value: 0.03309999778866768 and parameters: {'lr': 0.0004899777041916416, 'annealing_0': 0.2977809594428407, 'annealing_1': 0.20230645088760243}. Best is trial 2 with value: 0.03870999813079834.\n"
     ]
    },
    {
     "data": {
      "application/vnd.jupyter.widget-view+json": {
       "model_id": "6c90a60e942d43fc925aa57e5679bf41",
       "version_major": 2,
       "version_minor": 0
      },
      "text/plain": [
       "  0%|          | 0/3125 [00:00<?, ?it/s]"
      ]
     },
     "metadata": {},
     "output_type": "display_data"
    },
    {
     "name": "stdout",
     "output_type": "stream",
     "text": [
      "[I 2024-02-08 07:44:50,230] Trial 7 finished with value: 0.0340999998152256 and parameters: {'lr': 0.00032802855277677895, 'annealing_0': 0.29046092010256996, 'annealing_1': 0.14281891871422783}. Best is trial 2 with value: 0.03870999813079834.\n"
     ]
    },
    {
     "data": {
      "application/vnd.jupyter.widget-view+json": {
       "model_id": "1e9876f53d7245be99d9c1b1dcfc430c",
       "version_major": 2,
       "version_minor": 0
      },
      "text/plain": [
       "  0%|          | 0/3125 [00:00<?, ?it/s]"
      ]
     },
     "metadata": {},
     "output_type": "display_data"
    },
    {
     "name": "stdout",
     "output_type": "stream",
     "text": [
      "[I 2024-02-08 07:45:48,202] Trial 8 finished with value: 0.034414999186992645 and parameters: {'lr': 0.00312686636943031, 'annealing_0': 0.3365188679871475, 'annealing_1': 0.3632286099930212}. Best is trial 2 with value: 0.03870999813079834.\n"
     ]
    },
    {
     "data": {
      "application/vnd.jupyter.widget-view+json": {
       "model_id": "c9affa2710c246118931455b40c6ab33",
       "version_major": 2,
       "version_minor": 0
      },
      "text/plain": [
       "  0%|          | 0/3125 [00:00<?, ?it/s]"
      ]
     },
     "metadata": {},
     "output_type": "display_data"
    },
    {
     "name": "stdout",
     "output_type": "stream",
     "text": [
      "[I 2024-02-08 07:46:43,224] Trial 9 finished with value: 0.015650000423192978 and parameters: {'lr': 0.0010931972192475211, 'annealing_0': 0.37994152695659544, 'annealing_1': 0.19258855458867466}. Best is trial 2 with value: 0.03870999813079834.\n"
     ]
    },
    {
     "data": {
      "application/vnd.jupyter.widget-view+json": {
       "model_id": "6342b357e05b4810bbe676f20c4b4ad6",
       "version_major": 2,
       "version_minor": 0
      },
      "text/plain": [
       "  0%|          | 0/3125 [00:00<?, ?it/s]"
      ]
     },
     "metadata": {},
     "output_type": "display_data"
    },
    {
     "name": "stdout",
     "output_type": "stream",
     "text": [
      "[I 2024-02-08 07:47:38,781] Trial 10 finished with value: 0.03619999811053276 and parameters: {'lr': 0.00012908368003720864, 'annealing_0': 0.49599671355746844, 'annealing_1': 0.1128744155321833}. Best is trial 2 with value: 0.03870999813079834.\n"
     ]
    },
    {
     "data": {
      "application/vnd.jupyter.widget-view+json": {
       "model_id": "61033562fed4402cae4fbe5ad9dba72f",
       "version_major": 2,
       "version_minor": 0
      },
      "text/plain": [
       "  0%|          | 0/3125 [00:00<?, ?it/s]"
      ]
     },
     "metadata": {},
     "output_type": "display_data"
    },
    {
     "name": "stdout",
     "output_type": "stream",
     "text": [
      "[I 2024-02-08 07:48:36,749] Trial 11 finished with value: 0.02850000001490116 and parameters: {'lr': 0.00010778709590052331, 'annealing_0': 0.44345921043896447, 'annealing_1': 0.4949172096386226}. Best is trial 2 with value: 0.03870999813079834.\n"
     ]
    },
    {
     "data": {
      "application/vnd.jupyter.widget-view+json": {
       "model_id": "51e08a2eef954f449ef8ede88054a06a",
       "version_major": 2,
       "version_minor": 0
      },
      "text/plain": [
       "  0%|          | 0/3125 [00:00<?, ?it/s]"
      ]
     },
     "metadata": {},
     "output_type": "display_data"
    },
    {
     "name": "stdout",
     "output_type": "stream",
     "text": [
      "[I 2024-02-08 07:49:32,049] Trial 12 finished with value: 0.04399999976158142 and parameters: {'lr': 0.00031506809454729436, 'annealing_0': 0.24911618286202505, 'annealing_1': 0.483488768610541}. Best is trial 12 with value: 0.04399999976158142.\n"
     ]
    },
    {
     "data": {
      "application/vnd.jupyter.widget-view+json": {
       "model_id": "d179318ca77640028dd97dcfd2574e3d",
       "version_major": 2,
       "version_minor": 0
      },
      "text/plain": [
       "  0%|          | 0/3125 [00:00<?, ?it/s]"
      ]
     },
     "metadata": {},
     "output_type": "display_data"
    },
    {
     "name": "stdout",
     "output_type": "stream",
     "text": [
      "[I 2024-02-08 07:50:30,001] Trial 13 finished with value: 0.03762499988079071 and parameters: {'lr': 0.00034213534239341053, 'annealing_0': 0.21376776617844334, 'annealing_1': 0.27458357128939764}. Best is trial 12 with value: 0.04399999976158142.\n"
     ]
    },
    {
     "data": {
      "application/vnd.jupyter.widget-view+json": {
       "model_id": "34d9eb5e8ae4443f8e91cfa80fca1c93",
       "version_major": 2,
       "version_minor": 0
      },
      "text/plain": [
       "  0%|          | 0/3125 [00:00<?, ?it/s]"
      ]
     },
     "metadata": {},
     "output_type": "display_data"
    },
    {
     "name": "stdout",
     "output_type": "stream",
     "text": [
      "[I 2024-02-08 07:51:27,197] Trial 14 finished with value: 0.05614999681711197 and parameters: {'lr': 0.0002290124827743153, 'annealing_0': 0.11588843797239476, 'annealing_1': 0.41792437151734013}. Best is trial 14 with value: 0.05614999681711197.\n"
     ]
    },
    {
     "data": {
      "application/vnd.jupyter.widget-view+json": {
       "model_id": "847db4684c994bcb86bdcab50bd18e26",
       "version_major": 2,
       "version_minor": 0
      },
      "text/plain": [
       "  0%|          | 0/3125 [00:00<?, ?it/s]"
      ]
     },
     "metadata": {},
     "output_type": "display_data"
    },
    {
     "name": "stdout",
     "output_type": "stream",
     "text": [
      "[I 2024-02-08 07:52:23,674] Trial 15 finished with value: 0.049744997173547745 and parameters: {'lr': 0.0005346253690395092, 'annealing_0': 0.14814151047537144, 'annealing_1': 0.43230202140516455}. Best is trial 14 with value: 0.05614999681711197.\n"
     ]
    },
    {
     "data": {
      "application/vnd.jupyter.widget-view+json": {
       "model_id": "18cb3004f3db48d1947b314215879091",
       "version_major": 2,
       "version_minor": 0
      },
      "text/plain": [
       "  0%|          | 0/3125 [00:00<?, ?it/s]"
      ]
     },
     "metadata": {},
     "output_type": "display_data"
    },
    {
     "name": "stdout",
     "output_type": "stream",
     "text": [
      "[I 2024-02-08 07:53:21,972] Trial 16 finished with value: 0.04678499698638916 and parameters: {'lr': 0.0006524012077469745, 'annealing_0': 0.10437013328946024, 'annealing_1': 0.4127633778608219}. Best is trial 14 with value: 0.05614999681711197.\n"
     ]
    },
    {
     "data": {
      "application/vnd.jupyter.widget-view+json": {
       "model_id": "b0eaf9100f1c40bca184a2f9e9fef7f3",
       "version_major": 2,
       "version_minor": 0
      },
      "text/plain": [
       "  0%|          | 0/3125 [00:00<?, ?it/s]"
      ]
     },
     "metadata": {},
     "output_type": "display_data"
    },
    {
     "name": "stdout",
     "output_type": "stream",
     "text": [
      "[I 2024-02-08 07:54:20,344] Trial 17 finished with value: 0.05806499719619751 and parameters: {'lr': 0.00019960562949172792, 'annealing_0': 0.10313504287407693, 'annealing_1': 0.4275465079666621}. Best is trial 17 with value: 0.05806499719619751.\n"
     ]
    },
    {
     "data": {
      "application/vnd.jupyter.widget-view+json": {
       "model_id": "656bd40418fe42929cb7655960c9a58a",
       "version_major": 2,
       "version_minor": 0
      },
      "text/plain": [
       "  0%|          | 0/3125 [00:00<?, ?it/s]"
      ]
     },
     "metadata": {},
     "output_type": "display_data"
    },
    {
     "name": "stdout",
     "output_type": "stream",
     "text": [
      "[I 2024-02-08 07:55:17,207] Trial 18 finished with value: 0.05788499861955643 and parameters: {'lr': 0.00020613666729413506, 'annealing_0': 0.11267297912105946, 'annealing_1': 0.30440961954763907}. Best is trial 17 with value: 0.05806499719619751.\n"
     ]
    },
    {
     "data": {
      "application/vnd.jupyter.widget-view+json": {
       "model_id": "44eedf51bb0d44319a79f2b2a28d1d2e",
       "version_major": 2,
       "version_minor": 0
      },
      "text/plain": [
       "  0%|          | 0/3125 [00:00<?, ?it/s]"
      ]
     },
     "metadata": {},
     "output_type": "display_data"
    },
    {
     "name": "stdout",
     "output_type": "stream",
     "text": [
      "[I 2024-02-08 07:56:13,954] Trial 19 finished with value: 0.05590000003576279 and parameters: {'lr': 0.00019859557524966995, 'annealing_0': 0.16138560401144264, 'annealing_1': 0.26322555422155913}. Best is trial 17 with value: 0.05806499719619751.\n"
     ]
    },
    {
     "data": {
      "application/vnd.jupyter.widget-view+json": {
       "model_id": "17ed1fdcdefb42fe9218bd7513ab8571",
       "version_major": 2,
       "version_minor": 0
      },
      "text/plain": [
       "  0%|          | 0/3125 [00:00<?, ?it/s]"
      ]
     },
     "metadata": {},
     "output_type": "display_data"
    },
    {
     "name": "stdout",
     "output_type": "stream",
     "text": [
      "[I 2024-02-08 07:57:08,984] Trial 20 finished with value: 0.04637499898672104 and parameters: {'lr': 0.0017337622349998351, 'annealing_0': 0.23891640150680582, 'annealing_1': 0.31672077312513836}. Best is trial 17 with value: 0.05806499719619751.\n"
     ]
    },
    {
     "data": {
      "application/vnd.jupyter.widget-view+json": {
       "model_id": "fbb67bfab84c44eab99ec7a18ae4c8be",
       "version_major": 2,
       "version_minor": 0
      },
      "text/plain": [
       "  0%|          | 0/3125 [00:00<?, ?it/s]"
      ]
     },
     "metadata": {},
     "output_type": "display_data"
    },
    {
     "name": "stdout",
     "output_type": "stream",
     "text": [
      "[I 2024-02-08 07:58:09,154] Trial 21 finished with value: 0.05547500029206276 and parameters: {'lr': 0.00020819589776305955, 'annealing_0': 0.11637155794137002, 'annealing_1': 0.41999974993827616}. Best is trial 17 with value: 0.05806499719619751.\n"
     ]
    },
    {
     "data": {
      "application/vnd.jupyter.widget-view+json": {
       "model_id": "b98cbd09dea74cec97f3cbdd49b428ac",
       "version_major": 2,
       "version_minor": 0
      },
      "text/plain": [
       "  0%|          | 0/3125 [00:00<?, ?it/s]"
      ]
     },
     "metadata": {},
     "output_type": "display_data"
    },
    {
     "name": "stdout",
     "output_type": "stream",
     "text": [
      "[I 2024-02-08 07:59:03,889] Trial 22 finished with value: 0.055949997156858444 and parameters: {'lr': 0.00021089412540467153, 'annealing_0': 0.1426342415217048, 'annealing_1': 0.44777544207737796}. Best is trial 17 with value: 0.05806499719619751.\n"
     ]
    },
    {
     "data": {
      "application/vnd.jupyter.widget-view+json": {
       "model_id": "ead2e2b39f2b42a9bb0e0908d02b13a8",
       "version_major": 2,
       "version_minor": 0
      },
      "text/plain": [
       "  0%|          | 0/3125 [00:00<?, ?it/s]"
      ]
     },
     "metadata": {},
     "output_type": "display_data"
    },
    {
     "name": "stdout",
     "output_type": "stream",
     "text": [
      "[I 2024-02-08 07:59:59,597] Trial 23 finished with value: 0.04978000000119209 and parameters: {'lr': 0.0007092029734436556, 'annealing_0': 0.10068423851996026, 'annealing_1': 0.3204889662939071}. Best is trial 17 with value: 0.05806499719619751.\n"
     ]
    },
    {
     "data": {
      "application/vnd.jupyter.widget-view+json": {
       "model_id": "333d0457dd824c8b917f4561c32d6b80",
       "version_major": 2,
       "version_minor": 0
      },
      "text/plain": [
       "  0%|          | 0/3125 [00:00<?, ?it/s]"
      ]
     },
     "metadata": {},
     "output_type": "display_data"
    },
    {
     "name": "stdout",
     "output_type": "stream",
     "text": [
      "[I 2024-02-08 08:00:54,729] Trial 24 finished with value: 0.05183999985456467 and parameters: {'lr': 0.0001829026662265742, 'annealing_0': 0.19447655449321938, 'annealing_1': 0.37972719458694415}. Best is trial 17 with value: 0.05806499719619751.\n"
     ]
    },
    {
     "data": {
      "application/vnd.jupyter.widget-view+json": {
       "model_id": "f90933ab85a24db8abfd9cca63003a51",
       "version_major": 2,
       "version_minor": 0
      },
      "text/plain": [
       "  0%|          | 0/3125 [00:00<?, ?it/s]"
      ]
     },
     "metadata": {},
     "output_type": "display_data"
    },
    {
     "name": "stdout",
     "output_type": "stream",
     "text": [
      "[I 2024-02-08 08:01:53,678] Trial 25 finished with value: 0.05200999975204468 and parameters: {'lr': 0.0002928004633705777, 'annealing_0': 0.13905191308362694, 'annealing_1': 0.39596531854028105}. Best is trial 17 with value: 0.05806499719619751.\n"
     ]
    },
    {
     "data": {
      "application/vnd.jupyter.widget-view+json": {
       "model_id": "ec7b0953c5e1484b96ed7dd74ef370b2",
       "version_major": 2,
       "version_minor": 0
      },
      "text/plain": [
       "  0%|          | 0/3125 [00:00<?, ?it/s]"
      ]
     },
     "metadata": {},
     "output_type": "display_data"
    },
    {
     "name": "stdout",
     "output_type": "stream",
     "text": [
      "[I 2024-02-08 08:02:51,785] Trial 26 finished with value: 0.0541749969124794 and parameters: {'lr': 0.0004343112428429439, 'annealing_0': 0.16608673147536634, 'annealing_1': 0.27035259281737595}. Best is trial 17 with value: 0.05806499719619751.\n"
     ]
    },
    {
     "data": {
      "application/vnd.jupyter.widget-view+json": {
       "model_id": "d94cc3f8a2d3470b81ff6abfeaec4348",
       "version_major": 2,
       "version_minor": 0
      },
      "text/plain": [
       "  0%|          | 0/3125 [00:00<?, ?it/s]"
      ]
     },
     "metadata": {},
     "output_type": "display_data"
    },
    {
     "name": "stdout",
     "output_type": "stream",
     "text": [
      "[I 2024-02-08 08:03:49,071] Trial 27 finished with value: 0.03579999879002571 and parameters: {'lr': 0.0008752906737826187, 'annealing_0': 0.1269880322717075, 'annealing_1': 0.4596469188618909}. Best is trial 17 with value: 0.05806499719619751.\n"
     ]
    },
    {
     "data": {
      "application/vnd.jupyter.widget-view+json": {
       "model_id": "03f1658f880e4401a086e90e1e11659d",
       "version_major": 2,
       "version_minor": 0
      },
      "text/plain": [
       "  0%|          | 0/3125 [00:00<?, ?it/s]"
      ]
     },
     "metadata": {},
     "output_type": "display_data"
    },
    {
     "name": "stdout",
     "output_type": "stream",
     "text": [
      "[I 2024-02-08 08:04:45,433] Trial 28 finished with value: 0.052354998886585236 and parameters: {'lr': 0.000161765853281777, 'annealing_0': 0.18136500142656736, 'annealing_1': 0.34557559060108095}. Best is trial 17 with value: 0.05806499719619751.\n"
     ]
    },
    {
     "data": {
      "application/vnd.jupyter.widget-view+json": {
       "model_id": "61ff2eb2233d4e94a0fa5475c69bfd61",
       "version_major": 2,
       "version_minor": 0
      },
      "text/plain": [
       "  0%|          | 0/3125 [00:00<?, ?it/s]"
      ]
     },
     "metadata": {},
     "output_type": "display_data"
    },
    {
     "name": "stdout",
     "output_type": "stream",
     "text": [
      "[I 2024-02-08 08:05:41,452] Trial 29 finished with value: 0.05086499825119972 and parameters: {'lr': 0.0002480752649970363, 'annealing_0': 0.22725458367948326, 'annealing_1': 0.2423504185552957}. Best is trial 17 with value: 0.05806499719619751.\n"
     ]
    },
    {
     "data": {
      "application/vnd.jupyter.widget-view+json": {
       "model_id": "72da96bbec6a42bd9400bd6cbbdd8652",
       "version_major": 2,
       "version_minor": 0
      },
      "text/plain": [
       "  0%|          | 0/3125 [00:00<?, ?it/s]"
      ]
     },
     "metadata": {},
     "output_type": "display_data"
    },
    {
     "name": "stdout",
     "output_type": "stream",
     "text": [
      "[I 2024-02-08 08:06:37,970] Trial 30 finished with value: 0.04360999912023544 and parameters: {'lr': 0.00015676514135023838, 'annealing_0': 0.2775270447424748, 'annealing_1': 0.4712356988680384}. Best is trial 17 with value: 0.05806499719619751.\n"
     ]
    },
    {
     "data": {
      "application/vnd.jupyter.widget-view+json": {
       "model_id": "957820666e084dcd961d8481acbdbdbd",
       "version_major": 2,
       "version_minor": 0
      },
      "text/plain": [
       "  0%|          | 0/3125 [00:00<?, ?it/s]"
      ]
     },
     "metadata": {},
     "output_type": "display_data"
    },
    {
     "name": "stdout",
     "output_type": "stream",
     "text": [
      "[I 2024-02-08 08:07:35,802] Trial 31 finished with value: 0.05480000004172325 and parameters: {'lr': 0.0002577002278379963, 'annealing_0': 0.134800354254371, 'annealing_1': 0.4359837689333694}. Best is trial 17 with value: 0.05806499719619751.\n"
     ]
    },
    {
     "data": {
      "application/vnd.jupyter.widget-view+json": {
       "model_id": "1caecf01078b4f1ea2d78877f7222410",
       "version_major": 2,
       "version_minor": 0
      },
      "text/plain": [
       "  0%|          | 0/3125 [00:00<?, ?it/s]"
      ]
     },
     "metadata": {},
     "output_type": "display_data"
    },
    {
     "name": "stdout",
     "output_type": "stream",
     "text": [
      "[I 2024-02-08 08:08:30,785] Trial 32 finished with value: 0.041749998927116394 and parameters: {'lr': 0.0004199482802880903, 'annealing_0': 0.16090311546716451, 'annealing_1': 0.4550735587170015}. Best is trial 17 with value: 0.05806499719619751.\n"
     ]
    },
    {
     "data": {
      "application/vnd.jupyter.widget-view+json": {
       "model_id": "6056046fb31e4cc58620e509f950b2aa",
       "version_major": 2,
       "version_minor": 0
      },
      "text/plain": [
       "  0%|          | 0/3125 [00:00<?, ?it/s]"
      ]
     },
     "metadata": {},
     "output_type": "display_data"
    },
    {
     "name": "stdout",
     "output_type": "stream",
     "text": [
      "[I 2024-02-08 08:09:28,617] Trial 33 finished with value: 0.05368499830365181 and parameters: {'lr': 0.00010020138417417768, 'annealing_0': 0.10162208264144675, 'annealing_1': 0.3992011647678282}. Best is trial 17 with value: 0.05806499719619751.\n"
     ]
    },
    {
     "data": {
      "application/vnd.jupyter.widget-view+json": {
       "model_id": "690de4d2bc8541b5bf791afbfd86b623",
       "version_major": 2,
       "version_minor": 0
      },
      "text/plain": [
       "  0%|          | 0/3125 [00:00<?, ?it/s]"
      ]
     },
     "metadata": {},
     "output_type": "display_data"
    },
    {
     "name": "stdout",
     "output_type": "stream",
     "text": [
      "[I 2024-02-08 08:10:24,697] Trial 34 finished with value: 0.05448499694466591 and parameters: {'lr': 0.00013742697633069525, 'annealing_0': 0.12863109627289748, 'annealing_1': 0.4493174236235985}. Best is trial 17 with value: 0.05806499719619751.\n"
     ]
    },
    {
     "data": {
      "application/vnd.jupyter.widget-view+json": {
       "model_id": "09d4ba9404d14e81bc3a80b8c71a2ef0",
       "version_major": 2,
       "version_minor": 0
      },
      "text/plain": [
       "  0%|          | 0/3125 [00:00<?, ?it/s]"
      ]
     },
     "metadata": {},
     "output_type": "display_data"
    },
    {
     "name": "stdout",
     "output_type": "stream",
     "text": [
      "[I 2024-02-08 08:11:21,721] Trial 35 finished with value: 0.050724998116493225 and parameters: {'lr': 0.00022867902160761535, 'annealing_0': 0.19986953979884875, 'annealing_1': 0.34160242753826847}. Best is trial 17 with value: 0.05806499719619751.\n"
     ]
    },
    {
     "data": {
      "application/vnd.jupyter.widget-view+json": {
       "model_id": "d5c2998e865c416bbb4eff8a06ff983a",
       "version_major": 2,
       "version_minor": 0
      },
      "text/plain": [
       "  0%|          | 0/3125 [00:00<?, ?it/s]"
      ]
     },
     "metadata": {},
     "output_type": "display_data"
    },
    {
     "name": "stdout",
     "output_type": "stream",
     "text": [
      "[I 2024-02-08 08:12:19,606] Trial 36 finished with value: 0.05512499809265137 and parameters: {'lr': 0.00037208250471618555, 'annealing_0': 0.14983613503570467, 'annealing_1': 0.3893449489014925}. Best is trial 17 with value: 0.05806499719619751.\n"
     ]
    },
    {
     "data": {
      "application/vnd.jupyter.widget-view+json": {
       "model_id": "0aef029a480a4822a54217fe5a469829",
       "version_major": 2,
       "version_minor": 0
      },
      "text/plain": [
       "  0%|          | 0/3125 [00:00<?, ?it/s]"
      ]
     },
     "metadata": {},
     "output_type": "display_data"
    },
    {
     "name": "stdout",
     "output_type": "stream",
     "text": [
      "[I 2024-02-08 08:13:16,536] Trial 37 finished with value: 0.015149999409914017 and parameters: {'lr': 0.008377425303049545, 'annealing_0': 0.17654615626834655, 'annealing_1': 0.2959619624823612}. Best is trial 17 with value: 0.05806499719619751.\n"
     ]
    },
    {
     "data": {
      "application/vnd.jupyter.widget-view+json": {
       "model_id": "1ea29c96b3d04a76878d92515470b143",
       "version_major": 2,
       "version_minor": 0
      },
      "text/plain": [
       "  0%|          | 0/3125 [00:00<?, ?it/s]"
      ]
     },
     "metadata": {},
     "output_type": "display_data"
    },
    {
     "name": "stdout",
     "output_type": "stream",
     "text": [
      "[I 2024-02-08 08:14:14,877] Trial 38 finished with value: 0.05557499825954437 and parameters: {'lr': 0.00013092859336449306, 'annealing_0': 0.12058675776828064, 'annealing_1': 0.2241556478114615}. Best is trial 17 with value: 0.05806499719619751.\n"
     ]
    },
    {
     "data": {
      "application/vnd.jupyter.widget-view+json": {
       "model_id": "3f91d20878924cd2861035d7a0e0fc22",
       "version_major": 2,
       "version_minor": 0
      },
      "text/plain": [
       "  0%|          | 0/3125 [00:00<?, ?it/s]"
      ]
     },
     "metadata": {},
     "output_type": "display_data"
    },
    {
     "name": "stdout",
     "output_type": "stream",
     "text": [
      "[I 2024-02-08 08:15:13,298] Trial 39 finished with value: 0.043299999088048935 and parameters: {'lr': 0.0005707733946014532, 'annealing_0': 0.26481323961193504, 'annealing_1': 0.42796497624442265}. Best is trial 17 with value: 0.05806499719619751.\n"
     ]
    },
    {
     "data": {
      "application/vnd.jupyter.widget-view+json": {
       "model_id": "a216e530019a4519ae18a3d836f4d07d",
       "version_major": 2,
       "version_minor": 0
      },
      "text/plain": [
       "  0%|          | 0/3125 [00:00<?, ?it/s]"
      ]
     },
     "metadata": {},
     "output_type": "display_data"
    },
    {
     "name": "stdout",
     "output_type": "stream",
     "text": [
      "[I 2024-02-08 08:16:08,856] Trial 40 finished with value: 0.057249996811151505 and parameters: {'lr': 0.00017854268704931977, 'annealing_0': 0.11998587427257591, 'annealing_1': 0.3566979137757003}. Best is trial 17 with value: 0.05806499719619751.\n"
     ]
    },
    {
     "data": {
      "application/vnd.jupyter.widget-view+json": {
       "model_id": "7f91ce5b7dbd495680516711e17fc277",
       "version_major": 2,
       "version_minor": 0
      },
      "text/plain": [
       "  0%|          | 0/3125 [00:00<?, ?it/s]"
      ]
     },
     "metadata": {},
     "output_type": "display_data"
    },
    {
     "name": "stdout",
     "output_type": "stream",
     "text": [
      "[I 2024-02-08 08:17:10,381] Trial 41 finished with value: 0.05613499879837036 and parameters: {'lr': 0.00017340478377986273, 'annealing_0': 0.1186807916189749, 'annealing_1': 0.361853490505887}. Best is trial 17 with value: 0.05806499719619751.\n"
     ]
    },
    {
     "data": {
      "application/vnd.jupyter.widget-view+json": {
       "model_id": "f97c260f93d84f21a0150b33a1923c86",
       "version_major": 2,
       "version_minor": 0
      },
      "text/plain": [
       "  0%|          | 0/3125 [00:00<?, ?it/s]"
      ]
     },
     "metadata": {},
     "output_type": "display_data"
    },
    {
     "name": "stdout",
     "output_type": "stream",
     "text": [
      "[I 2024-02-08 08:18:08,064] Trial 42 finished with value: 0.056119997054338455 and parameters: {'lr': 0.000169465861661603, 'annealing_0': 0.1159800421204, 'annealing_1': 0.3673539390060093}. Best is trial 17 with value: 0.05806499719619751.\n"
     ]
    },
    {
     "data": {
      "application/vnd.jupyter.widget-view+json": {
       "model_id": "1bbba79b68f74ac0bfe593d4ba77f10d",
       "version_major": 2,
       "version_minor": 0
      },
      "text/plain": [
       "  0%|          | 0/3125 [00:00<?, ?it/s]"
      ]
     },
     "metadata": {},
     "output_type": "display_data"
    },
    {
     "name": "stdout",
     "output_type": "stream",
     "text": [
      "[I 2024-02-08 08:19:05,438] Trial 43 finished with value: 0.046875 and parameters: {'lr': 0.0002728944593579827, 'annealing_0': 0.10157173687826843, 'annealing_1': 0.33139461360738787}. Best is trial 17 with value: 0.05806499719619751.\n"
     ]
    },
    {
     "data": {
      "application/vnd.jupyter.widget-view+json": {
       "model_id": "32964e8ebbaf4810904b3ab0d1b50509",
       "version_major": 2,
       "version_minor": 0
      },
      "text/plain": [
       "  0%|          | 0/3125 [00:00<?, ?it/s]"
      ]
     },
     "metadata": {},
     "output_type": "display_data"
    },
    {
     "name": "stdout",
     "output_type": "stream",
     "text": [
      "[I 2024-02-08 08:20:04,724] Trial 44 finished with value: 0.02463500015437603 and parameters: {'lr': 0.004079278810419793, 'annealing_0': 0.15639433049819712, 'annealing_1': 0.3605634753207439}. Best is trial 17 with value: 0.05806499719619751.\n"
     ]
    },
    {
     "data": {
      "application/vnd.jupyter.widget-view+json": {
       "model_id": "daa78c42266243e89a64c9803ff8fb9b",
       "version_major": 2,
       "version_minor": 0
      },
      "text/plain": [
       "  0%|          | 0/3125 [00:00<?, ?it/s]"
      ]
     },
     "metadata": {},
     "output_type": "display_data"
    },
    {
     "name": "stdout",
     "output_type": "stream",
     "text": [
      "[I 2024-02-08 08:21:01,822] Trial 45 finished with value: 0.04583499953150749 and parameters: {'lr': 0.00011814741634423412, 'annealing_0': 0.3221025468742477, 'annealing_1': 0.2984143654811373}. Best is trial 17 with value: 0.05806499719619751.\n"
     ]
    },
    {
     "data": {
      "application/vnd.jupyter.widget-view+json": {
       "model_id": "1421498571d74a208f47c5ae56af2248",
       "version_major": 2,
       "version_minor": 0
      },
      "text/plain": [
       "  0%|          | 0/3125 [00:00<?, ?it/s]"
      ]
     },
     "metadata": {},
     "output_type": "display_data"
    },
    {
     "name": "stdout",
     "output_type": "stream",
     "text": [
      "[I 2024-02-08 08:22:00,896] Trial 46 finished with value: 0.05589499697089195 and parameters: {'lr': 0.00015319555232548422, 'annealing_0': 0.1756611571951918, 'annealing_1': 0.31416394749845017}. Best is trial 17 with value: 0.05806499719619751.\n"
     ]
    },
    {
     "data": {
      "application/vnd.jupyter.widget-view+json": {
       "model_id": "fd567378cd5f427d91256c4509382a3b",
       "version_major": 2,
       "version_minor": 0
      },
      "text/plain": [
       "  0%|          | 0/3125 [00:00<?, ?it/s]"
      ]
     },
     "metadata": {},
     "output_type": "display_data"
    },
    {
     "name": "stdout",
     "output_type": "stream",
     "text": [
      "[I 2024-02-08 08:22:57,677] Trial 47 finished with value: 0.028199998661875725 and parameters: {'lr': 0.0015644823724802546, 'annealing_0': 0.12836293783521993, 'annealing_1': 0.40148961297061436}. Best is trial 17 with value: 0.05806499719619751.\n"
     ]
    },
    {
     "data": {
      "application/vnd.jupyter.widget-view+json": {
       "model_id": "cc3ba739e63343958bbac97687bd0d78",
       "version_major": 2,
       "version_minor": 0
      },
      "text/plain": [
       "  0%|          | 0/3125 [00:00<?, ?it/s]"
      ]
     },
     "metadata": {},
     "output_type": "display_data"
    },
    {
     "name": "stdout",
     "output_type": "stream",
     "text": [
      "[I 2024-02-08 08:23:55,441] Trial 48 finished with value: 0.0517599992454052 and parameters: {'lr': 0.0003678412461789168, 'annealing_0': 0.2085971653854986, 'annealing_1': 0.37684957236445055}. Best is trial 17 with value: 0.05806499719619751.\n"
     ]
    },
    {
     "data": {
      "application/vnd.jupyter.widget-view+json": {
       "model_id": "962340312531470fb1899b5233ddb933",
       "version_major": 2,
       "version_minor": 0
      },
      "text/plain": [
       "  0%|          | 0/3125 [00:00<?, ?it/s]"
      ]
     },
     "metadata": {},
     "output_type": "display_data"
    },
    {
     "name": "stdout",
     "output_type": "stream",
     "text": [
      "[I 2024-02-08 08:24:53,459] Trial 49 finished with value: 0.05494999885559082 and parameters: {'lr': 0.00019486960471588253, 'annealing_0': 0.11644977715115873, 'annealing_1': 0.3556448423338949}. Best is trial 17 with value: 0.05806499719619751.\n"
     ]
    },
    {
     "data": {
      "application/vnd.jupyter.widget-view+json": {
       "model_id": "82754441776b4ecfb5c10ed741552465",
       "version_major": 2,
       "version_minor": 0
      },
      "text/plain": [
       "  0%|          | 0/3125 [00:00<?, ?it/s]"
      ]
     },
     "metadata": {},
     "output_type": "display_data"
    },
    {
     "name": "stdout",
     "output_type": "stream",
     "text": [
      "[I 2024-02-08 08:25:50,973] Trial 50 finished with value: 0.03929999843239784 and parameters: {'lr': 0.00012105333716240818, 'annealing_0': 0.3744346573350685, 'annealing_1': 0.2858822678491455}. Best is trial 17 with value: 0.05806499719619751.\n"
     ]
    },
    {
     "data": {
      "application/vnd.jupyter.widget-view+json": {
       "model_id": "bfdc2d96dedc4d819a622216fa95a650",
       "version_major": 2,
       "version_minor": 0
      },
      "text/plain": [
       "  0%|          | 0/3125 [00:00<?, ?it/s]"
      ]
     },
     "metadata": {},
     "output_type": "display_data"
    },
    {
     "name": "stdout",
     "output_type": "stream",
     "text": [
      "[I 2024-02-08 08:26:48,857] Trial 51 finished with value: 0.05994999781250954 and parameters: {'lr': 0.0001738899628028573, 'annealing_0': 0.11974082523759164, 'annealing_1': 0.16225720894770088}. Best is trial 51 with value: 0.05994999781250954.\n"
     ]
    },
    {
     "data": {
      "application/vnd.jupyter.widget-view+json": {
       "model_id": "d917747be4474aebb192d0f09d0ea646",
       "version_major": 2,
       "version_minor": 0
      },
      "text/plain": [
       "  0%|          | 0/3125 [00:00<?, ?it/s]"
      ]
     },
     "metadata": {},
     "output_type": "display_data"
    },
    {
     "name": "stdout",
     "output_type": "stream",
     "text": [
      "[I 2024-02-08 08:27:43,800] Trial 52 finished with value: 0.050874996930360794 and parameters: {'lr': 0.00023144029462271104, 'annealing_0': 0.13908374807046275, 'annealing_1': 0.13367613446462367}. Best is trial 51 with value: 0.05994999781250954.\n"
     ]
    },
    {
     "data": {
      "application/vnd.jupyter.widget-view+json": {
       "model_id": "1ea26ba539904f649d777cda3f94183a",
       "version_major": 2,
       "version_minor": 0
      },
      "text/plain": [
       "  0%|          | 0/3125 [00:00<?, ?it/s]"
      ]
     },
     "metadata": {},
     "output_type": "display_data"
    },
    {
     "name": "stdout",
     "output_type": "stream",
     "text": [
      "[I 2024-02-08 08:28:39,277] Trial 53 finished with value: 0.037675000727176666 and parameters: {'lr': 0.00031757468480206205, 'annealing_0': 0.43423808227901883, 'annealing_1': 0.16177581527718854}. Best is trial 51 with value: 0.05994999781250954.\n"
     ]
    },
    {
     "data": {
      "application/vnd.jupyter.widget-view+json": {
       "model_id": "0d1daa98a3fd4aa298a4d129ff5f2f0b",
       "version_major": 2,
       "version_minor": 0
      },
      "text/plain": [
       "  0%|          | 0/3125 [00:00<?, ?it/s]"
      ]
     },
     "metadata": {},
     "output_type": "display_data"
    },
    {
     "name": "stdout",
     "output_type": "stream",
     "text": [
      "[I 2024-02-08 08:29:38,652] Trial 54 finished with value: 0.03466000035405159 and parameters: {'lr': 0.00014410288654141183, 'annealing_0': 0.11767685328532451, 'annealing_1': 0.10104647678718978}. Best is trial 51 with value: 0.05994999781250954.\n"
     ]
    },
    {
     "data": {
      "application/vnd.jupyter.widget-view+json": {
       "model_id": "80fcf61999944d6284f945df5f9e09b8",
       "version_major": 2,
       "version_minor": 0
      },
      "text/plain": [
       "  0%|          | 0/3125 [00:00<?, ?it/s]"
      ]
     },
     "metadata": {},
     "output_type": "display_data"
    },
    {
     "name": "stdout",
     "output_type": "stream",
     "text": [
      "[I 2024-02-08 08:30:35,316] Trial 55 finished with value: 0.05127499997615814 and parameters: {'lr': 0.00018531455810719315, 'annealing_0': 0.15339486583753856, 'annealing_1': 0.41049574167079866}. Best is trial 51 with value: 0.05994999781250954.\n"
     ]
    },
    {
     "data": {
      "application/vnd.jupyter.widget-view+json": {
       "model_id": "f143e8d4a3824016bce516d34df3badf",
       "version_major": 2,
       "version_minor": 0
      },
      "text/plain": [
       "  0%|          | 0/3125 [00:00<?, ?it/s]"
      ]
     },
     "metadata": {},
     "output_type": "display_data"
    },
    {
     "name": "stdout",
     "output_type": "stream",
     "text": [
      "[I 2024-02-08 08:31:31,634] Trial 56 finished with value: 0.05855000019073486 and parameters: {'lr': 0.00026400387389855786, 'annealing_0': 0.11182139224049242, 'annealing_1': 0.2515932712200752}. Best is trial 51 with value: 0.05994999781250954.\n"
     ]
    },
    {
     "data": {
      "application/vnd.jupyter.widget-view+json": {
       "model_id": "6df445984837406d88f878786be30ae4",
       "version_major": 2,
       "version_minor": 0
      },
      "text/plain": [
       "  0%|          | 0/3125 [00:00<?, ?it/s]"
      ]
     },
     "metadata": {},
     "output_type": "display_data"
    },
    {
     "name": "stdout",
     "output_type": "stream",
     "text": [
      "[I 2024-02-08 08:32:29,311] Trial 57 finished with value: 0.035599999129772186 and parameters: {'lr': 0.00026425967101089234, 'annealing_0': 0.4809082587522141, 'annealing_1': 0.17450282331801364}. Best is trial 51 with value: 0.05994999781250954.\n"
     ]
    },
    {
     "data": {
      "application/vnd.jupyter.widget-view+json": {
       "model_id": "b5ab960856b5464ba77228700b93272e",
       "version_major": 2,
       "version_minor": 0
      },
      "text/plain": [
       "  0%|          | 0/3125 [00:00<?, ?it/s]"
      ]
     },
     "metadata": {},
     "output_type": "display_data"
    },
    {
     "name": "stdout",
     "output_type": "stream",
     "text": [
      "[I 2024-02-08 08:33:26,298] Trial 58 finished with value: 0.04405000060796738 and parameters: {'lr': 0.00045611091004237953, 'annealing_0': 0.14114885407113123, 'annealing_1': 0.2413447090689384}. Best is trial 51 with value: 0.05994999781250954.\n"
     ]
    },
    {
     "data": {
      "application/vnd.jupyter.widget-view+json": {
       "model_id": "15f3b46c1e1649f192e1961be1e126a9",
       "version_major": 2,
       "version_minor": 0
      },
      "text/plain": [
       "  0%|          | 0/3125 [00:00<?, ?it/s]"
      ]
     },
     "metadata": {},
     "output_type": "display_data"
    },
    {
     "name": "stdout",
     "output_type": "stream",
     "text": [
      "[I 2024-02-08 08:34:27,370] Trial 59 finished with value: 0.05520499870181084 and parameters: {'lr': 0.00031324299665762766, 'annealing_0': 0.16908198191122872, 'annealing_1': 0.2531502666910043}. Best is trial 51 with value: 0.05994999781250954.\n"
     ]
    },
    {
     "data": {
      "application/vnd.jupyter.widget-view+json": {
       "model_id": "6fb09951a8fc432c9304929f02369e69",
       "version_major": 2,
       "version_minor": 0
      },
      "text/plain": [
       "  0%|          | 0/3125 [00:00<?, ?it/s]"
      ]
     },
     "metadata": {},
     "output_type": "display_data"
    },
    {
     "name": "stdout",
     "output_type": "stream",
     "text": [
      "[I 2024-02-08 08:35:27,924] Trial 60 finished with value: 0.05282500013709068 and parameters: {'lr': 0.0002168549218945302, 'annealing_0': 0.10732430235732032, 'annealing_1': 0.21489432870819614}. Best is trial 51 with value: 0.05994999781250954.\n"
     ]
    },
    {
     "data": {
      "application/vnd.jupyter.widget-view+json": {
       "model_id": "309266309c6e4323acf86c86f443384d",
       "version_major": 2,
       "version_minor": 0
      },
      "text/plain": [
       "  0%|          | 0/3125 [00:00<?, ?it/s]"
      ]
     },
     "metadata": {},
     "output_type": "display_data"
    },
    {
     "name": "stdout",
     "output_type": "stream",
     "text": [
      "[I 2024-02-08 08:36:24,261] Trial 61 finished with value: 0.05378499999642372 and parameters: {'lr': 0.00017169973358886425, 'annealing_0': 0.12571980027939028, 'annealing_1': 0.4990925113311497}. Best is trial 51 with value: 0.05994999781250954.\n"
     ]
    },
    {
     "data": {
      "application/vnd.jupyter.widget-view+json": {
       "model_id": "e3d1147e704d4b2fbc80d3911a610d09",
       "version_major": 2,
       "version_minor": 0
      },
      "text/plain": [
       "  0%|          | 0/3125 [00:00<?, ?it/s]"
      ]
     },
     "metadata": {},
     "output_type": "display_data"
    },
    {
     "name": "stdout",
     "output_type": "stream",
     "text": [
      "[I 2024-02-08 08:37:19,405] Trial 62 finished with value: 0.047449998557567596 and parameters: {'lr': 0.00011680274066277669, 'annealing_0': 0.11271023612176478, 'annealing_1': 0.1939666715924827}. Best is trial 51 with value: 0.05994999781250954.\n"
     ]
    },
    {
     "data": {
      "application/vnd.jupyter.widget-view+json": {
       "model_id": "1e8d626a9b304ecfb5ca13825ad6a163",
       "version_major": 2,
       "version_minor": 0
      },
      "text/plain": [
       "  0%|          | 0/3125 [00:00<?, ?it/s]"
      ]
     },
     "metadata": {},
     "output_type": "display_data"
    },
    {
     "name": "stdout",
     "output_type": "stream",
     "text": [
      "[I 2024-02-08 08:38:15,922] Trial 63 finished with value: 0.057909999042749405 and parameters: {'lr': 0.0002046200844231911, 'annealing_0': 0.10015039678295648, 'annealing_1': 0.3338102374659952}. Best is trial 51 with value: 0.05994999781250954.\n"
     ]
    },
    {
     "data": {
      "application/vnd.jupyter.widget-view+json": {
       "model_id": "e44444d75b9849cf9dd0d43ad6eafa98",
       "version_major": 2,
       "version_minor": 0
      },
      "text/plain": [
       "  0%|          | 0/3125 [00:00<?, ?it/s]"
      ]
     },
     "metadata": {},
     "output_type": "display_data"
    },
    {
     "name": "stdout",
     "output_type": "stream",
     "text": [
      "[I 2024-02-08 08:39:11,542] Trial 64 finished with value: 0.06030000001192093 and parameters: {'lr': 0.00023578701760434184, 'annealing_0': 0.10099114179161942, 'annealing_1': 0.3309730934805988}. Best is trial 64 with value: 0.06030000001192093.\n"
     ]
    },
    {
     "data": {
      "application/vnd.jupyter.widget-view+json": {
       "model_id": "7377a25dc8704229866fb7b8c81cd6c3",
       "version_major": 2,
       "version_minor": 0
      },
      "text/plain": [
       "  0%|          | 0/3125 [00:00<?, ?it/s]"
      ]
     },
     "metadata": {},
     "output_type": "display_data"
    },
    {
     "name": "stdout",
     "output_type": "stream",
     "text": [
      "[I 2024-02-08 08:40:07,413] Trial 65 finished with value: 0.050324998795986176 and parameters: {'lr': 0.00028887393981032785, 'annealing_0': 0.10109887181668592, 'annealing_1': 0.32951602147070247}. Best is trial 64 with value: 0.06030000001192093.\n"
     ]
    },
    {
     "data": {
      "application/vnd.jupyter.widget-view+json": {
       "model_id": "b108ab6dfa6548e294ed9e46618aa70e",
       "version_major": 2,
       "version_minor": 0
      },
      "text/plain": [
       "  0%|          | 0/3125 [00:00<?, ?it/s]"
      ]
     },
     "metadata": {},
     "output_type": "display_data"
    },
    {
     "name": "stdout",
     "output_type": "stream",
     "text": [
      "[I 2024-02-08 08:41:03,290] Trial 66 finished with value: 0.05130000039935112 and parameters: {'lr': 0.0003828195558588639, 'annealing_0': 0.13681469551464695, 'annealing_1': 0.3141014679925393}. Best is trial 64 with value: 0.06030000001192093.\n"
     ]
    },
    {
     "data": {
      "application/vnd.jupyter.widget-view+json": {
       "model_id": "13efd5a8d88a464c810bb505601e62c6",
       "version_major": 2,
       "version_minor": 0
      },
      "text/plain": [
       "  0%|          | 0/3125 [00:00<?, ?it/s]"
      ]
     },
     "metadata": {},
     "output_type": "display_data"
    },
    {
     "name": "stdout",
     "output_type": "stream",
     "text": [
      "[I 2024-02-08 08:42:01,892] Trial 67 finished with value: 0.04915999993681908 and parameters: {'lr': 0.00020008420220222787, 'annealing_0': 0.1483507296331308, 'annealing_1': 0.2762936018459748}. Best is trial 64 with value: 0.06030000001192093.\n"
     ]
    },
    {
     "data": {
      "application/vnd.jupyter.widget-view+json": {
       "model_id": "da07e30839b44db391d7378a8bc98ee1",
       "version_major": 2,
       "version_minor": 0
      },
      "text/plain": [
       "  0%|          | 0/3125 [00:00<?, ?it/s]"
      ]
     },
     "metadata": {},
     "output_type": "display_data"
    },
    {
     "name": "stdout",
     "output_type": "stream",
     "text": [
      "[I 2024-02-08 08:42:59,152] Trial 68 finished with value: 0.035749997943639755 and parameters: {'lr': 0.0001425800510870836, 'annealing_0': 0.40769007136824315, 'annealing_1': 0.33551034919030265}. Best is trial 64 with value: 0.06030000001192093.\n"
     ]
    },
    {
     "data": {
      "application/vnd.jupyter.widget-view+json": {
       "model_id": "dfa29f553011488ea8df9637009ac793",
       "version_major": 2,
       "version_minor": 0
      },
      "text/plain": [
       "  0%|          | 0/3125 [00:00<?, ?it/s]"
      ]
     },
     "metadata": {},
     "output_type": "display_data"
    },
    {
     "name": "stdout",
     "output_type": "stream",
     "text": [
      "[I 2024-02-08 08:43:58,365] Trial 69 finished with value: 0.058649998158216476 and parameters: {'lr': 0.00024026615801965912, 'annealing_0': 0.1084204308634062, 'annealing_1': 0.30625965701059604}. Best is trial 64 with value: 0.06030000001192093.\n"
     ]
    },
    {
     "data": {
      "application/vnd.jupyter.widget-view+json": {
       "model_id": "03767eff8fe24744b9e98e61a890f20b",
       "version_major": 2,
       "version_minor": 0
      },
      "text/plain": [
       "  0%|          | 0/3125 [00:00<?, ?it/s]"
      ]
     },
     "metadata": {},
     "output_type": "display_data"
    },
    {
     "name": "stdout",
     "output_type": "stream",
     "text": [
      "[I 2024-02-08 08:44:56,213] Trial 70 finished with value: 0.045524999499320984 and parameters: {'lr': 0.0005221232133838256, 'annealing_0': 0.1329682106278466, 'annealing_1': 0.28606858905178595}. Best is trial 64 with value: 0.06030000001192093.\n"
     ]
    },
    {
     "data": {
      "application/vnd.jupyter.widget-view+json": {
       "model_id": "1ba35fbc98c9468b908fc7295fb6f1dc",
       "version_major": 2,
       "version_minor": 0
      },
      "text/plain": [
       "  0%|          | 0/3125 [00:00<?, ?it/s]"
      ]
     },
     "metadata": {},
     "output_type": "display_data"
    },
    {
     "name": "stdout",
     "output_type": "stream",
     "text": [
      "[I 2024-02-08 08:45:53,094] Trial 71 finished with value: 0.047404997050762177 and parameters: {'lr': 0.00025868609220717467, 'annealing_0': 0.11082689668662944, 'annealing_1': 0.30486698903247034}. Best is trial 64 with value: 0.06030000001192093.\n"
     ]
    },
    {
     "data": {
      "application/vnd.jupyter.widget-view+json": {
       "model_id": "d9b95c93cdf24a4caef2585c7426c016",
       "version_major": 2,
       "version_minor": 0
      },
      "text/plain": [
       "  0%|          | 0/3125 [00:00<?, ?it/s]"
      ]
     },
     "metadata": {},
     "output_type": "display_data"
    },
    {
     "name": "stdout",
     "output_type": "stream",
     "text": [
      "[I 2024-02-08 08:46:49,638] Trial 72 finished with value: 0.05747499689459801 and parameters: {'lr': 0.0002304990666137908, 'annealing_0': 0.10034957722762523, 'annealing_1': 0.34619956165401455}. Best is trial 64 with value: 0.06030000001192093.\n"
     ]
    },
    {
     "data": {
      "application/vnd.jupyter.widget-view+json": {
       "model_id": "35920778382b4a628b9c93aa909a7495",
       "version_major": 2,
       "version_minor": 0
      },
      "text/plain": [
       "  0%|          | 0/3125 [00:00<?, ?it/s]"
      ]
     },
     "metadata": {},
     "output_type": "display_data"
    },
    {
     "name": "stdout",
     "output_type": "stream",
     "text": [
      "[I 2024-02-08 08:47:45,859] Trial 73 finished with value: 0.05339999869465828 and parameters: {'lr': 0.0002287286252829833, 'annealing_0': 0.10184873990598005, 'annealing_1': 0.32384967999971054}. Best is trial 64 with value: 0.06030000001192093.\n"
     ]
    },
    {
     "data": {
      "application/vnd.jupyter.widget-view+json": {
       "model_id": "8ce610e68c1b426bb488a0a3c605cf20",
       "version_major": 2,
       "version_minor": 0
      },
      "text/plain": [
       "  0%|          | 0/3125 [00:00<?, ?it/s]"
      ]
     },
     "metadata": {},
     "output_type": "display_data"
    },
    {
     "name": "stdout",
     "output_type": "stream",
     "text": [
      "[I 2024-02-08 08:48:41,441] Trial 74 finished with value: 0.05312499776482582 and parameters: {'lr': 0.00033348045703974165, 'annealing_0': 0.12936241168617815, 'annealing_1': 0.30767685638572567}. Best is trial 64 with value: 0.06030000001192093.\n"
     ]
    },
    {
     "data": {
      "application/vnd.jupyter.widget-view+json": {
       "model_id": "36744ebcc10f475791f66cbe80783922",
       "version_major": 2,
       "version_minor": 0
      },
      "text/plain": [
       "  0%|          | 0/3125 [00:00<?, ?it/s]"
      ]
     },
     "metadata": {},
     "output_type": "display_data"
    },
    {
     "name": "stdout",
     "output_type": "stream",
     "text": [
      "[I 2024-02-08 08:49:37,900] Trial 75 finished with value: 0.05525000020861626 and parameters: {'lr': 0.00020182642418115334, 'annealing_0': 0.14620341287547417, 'annealing_1': 0.2861256855379629}. Best is trial 64 with value: 0.06030000001192093.\n"
     ]
    },
    {
     "data": {
      "application/vnd.jupyter.widget-view+json": {
       "model_id": "f4d3b4f7d0a04f0e9b56060ff0ac5e2b",
       "version_major": 2,
       "version_minor": 0
      },
      "text/plain": [
       "  0%|          | 0/3125 [00:00<?, ?it/s]"
      ]
     },
     "metadata": {},
     "output_type": "display_data"
    },
    {
     "name": "stdout",
     "output_type": "stream",
     "text": [
      "[I 2024-02-08 08:50:35,482] Trial 76 finished with value: 0.0486999973654747 and parameters: {'lr': 0.0002416646097817916, 'annealing_0': 0.1894068501044307, 'annealing_1': 0.341257457338973}. Best is trial 64 with value: 0.06030000001192093.\n"
     ]
    },
    {
     "data": {
      "application/vnd.jupyter.widget-view+json": {
       "model_id": "eceaac8fb0dd43cf9ee1933a66088d26",
       "version_major": 2,
       "version_minor": 0
      },
      "text/plain": [
       "  0%|          | 0/3125 [00:00<?, ?it/s]"
      ]
     },
     "metadata": {},
     "output_type": "display_data"
    },
    {
     "name": "stdout",
     "output_type": "stream",
     "text": [
      "[I 2024-02-08 08:51:32,656] Trial 77 finished with value: 0.05834999680519104 and parameters: {'lr': 0.00028448727138324735, 'annealing_0': 0.10830736079204933, 'annealing_1': 0.26741859329527135}. Best is trial 64 with value: 0.06030000001192093.\n"
     ]
    },
    {
     "data": {
      "application/vnd.jupyter.widget-view+json": {
       "model_id": "b193bbf15aa54154b200a2c0cfc8c400",
       "version_major": 2,
       "version_minor": 0
      },
      "text/plain": [
       "  0%|          | 0/3125 [00:00<?, ?it/s]"
      ]
     },
     "metadata": {},
     "output_type": "display_data"
    },
    {
     "name": "stdout",
     "output_type": "stream",
     "text": [
      "[I 2024-02-08 08:52:29,468] Trial 78 finished with value: 0.05444999784231186 and parameters: {'lr': 0.0003912483247906017, 'annealing_0': 0.15735120980929482, 'annealing_1': 0.2366990969861728}. Best is trial 64 with value: 0.06030000001192093.\n"
     ]
    },
    {
     "data": {
      "application/vnd.jupyter.widget-view+json": {
       "model_id": "22eba50135e943a8a69b6ab7e448b7ff",
       "version_major": 2,
       "version_minor": 0
      },
      "text/plain": [
       "  0%|          | 0/3125 [00:00<?, ?it/s]"
      ]
     },
     "metadata": {},
     "output_type": "display_data"
    },
    {
     "name": "stdout",
     "output_type": "stream",
     "text": [
      "[I 2024-02-08 08:53:27,401] Trial 79 finished with value: 0.04672499746084213 and parameters: {'lr': 0.0006510929426526076, 'annealing_0': 0.12626198725431373, 'annealing_1': 0.25450405971972084}. Best is trial 64 with value: 0.06030000001192093.\n"
     ]
    },
    {
     "data": {
      "application/vnd.jupyter.widget-view+json": {
       "model_id": "90f851a1baa64429a837d1fd74d95dae",
       "version_major": 2,
       "version_minor": 0
      },
      "text/plain": [
       "  0%|          | 0/3125 [00:00<?, ?it/s]"
      ]
     },
     "metadata": {},
     "output_type": "display_data"
    },
    {
     "name": "stdout",
     "output_type": "stream",
     "text": [
      "[I 2024-02-08 08:54:23,429] Trial 80 finished with value: 0.056049998849630356 and parameters: {'lr': 0.00029649806602208826, 'annealing_0': 0.11100563840443484, 'annealing_1': 0.25673263243680705}. Best is trial 64 with value: 0.06030000001192093.\n"
     ]
    },
    {
     "data": {
      "application/vnd.jupyter.widget-view+json": {
       "model_id": "17063744091f4a56bc85a9c75a50e2d3",
       "version_major": 2,
       "version_minor": 0
      },
      "text/plain": [
       "  0%|          | 0/3125 [00:00<?, ?it/s]"
      ]
     },
     "metadata": {},
     "output_type": "display_data"
    },
    {
     "name": "stdout",
     "output_type": "stream",
     "text": [
      "[I 2024-02-08 08:55:19,628] Trial 81 finished with value: 0.048624999821186066 and parameters: {'lr': 0.0001559557031883035, 'annealing_0': 0.11081053347517282, 'annealing_1': 0.2737357109242102}. Best is trial 64 with value: 0.06030000001192093.\n"
     ]
    },
    {
     "data": {
      "application/vnd.jupyter.widget-view+json": {
       "model_id": "44e25a0932b0405b9e02055a917dd1eb",
       "version_major": 2,
       "version_minor": 0
      },
      "text/plain": [
       "  0%|          | 0/3125 [00:00<?, ?it/s]"
      ]
     },
     "metadata": {},
     "output_type": "display_data"
    },
    {
     "name": "stdout",
     "output_type": "stream",
     "text": [
      "[I 2024-02-08 08:56:16,482] Trial 82 finished with value: 0.050974998623132706 and parameters: {'lr': 0.0002142665189796165, 'annealing_0': 0.1000274799367081, 'annealing_1': 0.29539308298486544}. Best is trial 64 with value: 0.06030000001192093.\n"
     ]
    },
    {
     "data": {
      "application/vnd.jupyter.widget-view+json": {
       "model_id": "9d38afc40e0043f88bb79a64c12b6caa",
       "version_major": 2,
       "version_minor": 0
      },
      "text/plain": [
       "  0%|          | 0/3125 [00:00<?, ?it/s]"
      ]
     },
     "metadata": {},
     "output_type": "display_data"
    },
    {
     "name": "stdout",
     "output_type": "stream",
     "text": [
      "[I 2024-02-08 08:57:13,898] Trial 83 finished with value: 0.03765000030398369 and parameters: {'lr': 0.00026396747376872335, 'annealing_0': 0.12470636762191933, 'annealing_1': 0.14902475779796737}. Best is trial 64 with value: 0.06030000001192093.\n"
     ]
    },
    {
     "data": {
      "application/vnd.jupyter.widget-view+json": {
       "model_id": "8f90bcd326a74f40a7f9ac672b1bef1a",
       "version_major": 2,
       "version_minor": 0
      },
      "text/plain": [
       "  0%|          | 0/3125 [00:00<?, ?it/s]"
      ]
     },
     "metadata": {},
     "output_type": "display_data"
    },
    {
     "name": "stdout",
     "output_type": "stream",
     "text": [
      "[I 2024-02-08 08:58:09,095] Trial 84 finished with value: 0.02774999849498272 and parameters: {'lr': 0.0008756214930354262, 'annealing_0': 0.13980827963571318, 'annealing_1': 0.22843207539040514}. Best is trial 64 with value: 0.06030000001192093.\n"
     ]
    },
    {
     "data": {
      "application/vnd.jupyter.widget-view+json": {
       "model_id": "180ab837c3be432f8fbba6a1764c5c2b",
       "version_major": 2,
       "version_minor": 0
      },
      "text/plain": [
       "  0%|          | 0/3125 [00:00<?, ?it/s]"
      ]
     },
     "metadata": {},
     "output_type": "display_data"
    },
    {
     "name": "stdout",
     "output_type": "stream",
     "text": [
      "[I 2024-02-08 08:59:04,545] Trial 85 finished with value: 0.020475000143051147 and parameters: {'lr': 0.006276552724678374, 'annealing_0': 0.11226683396217849, 'annealing_1': 0.3200855913889028}. Best is trial 64 with value: 0.06030000001192093.\n"
     ]
    },
    {
     "data": {
      "application/vnd.jupyter.widget-view+json": {
       "model_id": "3b14715f1d464ed79aa25b84e217e276",
       "version_major": 2,
       "version_minor": 0
      },
      "text/plain": [
       "  0%|          | 0/3125 [00:00<?, ?it/s]"
      ]
     },
     "metadata": {},
     "output_type": "display_data"
    },
    {
     "name": "stdout",
     "output_type": "stream",
     "text": [
      "[I 2024-02-08 09:00:02,165] Trial 86 finished with value: 0.05207499861717224 and parameters: {'lr': 0.0003503611723210712, 'annealing_0': 0.1325317694130646, 'annealing_1': 0.34874510977836237}. Best is trial 64 with value: 0.06030000001192093.\n"
     ]
    },
    {
     "data": {
      "application/vnd.jupyter.widget-view+json": {
       "model_id": "47e80f535bcd4e6a823e7804f44fcc80",
       "version_major": 2,
       "version_minor": 0
      },
      "text/plain": [
       "  0%|          | 0/3125 [00:00<?, ?it/s]"
      ]
     },
     "metadata": {},
     "output_type": "display_data"
    },
    {
     "name": "stdout",
     "output_type": "stream",
     "text": [
      "[I 2024-02-08 09:01:00,790] Trial 87 finished with value: 0.02357499860227108 and parameters: {'lr': 0.0023052999878846138, 'annealing_0': 0.12164217308671849, 'annealing_1': 0.3840123068239923}. Best is trial 64 with value: 0.06030000001192093.\n"
     ]
    },
    {
     "data": {
      "application/vnd.jupyter.widget-view+json": {
       "model_id": "c0ed9886ecbe4a978b41b739a140113d",
       "version_major": 2,
       "version_minor": 0
      },
      "text/plain": [
       "  0%|          | 0/3125 [00:00<?, ?it/s]"
      ]
     },
     "metadata": {},
     "output_type": "display_data"
    },
    {
     "name": "stdout",
     "output_type": "stream",
     "text": [
      "[I 2024-02-08 09:01:55,974] Trial 88 finished with value: 0.05226000025868416 and parameters: {'lr': 0.0001794644051061322, 'annealing_0': 0.10029089455859379, 'annealing_1': 0.2909134802226563}. Best is trial 64 with value: 0.06030000001192093.\n"
     ]
    },
    {
     "data": {
      "application/vnd.jupyter.widget-view+json": {
       "model_id": "d4be9346acb34a0d8a1d10d585965126",
       "version_major": 2,
       "version_minor": 0
      },
      "text/plain": [
       "  0%|          | 0/3125 [00:00<?, ?it/s]"
      ]
     },
     "metadata": {},
     "output_type": "display_data"
    },
    {
     "name": "stdout",
     "output_type": "stream",
     "text": [
      "[I 2024-02-08 09:02:52,044] Trial 89 finished with value: 0.0489949993789196 and parameters: {'lr': 0.00010992483978432795, 'annealing_0': 0.1648775077110457, 'annealing_1': 0.26791995066019986}. Best is trial 64 with value: 0.06030000001192093.\n"
     ]
    },
    {
     "data": {
      "application/vnd.jupyter.widget-view+json": {
       "model_id": "c2e992d4ba6046a3b090d31c8fbaf534",
       "version_major": 2,
       "version_minor": 0
      },
      "text/plain": [
       "  0%|          | 0/3125 [00:00<?, ?it/s]"
      ]
     },
     "metadata": {},
     "output_type": "display_data"
    },
    {
     "name": "stdout",
     "output_type": "stream",
     "text": [
      "[I 2024-02-08 09:03:50,004] Trial 90 finished with value: 0.05247499793767929 and parameters: {'lr': 0.0001339800417952518, 'annealing_0': 0.14570233514283312, 'annealing_1': 0.48550671670724893}. Best is trial 64 with value: 0.06030000001192093.\n"
     ]
    },
    {
     "data": {
      "application/vnd.jupyter.widget-view+json": {
       "model_id": "a4e0b3f00e1f419288faf2cb0728173a",
       "version_major": 2,
       "version_minor": 0
      },
      "text/plain": [
       "  0%|          | 0/3125 [00:00<?, ?it/s]"
      ]
     },
     "metadata": {},
     "output_type": "display_data"
    },
    {
     "name": "stdout",
     "output_type": "stream",
     "text": [
      "[I 2024-02-08 09:04:47,818] Trial 91 finished with value: 0.054704997688531876 and parameters: {'lr': 0.00016190835151266562, 'annealing_0': 0.11972232247947523, 'annealing_1': 0.3517824443424916}. Best is trial 64 with value: 0.06030000001192093.\n"
     ]
    },
    {
     "data": {
      "application/vnd.jupyter.widget-view+json": {
       "model_id": "9b1b57625d8843df842049d453b0ca7b",
       "version_major": 2,
       "version_minor": 0
      },
      "text/plain": [
       "  0%|          | 0/3125 [00:00<?, ?it/s]"
      ]
     },
     "metadata": {},
     "output_type": "display_data"
    },
    {
     "name": "stdout",
     "output_type": "stream",
     "text": [
      "[I 2024-02-08 09:05:43,106] Trial 92 finished with value: 0.0543999969959259 and parameters: {'lr': 0.0001947851776519281, 'annealing_0': 0.10926542101888562, 'annealing_1': 0.31185911324876775}. Best is trial 64 with value: 0.06030000001192093.\n"
     ]
    },
    {
     "data": {
      "application/vnd.jupyter.widget-view+json": {
       "model_id": "f544cd5b110b40b0a1102c995f9f81f6",
       "version_major": 2,
       "version_minor": 0
      },
      "text/plain": [
       "  0%|          | 0/3125 [00:00<?, ?it/s]"
      ]
     },
     "metadata": {},
     "output_type": "display_data"
    },
    {
     "name": "stdout",
     "output_type": "stream",
     "text": [
      "[I 2024-02-08 09:06:38,306] Trial 93 finished with value: 0.05712499842047691 and parameters: {'lr': 0.00022707472756205524, 'annealing_0': 0.11962327843080552, 'annealing_1': 0.36678968745333956}. Best is trial 64 with value: 0.06030000001192093.\n"
     ]
    },
    {
     "data": {
      "application/vnd.jupyter.widget-view+json": {
       "model_id": "ba831e7f2800443cb13678644de5f9f5",
       "version_major": 2,
       "version_minor": 0
      },
      "text/plain": [
       "  0%|          | 0/3125 [00:00<?, ?it/s]"
      ]
     },
     "metadata": {},
     "output_type": "display_data"
    },
    {
     "name": "stdout",
     "output_type": "stream",
     "text": [
      "[I 2024-02-08 09:07:33,172] Trial 94 finished with value: 0.05350000038743019 and parameters: {'lr': 0.00027847620610459503, 'annealing_0': 0.13288439906191835, 'annealing_1': 0.33147640306741577}. Best is trial 64 with value: 0.06030000001192093.\n"
     ]
    },
    {
     "data": {
      "application/vnd.jupyter.widget-view+json": {
       "model_id": "ae96203215264eb69618a399c1250113",
       "version_major": 2,
       "version_minor": 0
      },
      "text/plain": [
       "  0%|          | 0/3125 [00:00<?, ?it/s]"
      ]
     },
     "metadata": {},
     "output_type": "display_data"
    },
    {
     "name": "stdout",
     "output_type": "stream",
     "text": [
      "[I 2024-02-08 09:08:30,193] Trial 95 finished with value: 0.05513499677181244 and parameters: {'lr': 0.0001843788265578959, 'annealing_0': 0.10875819026971743, 'annealing_1': 0.3009471375541049}. Best is trial 64 with value: 0.06030000001192093.\n"
     ]
    },
    {
     "data": {
      "application/vnd.jupyter.widget-view+json": {
       "model_id": "1903c4c69fdb4db1a6d0826eecd80fce",
       "version_major": 2,
       "version_minor": 0
      },
      "text/plain": [
       "  0%|          | 0/3125 [00:00<?, ?it/s]"
      ]
     },
     "metadata": {},
     "output_type": "display_data"
    },
    {
     "name": "stdout",
     "output_type": "stream",
     "text": [
      "[I 2024-02-08 09:09:26,369] Trial 96 finished with value: 0.03704499825835228 and parameters: {'lr': 0.0001677360691378805, 'annealing_0': 0.3554379589496852, 'annealing_1': 0.37411531383328445}. Best is trial 64 with value: 0.06030000001192093.\n"
     ]
    },
    {
     "data": {
      "application/vnd.jupyter.widget-view+json": {
       "model_id": "0a7e981e12a54ad68ce5c720dd6ec133",
       "version_major": 2,
       "version_minor": 0
      },
      "text/plain": [
       "  0%|          | 0/3125 [00:00<?, ?it/s]"
      ]
     },
     "metadata": {},
     "output_type": "display_data"
    },
    {
     "name": "stdout",
     "output_type": "stream",
     "text": [
      "[I 2024-02-08 09:10:25,561] Trial 97 finished with value: 0.05612500011920929 and parameters: {'lr': 0.0002446247376571047, 'annealing_0': 0.1196810474627796, 'annealing_1': 0.3399644369063081}. Best is trial 64 with value: 0.06030000001192093.\n"
     ]
    },
    {
     "data": {
      "application/vnd.jupyter.widget-view+json": {
       "model_id": "6e24c6a141c744ec816c72939acb846f",
       "version_major": 2,
       "version_minor": 0
      },
      "text/plain": [
       "  0%|          | 0/3125 [00:00<?, ?it/s]"
      ]
     },
     "metadata": {},
     "output_type": "display_data"
    },
    {
     "name": "stdout",
     "output_type": "stream",
     "text": [
      "[I 2024-02-08 09:11:20,641] Trial 98 finished with value: 0.05447499826550484 and parameters: {'lr': 0.00014811424719140612, 'annealing_0': 0.14987887719743048, 'annealing_1': 0.32592121209535746}. Best is trial 64 with value: 0.06030000001192093.\n"
     ]
    },
    {
     "data": {
      "application/vnd.jupyter.widget-view+json": {
       "model_id": "1a1327d6732e441cac9bcf834acb04ef",
       "version_major": 2,
       "version_minor": 0
      },
      "text/plain": [
       "  0%|          | 0/3125 [00:00<?, ?it/s]"
      ]
     },
     "metadata": {},
     "output_type": "display_data"
    },
    {
     "name": "stdout",
     "output_type": "stream",
     "text": [
      "[I 2024-02-08 09:12:17,577] Trial 99 finished with value: 0.04742499813437462 and parameters: {'lr': 0.00030333931288757627, 'annealing_0': 0.13638393633695456, 'annealing_1': 0.2816103518986375}. Best is trial 64 with value: 0.06030000001192093.\n"
     ]
    }
   ],
   "source": [
    "def objective(trial):\n",
    "    seed = 42\n",
    "    map_size = 4\n",
    "    max_interactions = 100_000\n",
    "    map_scale = int(jnp.log2(map_size))\n",
    "\n",
    "    # hyperparams\n",
    "    lr = trial.suggest_float(\"lr\", 1e-4, 1e-2, log=True)\n",
    "    rollout_length = 2 * map_size**2\n",
    "    n_rollouts = max_interactions // rollout_length\n",
    "    train_iter = 8\n",
    "\n",
    "    # setup annealing schedules\n",
    "    annealing_durations = [\n",
    "        int(train_iter * n_rollouts * trial.suggest_float(f\"annealing_{i}\", 0.1, 1.0 / map_scale))\n",
    "        for i in range(map_scale)\n",
    "    ]\n",
    "    annealing_starts = jnp.cumsum(jnp.array([0] + annealing_durations[:-1]))\n",
    "    annealing_schedules = [\n",
    "        optax.linear_schedule(1.0, 0.01, dur, start)\n",
    "        for dur, start in zip(annealing_durations, annealing_starts)\n",
    "    ]\n",
    "\n",
    "    @jax.jit\n",
    "    def annealing_fn(step):\n",
    "        return jnp.array([schedule(step) for schedule in annealing_schedules])\n",
    "\n",
    "    run_simulation = partial(\n",
    "        sim.run_mango_simulation,\n",
    "        map_size=map_size,\n",
    "        n_rollouts=n_rollouts,\n",
    "        rollout_length=rollout_length,\n",
    "        train_iter=train_iter,\n",
    "        lr=lr,\n",
    "        annealing_fn=annealing_fn,\n",
    "    )\n",
    "    rng_key = jax.random.PRNGKey(seed)\n",
    "    env, dql_state, results = jax.vmap(run_simulation)(jax.random.split(rng_key, 8))\n",
    "\n",
    "    best = results.eval_reward[:, :, :, 0, -1].max(axis=0)\n",
    "    worst = results.eval_reward[:, :, :, 0, -1].min(axis=0)\n",
    "    accuracy = (best.mean() + worst.mean())/2\n",
    "\n",
    "    return accuracy\n",
    "\n",
    "\n",
    "study = optuna.create_study(\n",
    "    study_name=\"mango\",\n",
    "    storage=\"sqlite:///mango4x4.db\",\n",
    "    load_if_exists=True,\n",
    "    direction=\"maximize\"\n",
    ")\n",
    "\n",
    "study.optimize(objective, n_trials=100, show_progress_bar=True)"
   ]
  }
 ],
 "metadata": {
  "kernelspec": {
   "display_name": "Python 3",
   "language": "python",
   "name": "python3"
  },
  "language_info": {
   "codemirror_mode": {
    "name": "ipython",
    "version": 3
   },
   "file_extension": ".py",
   "mimetype": "text/x-python",
   "name": "python",
   "nbconvert_exporter": "python",
   "pygments_lexer": "ipython3",
   "version": "3.10.13"
  }
 },
 "nbformat": 4,
 "nbformat_minor": 2
}
