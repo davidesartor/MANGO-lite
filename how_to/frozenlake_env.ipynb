{
 "cells": [
  {
   "cell_type": "markdown",
   "metadata": {},
   "source": [
    "# Custom FrozenLake Environment and Q-Value Visualization"
   ]
  },
  {
   "cell_type": "markdown",
   "metadata": {},
   "source": [
    "## Introduction\n",
    "\n",
    "This Jupyter Notebook provides a custom implementation of the FrozenLake environment in OpenAI Gym. Additionally, it includes functions for visualizing Q-values and trajectories in the environment.\n"
   ]
  },
  {
   "cell_type": "markdown",
   "metadata": {},
   "source": [
    "### Custom FrozenLake Environment\n",
    "\n",
    "The `CustomFrozenLakeEnv` class extends the standard FrozenLake environment. It allows for custom map generation and introduces a non-slippery version of the environment. The `generate_map` function creates a custom map with options to hide the goal, randomize the starting position, and mirror the map.\n"
   ]
  },
  {
   "cell_type": "markdown",
   "metadata": {},
   "source": [
    "### Wrapper Classes\n",
    "\n",
    "1. **ReInitOnReset**: This wrapper re-initializes the environment with specified parameters upon reset. It is useful for experimenting with different environments without creating a new instance each time.\n",
    "\n",
    "2. **CoordinateObservation**: This wrapper provides the agent's position as coordinate observations. It supports one-hot encoding of coordinates.\n",
    "\n",
    "3. **TensorObservation**: This wrapper converts the environment's state into a tensor representation, allowing for richer observations. It supports one-hot encoding and assigns specific integers to different elements on the map.\n",
    "\n",
    "4. **RenderObservation**: This wrapper captures the rendering of the environment as an observation, enabling visualizations.\n"
   ]
  },
  {
   "cell_type": "markdown",
   "metadata": {},
   "source": [
    "### Visualization Functions\n",
    "\n",
    "1. **plot_grid**: Plots a grid on the environment, useful for visualizing cell structures.\n",
    "\n",
    "2. **plot_trajectory**: Plots a trajectory on the environment based on a sequence of observations or states.\n",
    "\n",
    "3. **plot_qval_heatmap**: Plots a heatmap of Q-values for each state in the environment. Arrows indicate the action with the highest Q-value.\n",
    "\n",
    "4. **plot_all_qvals**: Plots Q-value heatmaps for each abstract layer in a given hierarchy. The function provides a comprehensive view of Q-values at different abstraction levels.\n"
   ]
  },
  {
   "cell_type": "code",
   "execution_count": 6,
   "metadata": {},
   "outputs": [],
   "source": [
    "#base path of the directory\n",
    "\n",
    "import sys\n",
    "sys.path.append(\"..\")"
   ]
  },
  {
   "cell_type": "code",
   "execution_count": 7,
   "metadata": {},
   "outputs": [
    {
     "ename": "ImportError",
     "evalue": "cannot import name 'CustomFrozenLakeEnv' from 'mango.environments' (unknown location)",
     "output_type": "error",
     "traceback": [
      "\u001b[0;31m---------------------------------------------------------------------------\u001b[0m",
      "\u001b[0;31mImportError\u001b[0m                               Traceback (most recent call last)",
      "\u001b[1;32m/Users/alessio/Documents/MANGO-lite/how_to/frozenlake_env.ipynb Cell 7\u001b[0m line \u001b[0;36m3\n\u001b[1;32m      <a href='vscode-notebook-cell:/Users/alessio/Documents/MANGO-lite/how_to/frozenlake_env.ipynb#W0sZmlsZQ%3D%3D?line=0'>1</a>\u001b[0m \u001b[39m## Example Usage\u001b[39;00m\n\u001b[0;32m----> <a href='vscode-notebook-cell:/Users/alessio/Documents/MANGO-lite/how_to/frozenlake_env.ipynb#W0sZmlsZQ%3D%3D?line=2'>3</a>\u001b[0m \u001b[39mfrom\u001b[39;00m \u001b[39mmango\u001b[39;00m\u001b[39m.\u001b[39;00m\u001b[39menvironments\u001b[39;00m \u001b[39mimport\u001b[39;00m CustomFrozenLakeEnv, CoordinateObservation, RenderObservation\n\u001b[1;32m      <a href='vscode-notebook-cell:/Users/alessio/Documents/MANGO-lite/how_to/frozenlake_env.ipynb#W0sZmlsZQ%3D%3D?line=3'>4</a>\u001b[0m \u001b[39mfrom\u001b[39;00m \u001b[39mmango\u001b[39;00m\u001b[39m.\u001b[39;00m\u001b[39menvironments\u001b[39;00m \u001b[39mimport\u001b[39;00m plot_grid, plot_qval_heatmap, plot_trajectory\n\u001b[1;32m      <a href='vscode-notebook-cell:/Users/alessio/Documents/MANGO-lite/how_to/frozenlake_env.ipynb#W0sZmlsZQ%3D%3D?line=5'>6</a>\u001b[0m \u001b[39m\"\"\"\u001b[39;00m\n\u001b[1;32m      <a href='vscode-notebook-cell:/Users/alessio/Documents/MANGO-lite/how_to/frozenlake_env.ipynb#W0sZmlsZQ%3D%3D?line=6'>7</a>\u001b[0m \u001b[39mimport a learned policy\u001b[39;00m\n\u001b[1;32m      <a href='vscode-notebook-cell:/Users/alessio/Documents/MANGO-lite/how_to/frozenlake_env.ipynb#W0sZmlsZQ%3D%3D?line=7'>8</a>\u001b[0m \u001b[39m[MANCA DA FARE]\u001b[39;00m\n\u001b[1;32m      <a href='vscode-notebook-cell:/Users/alessio/Documents/MANGO-lite/how_to/frozenlake_env.ipynb#W0sZmlsZQ%3D%3D?line=8'>9</a>\u001b[0m \n\u001b[1;32m     <a href='vscode-notebook-cell:/Users/alessio/Documents/MANGO-lite/how_to/frozenlake_env.ipynb#W0sZmlsZQ%3D%3D?line=9'>10</a>\u001b[0m \u001b[39m\"\"\"\u001b[39;00m\n",
      "\u001b[0;31mImportError\u001b[0m: cannot import name 'CustomFrozenLakeEnv' from 'mango.environments' (unknown location)"
     ]
    }
   ],
   "source": [
    "\n",
    "## Example Usage\n",
    "\n",
    "from mango.environments.frozen_lake import CustomFrozenLakeEnv, CoordinateObservation, RenderObservation\n",
    "from mango.environments.frozen_lake import plot_grid, plot_qval_heatmap, plot_trajectory\n",
    "\n",
    "\"\"\"\n",
    "import a learned policy\n",
    "[MANCA DA FARE]\n",
    "\n",
    "\"\"\"\n",
    "policy = ...\n",
    "\n",
    "\n",
    "# Create custom FrozenLake environment\n",
    "env = CustomFrozenLakeEnv(map_name=\"RANDOM\", size=8, p=0.8, mirror=True, random_start=True, hide_goal=False)\n",
    "\n",
    "# Wrap the environment for coordinate observations\n",
    "env = CoordinateObservation(env, one_hot=True)\n",
    "\n",
    "# Wrap the environment for rendering observations\n",
    "env = RenderObservation(env)\n",
    "\n",
    "# Plot the grid and Q-value heatmap\n",
    "plot_grid(env, cell_shape=(1, 1))\n",
    "plot_qval_heatmap(policy, env)\n",
    "\n",
    "# Display the environment with a trajectory\n",
    "trajectory = [env.observation(env.reset())]\n",
    "for _ in range(10):\n",
    "    action = env.action_space.sample()\n",
    "    obs, _, _, _ = env.step(action)\n",
    "    trajectory.append(obs)\n",
    "plot_trajectory(trajectory, env)\n",
    "\n",
    "\n"
   ]
  }
 ],
 "metadata": {
  "kernelspec": {
   "display_name": "Python 3",
   "language": "python",
   "name": "python3"
  },
  "language_info": {
   "codemirror_mode": {
    "name": "ipython",
    "version": 3
   },
   "file_extension": ".py",
   "mimetype": "text/x-python",
   "name": "python",
   "nbconvert_exporter": "python",
   "pygments_lexer": "ipython3",
   "version": "3.10.8"
  }
 },
 "nbformat": 4,
 "nbformat_minor": 2
}
