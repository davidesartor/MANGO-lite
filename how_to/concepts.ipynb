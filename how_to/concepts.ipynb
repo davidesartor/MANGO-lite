{
 "cells": [
  {
   "cell_type": "markdown",
   "metadata": {},
   "source": [
    "## Concept Protocol\n",
    "\n",
    "### `Concept` Protocol\n",
    "\n",
    "The `Concept` protocol is a generic protocol that defines an `abstract` method. It is intended to represent an abstraction concept for various types of observations. The `abstract` method takes an observation of type `ObsType` and returns an `npt.NDArray`.\n"
   ]
  },
  {
   "cell_type": "code",
   "execution_count": 2,
   "metadata": {},
   "outputs": [],
   "source": [
    "from typing import Any, Mapping, Protocol, Sequence, TypeVar\n",
    "from dataclasses import dataclass"
   ]
  },
  {
   "cell_type": "code",
   "execution_count": 3,
   "metadata": {},
   "outputs": [],
   "source": [
    "from typing import TypeVar\n",
    "import numpy.typing as npt\n",
    "from numpy.typing import NDArray\n",
    "\n",
    "ObsType = TypeVar(\"ObsType\")\n",
    "\n",
    "class Concept(Protocol[ObsType]):\n",
    "    def abstract(self, observation: ObsType) -> NDArray:\n",
    "        ..."
   ]
  },
  {
   "cell_type": "markdown",
   "metadata": {},
   "source": [
    "**Usage:**\n",
    "\n",
    "You can create concrete classes that implement the `Concept` protocol for specific abstraction tasks. These concrete classes should define the `abstract` method to provide the desired abstraction logic.\n",
    "\n",
    "## Concrete Concept Classes\n",
    "\n",
    "### `IdentityConcept`\n",
    "\n",
    "The `IdentityConcept` class is a concrete implementation of the `Concept` protocol for identity abstraction. It simply returns the input observation as is.\n"
   ]
  },
  {
   "cell_type": "code",
   "execution_count": null,
   "metadata": {},
   "outputs": [],
   "source": [
    "@dataclass(frozen=True, eq=False)\n",
    "class IdentityConcept(Concept[NDArray]):\n",
    "    def abstract(self, input_state: NDArray) -> NDArray:\n",
    "        return input_state"
   ]
  },
  {
   "cell_type": "markdown",
   "metadata": {},
   "source": [
    "**Usage:**"
   ]
  },
  {
   "cell_type": "code",
   "execution_count": null,
   "metadata": {},
   "outputs": [],
   "source": [
    "identity_concept = IdentityConcept()\n",
    "observation = np.array([1, 2, 3])\n",
    "abstraction = identity_concept.abstract(observation)"
   ]
  },
  {
   "cell_type": "markdown",
   "metadata": {},
   "source": [
    "\n",
    "### `Int2CoordConcept`\n",
    "\n",
    "The `Int2CoordConcept` class is a concrete implementation of the `Concept` protocol for mapping integers to coordinates in a grid. It takes an integer observation and returns the corresponding coordinates as an `npt.NDArray`.\n"
   ]
  },
  {
   "cell_type": "code",
   "execution_count": null,
   "metadata": {},
   "outputs": [],
   "source": [
    "@dataclass\n",
    "class Int2CoordConcept(Concept[int]):\n",
    "    global_shape: tuple[int, int]\n",
    "\n",
    "    def abstract(self, observation: int) -> NDArray:\n",
    "        ..."
   ]
  },
  {
   "cell_type": "markdown",
   "metadata": {},
   "source": [
    "**Usage:**"
   ]
  },
  {
   "cell_type": "code",
   "execution_count": null,
   "metadata": {},
   "outputs": [],
   "source": [
    "grid_shape = (4, 4)\n",
    "int_to_coord = Int2CoordConcept(global_shape=grid_shape)\n",
    "observation = 7\n",
    "coordinates = int_to_coord.abstract(observation)"
   ]
  },
  {
   "cell_type": "markdown",
   "metadata": {},
   "source": [
    "### `GridPartitionConcept`\n",
    "\n",
    "The `GridPartitionConcept` class is a concrete implementation of the `Concept` protocol for partitioning a grid into cells and mapping integers to cell coordinates. It takes an integer observation and returns the cell coordinates as an `npt.NDArray`.\n"
   ]
  },
  {
   "cell_type": "code",
   "execution_count": null,
   "metadata": {},
   "outputs": [],
   "source": [
    "@dataclass\n",
    "class GridPartitionConcept(Concept[int]):\n",
    "    global_shape: tuple[int, int]\n",
    "    cell_shape: tuple[int, int]\n",
    "\n",
    "    def abstract(self, observation: int) -> NDArray:\n",
    "        ..."
   ]
  },
  {
   "cell_type": "markdown",
   "metadata": {},
   "source": [
    "**Usage:**"
   ]
  },
  {
   "cell_type": "code",
   "execution_count": null,
   "metadata": {},
   "outputs": [],
   "source": [
    "grid_shape = (6, 6)\n",
    "cell_shape = (2, 2)\n",
    "grid_partition = GridPartitionConcept(global_shape=grid_shape, cell_shape=cell_shape)\n",
    "observation = 10\n",
    "cell_coordinates = grid_partition.abstract(observation)"
   ]
  },
  {
   "cell_type": "markdown",
   "metadata": {},
   "source": [
    "\n",
    "### `Strip`\n",
    "\n",
    "The `Strip` class is a concrete implementation of the `Concept` protocol for extracting values from a nested dictionary based on a key or sequence of keys. It takes a dictionary observation and returns the extracted value(s) as an `npt.NDArray`.\n"
   ]
  },
  {
   "cell_type": "code",
   "execution_count": null,
   "metadata": {},
   "outputs": [],
   "source": [
    "@dataclass(frozen=True, eq=False)\n",
    "class Strip(Concept[Mapping[str, Any]]):\n",
    "    key: str | Sequence[str]\n",
    "\n",
    "    @property\n",
    "    def keys(self) -> Sequence[str]:\n",
    "        ...\n",
    "\n",
    "    @property\n",
    "    def name(self) -> str:\n",
    "        ...\n",
    "\n",
    "    def abstract(self, input_state: Mapping[str, Any]) -> NDArray:\n",
    "        ..."
   ]
  },
  {
   "cell_type": "markdown",
   "metadata": {},
   "source": [
    "**Usage:**"
   ]
  },
  {
   "cell_type": "code",
   "execution_count": null,
   "metadata": {},
   "outputs": [],
   "source": [
    "data_dict = {\n",
    "    \"a\": {\n",
    "        \"b\": {\n",
    "            \"c\": [1, 2, 3]\n",
    "        }\n",
    "    }\n",
    "}\n",
    "strip_concept = Strip(key=[\"a\", \"b\", \"c\"])\n",
    "value = strip_concept.abstract(data_dict)"
   ]
  },
  {
   "cell_type": "markdown",
   "metadata": {},
   "source": [
    "\n",
    "## Summary\n",
    "\n",
    "In this documentation, we have explained the purpose of the provided code and described the usage of the `Concept` protocol and its concrete implementations. These concepts can be used to perform various abstraction tasks on different types of observations, providing a way to extract meaningful information or transform data as needed."
   ]
  }
 ],
 "metadata": {
  "kernelspec": {
   "display_name": "Python 3",
   "language": "python",
   "name": "python3"
  },
  "language_info": {
   "codemirror_mode": {
    "name": "ipython",
    "version": 3
   },
   "file_extension": ".py",
   "mimetype": "text/x-python",
   "name": "python",
   "nbconvert_exporter": "python",
   "pygments_lexer": "ipython3",
   "version": "3.10.8"
  },
  "orig_nbformat": 4
 },
 "nbformat": 4,
 "nbformat_minor": 2
}
