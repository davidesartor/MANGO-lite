{
 "cells": [
  {
   "cell_type": "markdown",
   "metadata": {},
   "source": [
    "## `Transition` NamedTuple\n",
    "\n",
    "### `Transition` NamedTuple\n",
    "\n",
    "The `Transition` named tuple represents a transition in a reinforcement learning environment. It includes the following fields:\n",
    "\n",
    "- `start_state`: The starting state of the transition (as a NumPy array).\n",
    "- `action`: The action taken during the transition (an integer).\n",
    "- `next_state`: The resulting state after taking the action (as a NumPy array).\n",
    "- `reward`: The reward received for taking the action (a floating-point number).\n",
    "- `terminated`: A boolean flag indicating whether the episode terminated after this transition.\n",
    "- `truncated`: A boolean flag indicating whether the episode was truncated.\n",
    "- `info`: Additional information as a dictionary of string keys and arbitrary values."
   ]
  },
  {
   "cell_type": "code",
   "execution_count": 2,
   "metadata": {},
   "outputs": [],
   "source": [
    "from typing import NamedTuple, Any, Generic, Optional, TypeVar\n",
    "import numpy.typing as npt\n",
    "from numpy.typing import NDArray\n",
    "from typing import SupportsFloat\n",
    "import numpy as np\n",
    "\n",
    "T = TypeVar(\"T\")\n",
    "\n",
    "class Transition(NamedTuple):\n",
    "    start_state: NDArray\n",
    "    action: int\n",
    "    next_state: NDArray\n",
    "    reward: SupportsFloat\n",
    "    terminated: bool\n",
    "    truncated: bool\n",
    "    info: dict[str, Any]"
   ]
  },
  {
   "cell_type": "markdown",
   "metadata": {},
   "source": [
    "**Usage:**\n",
    "\n",
    "You can use the `Transition` named tuple to represent transitions in your reinforcement learning environment. For example:"
   ]
  },
  {
   "cell_type": "code",
   "execution_count": 3,
   "metadata": {},
   "outputs": [],
   "source": [
    "# Create a transition\n",
    "transition = Transition(\n",
    "    start_state=np.array([0.1, 0.2, 0.3]),\n",
    "    action=2,\n",
    "    next_state=np.array([0.2, 0.3, 0.4]),\n",
    "    reward=0.5,\n",
    "    terminated=False,\n",
    "    truncated=False,\n",
    "    info={\"step\": 1}\n",
    ")"
   ]
  },
  {
   "cell_type": "markdown",
   "metadata": {},
   "source": [
    "## `ReplayMemory` Generic Class"
   ]
  },
  {
   "cell_type": "markdown",
   "metadata": {},
   "source": [
    "\n",
    "\n",
    "### `ReplayMemory` Generic Class\n",
    "\n",
    "The `ReplayMemory` generic class is a data structure for storing and sampling replay memory in reinforcement learning. It stores a list of generic items `T`, which can be transitions or other data.\n"
   ]
  },
  {
   "cell_type": "code",
   "execution_count": 4,
   "metadata": {},
   "outputs": [],
   "source": [
    "from dataclasses import dataclass, field\n",
    "from typing import Generic, Optional, TypeVar\n",
    "\n",
    "@dataclass(eq=False)\n",
    "class ReplayMemory(Generic[T]):\n",
    "    batch_size: int = 256\n",
    "    capacity: int = 2**15\n",
    "    last: int = field(default=0, init=False)\n",
    "    memory: list[T] = field(default_factory=list, init=False)\n",
    "\n",
    "    @property\n",
    "    def size(self) -> int:\n",
    "        ...\n",
    "\n",
    "    def push(self, item: T) -> None:\n",
    "        ...\n",
    "\n",
    "    def sample(self, quantity: Optional[int] = None) -> list[T]:\n",
    "        ..."
   ]
  },
  {
   "cell_type": "markdown",
   "metadata": {},
   "source": [
    "**Usage:**\n",
    "\n",
    "You can use the `ReplayMemory` class to create a replay memory for storing transitions or other data. For example:"
   ]
  },
  {
   "cell_type": "code",
   "execution_count": null,
   "metadata": {},
   "outputs": [],
   "source": [
    "# Create a replay memory\n",
    "memory = ReplayMemory[Transition]()\n",
    "\n",
    "# Push a transition into the memory\n",
    "transition = Transition(...)\n",
    "memory.push(transition)\n",
    "\n",
    "# Sample a batch of transitions from the memory\n",
    "batch = memory.sample(quantity=32)"
   ]
  },
  {
   "cell_type": "markdown",
   "metadata": {},
   "source": [
    "## Utility Functions\n",
    "\n",
    "The code also provides utility functions:\n",
    "\n",
    "- `add_indent`: Adds indentation to all lines in a string, useful for creating well-formatted representations.\n",
    "- `torch_style_repr`: Creates a string representation in the style of PyTorch classes with named parameters.\n",
    "- `plot_grid`: Plots a grid with specified cell sizes using Matplotlib.\n",
    "- `plot_trajectory`: Plots a trajectory on a grid given a sequence of observations."
   ]
  },
  {
   "cell_type": "markdown",
   "metadata": {},
   "source": [
    "**Usage:**\n",
    "\n",
    "You can use these utility functions for various purposes. For example:"
   ]
  },
  {
   "cell_type": "code",
   "execution_count": null,
   "metadata": {},
   "outputs": [],
   "source": [
    "# Create an indented string representation\n",
    "indented_str = add_indent(\"This is\\nan indented\\nstring.\", indent=2)\n",
    "\n",
    "# Create a string representation in the style of PyTorch classes\n",
    "params = {\"batch_size\": \"32\", \"learning_rate\": \"0.001\"}\n",
    "repr_str = torch_style_repr(\"MyModel\", params)\n",
    "\n",
    "# Plot a grid\n",
    "plot_grid(grid_shape=(6, 6), cell_shape=(2, 2))\n",
    "\n",
    "# Plot a trajectory on a grid\n",
    "trajectory = [1, 3, 7, 15]\n",
    "plot_trajectory(start=0, trajectory=trajectory, grid_shape=(4, 4))"
   ]
  },
  {
   "cell_type": "markdown",
   "metadata": {},
   "source": [
    "These utility functions are helpful for debugging, visualization, and generating informative string representations."
   ]
  }
 ],
 "metadata": {
  "kernelspec": {
   "display_name": "Python 3",
   "language": "python",
   "name": "python3"
  },
  "language_info": {
   "codemirror_mode": {
    "name": "ipython",
    "version": 3
   },
   "file_extension": ".py",
   "mimetype": "text/x-python",
   "name": "python",
   "nbconvert_exporter": "python",
   "pygments_lexer": "ipython3",
   "version": "3.10.8"
  },
  "orig_nbformat": 4
 },
 "nbformat": 4,
 "nbformat_minor": 2
}
