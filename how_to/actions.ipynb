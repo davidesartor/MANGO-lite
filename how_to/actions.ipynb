{
 "cells": [
  {
   "cell_type": "markdown",
   "metadata": {},
   "source": [
    "## Overview\n",
    "\n",
    "This Python module defines a set of abstract actions for hierarchical reinforcement learning (HRL) in a 2D grid world. It includes classes and protocols to model abstract actions, grid movements, and one-hot encoded grid movements. The main goal is to provide a flexible framework for experimenting with hierarchical decision-making agents in grid-based environments.\n"
   ]
  },
  {
   "cell_type": "markdown",
   "metadata": {},
   "source": [
    "## `AbstractActions` Protocol\n",
    "\n",
    "This protocol defines the structure that abstract action classes should follow. It includes methods to manipulate observations, calculate termination probabilities (`beta`), and evaluate the compatibility of actions with observed transitions.\n",
    "\n",
    "\n",
    "#### Methods:\n",
    "- **`mask(self, obs: ObsType) -> ObsType`**: Masks the observation, potentially modifying its representation.\n",
    "- **`beta(self, action: ActType, start_obs: ObsType, next_obs: ObsType) -> tuple[bool, bool]`**: Calculates termination probabilities for an action given the start and next observations.\n",
    "- **`compatibility(self, action: ActType, start_obs: ObsType, next_obs: ObsType) -> float`**: Evaluates the compatibility of an action with the observed transition.\n"
   ]
  },
  {
   "cell_type": "markdown",
   "metadata": {},
   "source": [
    "## Classes"
   ]
  },
  {
   "cell_type": "markdown",
   "metadata": {},
   "source": [
    "### 1. `Grid2dActions` Enum\n",
    "\n",
    "An enumeration representing 2D grid movement actions: LEFT, DOWN, RIGHT, and UP. It also provides a method to convert actions to coordinate deltas.\n",
    "\n",
    "#### Methods:\n",
    "- **`to_delta(self) -> tuple[int, int]`**: Converts the grid movement action to a coordinate delta.\n"
   ]
  },
  {
   "cell_type": "markdown",
   "metadata": {},
   "source": [
    "### 2. `Grid2dMovement` Class\n",
    "\n",
    "A concrete implementation of the `AbstractActions` protocol for 2D grid movements. It models basic grid movements, such as LEFT, DOWN, RIGHT, and UP, along with termination probabilities and compatibility metrics.\n",
    "\n",
    "#### Attributes:\n",
    "- **`action_space: ClassVar[spaces.Discrete]`**: Class variable representing the discrete action space (LEFT, DOWN, RIGHT, UP).\n",
    "- **`cell_shape: tuple[int, int]`**: The shape of each grid cell.\n",
    "- **`grid_shape: tuple[int, int]`**: The overall shape of the 2D grid.\n",
    "- **`p_termination: float`**: The probability of termination for an action.\n",
    "- **`reward: float`**: The reward associated with a compatible action."
   ]
  },
  {
   "cell_type": "markdown",
   "metadata": {},
   "source": [
    "### 3. `Grid2dMovementOnehot` Class\n",
    "\n",
    "A variation of `Grid2dMovement` that uses one-hot encoding for agent positions in the grid. It allows for additional customization by adding a validity channel.\n",
    "\n",
    "#### Attributes:\n",
    "- **`agent_channel: int`**: The channel index representing the agent's position in the one-hot encoding.\n",
    "- **`add_valid_channel: bool`**: Whether to add a validity channel to the observation.\n",
    "\n",
    "#### Methods:\n",
    "- **`obs2coord(self, obs: ObsType) -> tuple[int, int]`**: Converts a one-hot encoded observation to agent coordinates.\n",
    "- **`mask(self, obs: ObsType) -> ObsType`**: Masks the one-hot encoded observation, potentially adding a validity channel."
   ]
  },
  {
   "cell_type": "markdown",
   "metadata": {},
   "source": [
    "## Examples of Implementation\n",
    "\n",
    "### 1. Creating and Using `Grid2dMovement`"
   ]
  },
  {
   "cell_type": "code",
   "execution_count": null,
   "metadata": {},
   "outputs": [],
   "source": [
    "import sys\n",
    "sys.path.append(\"..\")"
   ]
  },
  {
   "cell_type": "code",
   "execution_count": 1,
   "metadata": {},
   "outputs": [
    {
     "ename": "ModuleNotFoundError",
     "evalue": "No module named 'grid_actions'",
     "output_type": "error",
     "traceback": [
      "\u001b[0;31m---------------------------------------------------------------------------\u001b[0m",
      "\u001b[0;31mModuleNotFoundError\u001b[0m                       Traceback (most recent call last)",
      "\u001b[1;32m/Users/alessio/Documents/MANGO-lite/how_to/actions.ipynb Cell 8\u001b[0m line \u001b[0;36m1\n\u001b[0;32m----> <a href='vscode-notebook-cell:/Users/alessio/Documents/MANGO-lite/how_to/actions.ipynb#X23sZmlsZQ%3D%3D?line=0'>1</a>\u001b[0m \u001b[39mfrom\u001b[39;00m \u001b[39mgrid_actions\u001b[39;00m \u001b[39mimport\u001b[39;00m Grid2dMovement\n\u001b[1;32m      <a href='vscode-notebook-cell:/Users/alessio/Documents/MANGO-lite/how_to/actions.ipynb#X23sZmlsZQ%3D%3D?line=2'>3</a>\u001b[0m \u001b[39m# Define grid parameters\u001b[39;00m\n\u001b[1;32m      <a href='vscode-notebook-cell:/Users/alessio/Documents/MANGO-lite/how_to/actions.ipynb#X23sZmlsZQ%3D%3D?line=3'>4</a>\u001b[0m cell_shape \u001b[39m=\u001b[39m (\u001b[39m5\u001b[39m, \u001b[39m5\u001b[39m)\n",
      "\u001b[0;31mModuleNotFoundError\u001b[0m: No module named 'grid_actions'"
     ]
    }
   ],
   "source": [
    "\n",
    "from mango.actions.grid2D_abstract_actions import Grid2dMovement\n",
    "\n",
    "# Define grid parameters\n",
    "cell_shape = (5, 5)\n",
    "grid_shape = (10, 10)\n",
    "\n",
    "# Create Grid2dMovement instance\n",
    "grid_movement = Grid2dMovement(cell_shape=cell_shape, grid_shape=grid_shape)\n",
    "\n",
    "# Use methods defined in AbstractActions protocol\n",
    "masked_observation = grid_movement.mask(observation)\n",
    "termination_probs = grid_movement.beta(action, start_obs, next_obs)\n",
    "compatibility_score = grid_movement.compatibility(action, start_obs, next_obs)\n"
   ]
  },
  {
   "cell_type": "markdown",
   "metadata": {},
   "source": [
    "### 2. Creating and Using `Grid2dMovementOnehot`\n"
   ]
  },
  {
   "cell_type": "code",
   "execution_count": null,
   "metadata": {},
   "outputs": [],
   "source": [
    "from grid_actions import Grid2dMovementOnehot\n",
    "\n",
    "# Define one-hot encoding parameters\n",
    "agent_channel = 0\n",
    "add_valid_channel = True\n",
    "\n",
    "# Create Grid2dMovementOnehot instance\n",
    "grid_movement_onehot = Grid2dMovementOnehot(\n",
    "    cell_shape=cell_shape,\n",
    "    grid_shape=grid_shape,\n",
    "    agent_channel=agent_channel,\n",
    "    add_valid_channel=add_valid_channel,\n",
    ")\n",
    "\n",
    "# Use additional methods for one-hot encoding\n",
    "agent_coords = grid_movement_onehot.obs2coord(onehot_observation)\n",
    "masked_onehot_observation = grid_movement_onehot.mask(onehot_observation)"
   ]
  }
 ],
 "metadata": {
  "kernelspec": {
   "display_name": "Python 3",
   "language": "python",
   "name": "python3"
  },
  "language_info": {
   "codemirror_mode": {
    "name": "ipython",
    "version": 3
   },
   "file_extension": ".py",
   "mimetype": "text/x-python",
   "name": "python",
   "nbconvert_exporter": "python",
   "pygments_lexer": "ipython3",
   "version": "3.10.8"
  },
  "orig_nbformat": 4
 },
 "nbformat": 4,
 "nbformat_minor": 2
}
