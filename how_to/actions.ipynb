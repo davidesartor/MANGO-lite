{
 "cells": [
  {
   "cell_type": "markdown",
   "metadata": {},
   "source": [
    "## Action Compatibility Protocol\n",
    "\n",
    "### `ActionCompatibility` Protocol\n",
    "\n",
    "The `ActionCompatibility` protocol is a protocol that defines a method `__call__` to determine the compatibility between a command, a start state, and a next state. It is intended to represent a concept for assessing the compatibility of actions in a reinforcement learning environment.\n"
   ]
  },
  {
   "cell_type": "code",
   "execution_count": 9,
   "metadata": {},
   "outputs": [],
   "source": [
    "from typing import Any, Mapping, Protocol, Sequence, TypeVar\n",
    "from dataclasses import dataclass\n",
    "import numpy as np"
   ]
  },
  {
   "cell_type": "code",
   "execution_count": 10,
   "metadata": {},
   "outputs": [],
   "source": [
    "from typing import Protocol\n",
    "import gym\n",
    "import numpy.typing as npt\n",
    "from numpy.typing import NDArray\n",
    "\n",
    "class ActionCompatibility(Protocol):\n",
    "    action_space: gym.spaces.Discrete\n",
    "\n",
    "    def __call__(\n",
    "        self, command: int, start_state: NDArray, next_state: NDArray\n",
    "    ) -> float:\n",
    "        ..."
   ]
  },
  {
   "cell_type": "markdown",
   "metadata": {},
   "source": [
    "**Usage:**\n",
    "\n",
    "You can create concrete classes that implement the `ActionCompatibility` protocol to define the compatibility assessment logic for specific reinforcement learning scenarios.\n"
   ]
  },
  {
   "cell_type": "markdown",
   "metadata": {},
   "source": [
    "## Concrete Action Compatibility Classes\n",
    "\n",
    "### `FullCompatibility`\n",
    "\n",
    "The `FullCompatibility` class is a concrete implementation of the `ActionCompatibility` protocol that always returns a compatibility score of 1.0, indicating that any action is fully compatible with the given states. It is a simple example for illustrative purposes.\n"
   ]
  },
  {
   "cell_type": "code",
   "execution_count": 11,
   "metadata": {},
   "outputs": [],
   "source": [
    "@dataclass(frozen=True, eq=False)\n",
    "class FullCompatibility(ActionCompatibility):\n",
    "    action_space: gym.spaces.Discrete\n",
    "\n",
    "    def __call__(self, command: Any, start_state: Any, next_state: Any) -> float:\n",
    "        return 1.0"
   ]
  },
  {
   "cell_type": "markdown",
   "metadata": {},
   "source": [
    "**Usage:**"
   ]
  },
  {
   "cell_type": "code",
   "execution_count": 12,
   "metadata": {},
   "outputs": [
    {
     "name": "stdout",
     "output_type": "stream",
     "text": [
      "Compatibility Score: 1.0\n"
     ]
    }
   ],
   "source": [
    "# Create an instance of FullCompatibility\n",
    "compatibility_checker = FullCompatibility(action_space=gym.spaces.Discrete(4))\n",
    "\n",
    "# Define example data\n",
    "command = 2\n",
    "start_state = np.array([0.1, 0.2, 0.3])\n",
    "next_state = np.array([0.2, 0.3, 0.4])\n",
    "\n",
    "# Check compatibility\n",
    "compatibility_score = compatibility_checker(command, start_state, next_state)\n",
    "print(f\"Compatibility Score: {compatibility_score}\")"
   ]
  },
  {
   "cell_type": "markdown",
   "metadata": {},
   "source": [
    "\n",
    "In this example, the `FullCompatibility` class is used to create a compatibility checker. When you call the `__call__` method with command, start state, and next state, it always returns a compatibility score of 1.0, indicating full compatibility.\n",
    "\n",
    "## Summary\n",
    "\n",
    "In this documentation, we have explained the purpose of the provided code and described the usage of the `ActionCompatibility` protocol and its concrete implementation, `FullCompatibility`. These concepts can be used to assess the compatibility of actions in a reinforcement learning environment, with the flexibility to define custom compatibility logic as needed."
   ]
  }
 ],
 "metadata": {
  "kernelspec": {
   "display_name": "Python 3",
   "language": "python",
   "name": "python3"
  },
  "language_info": {
   "codemirror_mode": {
    "name": "ipython",
    "version": 3
   },
   "file_extension": ".py",
   "mimetype": "text/x-python",
   "name": "python",
   "nbconvert_exporter": "python",
   "pygments_lexer": "ipython3",
   "version": "3.10.8"
  },
  "orig_nbformat": 4
 },
 "nbformat": 4,
 "nbformat_minor": 2
}
