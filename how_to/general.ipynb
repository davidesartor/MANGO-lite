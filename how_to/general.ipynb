{
 "cells": [
  {
   "cell_type": "markdown",
   "metadata": {},
   "source": [
    "## dataclass\n",
    "\n",
    "In Python, the dataclass decorator is a feature introduced in Python 3.7 that automatically generates special methods for a class, such as __init__, __repr__, and __eq__, based on the class attributes. This decorator simplifies the creation of classes that primarily serve to store data, reducing boilerplate code."
   ]
  },
  {
   "cell_type": "markdown",
   "metadata": {},
   "source": [
    "### Default @dataclass without Any Hyperparameters:\n",
    "\n",
    "You can use the @dataclass decorator without any hyperparameters, and it will automatically generate special methods for the class based on its attributes."
   ]
  },
  {
   "cell_type": "code",
   "execution_count": 2,
   "metadata": {},
   "outputs": [
    {
     "name": "stdout",
     "output_type": "stream",
     "text": [
      "Person(name='Alice', age=30)\n"
     ]
    }
   ],
   "source": [
    "from dataclasses import dataclass\n",
    "\n",
    "@dataclass\n",
    "class Person:\n",
    "    name: str\n",
    "    age: int\n",
    "\n",
    "person = Person(\"Alice\", 30)\n",
    "print(person)\n"
   ]
  },
  {
   "cell_type": "markdown",
   "metadata": {},
   "source": [
    "In this example, the @dataclass decorator automatically generates __init__, __repr__, and __eq__ methods for the Person class based on its attributes."
   ]
  },
  {
   "cell_type": "markdown",
   "metadata": {},
   "source": [
    "### Customizing init and repr with Hyperparameters:\n",
    "\n",
    "You can customize the behavior of the @dataclass decorator using hyperparameters such as init and repr."
   ]
  },
  {
   "cell_type": "code",
   "execution_count": 3,
   "metadata": {},
   "outputs": [
    {
     "name": "stdout",
     "output_type": "stream",
     "text": [
      "Book(title='The Great Gatsby', author='F. Scott Fitzgerald')\n"
     ]
    }
   ],
   "source": [
    "from dataclasses import dataclass\n",
    "\n",
    "@dataclass(init=True, repr=True)\n",
    "class Book:\n",
    "    title: str\n",
    "    author: str\n",
    "\n",
    "book = Book(\"The Great Gatsby\", \"F. Scott Fitzgerald\")\n",
    "print(book)"
   ]
  },
  {
   "cell_type": "markdown",
   "metadata": {},
   "source": [
    "In this example, the init=True hyperparameter ensures that the __init__ method is generated, and repr=True ensures that the __repr__ method is generated."
   ]
  },
  {
   "cell_type": "markdown",
   "metadata": {},
   "source": [
    "### Disabling __eq__ with Hyperparameters:\n",
    "\n",
    "You can disable the generation of the __eq__ method using the eq hyperparameter."
   ]
  },
  {
   "cell_type": "code",
   "execution_count": 4,
   "metadata": {},
   "outputs": [
    {
     "name": "stdout",
     "output_type": "stream",
     "text": [
      "False\n"
     ]
    }
   ],
   "source": [
    "from dataclasses import dataclass\n",
    "\n",
    "@dataclass(eq=False)\n",
    "class Point:\n",
    "    x: int\n",
    "    y: int\n",
    "\n",
    "point1 = Point(1, 2)\n",
    "point2 = Point(1, 2)\n",
    "\n",
    "print(point1 == point2)  # Outputs: False\n"
   ]
  },
  {
   "cell_type": "markdown",
   "metadata": {},
   "source": [
    "In this example, setting eq=False disables the generation of the __eq__ method. As a result, point1 == point2 returns False."
   ]
  },
  {
   "cell_type": "markdown",
   "metadata": {},
   "source": [
    "### Using frozen to Make Immutable Instances:\n",
    "\n",
    "You can make instances of a data class immutable (i.e., their attributes cannot be modified) by using the frozen hyperparameter."
   ]
  },
  {
   "cell_type": "code",
   "execution_count": 5,
   "metadata": {},
   "outputs": [
    {
     "ename": "FrozenInstanceError",
     "evalue": "cannot assign to field 'x'",
     "output_type": "error",
     "traceback": [
      "\u001b[0;31m---------------------------------------------------------------------------\u001b[0m",
      "\u001b[0;31mFrozenInstanceError\u001b[0m                       Traceback (most recent call last)",
      "\u001b[1;32m/Users/alessio/Documents/MANGO-lite/how to/general.ipynb Cell 12\u001b[0m line \u001b[0;36m9\n\u001b[1;32m      <a href='vscode-notebook-cell:/Users/alessio/Documents/MANGO-lite/how%20to/general.ipynb#X16sZmlsZQ%3D%3D?line=5'>6</a>\u001b[0m     y: \u001b[39mint\u001b[39m\n\u001b[1;32m      <a href='vscode-notebook-cell:/Users/alessio/Documents/MANGO-lite/how%20to/general.ipynb#X16sZmlsZQ%3D%3D?line=7'>8</a>\u001b[0m point \u001b[39m=\u001b[39m ImmutablePoint(\u001b[39m1\u001b[39m, \u001b[39m2\u001b[39m)\n\u001b[0;32m----> <a href='vscode-notebook-cell:/Users/alessio/Documents/MANGO-lite/how%20to/general.ipynb#X16sZmlsZQ%3D%3D?line=8'>9</a>\u001b[0m point\u001b[39m.\u001b[39;49mx \u001b[39m=\u001b[39m \u001b[39m3\u001b[39m  \u001b[39m# Raises a TypeError since the instance is immutable\u001b[39;00m\n",
      "File \u001b[0;32m<string>:4\u001b[0m, in \u001b[0;36m__setattr__\u001b[0;34m(self, name, value)\u001b[0m\n",
      "\u001b[0;31mFrozenInstanceError\u001b[0m: cannot assign to field 'x'"
     ]
    }
   ],
   "source": [
    "from dataclasses import dataclass\n",
    "\n",
    "@dataclass(frozen=True)\n",
    "class ImmutablePoint:\n",
    "    x: int\n",
    "    y: int\n",
    "\n",
    "point = ImmutablePoint(1, 2)\n",
    "point.x = 3  # Raises a TypeError since the instance is immutable\n"
   ]
  },
  {
   "cell_type": "markdown",
   "metadata": {},
   "source": [
    "In this example, frozen=True makes the ImmutablePoint class immutable, so attempting to modify its attributes raises a TypeError.\n",
    "\n",
    "The @dataclass decorator provides a convenient way to create classes for storing data with minimal boilerplate code, making your code cleaner and more readable. You can customize its behavior using hyperparameters to suit your specific requirements."
   ]
  },
  {
   "cell_type": "markdown",
   "metadata": {},
   "source": [
    "## property\n",
    "\n",
    "The @property decorator in Python is used to define getter methods for class attributes. It allows you to access an attribute like a regular attribute, but it executes a method to compute the value dynamically. This is especially useful when you want to perform some calculations or validation when accessing an attribute.\n",
    "\n",
    "Here's how to use the @property decorator to create getter methods for class attributes:\n",
    "\n"
   ]
  },
  {
   "cell_type": "code",
   "execution_count": 6,
   "metadata": {},
   "outputs": [
    {
     "name": "stdout",
     "output_type": "stream",
     "text": [
      "Radius: 5\n",
      "Diameter: 10\n",
      "Area: 78.53975\n",
      "Circumference: 31.4159\n"
     ]
    }
   ],
   "source": [
    "class Circle:\n",
    "    def __init__(self, radius):\n",
    "        self.radius = radius\n",
    "\n",
    "    @property\n",
    "    def diameter(self):\n",
    "        \"\"\"Getter method for the diameter.\"\"\"\n",
    "        return 2 * self.radius\n",
    "\n",
    "    @property\n",
    "    def area(self):\n",
    "        \"\"\"Getter method for the area.\"\"\"\n",
    "        return 3.14159 * self.radius ** 2\n",
    "\n",
    "    @property\n",
    "    def circumference(self):\n",
    "        \"\"\"Getter method for the circumference.\"\"\"\n",
    "        return 2 * 3.14159 * self.radius\n",
    "\n",
    "# Creating a Circle object\n",
    "circle = Circle(5)\n",
    "\n",
    "# Accessing attributes using the getter methods\n",
    "print(\"Radius:\", circle.radius)\n",
    "print(\"Diameter:\", circle.diameter)\n",
    "print(\"Area:\", circle.area)\n",
    "print(\"Circumference:\", circle.circumference)\n"
   ]
  },
  {
   "cell_type": "markdown",
   "metadata": {},
   "source": [
    "In this example, we define a Circle class with a radius attribute. We use the @property decorator to create getter methods for diameter, area, and circumference. When we access these attributes like regular attributes, the corresponding getter methods are called to compute the values.\n",
    "\n"
   ]
  },
  {
   "cell_type": "markdown",
   "metadata": {},
   "source": [
    "### Advantages of using @property:\n",
    "\n",
    "It allows you to encapsulate attribute access, ensuring that the computed values are always up-to-date.\n",
    "You can add validation logic inside getter methods to ensure that attribute values meet specific criteria.\n",
    "It provides a clean and Pythonic way to expose computed properties without using traditional getter and setter methods.\n"
   ]
  },
  {
   "cell_type": "markdown",
   "metadata": {},
   "source": [
    "Remember that @property methods are read-only by default. If you want to provide a setter method to modify the attribute, you can use the @property_name.setter decorator.\n",
    "\n",
    "Here's an example of a property with a setter:"
   ]
  },
  {
   "cell_type": "code",
   "execution_count": 7,
   "metadata": {},
   "outputs": [
    {
     "name": "stdout",
     "output_type": "stream",
     "text": [
      "Initial Side Length: 4\n",
      "Modified Side Length: 5\n"
     ]
    }
   ],
   "source": [
    "class Square:\n",
    "    def __init__(self, side_length):\n",
    "        self._side_length = side_length  # Note the use of a private attribute\n",
    "\n",
    "    @property\n",
    "    def side_length(self):\n",
    "        \"\"\"Getter method for the side length.\"\"\"\n",
    "        return self._side_length\n",
    "\n",
    "    @side_length.setter\n",
    "    def side_length(self, value):\n",
    "        \"\"\"Setter method for the side length.\"\"\"\n",
    "        if value <= 0:\n",
    "            raise ValueError(\"Side length must be positive\")\n",
    "        self._side_length = value\n",
    "\n",
    "# Creating a Square object\n",
    "square = Square(4)\n",
    "\n",
    "# Accessing and modifying the side length using the property and setter\n",
    "print(\"Initial Side Length:\", square.side_length)\n",
    "square.side_length = 5\n",
    "print(\"Modified Side Length:\", square.side_length)\n"
   ]
  },
  {
   "cell_type": "markdown",
   "metadata": {},
   "source": [
    "In this example, we use the @property_name.setter decorator to create a setter method for the side_length attribute. This allows us to modify the attribute while still applying validation logic."
   ]
  }
 ],
 "metadata": {
  "kernelspec": {
   "display_name": "Python 3",
   "language": "python",
   "name": "python3"
  },
  "language_info": {
   "codemirror_mode": {
    "name": "ipython",
    "version": 3
   },
   "file_extension": ".py",
   "mimetype": "text/x-python",
   "name": "python",
   "nbconvert_exporter": "python",
   "pygments_lexer": "ipython3",
   "version": "3.10.8"
  },
  "orig_nbformat": 4
 },
 "nbformat": 4,
 "nbformat_minor": 2
}
