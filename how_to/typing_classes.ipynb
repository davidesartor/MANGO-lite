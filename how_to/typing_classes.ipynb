{
 "cells": [
  {
   "cell_type": "markdown",
   "metadata": {},
   "source": [
    "## Typing Classes and Types Documentation\n",
    "=======================================\n",
    "\n",
    "This documentation provides an overview of the typing classes and types commonly used in Python code.\n",
    "\n",
    "Table of Contents:\n",
    "1. Generic\n",
    "2. Optional\n",
    "3. Sequence\n",
    "4. SupportsFloat\n",
    "5. TypeVar\n",
    "6. Creating New Typing Classes"
   ]
  },
  {
   "cell_type": "markdown",
   "metadata": {},
   "source": [
    "### Generic:\n",
    "-----------\n",
    "The `Generic` class is part of the `typing` module in Python and is used to define generic types and classes. It allows you to create classes and functions that work with a wide range of types while preserving type hints. Generic types are used to create parameterized types that can be specialized with specific types when used.\n",
    "\n",
    "Usage:"
   ]
  },
  {
   "cell_type": "code",
   "execution_count": 1,
   "metadata": {},
   "outputs": [],
   "source": [
    "from typing import Generic, TypeVar\n",
    "\n",
    "T = TypeVar('T')  # TypeVar is used to define a type variable\n",
    "\n",
    "class MyGenericClass(Generic[T]):\n",
    "    def __init__(self, value: T):\n",
    "        self.value = value\n",
    "\n",
    "# Usage with specific types\n",
    "str_value = MyGenericClass(\"Hello, World!\")\n",
    "int_value = MyGenericClass(42)"
   ]
  },
  {
   "cell_type": "markdown",
   "metadata": {},
   "source": [
    "### Optional:\n",
    "-------------\n",
    "The `Optional` type is also part of the `typing` module and is used to indicate that a variable or argument can be of a specified type or `None`. It is commonly used for function arguments that can accept an optional value or be absent.\n",
    "\n",
    "Usage:"
   ]
  },
  {
   "cell_type": "code",
   "execution_count": 2,
   "metadata": {},
   "outputs": [
    {
     "data": {
      "text/plain": [
       "'Hello, Alice!'"
      ]
     },
     "execution_count": 2,
     "metadata": {},
     "output_type": "execute_result"
    }
   ],
   "source": [
    "from typing import Optional\n",
    "\n",
    "def greet(name: Optional[str] = None) -> str:\n",
    "    if name is None:\n",
    "        return \"Hello, Guest!\"\n",
    "    else:\n",
    "        return f\"Hello, {name}!\"\n",
    "\n",
    "# Usage with and without specifying the optional argument\n",
    "greet()  # Output: \"Hello, Guest!\"\n",
    "greet(\"Alice\")  # Output: \"Hello, Alice!\""
   ]
  },
  {
   "cell_type": "markdown",
   "metadata": {},
   "source": [
    "### Sequence:\n",
    "------------\n",
    "The `Sequence` type is used to represent sequences of elements in Python, such as lists, tuples, and strings. It is an abstract base class (ABC) that is often used as a type hint for variables or function arguments that expect a sequence of elements.\n",
    "\n",
    "Usage:"
   ]
  },
  {
   "cell_type": "code",
   "execution_count": 3,
   "metadata": {},
   "outputs": [
    {
     "ename": "TypeError",
     "evalue": "unsupported operand type(s) for +: 'int' and 'str'",
     "output_type": "error",
     "traceback": [
      "\u001b[0;31m---------------------------------------------------------------------------\u001b[0m",
      "\u001b[0;31mTypeError\u001b[0m                                 Traceback (most recent call last)",
      "\u001b[1;32m/Users/alessio/Documents/MANGO-lite/how to/typing_classes.ipynb Cell 7\u001b[0m line \u001b[0;36m9\n\u001b[1;32m      <a href='vscode-notebook-cell:/Users/alessio/Documents/MANGO-lite/how%20to/typing_classes.ipynb#X10sZmlsZQ%3D%3D?line=6'>7</a>\u001b[0m process_items([\u001b[39m1\u001b[39m, \u001b[39m2\u001b[39m, \u001b[39m3\u001b[39m])  \u001b[39m# Output: 6\u001b[39;00m\n\u001b[1;32m      <a href='vscode-notebook-cell:/Users/alessio/Documents/MANGO-lite/how%20to/typing_classes.ipynb#X10sZmlsZQ%3D%3D?line=7'>8</a>\u001b[0m process_items((\u001b[39m10\u001b[39m, \u001b[39m20\u001b[39m, \u001b[39m30\u001b[39m))  \u001b[39m# Output: 60\u001b[39;00m\n\u001b[0;32m----> <a href='vscode-notebook-cell:/Users/alessio/Documents/MANGO-lite/how%20to/typing_classes.ipynb#X10sZmlsZQ%3D%3D?line=8'>9</a>\u001b[0m process_items(\u001b[39m\"\u001b[39;49m\u001b[39mabc\u001b[39;49m\u001b[39m\"\u001b[39;49m)  \u001b[39m# Output: 294  # ASCII values of 'a', 'b', and 'c'\u001b[39;00m\n",
      "\u001b[1;32m/Users/alessio/Documents/MANGO-lite/how to/typing_classes.ipynb Cell 7\u001b[0m line \u001b[0;36m4\n\u001b[1;32m      <a href='vscode-notebook-cell:/Users/alessio/Documents/MANGO-lite/how%20to/typing_classes.ipynb#X10sZmlsZQ%3D%3D?line=2'>3</a>\u001b[0m \u001b[39mdef\u001b[39;00m \u001b[39mprocess_items\u001b[39m(items: Sequence[\u001b[39mint\u001b[39m]) \u001b[39m-\u001b[39m\u001b[39m>\u001b[39m \u001b[39mint\u001b[39m:\n\u001b[0;32m----> <a href='vscode-notebook-cell:/Users/alessio/Documents/MANGO-lite/how%20to/typing_classes.ipynb#X10sZmlsZQ%3D%3D?line=3'>4</a>\u001b[0m     \u001b[39mreturn\u001b[39;00m \u001b[39msum\u001b[39;49m(items)\n",
      "\u001b[0;31mTypeError\u001b[0m: unsupported operand type(s) for +: 'int' and 'str'"
     ]
    }
   ],
   "source": [
    "from typing import Sequence\n",
    "\n",
    "def process_items(items: Sequence[int]) -> int:\n",
    "    return sum(items)\n",
    "\n",
    "# Usage with various sequence types\n",
    "process_items([1, 2, 3])  # Output: 6\n",
    "process_items((10, 20, 30))  # Output: 60\n",
    "process_items(\"abc\")  # Output: 294  # ASCII values of 'a', 'b', and 'c'"
   ]
  },
  {
   "cell_type": "markdown",
   "metadata": {},
   "source": [
    "### SupportsFloat\n",
    "-----------------\n",
    "The `SupportsFloat` type is a type hint used to indicate that a variable or argument should be of a type that supports floating-point numbers. It is often used for variables that can accept float values.\n",
    "\n",
    "Usage:"
   ]
  },
  {
   "cell_type": "code",
   "execution_count": 4,
   "metadata": {},
   "outputs": [],
   "source": [
    "from typing import SupportsFloat\n",
    "\n",
    "def calculate_average(values: SupportsFloat) -> float:\n",
    "    total = sum(values)\n",
    "    count = len(values)\n",
    "    return total / count\n",
    "\n",
    "# Usage with lists of float values\n",
    "values = [1.0, 2.0, 3.0]\n",
    "average = calculate_average(values)  # Output: 2.0"
   ]
  },
  {
   "cell_type": "markdown",
   "metadata": {},
   "source": [
    "### TypeVar:\n",
    "-----------\n",
    "The `TypeVar` class is used to define type variables in Python. It is often used with generics to specify that a variable can take on different types. Type variables are used for defining generic types and classes.\n",
    "\n",
    "Usage:"
   ]
  },
  {
   "cell_type": "code",
   "execution_count": 5,
   "metadata": {},
   "outputs": [
    {
     "data": {
      "text/plain": [
       "'Hello'"
      ]
     },
     "execution_count": 5,
     "metadata": {},
     "output_type": "execute_result"
    }
   ],
   "source": [
    "from typing import TypeVar\n",
    "\n",
    "T = TypeVar('T')  # Define a type variable 'T'\n",
    "\n",
    "def echo(value: T) -> T:\n",
    "    return value\n",
    "\n",
    "# Usage with different types\n",
    "echo(42)  # Output: 42\n",
    "echo(\"Hello\")  # Output: \"Hello\""
   ]
  },
  {
   "cell_type": "markdown",
   "metadata": {},
   "source": [
    "### Creating New Typing Classes:\n",
    "-------------------------------\n",
    "You can create custom typing classes to define your own specialized type hints. These custom types can be helpful for improving code readability and providing more specific type information.\n",
    "\n",
    "To create a new typing class, you can subclass one of the existing typing classes or use the `NewType` function from the `typing` module.\n",
    "\n",
    "Usage:"
   ]
  },
  {
   "cell_type": "code",
   "execution_count": 6,
   "metadata": {},
   "outputs": [],
   "source": [
    "from typing import NewType, Sequence\n",
    "\n",
    "# Create a new typing class using NewType\n",
    "UserId = NewType('UserId', int)\n",
    "PostId = NewType('PostId', int)\n",
    "\n",
    "def create_user(user_id: UserId, username: str) -> None:\n",
    "    # Perform user creation logic here\n",
    "    pass\n",
    "\n",
    "def create_post(post_id: PostId, content: str) -> None:\n",
    "    # Perform post creation logic here\n",
    "    pass\n",
    "\n",
    "# Usage with custom typing classes\n",
    "user_id = UserId(123)\n",
    "post_id = PostId(456)\n",
    "create_user(user_id, \"Alice\")\n",
    "create_post(post_id, \"This is a post.\")"
   ]
  },
  {
   "cell_type": "markdown",
   "metadata": {},
   "source": [
    "\n",
    "These typing classes and types help in providing type hints and improving code readability, especially in functions and classes where the expected types need to be explicitly defined."
   ]
  }
 ],
 "metadata": {
  "kernelspec": {
   "display_name": "Python 3",
   "language": "python",
   "name": "python3"
  },
  "language_info": {
   "codemirror_mode": {
    "name": "ipython",
    "version": 3
   },
   "file_extension": ".py",
   "mimetype": "text/x-python",
   "name": "python",
   "nbconvert_exporter": "python",
   "pygments_lexer": "ipython3",
   "version": "3.10.8"
  },
  "orig_nbformat": 4
 },
 "nbformat": 4,
 "nbformat_minor": 2
}
