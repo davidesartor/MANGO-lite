{
 "cells": [
  {
   "cell_type": "markdown",
   "metadata": {},
   "source": [
    "\n",
    "## MangoEnv Class\n",
    "\n",
    "### `MangoEnv` Class\n",
    "\n",
    "The `MangoEnv` class represents an environment that combines a concept with an underlying OpenAI Gym environment. It abstracts the environment state based on the given concept.\n"
   ]
  },
  {
   "cell_type": "code",
   "execution_count": 1,
   "metadata": {},
   "outputs": [],
   "source": [
    "import sys; sys.path.append('../')\n",
    "\n",
    "from mango.actions import ActionCompatibility\n",
    "from mango.concepts import Concept, IdentityConcept\n",
    "from mango.dynamicpolicies import DQnetPolicyMapper\n",
    "from mango.utils import ReplayMemory, Transition, torch_style_repr"
   ]
  },
  {
   "cell_type": "code",
   "execution_count": 2,
   "metadata": {},
   "outputs": [],
   "source": [
    "from dataclasses import dataclass, field\n",
    "from typing import Generic, Optional, Sequence, SupportsFloat, TypeVar\n",
    "import gymnasium as gym\n",
    "import numpy as np\n",
    "import numpy.typing as npt\n",
    "\n",
    "\n",
    "ObsType = TypeVar(\"ObsType\")\n",
    "\n",
    "@dataclass(eq=False, slots=True, repr=False)\n",
    "class MangoEnv(Generic[ObsType]):\n",
    "    concept: Concept[ObsType]\n",
    "    environment: gym.Env[ObsType, int]\n",
    "    abs_state: npt.NDArray = field(init=False)\n",
    "\n",
    "    def step(self, action: int) -> tuple[ObsType, SupportsFloat, bool, bool, dict]:\n",
    "        ...\n",
    "    \n",
    "    def reset(\n",
    "        self, *, seed: Optional[int] = None, options: Optional[dict] = None\n",
    "    ) -> tuple[ObsType, dict]:\n",
    "        ..."
   ]
  },
  {
   "cell_type": "markdown",
   "metadata": {},
   "source": [
    "\n",
    "### `reset` Method\n",
    "\n",
    "The `reset` method resets the environment to an initial state.\n",
    "\n",
    "- `seed` (optional): An optional seed for reproducibility.\n",
    "- `options` (optional): Additional options as a dictionary.\n",
    "\n",
    "Returns:\n",
    "- `env_state`: The initial environment state after resetting.\n",
    "- `info`: Additional information as a dictionary.\n"
   ]
  },
  {
   "cell_type": "markdown",
   "metadata": {},
   "source": [
    "**Usage:**\n",
    "\n",
    "You can create an instance of `MangoEnv` by providing a concept and an underlying OpenAI Gym environment. This allows you to work with abstract states in the environment.\n"
   ]
  },
  {
   "cell_type": "code",
   "execution_count": 9,
   "metadata": {},
   "outputs": [],
   "source": [
    "\n",
    "from mango.actions import ActionCompatibility\n",
    "from mango.concepts import Concept, IdentityConcept\n",
    "from mango.mango import MangoEnv\n",
    "from mango.utils import ReplayMemory, Transition, torch_style_repr"
   ]
  },
  {
   "cell_type": "code",
   "execution_count": 10,
   "metadata": {},
   "outputs": [],
   "source": [
    "# Create an instance of MangoEnv\n",
    "concept = IdentityConcept()\n",
    "env = MangoEnv(concept, gym.make(\"CartPole-v1\"))\n",
    "\n",
    "# Reset the environment\n",
    "initial_state, info = env.reset()"
   ]
  },
  {
   "cell_type": "markdown",
   "metadata": {},
   "source": [
    "\n",
    "\n",
    "### `step` Method\n",
    "\n",
    "The `step` method performs a step in the environment by taking an action and returning information about the transition.\n",
    "\n",
    "- `action`: An integer representing the action taken in the environment.\n",
    "\n",
    "Returns:\n",
    "- `env_state`: The environment state after the step.\n",
    "- `reward`: The reward obtained from the environment.\n",
    "- `done`: A boolean indicating whether the episode is done.\n",
    "- `truncated`: A boolean indicating whether the episode was truncated.\n",
    "- `info`: Additional information as a dictionary.\n"
   ]
  },
  {
   "cell_type": "markdown",
   "metadata": {},
   "source": [
    "**Usage:**"
   ]
  },
  {
   "cell_type": "code",
   "execution_count": 11,
   "metadata": {},
   "outputs": [],
   "source": [
    "# Perform a step in the environment\n",
    "action = 0\n",
    "env_state, reward, done, truncated, info = env.step(action)"
   ]
  },
  {
   "cell_type": "markdown",
   "metadata": {},
   "source": [
    "**Usage:**"
   ]
  },
  {
   "cell_type": "markdown",
   "metadata": {},
   "source": [
    "\n",
    "## MangoLayer Class\n",
    "\n",
    "### `MangoLayer` Class\n",
    "\n",
    "The `MangoLayer` class represents a layer in the Mango framework. It combines a concept, action compatibility, and a lower-layer environment or layer.\n"
   ]
  },
  {
   "cell_type": "code",
   "execution_count": 13,
   "metadata": {},
   "outputs": [],
   "source": [
    "\n",
    "from mango.actions import ActionCompatibility\n",
    "from mango.concepts import Concept, IdentityConcept\n",
    "from mango.mango import MangoEnv, MangoLayer\n",
    "from mango.utils import ReplayMemory, Transition, torch_style_repr"
   ]
  },
  {
   "cell_type": "code",
   "execution_count": 14,
   "metadata": {},
   "outputs": [],
   "source": [
    "@dataclass(eq=False, slots=True, repr=False)\n",
    "class MangoLayer(Generic[ObsType]):\n",
    "    concept: Concept[ObsType]\n",
    "    action_compatibility: ActionCompatibility\n",
    "    lower_layer: MangoLayer[ObsType] | MangoEnv[ObsType]\n",
    "    max_steps: int = 10\n",
    "\n",
    "    def step(self, action: int) -> tuple[ObsType, SupportsFloat, bool, bool, dict]:\n",
    "        ...\n",
    "    \n",
    "    def reset(\n",
    "        self, *, seed: Optional[int] = None, options: Optional[dict] = None\n",
    "    ) -> tuple[ObsType, dict]:\n",
    "        ..."
   ]
  },
  {
   "cell_type": "markdown",
   "metadata": {},
   "source": [
    "**Usage:**\n",
    "\n",
    "You can create an instance of `MangoLayer` by providing a concept, action compatibility, and a lower-layer environment or layer. This allows you to build a hierarchical structure of layers in the Mango framework.\n"
   ]
  },
  {
   "cell_type": "markdown",
   "metadata": {},
   "source": [
    "\n",
    "\n",
    "### `reset` Method\n",
    "\n",
    "The `reset` method resets the layer to an initial state by resetting the lower-layer environment or layer.\n",
    "\n",
    "- `seed` (optional): An optional seed for reproducibility.\n",
    "- `options` (optional): Additional options as a dictionary.\n",
    "\n",
    "Returns:\n",
    "- `env_state`: The initial environment state after resetting.\n",
    "- `info`: Additional information as a dictionary.\n"
   ]
  },
  {
   "cell_type": "markdown",
   "metadata": {},
   "source": [
    "**Usage:**\n"
   ]
  },
  {
   "cell_type": "code",
   "execution_count": null,
   "metadata": {},
   "outputs": [],
   "source": [
    "# Create an instance of MangoLayer\n",
    "concept = IdentityConcept()\n",
    "action_compatibility = ActionCompatibility(...)\n",
    "lower_layer = MangoEnv(concept, gym.make(\"CartPole-v1\"))\n",
    "layer = MangoLayer(concept, action_compatibility, lower_layer)\n",
    "\n",
    "# Reset the layer\n",
    "initial_state, info = layer.reset()"
   ]
  },
  {
   "cell_type": "markdown",
   "metadata": {},
   "source": [
    "### `step` Method\n",
    "\n",
    "The `step` method performs a step in the layer by taking an action and returning information about the transition. It handles interactions with the lower-layer environment or layer.\n",
    "\n",
    "- `action`: An integer representing the action taken in the layer.\n",
    "\n",
    "Returns:\n",
    "- `env_state`: The environment state after the step.\n",
    "- `accumulated_reward`: The accumulated reward obtained from the environment.\n",
    "- `done`: A boolean indicating whether the episode is done.\n",
    "- `truncated`: A boolean indicating whether the episode was truncated.\n",
    "- `info`: Additional information as a dictionary."
   ]
  },
  {
   "cell_type": "markdown",
   "metadata": {},
   "source": [
    "**Usage:**"
   ]
  },
  {
   "cell_type": "code",
   "execution_count": null,
   "metadata": {},
   "outputs": [],
   "source": [
    "\n",
    "# Perform a step in the layer\n",
    "action = 0\n",
    "env_state, accumulated_reward, done, truncated, info = layer.step(action)"
   ]
  },
  {
   "cell_type": "markdown",
   "metadata": {},
   "source": [
    "## Mango Class\n",
    "\n",
    "### `Mango` Class\n",
    "\n",
    "The `Mango` class represents the top-level control for the Mango framework. It orchestrates the interactions between different layers and provides methods for execution and training.\n"
   ]
  },
  {
   "cell_type": "code",
   "execution_count": null,
   "metadata": {},
   "outputs": [],
   "source": [
    "class Mango(Generic[ObsType]):\n",
    "    def __init__(\n",
    "        self,\n",
    "        environment: gym.Env[ObsType, int],\n",
    "        concepts: Sequence[Concept[ObsType]],\n",
    "        action_compatibilities: Sequence[ActionCompatibility],\n",
    "        base_concept: Concept[ObsType] = IdentityConcept(),\n",
    "    ) -> None:\n",
    "        ...\n",
    "    \n",
    "    def execute_option(\n",
    "        self, action: int, layer: int = 0\n",
    "    ) -> tuple[ObsType, SupportsFloat, bool, bool, dict]:\n",
    "        ...\n",
    "    \n",
    "    def train(self, steps: int, layer_idx: int = -1, epochs: int = 1) -> None:\n",
    "        ...\n",
    "    \n",
    "    def reset(\n",
    "        self, *, seed: Optional[int] = None, options: Optional[dict] = None\n",
    "    ) -> tuple[ObsType, dict]:\n",
    "        ..."
   ]
  },
  {
   "cell_type": "markdown",
   "metadata": {},
   "source": [
    "**Usage:**\n",
    "\n",
    "You can create an instance of `Mango` by providing an environment, a sequence of concepts, and a sequence of action compatibilities. This allows you to build a hierarchical agent using the Mango framework.\n"
   ]
  },
  {
   "cell_type": "markdown",
   "metadata": {},
   "source": [
    "### `execute_option` Method\n",
    "\n",
    "The `execute_option` method executes an option (action) in a specific layer of the Mango framework.\n",
    "\n",
    "- `action`: An integer representing the action to execute.\n",
    "- `layer`: The index of the layer in which to execute the action (default is the base layer).\n",
    "\n",
    "Returns:\n",
    "- `env_state`: The environment state after executing the option.\n",
    "- `accumulated_reward`: The accumulated reward obtained from the environment.\n",
    "- `done`:\n",
    "\n",
    " A boolean indicating whether the episode is done.\n",
    "- `truncated`: A boolean indicating whether the episode was truncated.\n",
    "- `info`: Additional information as a dictionary.\n"
   ]
  },
  {
   "cell_type": "markdown",
   "metadata": {},
   "source": [
    "**Usage:**"
   ]
  },
  {
   "cell_type": "code",
   "execution_count": null,
   "metadata": {},
   "outputs": [],
   "source": [
    "# Create an instance of Mango\n",
    "concept = IdentityConcept()\n",
    "environment = gym.make(\"CartPole-v1\")\n",
    "concepts = [concept]\n",
    "action_compatibilities = [ActionCompatibility(environment.action_space)]\n",
    "mango_agent = Mango(environment, concepts, action_compatibilities)\n",
    "\n",
    "# Execute an option in the agent\n",
    "action = 0\n",
    "env_state, accumulated_reward, done, truncated, info = mango_agent.execute_option(action)"
   ]
  },
  {
   "cell_type": "markdown",
   "metadata": {},
   "source": [
    "\n",
    "### `train` Method\n",
    "\n",
    "The `train` method trains the Mango framework by executing options and updating policies for a specified number of steps.\n",
    "\n",
    "- `steps`: The number of steps to train the agent.\n",
    "- `layer_idx`: The index of the layer to train (default is the topmost layer).\n",
    "- `epochs`: The number of training epochs (default is 1).\n"
   ]
  },
  {
   "cell_type": "markdown",
   "metadata": {},
   "source": [
    "**Usage:**"
   ]
  },
  {
   "cell_type": "code",
   "execution_count": null,
   "metadata": {},
   "outputs": [],
   "source": [
    "# Train the Mango agent\n",
    "num_steps = 1000\n",
    "layer_index = 0\n",
    "num_epochs = 5\n",
    "mango_agent.train(num_steps, layer_idx=layer_index, epochs=num_epochs)"
   ]
  },
  {
   "cell_type": "markdown",
   "metadata": {},
   "source": [
    "### `reset` Method\n",
    "\n",
    "The `reset` method resets the Mango agent to an initial state.\n",
    "\n",
    "- `seed` (optional): An optional seed for reproducibility.\n",
    "- `options` (optional): Additional options as a dictionary.\n",
    "\n",
    "Returns:\n",
    "- `env_state`: The initial environment state after resetting.\n",
    "- `info`: Additional information as a dictionary.\n"
   ]
  },
  {
   "cell_type": "markdown",
   "metadata": {},
   "source": [
    "**Usage:**"
   ]
  },
  {
   "cell_type": "code",
   "execution_count": null,
   "metadata": {},
   "outputs": [],
   "source": [
    "# Reset the Mango agent\n",
    "initial_state, info = mango_agent.reset(seed=42, options={\"key\": \"value\"})"
   ]
  },
  {
   "cell_type": "markdown",
   "metadata": {},
   "source": [
    "## Example Usage\n",
    "\n",
    "Here's an example of how to create and use a Mango agent:"
   ]
  },
  {
   "cell_type": "code",
   "execution_count": null,
   "metadata": {},
   "outputs": [],
   "source": [
    "# Create an instance of Mango\n",
    "concept = IdentityConcept()\n",
    "environment = gym.make(\"CartPole-v1\")\n",
    "concepts = [concept]\n",
    "action_compatibilities = [ActionCompatibility(environment.action_space)]\n",
    "mango_agent = Mango(environment, concepts, action_compatibilities)\n",
    "\n",
    "# Execute an option in the agent\n",
    "action = 0\n",
    "env_state, accumulated_reward, done, truncated, info = mango_agent.execute_option(action)\n",
    "\n",
    "# Train the Mango agent\n",
    "num_steps = 1000\n",
    "layer_index = 0\n",
    "num_epochs = 5\n",
    "mango_agent.train(num_steps, layer_idx=layer_index, epochs=num_epochs)\n",
    "\n",
    "# Reset the Mango agent\n",
    "initial_state, info = mango_agent.reset(seed=42, options={\"key\": \"value\"})"
   ]
  },
  {
   "cell_type": "markdown",
   "metadata": {},
   "source": [
    "\n",
    "In this example, we create a Mango agent, execute options, train the agent, and reset it to an initial state. The agent consists of a base layer with a CartPole environment and a simple IdentityConcept.\n"
   ]
  }
 ],
 "metadata": {
  "kernelspec": {
   "display_name": "Python 3",
   "language": "python",
   "name": "python3"
  },
  "language_info": {
   "codemirror_mode": {
    "name": "ipython",
    "version": 3
   },
   "file_extension": ".py",
   "mimetype": "text/x-python",
   "name": "python",
   "nbconvert_exporter": "python",
   "pygments_lexer": "ipython3",
   "version": "3.10.8"
  },
  "orig_nbformat": 4
 },
 "nbformat": 4,
 "nbformat_minor": 2
}
