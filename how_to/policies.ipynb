{
 "cells": [
  {
   "cell_type": "markdown",
   "metadata": {},
   "source": [
    "## Policy Protocol"
   ]
  },
  {
   "cell_type": "markdown",
   "metadata": {},
   "source": [
    "### `Policy` Protocol\n",
    "\n",
    "The `Policy` protocol defines two methods, `get_action` and `train`, to represent the behavior of a reinforcement learning policy. "
   ]
  },
  {
   "cell_type": "code",
   "execution_count": 3,
   "metadata": {},
   "outputs": [],
   "source": [
    "import numpy as np\n",
    "import sys \n",
    "sys.path.append('../')\n",
    "from mango.utils import Transition\n"
   ]
  },
  {
   "cell_type": "code",
   "execution_count": 4,
   "metadata": {},
   "outputs": [],
   "source": [
    "from typing import Protocol, Sequence\n",
    "import numpy.typing as npt\n",
    "from dataclasses import dataclass, field\n",
    "import gymnasium as gym\n",
    "from typing import Any, Protocol, Sequence\n",
    "\n",
    "\n",
    "class Policy(Protocol):\n",
    "    def get_action(self, state: npt.NDArray) -> int:\n",
    "        ...\n",
    "\n",
    "    def train(self, transitions: Sequence[Transition]):\n",
    "        ..."
   ]
  },
  {
   "cell_type": "markdown",
   "metadata": {},
   "source": [
    "**Usage:**\n",
    "\n",
    "You can implement concrete policy classes that adhere to this protocol, providing methods for selecting actions and training the policy.\n",
    "\n",
    "## Concrete Policy Classes\n"
   ]
  },
  {
   "cell_type": "markdown",
   "metadata": {},
   "source": [
    "\n",
    "### `RandomPolicy`\n",
    "\n",
    "The `RandomPolicy` class is a concrete implementation of the `Policy` protocol that selects random actions from a given action space.\n"
   ]
  },
  {
   "cell_type": "code",
   "execution_count": 5,
   "metadata": {},
   "outputs": [],
   "source": [
    "@dataclass(eq=False, slots=True)\n",
    "class RandomPolicy(Policy):\n",
    "    action_space: gym.spaces.Discrete\n",
    "\n",
    "    def get_action(self, state: Any) -> int:\n",
    "        ...\n",
    "    \n",
    "    def train(self, transitions: Sequence[Transition]):\n",
    "        ..."
   ]
  },
  {
   "cell_type": "markdown",
   "metadata": {},
   "source": [
    "**Usage:**"
   ]
  },
  {
   "cell_type": "code",
   "execution_count": 6,
   "metadata": {},
   "outputs": [],
   "source": [
    "# Create a random policy for a Discrete action space\n",
    "action_space = gym.spaces.Discrete(4)\n",
    "random_policy = RandomPolicy(action_space=action_space)\n",
    "\n",
    "# Get a random action\n",
    "state = np.array([0.1, 0.2, 0.3])\n",
    "action = random_policy.get_action(state)"
   ]
  },
  {
   "cell_type": "markdown",
   "metadata": {},
   "source": [
    "### `DQnetPolicy`\n",
    "\n",
    "The `DQnetPolicy` class is a concrete implementation of the `Policy` protocol that uses a deep Q-network to select actions and perform Q-learning updates.\n"
   ]
  },
  {
   "cell_type": "code",
   "execution_count": 8,
   "metadata": {},
   "outputs": [],
   "source": [
    "@dataclass(eq=False, slots=True)\n",
    "class DQnetPolicy(Policy):\n",
    "    action_space: gym.spaces.Discrete\n",
    "\n",
    "    def get_action(self, state: npt.NDArray) -> int:\n",
    "        ...\n",
    "    \n",
    "    def train(self, transitions: Sequence[Transition]):\n",
    "        ..."
   ]
  },
  {
   "cell_type": "markdown",
   "metadata": {},
   "source": [
    "\n",
    "**Usage:**\n"
   ]
  },
  {
   "cell_type": "code",
   "execution_count": null,
   "metadata": {},
   "outputs": [],
   "source": [
    "# Create a DQnetPolicy for a Discrete action space\n",
    "action_space = gym.spaces.Discrete(4)\n",
    "dqnet_policy = DQnetPolicy(action_space=action_space)\n",
    "\n",
    "# Get an action using the policy\n",
    "state = np.array([0.1, 0.2, 0.3])\n",
    "action = dqnet_policy.get_action(state)\n",
    "\n",
    "# Train the policy with a sequence of transitions\n",
    "transitions = [Transition(...)]\n",
    "dqnet_policy.train(transitions)"
   ]
  },
  {
   "cell_type": "markdown",
   "metadata": {},
   "source": [
    "## Summary\n",
    "\n",
    "In this documentation, we have explained the purpose of the provided code and described the usage of the `Policy` protocol and its concrete implementations, `RandomPolicy` and `DQnetPolicy`. These classes can be used to define and train reinforcement learning policies for various environments and tasks."
   ]
  }
 ],
 "metadata": {
  "kernelspec": {
   "display_name": "Python 3",
   "language": "python",
   "name": "python3"
  },
  "language_info": {
   "codemirror_mode": {
    "name": "ipython",
    "version": 3
   },
   "file_extension": ".py",
   "mimetype": "text/x-python",
   "name": "python",
   "nbconvert_exporter": "python",
   "pygments_lexer": "ipython3",
   "version": "3.10.8"
  },
  "orig_nbformat": 4
 },
 "nbformat": 4,
 "nbformat_minor": 2
}
