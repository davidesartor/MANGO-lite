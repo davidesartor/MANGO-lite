{
 "cells": [
  {
   "cell_type": "code",
   "execution_count": 1,
   "metadata": {},
   "outputs": [],
   "source": [
    "import sys\n",
    "import matplotlib.pyplot as plt\n",
    "from tqdm.auto import tqdm\n",
    "sys.path.append(\"..\")\n",
    "from mango.environments import frozen_lake\n",
    "import utils"
   ]
  },
  {
   "cell_type": "code",
   "execution_count": 2,
   "metadata": {},
   "outputs": [],
   "source": [
    "params = dict(map_name=\"RANDOM\", p=None, shape=(4,4), seed=0)\n",
    "env = frozen_lake.CustomFrozenLakeEnv(**params)\n",
    "env = frozen_lake.wrappers.ReInitOnReset(env, **params)\n",
    "env = frozen_lake.wrappers.TensorObservation(env, one_hot=True)\n",
    "obs, info = env.reset()\n",
    "print(f\"Observation:\\n {obs.shape, obs.dtype, obs.device}\")\n",
    "utils.render(env)"
   ]
  },
  {
   "cell_type": "code",
   "execution_count": null,
   "metadata": {},
   "outputs": [],
   "source": [
    "from mango.mango import MangoEnv, Agent\n",
    "from mango.policies.experiencereplay import ExperienceReplay\n",
    "from mango.policies.dqnet import DQNetTrainer, DQNetPolicy\n",
    "from mango.neuralnetworks.networks import ConvEncoder\n",
    "\n",
    "net_kwargs = dict(hidden_channels=[32], hidden_features=[])\n",
    "trainer_kwargs = dict(lr=1e-3, gamma=0.99, tau=1e-3)\n",
    "\n",
    "\n",
    "net = ConvEncoder(in_channels=None, out_features=int(env.action_space.n), **net_kwargs).eval()\n",
    "policy = DQNetPolicy(net, env.action_space)\n",
    "trainer = DQNetTrainer(net, **trainer_kwargs)\n",
    "replay = ExperienceReplay()\n",
    "agent = Agent(MangoEnv(env), policy)"
   ]
  },
  {
   "cell_type": "code",
   "execution_count": null,
   "metadata": {},
   "outputs": [],
   "source": [
    "import snakeviz\n",
    "%load_ext snakeviz"
   ]
  },
  {
   "cell_type": "code",
   "execution_count": null,
   "metadata": {},
   "outputs": [
    {
     "data": {
      "application/vnd.jupyter.widget-view+json": {
       "model_id": "7cda4ae675cd489685b6df969ea13a27",
       "version_major": 2,
       "version_minor": 0
      },
      "text/plain": [
       "  0%|          | 0/100 [00:00<?, ?it/s]"
      ]
     },
     "metadata": {},
     "output_type": "display_data"
    },
    {
     "name": "stdout",
     "output_type": "stream",
     "text": [
      "Episode 0: {'prob': 1}\n",
      "Episode 10: {'prob': 1}\n",
      "Episode 20: {'prob': 1}\n",
      "Episode 30: TrainInfo(loss=tensor(0.1670, grad_fn=<SmoothL1LossBackward0>), td=tensor([[-0.0454],\n",
      "        [-0.0156],\n",
      "        [-0.2820],\n",
      "        [-0.2614],\n",
      "        [ 0.2418],\n",
      "        [-0.8913],\n",
      "        [-0.9726],\n",
      "        [-1.0401],\n",
      "        [-0.4414],\n",
      "        [-0.0419],\n",
      "        [-1.0755],\n",
      "        [-0.3983],\n",
      "        [-0.7243],\n",
      "        [ 0.6296],\n",
      "        [-0.5068],\n",
      "        [-0.0419],\n",
      "        [-0.3752],\n",
      "        [-0.7431],\n",
      "        [-0.3881],\n",
      "        [-1.3517],\n",
      "        [-1.1284],\n",
      "        [ 0.3007],\n",
      "        [-0.9306],\n",
      "        [ 0.3031],\n",
      "        [ 0.0115],\n",
      "        [-0.3597],\n",
      "        [ 0.5349],\n",
      "        [-0.6784],\n",
      "        [ 0.1279],\n",
      "        [-0.0171],\n",
      "        [-0.6813],\n",
      "        [-0.4313],\n",
      "        [-0.5227],\n",
      "        [-0.6146],\n",
      "        [-0.2512],\n",
      "        [-0.0600],\n",
      "        [-1.5105],\n",
      "        [-0.3622],\n",
      "        [-0.4748],\n",
      "        [-0.1362],\n",
      "        [ 0.0488],\n",
      "        [-0.0142],\n",
      "        [ 0.3734],\n",
      "        [ 0.2223],\n",
      "        [-1.0775],\n",
      "        [-0.4292],\n",
      "        [-0.1079],\n",
      "        [-0.4422],\n",
      "        [-0.3006],\n",
      "        [-0.0180],\n",
      "        [-0.2517],\n",
      "        [-0.2399],\n",
      "        [ 0.1445],\n",
      "        [-0.3482],\n",
      "        [ 0.2911],\n",
      "        [-1.1923],\n",
      "        [-0.4458],\n",
      "        [-0.0986],\n",
      "        [ 0.1039],\n",
      "        [-0.7887],\n",
      "        [-1.1094],\n",
      "        [-0.7219],\n",
      "        [-0.0676],\n",
      "        [-0.0676]], grad_fn=<SubBackward0>))\n",
      "Episode 40: TrainInfo(loss=tensor(0.0920, grad_fn=<SmoothL1LossBackward0>), td=tensor([[-0.1715],\n",
      "        [-1.1864],\n",
      "        [-0.5682],\n",
      "        [ 0.5167],\n",
      "        [-0.1109],\n",
      "        [ 0.3624],\n",
      "        [-0.1426],\n",
      "        [-0.4396],\n",
      "        [-0.4054],\n",
      "        [-0.8679],\n",
      "        [ 0.6481],\n",
      "        [-0.1386],\n",
      "        [ 0.5412],\n",
      "        [-0.4100],\n",
      "        [ 0.1937],\n",
      "        [ 0.0860],\n",
      "        [-0.2471],\n",
      "        [ 0.0082],\n",
      "        [ 0.2357],\n",
      "        [ 0.5055],\n",
      "        [-0.1789],\n",
      "        [-0.3174],\n",
      "        [-0.0122],\n",
      "        [ 0.5330],\n",
      "        [-0.5281],\n",
      "        [-0.0633],\n",
      "        [-0.1426],\n",
      "        [ 0.7466],\n",
      "        [ 0.3833],\n",
      "        [ 0.0834],\n",
      "        [ 0.6479],\n",
      "        [ 0.5927],\n",
      "        [ 0.0649],\n",
      "        [-0.7479],\n",
      "        [ 0.1973],\n",
      "        [-0.2855],\n",
      "        [ 0.2073],\n",
      "        [ 0.0313],\n",
      "        [ 0.2936],\n",
      "        [ 0.0315],\n",
      "        [-0.0934],\n",
      "        [-0.3748],\n",
      "        [-0.1536],\n",
      "        [ 0.6816],\n",
      "        [-0.6878],\n",
      "        [-0.7730],\n",
      "        [-0.6366],\n",
      "        [-0.2426],\n",
      "        [-0.1787],\n",
      "        [ 0.1145],\n",
      "        [ 0.0162],\n",
      "        [ 0.1952],\n",
      "        [ 0.3180],\n",
      "        [-0.3390],\n",
      "        [ 0.0403],\n",
      "        [ 0.1505],\n",
      "        [-0.9074],\n",
      "        [-0.0946],\n",
      "        [-0.4583],\n",
      "        [ 0.2622],\n",
      "        [-0.4407],\n",
      "        [ 0.0521],\n",
      "        [-0.6052],\n",
      "        [-0.0861]], grad_fn=<SubBackward0>))\n"
     ]
    }
   ],
   "source": [
    "%%snakeviz -t\n",
    "for episode in tqdm(range(100)):\n",
    "    trans = agent.run_episode(randomness=0.5)\n",
    "    for step in trans.steps:\n",
    "        replay.push(step)\n",
    "\n",
    "    if replay.can_sample():\n",
    "        info = trainer.train(replay.sample())\n",
    "        if episode % 10 == 0:\n",
    "            print(f\"Episode {episode}: {info.loss}\")"
   ]
  },
  {
   "cell_type": "code",
   "execution_count": null,
   "metadata": {},
   "outputs": [
    {
     "ename": "NameError",
     "evalue": "name 'agent' is not defined",
     "output_type": "error",
     "traceback": [
      "\u001b[0;31m---------------------------------------------------------------------------\u001b[0m",
      "\u001b[0;31mNameError\u001b[0m                                 Traceback (most recent call last)",
      "Cell \u001b[0;32mIn[1], line 1\u001b[0m\n\u001b[0;32m----> 1\u001b[0m trans \u001b[38;5;241m=\u001b[39m \u001b[43magent\u001b[49m\u001b[38;5;241m.\u001b[39mrun_episode(randomness\u001b[38;5;241m=\u001b[39m\u001b[38;5;241m0.1\u001b[39m)\n\u001b[1;32m      2\u001b[0m utils\u001b[38;5;241m.\u001b[39mrender(env, trajectory\u001b[38;5;241m=\u001b[39mtrans\u001b[38;5;241m.\u001b[39mtrajectory)\n",
      "\u001b[0;31mNameError\u001b[0m: name 'agent' is not defined"
     ]
    }
   ],
   "source": [
    "trans = agent.run_episode(randomness=0.0)\n",
    "utils.render(env, trajectory=trans.trajectory)"
   ]
  }
 ],
 "metadata": {
  "kernelspec": {
   "display_name": "python310base",
   "language": "python",
   "name": "python3"
  },
  "language_info": {
   "codemirror_mode": {
    "name": "ipython",
    "version": 3
   },
   "file_extension": ".py",
   "mimetype": "text/x-python",
   "name": "python",
   "nbconvert_exporter": "python",
   "pygments_lexer": "ipython3",
   "version": "3.10.13"
  },
  "orig_nbformat": 4
 },
 "nbformat": 4,
 "nbformat_minor": 2
}
