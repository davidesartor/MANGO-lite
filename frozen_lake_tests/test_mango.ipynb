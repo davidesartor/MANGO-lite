{
 "cells": [
  {
   "cell_type": "code",
   "execution_count": 20,
   "metadata": {},
   "outputs": [
    {
     "data": {
      "text/plain": [
       "4"
      ]
     },
     "execution_count": 20,
     "metadata": {},
     "output_type": "execute_result"
    }
   ],
   "source": [
    "import sys\n",
    "import matplotlib.pyplot as plt\n",
    "sys.path.append(\"..\")\n",
    "from mango.spaces import Discrete\n",
    "\n",
    "Discrete(10).sample()"
   ]
  },
  {
   "cell_type": "code",
   "execution_count": 2,
   "metadata": {},
   "outputs": [
    {
     "name": "stdout",
     "output_type": "stream",
     "text": [
      "feasible maps: more than 257.4\n"
     ]
    }
   ],
   "source": [
    "import math\n",
    "\n",
    "map_base = 2\n",
    "map_scale = 2\n",
    "# maps with 50% of frozen cells are comb(4**map_scale, 4**map_scale // 2)\n",
    "# maps with 45-55% of frozen cells are roughly 0.1* 4**map_scale\n",
    "# from empirical simulations more than 2% of this maps are feasible for 8x8\n",
    "nmaps = math.comb(4**map_scale, 4**map_scale // 2) * (4**map_scale // 10) * (0.02)\n",
    "print(\"feasible maps: more than\", nmaps)"
   ]
  }
 ],
 "metadata": {
  "kernelspec": {
   "display_name": "python310base",
   "language": "python",
   "name": "python3"
  },
  "language_info": {
   "codemirror_mode": {
    "name": "ipython",
    "version": 3
   },
   "file_extension": ".py",
   "mimetype": "text/x-python",
   "name": "python",
   "nbconvert_exporter": "python",
   "pygments_lexer": "ipython3",
   "version": "3.10.13"
  },
  "orig_nbformat": 4
 },
 "nbformat": 4,
 "nbformat_minor": 2
}
