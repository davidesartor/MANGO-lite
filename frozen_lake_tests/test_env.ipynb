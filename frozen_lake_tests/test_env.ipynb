{
 "cells": [
  {
   "cell_type": "code",
   "execution_count": 2,
   "metadata": {},
   "outputs": [],
   "source": [
    "import numpy as np\n",
    "import numpy.typing as npt\n",
    "import matplotlib.pyplot as plt"
   ]
  },
  {
   "cell_type": "code",
   "execution_count": 68,
   "metadata": {},
   "outputs": [],
   "source": [
    "def connected_components(frozen: npt.NDArray[np.bool_]) -> npt.NDArray[np.int_]:\n",
    "    \"\"\"get a boolean mask (1=frozen, 0=lake) and return a tensor of the same shape\n",
    "    with each element being the index of the connected component the cell belongs to\"\"\"\n",
    "    components = np.arange(1, frozen.size + 1, dtype=np.int_).reshape(frozen.shape)\n",
    "    components[~frozen] = 0\n",
    "    changes = np.ones_like(components, dtype=np.bool_)\n",
    "    while changes.sum() > 0:\n",
    "        adj = components.copy()\n",
    "        adj[1:, :] = np.maximum(adj[1:, :], components[:-1, :])\n",
    "        adj[:-1, :] = np.maximum(adj[:-1, :], components[1:, :])\n",
    "        adj[:, 1:] = np.maximum(adj[:, 1:], components[:, :-1])\n",
    "        adj[:, :-1] = np.maximum(adj[:, :-1], components[:, 1:])\n",
    "        changes = adj[frozen] > components[frozen]\n",
    "        components[frozen] = adj[frozen]\n",
    "    for i, u in enumerate(np.unique(components)):\n",
    "        components[components == u] = i\n",
    "    return components"
   ]
  },
  {
   "cell_type": "code",
   "execution_count": 74,
   "metadata": {},
   "outputs": [
    {
     "data": {
      "image/png": "[encoded data removed]",
      "text/plain": [
       "<Figure size 600x300 with 2 Axes>"
      ]
     },
     "metadata": {},
     "output_type": "display_data"
    }
   ],
   "source": [
    "frozen = np.random.rand(8,8) > 0.4\n",
    "components = connected_components(frozen)\n",
    "plt.figure(figsize=(6, 3))\n",
    "plt.subplot(121)\n",
    "plt.imshow(frozen, cmap=\"gray\")\n",
    "plt.xticks([])\n",
    "plt.yticks([])\n",
    "plt.subplot(122)\n",
    "plt.imshow(components, cmap=\"tab20\")\n",
    "plt.xticks([])\n",
    "plt.show()"
   ]
  },
  {
   "cell_type": "code",
   "execution_count": null,
   "metadata": {},
   "outputs": [],
   "source": []
  },
  {
   "cell_type": "code",
   "execution_count": null,
   "metadata": {},
   "outputs": [],
   "source": []
  },
  {
   "cell_type": "code",
   "execution_count": null,
   "metadata": {},
   "outputs": [],
   "source": []
  },
  {
   "cell_type": "code",
   "execution_count": null,
   "metadata": {},
   "outputs": [],
   "source": [
    "import sys\n",
    "import matplotlib.pyplot as plt\n",
    "sys.path.append(\"..\")\n",
    "from mango.environments import frozen_lake\n",
    "\n",
    "params = dict(map_name=\"RANDOM\", p=None, shape=(4, 4), seed=0)\n",
    "env = frozen_lake.CustomFrozenLakeEnv(**params)\n",
    "env = frozen_lake.wrappers.ReInitOnReset(env, **params)\n",
    "env = frozen_lake.wrappers.TensorObservation(env)\n",
    "for i in range(10):\n",
    "    obs, info = env.reset()\n",
    "    print(f\"Observation:\\n {obs.__repr__()}\")\n",
    "    plt.figure(figsize=(3, 3))\n",
    "    plt.title(f\"Environment\")\n",
    "    plt.imshow(env.unwrapped.render())\n",
    "    plt.xticks([])\n",
    "    plt.yticks([])\n",
    "    plt.show()"
   ]
  }
 ],
 "metadata": {
  "kernelspec": {
   "display_name": "python310base",
   "language": "python",
   "name": "python3"
  },
  "language_info": {
   "codemirror_mode": {
    "name": "ipython",
    "version": 3
   },
   "file_extension": ".py",
   "mimetype": "text/x-python",
   "name": "python",
   "nbconvert_exporter": "python",
   "pygments_lexer": "ipython3",
   "version": "3.10.13"
  },
  "orig_nbformat": 4
 },
 "nbformat": 4,
 "nbformat_minor": 2
}
