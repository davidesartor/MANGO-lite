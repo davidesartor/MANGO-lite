{
 "cells": [
  {
   "cell_type": "code",
   "execution_count": 1,
   "metadata": {},
   "outputs": [
    {
     "name": "stdout",
     "output_type": "stream",
     "text": [
      "/home/davide_sartor/MANGO-lite\n"
     ]
    }
   ],
   "source": [
    "# imports\n",
    "%cd ..\n",
    "import os\n",
    "from tqdm.notebook import tqdm\n",
    "from mango.environments import frozen_lake\n",
    "from mango import Agent, Mango\n",
    "from frozen_lake_tests import utils_plot, utils_save, utils_sim"
   ]
  },
  {
   "cell_type": "markdown",
   "metadata": {},
   "source": [
    "Experiment Parameters"
   ]
  },
  {
   "cell_type": "code",
   "execution_count": 2,
   "metadata": {},
   "outputs": [],
   "source": [
    "# parameters for the environment\n",
    "map_base = 2\n",
    "map_scale = 3\n",
    "p_frozen = [0.8, 0.5, 0.3]\n",
    "one_shot = False\n",
    "\n",
    "plot_vanilla_agent = True\n",
    "plot_nomask_mango_agent = True"
   ]
  },
  {
   "cell_type": "code",
   "execution_count": 3,
   "metadata": {},
   "outputs": [
    {
     "ename": "AttributeError",
     "evalue": "'SubGridMovement' object has no attribute 'termination_reward'",
     "output_type": "error",
     "traceback": [
      "\u001b[0;31m---------------------------------------------------------------------------\u001b[0m",
      "\u001b[0;31mAttributeError\u001b[0m                            Traceback (most recent call last)",
      "Cell \u001b[0;32mIn[3], line 36\u001b[0m\n\u001b[1;32m     34\u001b[0m \u001b[38;5;28;01mfor\u001b[39;00m agents, run_id_str \u001b[38;5;129;01min\u001b[39;00m \u001b[38;5;28mzip\u001b[39m(\u001b[38;5;28mzip\u001b[39m(\u001b[38;5;241m*\u001b[39magents_list), run_ids):\n\u001b[1;32m     35\u001b[0m     \u001b[38;5;28;01mfor\u001b[39;00m agent, label, color \u001b[38;5;129;01min\u001b[39;00m \u001b[38;5;28mzip\u001b[39m(agents, labels, colors):\n\u001b[0;32m---> 36\u001b[0m         trajectory, rewards \u001b[38;5;241m=\u001b[39m agent\u001b[38;5;241m.\u001b[39mrun_episode(\n\u001b[1;32m     37\u001b[0m             randomness\u001b[38;5;241m=\u001b[39m\u001b[38;5;241m0.0\u001b[39m, episode_length\u001b[38;5;241m=\u001b[39m\u001b[38;5;241m4\u001b[39m\u001b[38;5;241m*\u001b[39m\u001b[38;5;241m*\u001b[39mmap_scale\n\u001b[1;32m     38\u001b[0m         )\n\u001b[1;32m     39\u001b[0m         frozen_lake\u001b[38;5;241m.\u001b[39mplot_utils\u001b[38;5;241m.\u001b[39mplot_all_qvals_normal_agent(\n\u001b[1;32m     40\u001b[0m             agent,\n\u001b[1;32m     41\u001b[0m             trajectory,\n\u001b[1;32m     42\u001b[0m             save_path\u001b[38;5;241m=\u001b[39m\u001b[38;5;124mf\u001b[39m\u001b[38;5;124m\"\u001b[39m\u001b[38;5;132;01m{\u001b[39;00mdir_path\u001b[38;5;132;01m}\u001b[39;00m\u001b[38;5;124mqvalues/qvalues_\u001b[39m\u001b[38;5;132;01m{\u001b[39;00mrun_id_str\u001b[38;5;132;01m}\u001b[39;00m\u001b[38;5;124m_\u001b[39m\u001b[38;5;132;01m{\u001b[39;00mlabel\u001b[38;5;132;01m}\u001b[39;00m\u001b[38;5;124m.pdf\u001b[39m\u001b[38;5;124m\"\u001b[39m,\n\u001b[1;32m     43\u001b[0m         )\n",
      "File \u001b[0;32m~/MANGO-lite/mango/mango.py:200\u001b[0m, in \u001b[0;36mMango.run_episode\u001b[0;34m(self, randomness, episode_length)\u001b[0m\n\u001b[1;32m    198\u001b[0m \u001b[38;5;28;01mwhile\u001b[39;00m \u001b[38;5;28;01mTrue\u001b[39;00m:\n\u001b[1;32m    199\u001b[0m     action \u001b[38;5;241m=\u001b[39m \u001b[38;5;28mself\u001b[39m\u001b[38;5;241m.\u001b[39mpolicy\u001b[38;5;241m.\u001b[39mget_action(\u001b[38;5;28mself\u001b[39m\u001b[38;5;241m.\u001b[39mobs, randomness)\n\u001b[0;32m--> 200\u001b[0m     lower_step \u001b[38;5;241m=\u001b[39m \u001b[38;5;28mself\u001b[39m\u001b[38;5;241m.\u001b[39mlayers[\u001b[38;5;241m-\u001b[39m\u001b[38;5;241m1\u001b[39m]\u001b[38;5;241m.\u001b[39mstep(\n\u001b[1;32m    201\u001b[0m         comand\u001b[38;5;241m=\u001b[39maction,\n\u001b[1;32m    202\u001b[0m         randomness\u001b[38;5;241m=\u001b[39mrandomness \u001b[38;5;241m/\u001b[39m \u001b[38;5;241m2\u001b[39m,\n\u001b[1;32m    203\u001b[0m         episode_length\u001b[38;5;241m=\u001b[39mepisode_length \u001b[38;5;241m-\u001b[39m \u001b[38;5;28mlen\u001b[39m(trajectory),\n\u001b[1;32m    204\u001b[0m     )\n\u001b[1;32m    205\u001b[0m     trajectory \u001b[38;5;241m+\u001b[39m\u001b[38;5;241m=\u001b[39m lower_step\u001b[38;5;241m.\u001b[39mtrajectory[\u001b[38;5;241m1\u001b[39m:]\n\u001b[1;32m    206\u001b[0m     rewards \u001b[38;5;241m+\u001b[39m\u001b[38;5;241m=\u001b[39m lower_step\u001b[38;5;241m.\u001b[39mrewards\n",
      "File \u001b[0;32m~/MANGO-lite/mango/mango.py:89\u001b[0m, in \u001b[0;36mMangoLayer.step\u001b[0;34m(self, comand, randomness, episode_length)\u001b[0m\n\u001b[1;32m     87\u001b[0m obs_masked \u001b[38;5;241m=\u001b[39m \u001b[38;5;28mself\u001b[39m\u001b[38;5;241m.\u001b[39mabs_actions\u001b[38;5;241m.\u001b[39mmask(comand, \u001b[38;5;28mself\u001b[39m\u001b[38;5;241m.\u001b[39mobs)\n\u001b[1;32m     88\u001b[0m action \u001b[38;5;241m=\u001b[39m \u001b[38;5;28mself\u001b[39m\u001b[38;5;241m.\u001b[39mpolicy\u001b[38;5;241m.\u001b[39mget_action(comand, obs_masked, randomness)\n\u001b[0;32m---> 89\u001b[0m lower_step \u001b[38;5;241m=\u001b[39m \u001b[38;5;28mself\u001b[39m\u001b[38;5;241m.\u001b[39mlower_layer\u001b[38;5;241m.\u001b[39mstep(\n\u001b[1;32m     90\u001b[0m     comand\u001b[38;5;241m=\u001b[39maction,\n\u001b[1;32m     91\u001b[0m     randomness\u001b[38;5;241m=\u001b[39mrandomness \u001b[38;5;241m/\u001b[39m \u001b[38;5;241m2\u001b[39m,\n\u001b[1;32m     92\u001b[0m     episode_length\u001b[38;5;241m=\u001b[39mepisode_length \u001b[38;5;241m-\u001b[39m \u001b[38;5;28mlen\u001b[39m(trajectory),\n\u001b[1;32m     93\u001b[0m )\n\u001b[1;32m     94\u001b[0m trajectory \u001b[38;5;241m+\u001b[39m\u001b[38;5;241m=\u001b[39m lower_step\u001b[38;5;241m.\u001b[39mtrajectory[\u001b[38;5;241m1\u001b[39m:]\n\u001b[1;32m     95\u001b[0m rewards \u001b[38;5;241m+\u001b[39m\u001b[38;5;241m=\u001b[39m lower_step\u001b[38;5;241m.\u001b[39mrewards\n",
      "File \u001b[0;32m~/MANGO-lite/mango/mango.py:116\u001b[0m, in \u001b[0;36mMangoLayer.step\u001b[0;34m(self, comand, randomness, episode_length)\u001b[0m\n\u001b[1;32m    113\u001b[0m option_resuts \u001b[38;5;241m=\u001b[39m OptionTransition(comand, trajectory, rewards, has_failed, beta, term, trunc)\n\u001b[1;32m    115\u001b[0m \u001b[38;5;28;01mif\u001b[39;00m beta \u001b[38;5;129;01mor\u001b[39;00m term \u001b[38;5;129;01mor\u001b[39;00m trunc:\n\u001b[0;32m--> 116\u001b[0m     intrinsic_reward \u001b[38;5;241m=\u001b[39m \u001b[38;5;28mself\u001b[39m\u001b[38;5;241m.\u001b[39mabs_actions\u001b[38;5;241m.\u001b[39mreward(comand, option_resuts\u001b[38;5;241m.\u001b[39mflatten())\n\u001b[1;32m    117\u001b[0m     \u001b[38;5;28mself\u001b[39m\u001b[38;5;241m.\u001b[39mintrinsic_reward_log[comand]\u001b[38;5;241m.\u001b[39mappend(intrinsic_reward)\n\u001b[1;32m    118\u001b[0m     \u001b[38;5;28mself\u001b[39m\u001b[38;5;241m.\u001b[39mepisode_length_log\u001b[38;5;241m.\u001b[39mappend(\u001b[38;5;28mlen\u001b[39m(trajectory))\n",
      "File \u001b[0;32m~/MANGO-lite/mango/actions/grid2D.py:90\u001b[0m, in \u001b[0;36mSubGridMovement.reward\u001b[0;34m(self, comand, transition)\u001b[0m\n\u001b[1;32m     88\u001b[0m beta \u001b[38;5;241m=\u001b[39m \u001b[38;5;28mself\u001b[39m\u001b[38;5;241m.\u001b[39mbeta(comand, transition)\n\u001b[1;32m     89\u001b[0m \u001b[38;5;28;01mif\u001b[39;00m beta \u001b[38;5;129;01mand\u001b[39;00m \u001b[38;5;129;01mnot\u001b[39;00m transition\u001b[38;5;241m.\u001b[39mterminated:\n\u001b[0;32m---> 90\u001b[0m     reward \u001b[38;5;241m+\u001b[39m\u001b[38;5;241m=\u001b[39m \u001b[38;5;28mself\u001b[39m\u001b[38;5;241m.\u001b[39mtermination_reward\n\u001b[1;32m     91\u001b[0m \u001b[38;5;28;01mreturn\u001b[39;00m reward\n",
      "\u001b[0;31mAttributeError\u001b[0m: 'SubGridMovement' object has no attribute 'termination_reward'"
     ]
    }
   ],
   "source": [
    "if isinstance(p_frozen, float):\n",
    "    p_frozen = [p_frozen]\n",
    "for p in p_frozen:\n",
    "    dir_path = utils_save.path_to_save_dir(map_base, map_scale, p, one_shot)\n",
    "    files = sorted(os.listdir(dir_path + \"models/\"))\n",
    "    mango_agent_files = [name for name in files if name.startswith(\"mango_agent\")]\n",
    "    run_ids = [f\"run_{name[-9:-7]}\" for name in mango_agent_files]\n",
    "    mango_agents = [\n",
    "        utils_save.load_from_file(dir_path + \"models/\" + file_name)\n",
    "        for file_name in mango_agent_files\n",
    "    ]\n",
    "\n",
    "    agents_list, labels, colors = [mango_agents], [\"mango\"], [\"tab:orange\"]\n",
    "    if plot_vanilla_agent:\n",
    "        normal_agent_files = [name for name in files if name.startswith(\"normal_agent\")]\n",
    "        normal_agents = [\n",
    "            utils_save.load_from_file(dir_path + \"models/\" + file_name)\n",
    "            for file_name in normal_agent_files\n",
    "        ]\n",
    "        agents_list.append(normal_agents)\n",
    "        labels.append(\"vanilla\")\n",
    "        colors.append(\"tab:blue\")\n",
    "    if plot_nomask_mango_agent:\n",
    "        mango_nomask_agent_files = [name for name in files if name.startswith(\"nomask_mango_agent\")]\n",
    "        mango_nomask_agents = [\n",
    "            utils_save.load_from_file(dir_path + \"models/\" + file_name)\n",
    "            for file_name in mango_nomask_agent_files\n",
    "        ]\n",
    "        agents_list.append(mango_nomask_agents)\n",
    "        labels.append(\"mango_nomask\")\n",
    "        colors.append(\"tab:green\")\n",
    "\n",
    "    os.makedirs(dir_path + \"qvalues/\", exist_ok=True)\n",
    "    for agents, run_id_str in zip(zip(*agents_list), run_ids):\n",
    "        for agent, label, color in zip(agents, labels, colors):\n",
    "            trajectory, rewards = agent.run_episode(randomness=0.0, episode_length=4**map_scale)\n",
    "            frozen_lake.plot_utils.plot_all_qvals_normal_agent(\n",
    "                agent, trajectory, save_path=f\"{dir_path}qvalues/qvalues_{run_id_str}_{label}.pdf\"\n",
    "            )"
   ]
  }
 ],
 "metadata": {
  "kernelspec": {
   "display_name": "python310base",
   "language": "python",
   "name": "python3"
  },
  "language_info": {
   "codemirror_mode": {
    "name": "ipython",
    "version": 3
   },
   "file_extension": ".py",
   "mimetype": "text/x-python",
   "name": "python",
   "nbconvert_exporter": "python",
   "pygments_lexer": "ipython3",
   "version": "3.11.5"
  },
  "orig_nbformat": 4
 },
 "nbformat": 4,
 "nbformat_minor": 2
}
