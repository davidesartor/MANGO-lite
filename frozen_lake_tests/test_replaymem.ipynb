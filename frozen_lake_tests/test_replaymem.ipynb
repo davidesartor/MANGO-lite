{
 "cells": [
  {
   "cell_type": "code",
   "execution_count": 10,
   "metadata": {},
   "outputs": [
    {
     "name": "stdout",
     "output_type": "stream",
     "text": [
      "tensor([1., 1., 1., 1., 1., 1., 1., 1., 1., 1.])\n",
      "sample StackedTransitions(start_obs=tensor([[[3., 3.],\n",
      "         [3., 3.]],\n",
      "\n",
      "        [[6., 6.],\n",
      "         [6., 6.]]]), action=tensor([3, 6]), next_obs=tensor([[[ 6.,  6.],\n",
      "         [ 6.,  6.]],\n",
      "\n",
      "        [[12., 12.],\n",
      "         [12., 12.]]]), reward=tensor([3., 6.]), terminated=tensor([ True, False]), truncated=tensor([False, False]))\n",
      "tensor([1, 1, 1, 0, 1, 1, 0, 1, 1, 1], dtype=torch.int32)\n"
     ]
    }
   ],
   "source": [
    "import sys\n",
    "\n",
    "sys.path.append(\"..\")\n",
    "from mango.policies.experiencereplay import ExperienceReplay\n",
    "from mango.protocols import Transition\n",
    "import torch\n",
    "\n",
    "obs = torch.ones(2, 2)\n",
    "start = obs * 1\n",
    "end = obs * 2\n",
    "\n",
    "trans = [\n",
    "    Transition(\n",
    "        start * i,\n",
    "        1 * i,\n",
    "        end * i,\n",
    "        1.0 * i,\n",
    "        bool(i % 2),\n",
    "        bool(i % 3),\n",
    "    )\n",
    "    for i in range(10)\n",
    "]\n",
    "\n",
    "replay = ExperienceReplay(2, 10)\n",
    "replay.extend(trans)\n",
    "print(replay.priorities)\n",
    "# for buffer, kind in zip(replay.memory, \"sasrtt\"):\n",
    "#     print(kind, buffer.memory)\n",
    "\n",
    "print(\"sample\", replay.sample())\n",
    "replay.update_priorities_last_sampled(torch.zeros(2,))\n",
    "print(replay.priorities.int())"
   ]
  }
 ],
 "metadata": {
  "kernelspec": {
   "display_name": "python310base",
   "language": "python",
   "name": "python3"
  },
  "language_info": {
   "codemirror_mode": {
    "name": "ipython",
    "version": 3
   },
   "file_extension": ".py",
   "mimetype": "text/x-python",
   "name": "python",
   "nbconvert_exporter": "python",
   "pygments_lexer": "ipython3",
   "version": "3.10.13"
  },
  "orig_nbformat": 4
 },
 "nbformat": 4,
 "nbformat_minor": 2
}
