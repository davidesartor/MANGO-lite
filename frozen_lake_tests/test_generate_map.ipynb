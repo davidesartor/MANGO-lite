{
 "cells": [
  {
   "cell_type": "code",
   "execution_count": 1,
   "metadata": {},
   "outputs": [],
   "source": [
    "import sys\n",
    "sys.path.append(\"..\")\n",
    "import math\n",
    "from mango.environments import frozen_lake\n",
    "from utils_sim import env_params"
   ]
  },
  {
   "cell_type": "code",
   "execution_count": 5,
   "metadata": {},
   "outputs": [
    {
     "name": "stdout",
     "output_type": "stream",
     "text": [
      "feasible maps: more than 2.1991489691311088e+17\n"
     ]
    },
    {
     "ename": "TypeError",
     "evalue": "TensorObservation.__init__() got an unexpected keyword argument 'map_name'",
     "output_type": "error",
     "traceback": [
      "\u001b[0;31m---------------------------------------------------------------------------\u001b[0m",
      "\u001b[0;31mTypeError\u001b[0m                                 Traceback (most recent call last)",
      "Cell \u001b[0;32mIn[5], line 14\u001b[0m\n\u001b[1;32m     12\u001b[0m env \u001b[38;5;241m=\u001b[39m frozen_lake\u001b[38;5;241m.\u001b[39mCustomFrozenLakeEnv(\u001b[38;5;241m*\u001b[39m\u001b[38;5;241m*\u001b[39mparams)\n\u001b[1;32m     13\u001b[0m env \u001b[38;5;241m=\u001b[39m frozen_lake\u001b[38;5;241m.\u001b[39mwrappers\u001b[38;5;241m.\u001b[39mReInitOnReset(env, \u001b[38;5;241m*\u001b[39m\u001b[38;5;241m*\u001b[39mparams)\n\u001b[0;32m---> 14\u001b[0m env \u001b[38;5;241m=\u001b[39m \u001b[43mfrozen_lake\u001b[49m\u001b[38;5;241;43m.\u001b[39;49m\u001b[43mwrappers\u001b[49m\u001b[38;5;241;43m.\u001b[39;49m\u001b[43mTensorObservation\u001b[49m\u001b[43m(\u001b[49m\u001b[43menv\u001b[49m\u001b[43m,\u001b[49m\u001b[38;5;241;43m*\u001b[39;49m\u001b[38;5;241;43m*\u001b[39;49m\u001b[43mparams\u001b[49m\u001b[43m)\u001b[49m\n\u001b[1;32m     15\u001b[0m \u001b[38;5;28;01mfor\u001b[39;00m i \u001b[38;5;129;01min\u001b[39;00m \u001b[38;5;28mrange\u001b[39m(\u001b[38;5;241m4\u001b[39m):\n\u001b[1;32m     16\u001b[0m     env\u001b[38;5;241m.\u001b[39mreset()\n",
      "\u001b[0;31mTypeError\u001b[0m: TensorObservation.__init__() got an unexpected keyword argument 'map_name'"
     ]
    }
   ],
   "source": [
    "map_base=2\n",
    "map_scale = 3\n",
    "p_frozen = 0.9\n",
    "\n",
    "# maps with 50% of frozen cells are comb(4**map_scale, 4**map_scale // 2)\n",
    "# maps with 45-55% of frozen cells are roughly 0.1* 4**map_scale\n",
    "# from empirical simulations more than 2% of this maps are feasible for 8x8\n",
    "nmaps = math.comb(4**map_scale, 4**map_scale // 2) * (4**map_scale // 10) * (0.02)\n",
    "print(\"feasible maps: more than\", nmaps)\n",
    "\n",
    "params = env_params(map_base, map_scale, p_frozen, seed=0)\n",
    "env = frozen_lake.CustomFrozenLakeEnv(**params)\n",
    "env = frozen_lake.wrappers.ReInitOnReset(env, **params)\n",
    "env = frozen_lake.wrappers.TensorObservation(env,**params)\n",
    "for i in range(4):\n",
    "    env.reset()\n",
    "    frozen_lake.plot_utils.plot_map(env)"
   ]
  },
  {
   "cell_type": "code",
   "execution_count": 3,
   "metadata": {},
   "outputs": [],
   "source": [
    "obs = env.reset()"
   ]
  },
  {
   "cell_type": "code",
   "execution_count": 4,
   "metadata": {},
   "outputs": [
    {
     "data": {
      "text/plain": [
       "(11, {'prob': 1})"
      ]
     },
     "execution_count": 4,
     "metadata": {},
     "output_type": "execute_result"
    }
   ],
   "source": [
    "obs"
   ]
  },
  {
   "cell_type": "code",
   "execution_count": null,
   "metadata": {},
   "outputs": [],
   "source": []
  },
  {
   "cell_type": "code",
   "execution_count": null,
   "metadata": {},
   "outputs": [],
   "source": [
    "from mango.actions.grid2D import SubGridMovement\n",
    "\n",
    "abstraction = SubGridMovement((4,4),(2,2))\n",
    "\n",
    "obs = env.reset()\n",
    "abstraction.full_abstraction(obs) "
   ]
  }
 ],
 "metadata": {
  "kernelspec": {
   "display_name": "python310base",
   "language": "python",
   "name": "python3"
  },
  "language_info": {
   "codemirror_mode": {
    "name": "ipython",
    "version": 3
   },
   "file_extension": ".py",
   "mimetype": "text/x-python",
   "name": "python",
   "nbconvert_exporter": "python",
   "pygments_lexer": "ipython3",
   "version": "3.10.12"
  },
  "orig_nbformat": 4
 },
 "nbformat": 4,
 "nbformat_minor": 2
}
