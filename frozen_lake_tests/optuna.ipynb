{
 "cells": [
  {
   "cell_type": "code",
   "execution_count": 1,
   "metadata": {},
   "outputs": [],
   "source": [
    "import sys\n",
    "import matplotlib.pyplot as plt\n",
    "from tqdm.auto import tqdm\n",
    "sys.path.append(\"..\")\n",
    "from mango.environments import frozen_lake\n",
    "import utils\n",
    "import torch\n",
    "from typing import Any, NamedTuple\n",
    "import optuna\n",
    "import numpy as np\n",
    "import warnings"
   ]
  },
  {
   "cell_type": "code",
   "execution_count": 2,
   "metadata": {},
   "outputs": [],
   "source": [
    "from mango.mango import MangoEnv, Agent\n",
    "from mango.policies.experiencereplay import ExperienceReplay\n",
    "from mango.policies.dqnet import DQNetTrainer, DQNetPolicy"
   ]
  },
  {
   "cell_type": "code",
   "execution_count": 3,
   "metadata": {},
   "outputs": [],
   "source": [
    "class AnnealingStrategy(NamedTuple):\n",
    "    episodes: int\n",
    "    epsilon: float\n",
    "\n",
    "    def randomness(self, i: int) -> float:\n",
    "        if i > self.episodes:\n",
    "            return self.epsilon\n",
    "        return 1.0 - (1.0 - self.epsilon) * i / self.episodes\n",
    "        \n",
    "\n",
    "class LazyConvEncoder(torch.nn.Sequential):\n",
    "    def __init__(self, hidden, out):\n",
    "        with warnings.catch_warnings():\n",
    "            def cell(channels):\n",
    "                return torch.nn.Sequential(\n",
    "                    torch.nn.LazyConv2d(channels, 3, padding=1),\n",
    "                    torch.nn.GELU(),\n",
    "                    torch.nn.LazyConv2d(channels, 2, stride=2),\n",
    "                    torch.nn.BatchNorm2d(channels),\n",
    "                )\n",
    "            warnings.simplefilter(\"ignore\") # ignore LazyModule warning\n",
    "            super().__init__(\n",
    "                *(cell(channels) for channels in hidden),\n",
    "                torch.nn.Flatten(),\n",
    "                torch.nn.LazyLinear(out),\n",
    "            )"
   ]
  },
  {
   "cell_type": "code",
   "execution_count": 4,
   "metadata": {},
   "outputs": [],
   "source": [
    "train_device = torch.device(\"cuda\")\n",
    "scale = 3\n",
    "max_steps = 100000\n",
    "\n",
    "map_size = 2**scale\n",
    "params: dict[str, Any] = dict(\n",
    "    map_name=f\"{map_size}x{map_size}\",\n",
    "    p=None,\n",
    "    shape=(map_size, map_size),\n",
    "    seed=42,\n",
    ")\n",
    "\n",
    "\n",
    "def run(trial):\n",
    "    env = frozen_lake.wrappers.TensorObservation(\n",
    "        frozen_lake.wrappers.ReInitOnReset(frozen_lake.CustomFrozenLakeEnv(**params), **params),\n",
    "        one_hot=True,\n",
    "    )\n",
    "    net = LazyConvEncoder(hidden=[2**scale] * scale, out=int(env.action_space.n)).eval()\n",
    "    policy = DQNetPolicy(net, env.action_space)\n",
    "    trainer = DQNetTrainer(net, lr=1e-3, gamma=0.95, tau=0.01)\n",
    "    replay = ExperienceReplay(256, capacity=2**13)\n",
    "    agent = Agent(MangoEnv(env), policy)\n",
    "\n",
    "    eval_reward_log = [0.0]\n",
    "    expl_reward_log = [0.0]\n",
    "    lenght_log = [0]\n",
    "    loss_log = []\n",
    "\n",
    "    max_loops = trial.suggest_int(\"max_loops\", 1, 10, log=True)\n",
    "    annealing = AnnealingStrategy(\n",
    "        episodes=trial.suggest_int(\"warmup_steps\", max_steps // 10, max_steps // 2, log=True),\n",
    "        epsilon=trial.suggest_float(\"epsilon\", 0.01, 0.5, log=True),\n",
    "    )\n",
    "\n",
    "    interactions = 0\n",
    "    accuracy = 0.0\n",
    "    with tqdm(total=max_steps, leave=False) as pbar:\n",
    "        while interactions < max_steps:\n",
    "            # evaluation\n",
    "            trans = agent.run_episode(randomness=0.0)\n",
    "            eval_reward_log.append(trans.reward)\n",
    "\n",
    "            # exploration\n",
    "            trans = agent.run_episode(annealing.randomness(interactions), max_loops)\n",
    "            replay.extend(trans.steps)\n",
    "            expl_reward_log.append(trans.reward)\n",
    "            lenght_log.append(len(trans.trajectory))\n",
    "\n",
    "            # report\n",
    "            interactions = sum(lenght_log)\n",
    "            accuracy = np.trapz(eval_reward_log, np.cumsum(lenght_log)) / max_steps\n",
    "            if accuracy >= 0.2:\n",
    "                trial.report(1.0, step=max_steps)\n",
    "                return accuracy + (max_steps - interactions) / max_steps\n",
    "\n",
    "            trial.report(accuracy, step=interactions)\n",
    "            if trial.should_prune():\n",
    "                raise optuna.TrialPruned()\n",
    "\n",
    "            # logging\n",
    "            pbar.update(len(trans.trajectory))\n",
    "            pbar.set_description(f\"reward: {accuracy:.2f}\")\n",
    "\n",
    "            # training\n",
    "            if replay.can_sample():\n",
    "                transitions = replay.sample(device=train_device)\n",
    "                trainer.net.to(train_device, non_blocking=True)\n",
    "                train_info = trainer.train(transitions)\n",
    "                replay.update_priorities_last_sampled(train_info.td)\n",
    "                trainer.net.to(\"cpu\", non_blocking=True)\n",
    "                loss_log.append(train_info.loss)\n",
    "            # if cuda syncronize to make sure all nets are back on cpu\n",
    "            if train_device.type == \"cuda\":\n",
    "                torch.cuda.synchronize(train_device)\n",
    "        return accuracy"
   ]
  },
  {
   "cell_type": "code",
   "execution_count": 5,
   "metadata": {},
   "outputs": [
    {
     "name": "stderr",
     "output_type": "stream",
     "text": [
      "[I 2024-01-20 19:25:10,769] A new study created in memory with name: no-name-73577357-3ab8-46b2-b1bc-7bb4dcd964f6\n"
     ]
    },
    {
     "data": {
      "application/vnd.jupyter.widget-view+json": {
       "model_id": "02dad8ba8af24177b4955c7706c60aa8",
       "version_major": 2,
       "version_minor": 0
      },
      "text/plain": [
       "  0%|          | 0/16 [00:00<?, ?it/s]"
      ]
     },
     "metadata": {},
     "output_type": "display_data"
    },
    {
     "name": "stderr",
     "output_type": "stream",
     "text": [
      "c:\\ProgramData\\anaconda3\\Lib\\site-packages\\torch\\nn\\modules\\lazy.py:180: UserWarning: Lazy modules are a new feature under heavy development so changes to the API or functionality can happen at any moment.\n",
      "  warnings.warn('Lazy modules are a new feature under heavy development '\n"
     ]
    },
    {
     "data": {
      "application/vnd.jupyter.widget-view+json": {
       "model_id": "a995d294ca6543e1a8f4bd7dc9ef79ca",
       "version_major": 2,
       "version_minor": 0
      },
      "text/plain": [
       "  0%|          | 0/10000 [00:00<?, ?it/s]"
      ]
     },
     "metadata": {},
     "output_type": "display_data"
    },
    {
     "data": {
      "application/vnd.jupyter.widget-view+json": {
       "model_id": "2267a1e7cc39446a8aa6e721ed384356",
       "version_major": 2,
       "version_minor": 0
      },
      "text/plain": [
       "  0%|          | 0/10000 [00:00<?, ?it/s]"
      ]
     },
     "metadata": {},
     "output_type": "display_data"
    },
    {
     "data": {
      "application/vnd.jupyter.widget-view+json": {
       "model_id": "b5acf59a8f1840bfb6ad428d9bce43a7",
       "version_major": 2,
       "version_minor": 0
      },
      "text/plain": [
       "  0%|          | 0/10000 [00:00<?, ?it/s]"
      ]
     },
     "metadata": {},
     "output_type": "display_data"
    },
    {
     "data": {
      "application/vnd.jupyter.widget-view+json": {
       "model_id": "881392ad65234a898873470687991376",
       "version_major": 2,
       "version_minor": 0
      },
      "text/plain": [
       "  0%|          | 0/10000 [00:00<?, ?it/s]"
      ]
     },
     "metadata": {},
     "output_type": "display_data"
    },
    {
     "name": "stdout",
     "output_type": "stream",
     "text": [
      "[I 2024-01-20 19:27:26,179] Trial 0 finished with value: 0.0 and parameters: {'max_loops': 10, 'warmup_steps': 1005, 'epsilon': 0.01864679040506992}. Best is trial 0 with value: 0.0.\n"
     ]
    },
    {
     "data": {
      "application/vnd.jupyter.widget-view+json": {
       "model_id": "30ba2b4379a44c41a9a982478dce1a45",
       "version_major": 2,
       "version_minor": 0
      },
      "text/plain": [
       "  0%|          | 0/10000 [00:00<?, ?it/s]"
      ]
     },
     "metadata": {},
     "output_type": "display_data"
    },
    {
     "name": "stdout",
     "output_type": "stream",
     "text": [
      "[I 2024-01-20 19:27:32,654] Trial 2 finished with value: 0.0 and parameters: {'max_loops': 7, 'warmup_steps': 4675, 'epsilon': 0.014498201771902296}. Best is trial 0 with value: 0.0.\n"
     ]
    },
    {
     "data": {
      "application/vnd.jupyter.widget-view+json": {
       "model_id": "a5ec97b8df594123a7bac232331b54d0",
       "version_major": 2,
       "version_minor": 0
      },
      "text/plain": [
       "  0%|          | 0/10000 [00:00<?, ?it/s]"
      ]
     },
     "metadata": {},
     "output_type": "display_data"
    },
    {
     "name": "stdout",
     "output_type": "stream",
     "text": [
      "[I 2024-01-20 19:27:34,079] Trial 3 finished with value: 0.0 and parameters: {'max_loops': 6, 'warmup_steps': 1651, 'epsilon': 0.04710680563925125}. Best is trial 0 with value: 0.0.\n"
     ]
    },
    {
     "data": {
      "application/vnd.jupyter.widget-view+json": {
       "model_id": "011fcb4ed59446c9adecc78b151a569a",
       "version_major": 2,
       "version_minor": 0
      },
      "text/plain": [
       "  0%|          | 0/10000 [00:00<?, ?it/s]"
      ]
     },
     "metadata": {},
     "output_type": "display_data"
    },
    {
     "name": "stdout",
     "output_type": "stream",
     "text": [
      "[I 2024-01-20 19:28:48,585] Trial 1 finished with value: 0.0 and parameters: {'max_loops': 1, 'warmup_steps': 3028, 'epsilon': 0.057856551573320245}. Best is trial 0 with value: 0.0.\n"
     ]
    },
    {
     "data": {
      "application/vnd.jupyter.widget-view+json": {
       "model_id": "795df1fad51d4838b4035bd571f3b3da",
       "version_major": 2,
       "version_minor": 0
      },
      "text/plain": [
       "  0%|          | 0/10000 [00:00<?, ?it/s]"
      ]
     },
     "metadata": {},
     "output_type": "display_data"
    },
    {
     "name": "stdout",
     "output_type": "stream",
     "text": [
      "[I 2024-01-20 19:29:59,801] Trial 5 finished with value: 0.0 and parameters: {'max_loops': 10, 'warmup_steps': 1992, 'epsilon': 0.1391916726921297}. Best is trial 0 with value: 0.0.\n"
     ]
    },
    {
     "data": {
      "application/vnd.jupyter.widget-view+json": {
       "model_id": "c5ca927a54f44e42bdd870c6daabea7c",
       "version_major": 2,
       "version_minor": 0
      },
      "text/plain": [
       "  0%|          | 0/10000 [00:00<?, ?it/s]"
      ]
     },
     "metadata": {},
     "output_type": "display_data"
    },
    {
     "name": "stdout",
     "output_type": "stream",
     "text": [
      "[I 2024-01-20 19:30:06,415] Trial 6 finished with value: 0.0 and parameters: {'max_loops': 9, 'warmup_steps': 1274, 'epsilon': 0.03069620237137125}. Best is trial 0 with value: 0.0.\n"
     ]
    },
    {
     "data": {
      "application/vnd.jupyter.widget-view+json": {
       "model_id": "6e47163c18b0421fa325fc0f0e83fd7f",
       "version_major": 2,
       "version_minor": 0
      },
      "text/plain": [
       "  0%|          | 0/10000 [00:00<?, ?it/s]"
      ]
     },
     "metadata": {},
     "output_type": "display_data"
    }
   ],
   "source": [
    "study = optuna.create_study(direction=\"maximize\", pruner=optuna.pruners.MedianPruner())\n",
    "study.optimize(run, n_jobs=2, n_trials=16, show_progress_bar=True)"
   ]
  },
  {
   "cell_type": "code",
   "execution_count": null,
   "metadata": {},
   "outputs": [
    {
     "data": {
      "application/vnd.plotly.v1+json": {
       "config": {
        "plotlyServerURL": "https://plot.ly"
       },
       "data": [
        {
         "type": "scatter",
         "xaxis": "x",
         "yaxis": "y"
        },
        {
         "colorbar": {
          "title": {
           "text": "Objective Value"
          }
         },
         "colorscale": [
          [
           0,
           "rgb(247,251,255)"
          ],
          [
           0.125,
           "rgb(222,235,247)"
          ],
          [
           0.25,
           "rgb(198,219,239)"
          ],
          [
           0.375,
           "rgb(158,202,225)"
          ],
          [
           0.5,
           "rgb(107,174,214)"
          ],
          [
           0.625,
           "rgb(66,146,198)"
          ],
          [
           0.75,
           "rgb(33,113,181)"
          ],
          [
           0.875,
           "rgb(8,81,156)"
          ],
          [
           1,
           "rgb(8,48,107)"
          ]
         ],
         "connectgaps": true,
         "contours": {
          "coloring": "heatmap"
         },
         "hoverinfo": "none",
         "line": {
          "smoothing": 1.3
         },
         "reversescale": false,
         "showscale": true,
         "type": "contour",
         "x": [
          0.010380432744032613,
          0.012189874244796055,
          0.019644426287212947,
          0.045713837799179716,
          0.1047105925328586,
          0.30316185259799094,
          0.35600682072848444
         ],
         "xaxis": "x4",
         "y": [
          0.8959584598407622,
          1,
          2,
          4,
          9,
          10.04510856630514
         ],
         "yaxis": "y4",
         "z": [
          [
           null,
           null,
           null,
           null,
           null,
           null,
           null
          ],
          [
           null,
           null,
           0.6820999999999999,
           0.59395,
           null,
           null,
           null
          ],
          [
           null,
           null,
           null,
           null,
           null,
           0.15905,
           null
          ],
          [
           null,
           null,
           null,
           null,
           0.85115,
           null,
           null
          ],
          [
           null,
           0,
           null,
           null,
           null,
           null,
           null
          ],
          [
           null,
           null,
           null,
           null,
           null,
           null,
           null
          ]
         ]
        },
        {
         "marker": {
          "color": "black",
          "line": {
           "color": "Gray",
           "width": 2
          }
         },
         "mode": "markers",
         "name": "Feasible Trial",
         "showlegend": false,
         "type": "scatter",
         "x": [
          0.019644426287212947,
          0.012189874244796055,
          0.045713837799179716,
          0.30316185259799094,
          0.1047105925328586
         ],
         "xaxis": "x4",
         "y": [
          1,
          9,
          1,
          2,
          4
         ],
         "yaxis": "y4"
        },
        {
         "colorbar": {
          "title": {
           "text": "Objective Value"
          }
         },
         "colorscale": [
          [
           0,
           "rgb(247,251,255)"
          ],
          [
           0.125,
           "rgb(222,235,247)"
          ],
          [
           0.25,
           "rgb(198,219,239)"
          ],
          [
           0.375,
           "rgb(158,202,225)"
          ],
          [
           0.5,
           "rgb(107,174,214)"
          ],
          [
           0.625,
           "rgb(66,146,198)"
          ],
          [
           0.75,
           "rgb(33,113,181)"
          ],
          [
           0.875,
           "rgb(8,81,156)"
          ],
          [
           1,
           "rgb(8,48,107)"
          ]
         ],
         "connectgaps": true,
         "contours": {
          "coloring": "heatmap"
         },
         "hoverinfo": "none",
         "line": {
          "smoothing": 1.3
         },
         "reversescale": false,
         "showscale": false,
         "type": "contour",
         "x": [
          0.010380432744032613,
          0.012189874244796055,
          0.019644426287212947,
          0.045713837799179716,
          0.1047105925328586,
          0.30316185259799094,
          0.35600682072848444
         ],
         "xaxis": "x7",
         "y": [
          975.418644914275,
          1054,
          1249,
          4054,
          4354,
          4964,
          5363.908130400585
         ],
         "yaxis": "y7",
         "z": [
          [
           null,
           null,
           null,
           null,
           null,
           null,
           null
          ],
          [
           null,
           0,
           null,
           null,
           null,
           null,
           null
          ],
          [
           null,
           null,
           null,
           null,
           0.85115,
           null,
           null
          ],
          [
           null,
           null,
           null,
           null,
           null,
           0.15905,
           null
          ],
          [
           null,
           null,
           0.6820999999999999,
           null,
           null,
           null,
           null
          ],
          [
           null,
           null,
           null,
           0.59395,
           null,
           null,
           null
          ],
          [
           null,
           null,
           null,
           null,
           null,
           null,
           null
          ]
         ]
        },
        {
         "marker": {
          "color": "black",
          "line": {
           "color": "Gray",
           "width": 2
          }
         },
         "mode": "markers",
         "name": "Feasible Trial",
         "showlegend": false,
         "type": "scatter",
         "x": [
          0.019644426287212947,
          0.012189874244796055,
          0.045713837799179716,
          0.30316185259799094,
          0.1047105925328586
         ],
         "xaxis": "x7",
         "y": [
          4354,
          1054,
          4964,
          4054,
          1249
         ],
         "yaxis": "y7"
        },
        {
         "colorbar": {
          "title": {
           "text": "Objective Value"
          }
         },
         "colorscale": [
          [
           0,
           "rgb(247,251,255)"
          ],
          [
           0.125,
           "rgb(222,235,247)"
          ],
          [
           0.25,
           "rgb(198,219,239)"
          ],
          [
           0.375,
           "rgb(158,202,225)"
          ],
          [
           0.5,
           "rgb(107,174,214)"
          ],
          [
           0.625,
           "rgb(66,146,198)"
          ],
          [
           0.75,
           "rgb(33,113,181)"
          ],
          [
           0.875,
           "rgb(8,81,156)"
          ],
          [
           1,
           "rgb(8,48,107)"
          ]
         ],
         "connectgaps": true,
         "contours": {
          "coloring": "heatmap"
         },
         "hoverinfo": "none",
         "line": {
          "smoothing": 1.3
         },
         "reversescale": false,
         "showscale": false,
         "type": "contour",
         "x": [
          0.8959584598407622,
          1,
          2,
          4,
          9,
          10.04510856630514
         ],
         "xaxis": "x2",
         "y": [
          0.010380432744032613,
          0.012189874244796055,
          0.019644426287212947,
          0.045713837799179716,
          0.1047105925328586,
          0.30316185259799094,
          0.35600682072848444
         ],
         "yaxis": "y2",
         "z": [
          [
           null,
           null,
           null,
           null,
           null,
           null
          ],
          [
           null,
           null,
           null,
           null,
           0,
           null
          ],
          [
           null,
           0.6820999999999999,
           null,
           null,
           null,
           null
          ],
          [
           null,
           0.59395,
           null,
           null,
           null,
           null
          ],
          [
           null,
           null,
           null,
           0.85115,
           null,
           null
          ],
          [
           null,
           null,
           0.15905,
           null,
           null,
           null
          ],
          [
           null,
           null,
           null,
           null,
           null,
           null
          ]
         ]
        },
        {
         "marker": {
          "color": "black",
          "line": {
           "color": "Gray",
           "width": 2
          }
         },
         "mode": "markers",
         "name": "Feasible Trial",
         "showlegend": false,
         "type": "scatter",
         "x": [
          1,
          9,
          1,
          2,
          4
         ],
         "xaxis": "x2",
         "y": [
          0.019644426287212947,
          0.012189874244796055,
          0.045713837799179716,
          0.30316185259799094,
          0.1047105925328586
         ],
         "yaxis": "y2"
        },
        {
         "type": "scatter",
         "xaxis": "x5",
         "yaxis": "y5"
        },
        {
         "colorbar": {
          "title": {
           "text": "Objective Value"
          }
         },
         "colorscale": [
          [
           0,
           "rgb(247,251,255)"
          ],
          [
           0.125,
           "rgb(222,235,247)"
          ],
          [
           0.25,
           "rgb(198,219,239)"
          ],
          [
           0.375,
           "rgb(158,202,225)"
          ],
          [
           0.5,
           "rgb(107,174,214)"
          ],
          [
           0.625,
           "rgb(66,146,198)"
          ],
          [
           0.75,
           "rgb(33,113,181)"
          ],
          [
           0.875,
           "rgb(8,81,156)"
          ],
          [
           1,
           "rgb(8,48,107)"
          ]
         ],
         "connectgaps": true,
         "contours": {
          "coloring": "heatmap"
         },
         "hoverinfo": "none",
         "line": {
          "smoothing": 1.3
         },
         "reversescale": false,
         "showscale": false,
         "type": "contour",
         "x": [
          0.8959584598407622,
          1,
          2,
          4,
          9,
          10.04510856630514
         ],
         "xaxis": "x8",
         "y": [
          975.418644914275,
          1054,
          1249,
          4054,
          4354,
          4964,
          5363.908130400585
         ],
         "yaxis": "y8",
         "z": [
          [
           null,
           null,
           null,
           null,
           null,
           null
          ],
          [
           null,
           null,
           null,
           null,
           0,
           null
          ],
          [
           null,
           null,
           null,
           0.85115,
           null,
           null
          ],
          [
           null,
           null,
           0.15905,
           null,
           null,
           null
          ],
          [
           null,
           0.6820999999999999,
           null,
           null,
           null,
           null
          ],
          [
           null,
           0.59395,
           null,
           null,
           null,
           null
          ],
          [
           null,
           null,
           null,
           null,
           null,
           null
          ]
         ]
        },
        {
         "marker": {
          "color": "black",
          "line": {
           "color": "Gray",
           "width": 2
          }
         },
         "mode": "markers",
         "name": "Feasible Trial",
         "showlegend": false,
         "type": "scatter",
         "x": [
          1,
          9,
          1,
          2,
          4
         ],
         "xaxis": "x8",
         "y": [
          4354,
          1054,
          4964,
          4054,
          1249
         ],
         "yaxis": "y8"
        },
        {
         "colorbar": {
          "title": {
           "text": "Objective Value"
          }
         },
         "colorscale": [
          [
           0,
           "rgb(247,251,255)"
          ],
          [
           0.125,
           "rgb(222,235,247)"
          ],
          [
           0.25,
           "rgb(198,219,239)"
          ],
          [
           0.375,
           "rgb(158,202,225)"
          ],
          [
           0.5,
           "rgb(107,174,214)"
          ],
          [
           0.625,
           "rgb(66,146,198)"
          ],
          [
           0.75,
           "rgb(33,113,181)"
          ],
          [
           0.875,
           "rgb(8,81,156)"
          ],
          [
           1,
           "rgb(8,48,107)"
          ]
         ],
         "connectgaps": true,
         "contours": {
          "coloring": "heatmap"
         },
         "hoverinfo": "none",
         "line": {
          "smoothing": 1.3
         },
         "reversescale": false,
         "showscale": false,
         "type": "contour",
         "x": [
          975.418644914275,
          1054,
          1249,
          4054,
          4354,
          4964,
          5363.908130400585
         ],
         "xaxis": "x3",
         "y": [
          0.010380432744032613,
          0.012189874244796055,
          0.019644426287212947,
          0.045713837799179716,
          0.1047105925328586,
          0.30316185259799094,
          0.35600682072848444
         ],
         "yaxis": "y3",
         "z": [
          [
           null,
           null,
           null,
           null,
           null,
           null,
           null
          ],
          [
           null,
           0,
           null,
           null,
           null,
           null,
           null
          ],
          [
           null,
           null,
           null,
           null,
           0.6820999999999999,
           null,
           null
          ],
          [
           null,
           null,
           null,
           null,
           null,
           0.59395,
           null
          ],
          [
           null,
           null,
           0.85115,
           null,
           null,
           null,
           null
          ],
          [
           null,
           null,
           null,
           0.15905,
           null,
           null,
           null
          ],
          [
           null,
           null,
           null,
           null,
           null,
           null,
           null
          ]
         ]
        },
        {
         "marker": {
          "color": "black",
          "line": {
           "color": "Gray",
           "width": 2
          }
         },
         "mode": "markers",
         "name": "Feasible Trial",
         "showlegend": false,
         "type": "scatter",
         "x": [
          4354,
          1054,
          4964,
          4054,
          1249
         ],
         "xaxis": "x3",
         "y": [
          0.019644426287212947,
          0.012189874244796055,
          0.045713837799179716,
          0.30316185259799094,
          0.1047105925328586
         ],
         "yaxis": "y3"
        },
        {
         "colorbar": {
          "title": {
           "text": "Objective Value"
          }
         },
         "colorscale": [
          [
           0,
           "rgb(247,251,255)"
          ],
          [
           0.125,
           "rgb(222,235,247)"
          ],
          [
           0.25,
           "rgb(198,219,239)"
          ],
          [
           0.375,
           "rgb(158,202,225)"
          ],
          [
           0.5,
           "rgb(107,174,214)"
          ],
          [
           0.625,
           "rgb(66,146,198)"
          ],
          [
           0.75,
           "rgb(33,113,181)"
          ],
          [
           0.875,
           "rgb(8,81,156)"
          ],
          [
           1,
           "rgb(8,48,107)"
          ]
         ],
         "connectgaps": true,
         "contours": {
          "coloring": "heatmap"
         },
         "hoverinfo": "none",
         "line": {
          "smoothing": 1.3
         },
         "reversescale": false,
         "showscale": false,
         "type": "contour",
         "x": [
          975.418644914275,
          1054,
          1249,
          4054,
          4354,
          4964,
          5363.908130400585
         ],
         "xaxis": "x6",
         "y": [
          0.8959584598407622,
          1,
          2,
          4,
          9,
          10.04510856630514
         ],
         "yaxis": "y6",
         "z": [
          [
           null,
           null,
           null,
           null,
           null,
           null,
           null
          ],
          [
           null,
           null,
           null,
           null,
           0.6820999999999999,
           0.59395,
           null
          ],
          [
           null,
           null,
           null,
           0.15905,
           null,
           null,
           null
          ],
          [
           null,
           null,
           0.85115,
           null,
           null,
           null,
           null
          ],
          [
           null,
           0,
           null,
           null,
           null,
           null,
           null
          ],
          [
           null,
           null,
           null,
           null,
           null,
           null,
           null
          ]
         ]
        },
        {
         "marker": {
          "color": "black",
          "line": {
           "color": "Gray",
           "width": 2
          }
         },
         "mode": "markers",
         "name": "Feasible Trial",
         "showlegend": false,
         "type": "scatter",
         "x": [
          4354,
          1054,
          4964,
          4054,
          1249
         ],
         "xaxis": "x6",
         "y": [
          1,
          9,
          1,
          2,
          4
         ],
         "yaxis": "y6"
        },
        {
         "type": "scatter",
         "xaxis": "x9",
         "yaxis": "y9"
        }
       ],
       "layout": {
        "template": {
         "data": {
          "bar": [
           {
            "error_x": {
             "color": "#2a3f5f"
            },
            "error_y": {
             "color": "#2a3f5f"
            },
            "marker": {
             "line": {
              "color": "#E5ECF6",
              "width": 0.5
             },
             "pattern": {
              "fillmode": "overlay",
              "size": 10,
              "solidity": 0.2
             }
            },
            "type": "bar"
           }
          ],
          "barpolar": [
           {
            "marker": {
             "line": {
              "color": "#E5ECF6",
              "width": 0.5
             },
             "pattern": {
              "fillmode": "overlay",
              "size": 10,
              "solidity": 0.2
             }
            },
            "type": "barpolar"
           }
          ],
          "carpet": [
           {
            "aaxis": {
             "endlinecolor": "#2a3f5f",
             "gridcolor": "white",
             "linecolor": "white",
             "minorgridcolor": "white",
             "startlinecolor": "#2a3f5f"
            },
            "baxis": {
             "endlinecolor": "#2a3f5f",
             "gridcolor": "white",
             "linecolor": "white",
             "minorgridcolor": "white",
             "startlinecolor": "#2a3f5f"
            },
            "type": "carpet"
           }
          ],
          "choropleth": [
           {
            "colorbar": {
             "outlinewidth": 0,
             "ticks": ""
            },
            "type": "choropleth"
           }
          ],
          "contour": [
           {
            "colorbar": {
             "outlinewidth": 0,
             "ticks": ""
            },
            "colorscale": [
             [
              0,
              "#0d0887"
             ],
             [
              0.1111111111111111,
              "#46039f"
             ],
             [
              0.2222222222222222,
              "#7201a8"
             ],
             [
              0.3333333333333333,
              "#9c179e"
             ],
             [
              0.4444444444444444,
              "#bd3786"
             ],
             [
              0.5555555555555556,
              "#d8576b"
             ],
             [
              0.6666666666666666,
              "#ed7953"
             ],
             [
              0.7777777777777778,
              "#fb9f3a"
             ],
             [
              0.8888888888888888,
              "#fdca26"
             ],
             [
              1,
              "#f0f921"
             ]
            ],
            "type": "contour"
           }
          ],
          "contourcarpet": [
           {
            "colorbar": {
             "outlinewidth": 0,
             "ticks": ""
            },
            "type": "contourcarpet"
           }
          ],
          "heatmap": [
           {
            "colorbar": {
             "outlinewidth": 0,
             "ticks": ""
            },
            "colorscale": [
             [
              0,
              "#0d0887"
             ],
             [
              0.1111111111111111,
              "#46039f"
             ],
             [
              0.2222222222222222,
              "#7201a8"
             ],
             [
              0.3333333333333333,
              "#9c179e"
             ],
             [
              0.4444444444444444,
              "#bd3786"
             ],
             [
              0.5555555555555556,
              "#d8576b"
             ],
             [
              0.6666666666666666,
              "#ed7953"
             ],
             [
              0.7777777777777778,
              "#fb9f3a"
             ],
             [
              0.8888888888888888,
              "#fdca26"
             ],
             [
              1,
              "#f0f921"
             ]
            ],
            "type": "heatmap"
           }
          ],
          "heatmapgl": [
           {
            "colorbar": {
             "outlinewidth": 0,
             "ticks": ""
            },
            "colorscale": [
             [
              0,
              "#0d0887"
             ],
             [
              0.1111111111111111,
              "#46039f"
             ],
             [
              0.2222222222222222,
              "#7201a8"
             ],
             [
              0.3333333333333333,
              "#9c179e"
             ],
             [
              0.4444444444444444,
              "#bd3786"
             ],
             [
              0.5555555555555556,
              "#d8576b"
             ],
             [
              0.6666666666666666,
              "#ed7953"
             ],
             [
              0.7777777777777778,
              "#fb9f3a"
             ],
             [
              0.8888888888888888,
              "#fdca26"
             ],
             [
              1,
              "#f0f921"
             ]
            ],
            "type": "heatmapgl"
           }
          ],
          "histogram": [
           {
            "marker": {
             "pattern": {
              "fillmode": "overlay",
              "size": 10,
              "solidity": 0.2
             }
            },
            "type": "histogram"
           }
          ],
          "histogram2d": [
           {
            "colorbar": {
             "outlinewidth": 0,
             "ticks": ""
            },
            "colorscale": [
             [
              0,
              "#0d0887"
             ],
             [
              0.1111111111111111,
              "#46039f"
             ],
             [
              0.2222222222222222,
              "#7201a8"
             ],
             [
              0.3333333333333333,
              "#9c179e"
             ],
             [
              0.4444444444444444,
              "#bd3786"
             ],
             [
              0.5555555555555556,
              "#d8576b"
             ],
             [
              0.6666666666666666,
              "#ed7953"
             ],
             [
              0.7777777777777778,
              "#fb9f3a"
             ],
             [
              0.8888888888888888,
              "#fdca26"
             ],
             [
              1,
              "#f0f921"
             ]
            ],
            "type": "histogram2d"
           }
          ],
          "histogram2dcontour": [
           {
            "colorbar": {
             "outlinewidth": 0,
             "ticks": ""
            },
            "colorscale": [
             [
              0,
              "#0d0887"
             ],
             [
              0.1111111111111111,
              "#46039f"
             ],
             [
              0.2222222222222222,
              "#7201a8"
             ],
             [
              0.3333333333333333,
              "#9c179e"
             ],
             [
              0.4444444444444444,
              "#bd3786"
             ],
             [
              0.5555555555555556,
              "#d8576b"
             ],
             [
              0.6666666666666666,
              "#ed7953"
             ],
             [
              0.7777777777777778,
              "#fb9f3a"
             ],
             [
              0.8888888888888888,
              "#fdca26"
             ],
             [
              1,
              "#f0f921"
             ]
            ],
            "type": "histogram2dcontour"
           }
          ],
          "mesh3d": [
           {
            "colorbar": {
             "outlinewidth": 0,
             "ticks": ""
            },
            "type": "mesh3d"
           }
          ],
          "parcoords": [
           {
            "line": {
             "colorbar": {
              "outlinewidth": 0,
              "ticks": ""
             }
            },
            "type": "parcoords"
           }
          ],
          "pie": [
           {
            "automargin": true,
            "type": "pie"
           }
          ],
          "scatter": [
           {
            "fillpattern": {
             "fillmode": "overlay",
             "size": 10,
             "solidity": 0.2
            },
            "type": "scatter"
           }
          ],
          "scatter3d": [
           {
            "line": {
             "colorbar": {
              "outlinewidth": 0,
              "ticks": ""
             }
            },
            "marker": {
             "colorbar": {
              "outlinewidth": 0,
              "ticks": ""
             }
            },
            "type": "scatter3d"
           }
          ],
          "scattercarpet": [
           {
            "marker": {
             "colorbar": {
              "outlinewidth": 0,
              "ticks": ""
             }
            },
            "type": "scattercarpet"
           }
          ],
          "scattergeo": [
           {
            "marker": {
             "colorbar": {
              "outlinewidth": 0,
              "ticks": ""
             }
            },
            "type": "scattergeo"
           }
          ],
          "scattergl": [
           {
            "marker": {
             "colorbar": {
              "outlinewidth": 0,
              "ticks": ""
             }
            },
            "type": "scattergl"
           }
          ],
          "scattermapbox": [
           {
            "marker": {
             "colorbar": {
              "outlinewidth": 0,
              "ticks": ""
             }
            },
            "type": "scattermapbox"
           }
          ],
          "scatterpolar": [
           {
            "marker": {
             "colorbar": {
              "outlinewidth": 0,
              "ticks": ""
             }
            },
            "type": "scatterpolar"
           }
          ],
          "scatterpolargl": [
           {
            "marker": {
             "colorbar": {
              "outlinewidth": 0,
              "ticks": ""
             }
            },
            "type": "scatterpolargl"
           }
          ],
          "scatterternary": [
           {
            "marker": {
             "colorbar": {
              "outlinewidth": 0,
              "ticks": ""
             }
            },
            "type": "scatterternary"
           }
          ],
          "surface": [
           {
            "colorbar": {
             "outlinewidth": 0,
             "ticks": ""
            },
            "colorscale": [
             [
              0,
              "#0d0887"
             ],
             [
              0.1111111111111111,
              "#46039f"
             ],
             [
              0.2222222222222222,
              "#7201a8"
             ],
             [
              0.3333333333333333,
              "#9c179e"
             ],
             [
              0.4444444444444444,
              "#bd3786"
             ],
             [
              0.5555555555555556,
              "#d8576b"
             ],
             [
              0.6666666666666666,
              "#ed7953"
             ],
             [
              0.7777777777777778,
              "#fb9f3a"
             ],
             [
              0.8888888888888888,
              "#fdca26"
             ],
             [
              1,
              "#f0f921"
             ]
            ],
            "type": "surface"
           }
          ],
          "table": [
           {
            "cells": {
             "fill": {
              "color": "#EBF0F8"
             },
             "line": {
              "color": "white"
             }
            },
            "header": {
             "fill": {
              "color": "#C8D4E3"
             },
             "line": {
              "color": "white"
             }
            },
            "type": "table"
           }
          ]
         },
         "layout": {
          "annotationdefaults": {
           "arrowcolor": "#2a3f5f",
           "arrowhead": 0,
           "arrowwidth": 1
          },
          "autotypenumbers": "strict",
          "coloraxis": {
           "colorbar": {
            "outlinewidth": 0,
            "ticks": ""
           }
          },
          "colorscale": {
           "diverging": [
            [
             0,
             "#8e0152"
            ],
            [
             0.1,
             "#c51b7d"
            ],
            [
             0.2,
             "#de77ae"
            ],
            [
             0.3,
             "#f1b6da"
            ],
            [
             0.4,
             "#fde0ef"
            ],
            [
             0.5,
             "#f7f7f7"
            ],
            [
             0.6,
             "#e6f5d0"
            ],
            [
             0.7,
             "#b8e186"
            ],
            [
             0.8,
             "#7fbc41"
            ],
            [
             0.9,
             "#4d9221"
            ],
            [
             1,
             "#276419"
            ]
           ],
           "sequential": [
            [
             0,
             "#0d0887"
            ],
            [
             0.1111111111111111,
             "#46039f"
            ],
            [
             0.2222222222222222,
             "#7201a8"
            ],
            [
             0.3333333333333333,
             "#9c179e"
            ],
            [
             0.4444444444444444,
             "#bd3786"
            ],
            [
             0.5555555555555556,
             "#d8576b"
            ],
            [
             0.6666666666666666,
             "#ed7953"
            ],
            [
             0.7777777777777778,
             "#fb9f3a"
            ],
            [
             0.8888888888888888,
             "#fdca26"
            ],
            [
             1,
             "#f0f921"
            ]
           ],
           "sequentialminus": [
            [
             0,
             "#0d0887"
            ],
            [
             0.1111111111111111,
             "#46039f"
            ],
            [
             0.2222222222222222,
             "#7201a8"
            ],
            [
             0.3333333333333333,
             "#9c179e"
            ],
            [
             0.4444444444444444,
             "#bd3786"
            ],
            [
             0.5555555555555556,
             "#d8576b"
            ],
            [
             0.6666666666666666,
             "#ed7953"
            ],
            [
             0.7777777777777778,
             "#fb9f3a"
            ],
            [
             0.8888888888888888,
             "#fdca26"
            ],
            [
             1,
             "#f0f921"
            ]
           ]
          },
          "colorway": [
           "#636efa",
           "#EF553B",
           "#00cc96",
           "#ab63fa",
           "#FFA15A",
           "#19d3f3",
           "#FF6692",
           "#B6E880",
           "#FF97FF",
           "#FECB52"
          ],
          "font": {
           "color": "#2a3f5f"
          },
          "geo": {
           "bgcolor": "white",
           "lakecolor": "white",
           "landcolor": "#E5ECF6",
           "showlakes": true,
           "showland": true,
           "subunitcolor": "white"
          },
          "hoverlabel": {
           "align": "left"
          },
          "hovermode": "closest",
          "mapbox": {
           "style": "light"
          },
          "paper_bgcolor": "white",
          "plot_bgcolor": "#E5ECF6",
          "polar": {
           "angularaxis": {
            "gridcolor": "white",
            "linecolor": "white",
            "ticks": ""
           },
           "bgcolor": "#E5ECF6",
           "radialaxis": {
            "gridcolor": "white",
            "linecolor": "white",
            "ticks": ""
           }
          },
          "scene": {
           "xaxis": {
            "backgroundcolor": "#E5ECF6",
            "gridcolor": "white",
            "gridwidth": 2,
            "linecolor": "white",
            "showbackground": true,
            "ticks": "",
            "zerolinecolor": "white"
           },
           "yaxis": {
            "backgroundcolor": "#E5ECF6",
            "gridcolor": "white",
            "gridwidth": 2,
            "linecolor": "white",
            "showbackground": true,
            "ticks": "",
            "zerolinecolor": "white"
           },
           "zaxis": {
            "backgroundcolor": "#E5ECF6",
            "gridcolor": "white",
            "gridwidth": 2,
            "linecolor": "white",
            "showbackground": true,
            "ticks": "",
            "zerolinecolor": "white"
           }
          },
          "shapedefaults": {
           "line": {
            "color": "#2a3f5f"
           }
          },
          "ternary": {
           "aaxis": {
            "gridcolor": "white",
            "linecolor": "white",
            "ticks": ""
           },
           "baxis": {
            "gridcolor": "white",
            "linecolor": "white",
            "ticks": ""
           },
           "bgcolor": "#E5ECF6",
           "caxis": {
            "gridcolor": "white",
            "linecolor": "white",
            "ticks": ""
           }
          },
          "title": {
           "x": 0.05
          },
          "xaxis": {
           "automargin": true,
           "gridcolor": "white",
           "linecolor": "white",
           "ticks": "",
           "title": {
            "standoff": 15
           },
           "zerolinecolor": "white",
           "zerolinewidth": 2
          },
          "yaxis": {
           "automargin": true,
           "gridcolor": "white",
           "linecolor": "white",
           "ticks": "",
           "title": {
            "standoff": 15
           },
           "zerolinecolor": "white",
           "zerolinewidth": 2
          }
         }
        },
        "title": {
         "text": "Contour Plot"
        },
        "xaxis": {
         "anchor": "y",
         "domain": [
          0,
          0.2888888888888889
         ],
         "matches": "x7",
         "range": [
          -1.9837845410513415,
          -0.4485416813069935
         ],
         "showticklabels": false,
         "type": "log"
        },
        "xaxis2": {
         "anchor": "y2",
         "domain": [
          0.35555555555555557,
          0.6444444444444445
         ],
         "matches": "x8",
         "range": [
          -0.04771212547196626,
          1.001954634911291
         ],
         "showticklabels": false,
         "type": "log"
        },
        "xaxis3": {
         "anchor": "y3",
         "domain": [
          0.7111111111111111,
          1
         ],
         "matches": "x9",
         "range": [
          2.9891910527790198,
          3.7294813309242003
         ],
         "showticklabels": false,
         "type": "log"
        },
        "xaxis4": {
         "anchor": "y4",
         "domain": [
          0,
          0.2888888888888889
         ],
         "matches": "x7",
         "range": [
          -1.9837845410513415,
          -0.4485416813069935
         ],
         "showticklabels": false,
         "type": "log"
        },
        "xaxis5": {
         "anchor": "y5",
         "domain": [
          0.35555555555555557,
          0.6444444444444445
         ],
         "matches": "x8",
         "range": [
          -0.04771212547196626,
          1.001954634911291
         ],
         "showticklabels": false,
         "type": "log"
        },
        "xaxis6": {
         "anchor": "y6",
         "domain": [
          0.7111111111111111,
          1
         ],
         "matches": "x9",
         "range": [
          2.9891910527790198,
          3.7294813309242003
         ],
         "showticklabels": false,
         "type": "log"
        },
        "xaxis7": {
         "anchor": "y7",
         "domain": [
          0,
          0.2888888888888889
         ],
         "range": [
          -1.9837845410513415,
          -0.4485416813069935
         ],
         "title": {
          "text": "epsilon"
         },
         "type": "log"
        },
        "xaxis8": {
         "anchor": "y8",
         "domain": [
          0.35555555555555557,
          0.6444444444444445
         ],
         "range": [
          -0.04771212547196626,
          1.001954634911291
         ],
         "title": {
          "text": "max_loops"
         },
         "type": "log"
        },
        "xaxis9": {
         "anchor": "y9",
         "domain": [
          0.7111111111111111,
          1
         ],
         "range": [
          2.9891910527790198,
          3.7294813309242003
         ],
         "title": {
          "text": "warmup_steps"
         },
         "type": "log"
        },
        "yaxis": {
         "anchor": "x",
         "domain": [
          0.7333333333333333,
          1
         ],
         "range": [
          -1.9837845410513415,
          -0.4485416813069935
         ],
         "title": {
          "text": "epsilon"
         },
         "type": "log"
        },
        "yaxis2": {
         "anchor": "x2",
         "domain": [
          0.7333333333333333,
          1
         ],
         "matches": "y",
         "range": [
          -1.9837845410513415,
          -0.4485416813069935
         ],
         "showticklabels": false,
         "type": "log"
        },
        "yaxis3": {
         "anchor": "x3",
         "domain": [
          0.7333333333333333,
          1
         ],
         "matches": "y",
         "range": [
          -1.9837845410513415,
          -0.4485416813069935
         ],
         "showticklabels": false,
         "type": "log"
        },
        "yaxis4": {
         "anchor": "x4",
         "domain": [
          0.36666666666666664,
          0.6333333333333333
         ],
         "range": [
          -0.04771212547196626,
          1.001954634911291
         ],
         "title": {
          "text": "max_loops"
         },
         "type": "log"
        },
        "yaxis5": {
         "anchor": "x5",
         "domain": [
          0.36666666666666664,
          0.6333333333333333
         ],
         "matches": "y4",
         "range": [
          -0.04771212547196626,
          1.001954634911291
         ],
         "showticklabels": false,
         "type": "log"
        },
        "yaxis6": {
         "anchor": "x6",
         "domain": [
          0.36666666666666664,
          0.6333333333333333
         ],
         "matches": "y4",
         "range": [
          -0.04771212547196626,
          1.001954634911291
         ],
         "showticklabels": false,
         "type": "log"
        },
        "yaxis7": {
         "anchor": "x7",
         "domain": [
          0,
          0.26666666666666666
         ],
         "range": [
          2.9891910527790198,
          3.7294813309242003
         ],
         "title": {
          "text": "warmup_steps"
         },
         "type": "log"
        },
        "yaxis8": {
         "anchor": "x8",
         "domain": [
          0,
          0.26666666666666666
         ],
         "matches": "y7",
         "range": [
          2.9891910527790198,
          3.7294813309242003
         ],
         "showticklabels": false,
         "type": "log"
        },
        "yaxis9": {
         "anchor": "x9",
         "domain": [
          0,
          0.26666666666666666
         ],
         "matches": "y7",
         "range": [
          2.9891910527790198,
          3.7294813309242003
         ],
         "showticklabels": false,
         "type": "log"
        }
       }
      }
     },
     "metadata": {},
     "output_type": "display_data"
    }
   ],
   "source": [
    "fig = optuna.visualization.plot_contour(study, params=[\"epsilon\", \"warmup_steps\", \"max_loops\"])\n",
    "fig.show()"
   ]
  },
  {
   "cell_type": "code",
   "execution_count": null,
   "metadata": {},
   "outputs": [
    {
     "data": {
      "application/vnd.plotly.v1+json": {
       "config": {
        "plotlyServerURL": "https://plot.ly"
       },
       "data": [
        {
         "cliponaxis": false,
         "hovertemplate": [
          "warmup_steps (IntDistribution): 0.23720496882598904<extra></extra>",
          "max_loops (IntDistribution): 0.3390792868148189<extra></extra>",
          "epsilon (FloatDistribution): 0.423715744359192<extra></extra>"
         ],
         "name": "Objective Value",
         "orientation": "h",
         "text": [
          "0.24",
          "0.34",
          "0.42"
         ],
         "textposition": "outside",
         "type": "bar",
         "x": [
          0.23720496882598904,
          0.3390792868148189,
          0.423715744359192
         ],
         "y": [
          "warmup_steps",
          "max_loops",
          "epsilon"
         ]
        }
       ],
       "layout": {
        "template": {
         "data": {
          "bar": [
           {
            "error_x": {
             "color": "#2a3f5f"
            },
            "error_y": {
             "color": "#2a3f5f"
            },
            "marker": {
             "line": {
              "color": "#E5ECF6",
              "width": 0.5
             },
             "pattern": {
              "fillmode": "overlay",
              "size": 10,
              "solidity": 0.2
             }
            },
            "type": "bar"
           }
          ],
          "barpolar": [
           {
            "marker": {
             "line": {
              "color": "#E5ECF6",
              "width": 0.5
             },
             "pattern": {
              "fillmode": "overlay",
              "size": 10,
              "solidity": 0.2
             }
            },
            "type": "barpolar"
           }
          ],
          "carpet": [
           {
            "aaxis": {
             "endlinecolor": "#2a3f5f",
             "gridcolor": "white",
             "linecolor": "white",
             "minorgridcolor": "white",
             "startlinecolor": "#2a3f5f"
            },
            "baxis": {
             "endlinecolor": "#2a3f5f",
             "gridcolor": "white",
             "linecolor": "white",
             "minorgridcolor": "white",
             "startlinecolor": "#2a3f5f"
            },
            "type": "carpet"
           }
          ],
          "choropleth": [
           {
            "colorbar": {
             "outlinewidth": 0,
             "ticks": ""
            },
            "type": "choropleth"
           }
          ],
          "contour": [
           {
            "colorbar": {
             "outlinewidth": 0,
             "ticks": ""
            },
            "colorscale": [
             [
              0,
              "#0d0887"
             ],
             [
              0.1111111111111111,
              "#46039f"
             ],
             [
              0.2222222222222222,
              "#7201a8"
             ],
             [
              0.3333333333333333,
              "#9c179e"
             ],
             [
              0.4444444444444444,
              "#bd3786"
             ],
             [
              0.5555555555555556,
              "#d8576b"
             ],
             [
              0.6666666666666666,
              "#ed7953"
             ],
             [
              0.7777777777777778,
              "#fb9f3a"
             ],
             [
              0.8888888888888888,
              "#fdca26"
             ],
             [
              1,
              "#f0f921"
             ]
            ],
            "type": "contour"
           }
          ],
          "contourcarpet": [
           {
            "colorbar": {
             "outlinewidth": 0,
             "ticks": ""
            },
            "type": "contourcarpet"
           }
          ],
          "heatmap": [
           {
            "colorbar": {
             "outlinewidth": 0,
             "ticks": ""
            },
            "colorscale": [
             [
              0,
              "#0d0887"
             ],
             [
              0.1111111111111111,
              "#46039f"
             ],
             [
              0.2222222222222222,
              "#7201a8"
             ],
             [
              0.3333333333333333,
              "#9c179e"
             ],
             [
              0.4444444444444444,
              "#bd3786"
             ],
             [
              0.5555555555555556,
              "#d8576b"
             ],
             [
              0.6666666666666666,
              "#ed7953"
             ],
             [
              0.7777777777777778,
              "#fb9f3a"
             ],
             [
              0.8888888888888888,
              "#fdca26"
             ],
             [
              1,
              "#f0f921"
             ]
            ],
            "type": "heatmap"
           }
          ],
          "heatmapgl": [
           {
            "colorbar": {
             "outlinewidth": 0,
             "ticks": ""
            },
            "colorscale": [
             [
              0,
              "#0d0887"
             ],
             [
              0.1111111111111111,
              "#46039f"
             ],
             [
              0.2222222222222222,
              "#7201a8"
             ],
             [
              0.3333333333333333,
              "#9c179e"
             ],
             [
              0.4444444444444444,
              "#bd3786"
             ],
             [
              0.5555555555555556,
              "#d8576b"
             ],
             [
              0.6666666666666666,
              "#ed7953"
             ],
             [
              0.7777777777777778,
              "#fb9f3a"
             ],
             [
              0.8888888888888888,
              "#fdca26"
             ],
             [
              1,
              "#f0f921"
             ]
            ],
            "type": "heatmapgl"
           }
          ],
          "histogram": [
           {
            "marker": {
             "pattern": {
              "fillmode": "overlay",
              "size": 10,
              "solidity": 0.2
             }
            },
            "type": "histogram"
           }
          ],
          "histogram2d": [
           {
            "colorbar": {
             "outlinewidth": 0,
             "ticks": ""
            },
            "colorscale": [
             [
              0,
              "#0d0887"
             ],
             [
              0.1111111111111111,
              "#46039f"
             ],
             [
              0.2222222222222222,
              "#7201a8"
             ],
             [
              0.3333333333333333,
              "#9c179e"
             ],
             [
              0.4444444444444444,
              "#bd3786"
             ],
             [
              0.5555555555555556,
              "#d8576b"
             ],
             [
              0.6666666666666666,
              "#ed7953"
             ],
             [
              0.7777777777777778,
              "#fb9f3a"
             ],
             [
              0.8888888888888888,
              "#fdca26"
             ],
             [
              1,
              "#f0f921"
             ]
            ],
            "type": "histogram2d"
           }
          ],
          "histogram2dcontour": [
           {
            "colorbar": {
             "outlinewidth": 0,
             "ticks": ""
            },
            "colorscale": [
             [
              0,
              "#0d0887"
             ],
             [
              0.1111111111111111,
              "#46039f"
             ],
             [
              0.2222222222222222,
              "#7201a8"
             ],
             [
              0.3333333333333333,
              "#9c179e"
             ],
             [
              0.4444444444444444,
              "#bd3786"
             ],
             [
              0.5555555555555556,
              "#d8576b"
             ],
             [
              0.6666666666666666,
              "#ed7953"
             ],
             [
              0.7777777777777778,
              "#fb9f3a"
             ],
             [
              0.8888888888888888,
              "#fdca26"
             ],
             [
              1,
              "#f0f921"
             ]
            ],
            "type": "histogram2dcontour"
           }
          ],
          "mesh3d": [
           {
            "colorbar": {
             "outlinewidth": 0,
             "ticks": ""
            },
            "type": "mesh3d"
           }
          ],
          "parcoords": [
           {
            "line": {
             "colorbar": {
              "outlinewidth": 0,
              "ticks": ""
             }
            },
            "type": "parcoords"
           }
          ],
          "pie": [
           {
            "automargin": true,
            "type": "pie"
           }
          ],
          "scatter": [
           {
            "fillpattern": {
             "fillmode": "overlay",
             "size": 10,
             "solidity": 0.2
            },
            "type": "scatter"
           }
          ],
          "scatter3d": [
           {
            "line": {
             "colorbar": {
              "outlinewidth": 0,
              "ticks": ""
             }
            },
            "marker": {
             "colorbar": {
              "outlinewidth": 0,
              "ticks": ""
             }
            },
            "type": "scatter3d"
           }
          ],
          "scattercarpet": [
           {
            "marker": {
             "colorbar": {
              "outlinewidth": 0,
              "ticks": ""
             }
            },
            "type": "scattercarpet"
           }
          ],
          "scattergeo": [
           {
            "marker": {
             "colorbar": {
              "outlinewidth": 0,
              "ticks": ""
             }
            },
            "type": "scattergeo"
           }
          ],
          "scattergl": [
           {
            "marker": {
             "colorbar": {
              "outlinewidth": 0,
              "ticks": ""
             }
            },
            "type": "scattergl"
           }
          ],
          "scattermapbox": [
           {
            "marker": {
             "colorbar": {
              "outlinewidth": 0,
              "ticks": ""
             }
            },
            "type": "scattermapbox"
           }
          ],
          "scatterpolar": [
           {
            "marker": {
             "colorbar": {
              "outlinewidth": 0,
              "ticks": ""
             }
            },
            "type": "scatterpolar"
           }
          ],
          "scatterpolargl": [
           {
            "marker": {
             "colorbar": {
              "outlinewidth": 0,
              "ticks": ""
             }
            },
            "type": "scatterpolargl"
           }
          ],
          "scatterternary": [
           {
            "marker": {
             "colorbar": {
              "outlinewidth": 0,
              "ticks": ""
             }
            },
            "type": "scatterternary"
           }
          ],
          "surface": [
           {
            "colorbar": {
             "outlinewidth": 0,
             "ticks": ""
            },
            "colorscale": [
             [
              0,
              "#0d0887"
             ],
             [
              0.1111111111111111,
              "#46039f"
             ],
             [
              0.2222222222222222,
              "#7201a8"
             ],
             [
              0.3333333333333333,
              "#9c179e"
             ],
             [
              0.4444444444444444,
              "#bd3786"
             ],
             [
              0.5555555555555556,
              "#d8576b"
             ],
             [
              0.6666666666666666,
              "#ed7953"
             ],
             [
              0.7777777777777778,
              "#fb9f3a"
             ],
             [
              0.8888888888888888,
              "#fdca26"
             ],
             [
              1,
              "#f0f921"
             ]
            ],
            "type": "surface"
           }
          ],
          "table": [
           {
            "cells": {
             "fill": {
              "color": "#EBF0F8"
             },
             "line": {
              "color": "white"
             }
            },
            "header": {
             "fill": {
              "color": "#C8D4E3"
             },
             "line": {
              "color": "white"
             }
            },
            "type": "table"
           }
          ]
         },
         "layout": {
          "annotationdefaults": {
           "arrowcolor": "#2a3f5f",
           "arrowhead": 0,
           "arrowwidth": 1
          },
          "autotypenumbers": "strict",
          "coloraxis": {
           "colorbar": {
            "outlinewidth": 0,
            "ticks": ""
           }
          },
          "colorscale": {
           "diverging": [
            [
             0,
             "#8e0152"
            ],
            [
             0.1,
             "#c51b7d"
            ],
            [
             0.2,
             "#de77ae"
            ],
            [
             0.3,
             "#f1b6da"
            ],
            [
             0.4,
             "#fde0ef"
            ],
            [
             0.5,
             "#f7f7f7"
            ],
            [
             0.6,
             "#e6f5d0"
            ],
            [
             0.7,
             "#b8e186"
            ],
            [
             0.8,
             "#7fbc41"
            ],
            [
             0.9,
             "#4d9221"
            ],
            [
             1,
             "#276419"
            ]
           ],
           "sequential": [
            [
             0,
             "#0d0887"
            ],
            [
             0.1111111111111111,
             "#46039f"
            ],
            [
             0.2222222222222222,
             "#7201a8"
            ],
            [
             0.3333333333333333,
             "#9c179e"
            ],
            [
             0.4444444444444444,
             "#bd3786"
            ],
            [
             0.5555555555555556,
             "#d8576b"
            ],
            [
             0.6666666666666666,
             "#ed7953"
            ],
            [
             0.7777777777777778,
             "#fb9f3a"
            ],
            [
             0.8888888888888888,
             "#fdca26"
            ],
            [
             1,
             "#f0f921"
            ]
           ],
           "sequentialminus": [
            [
             0,
             "#0d0887"
            ],
            [
             0.1111111111111111,
             "#46039f"
            ],
            [
             0.2222222222222222,
             "#7201a8"
            ],
            [
             0.3333333333333333,
             "#9c179e"
            ],
            [
             0.4444444444444444,
             "#bd3786"
            ],
            [
             0.5555555555555556,
             "#d8576b"
            ],
            [
             0.6666666666666666,
             "#ed7953"
            ],
            [
             0.7777777777777778,
             "#fb9f3a"
            ],
            [
             0.8888888888888888,
             "#fdca26"
            ],
            [
             1,
             "#f0f921"
            ]
           ]
          },
          "colorway": [
           "#636efa",
           "#EF553B",
           "#00cc96",
           "#ab63fa",
           "#FFA15A",
           "#19d3f3",
           "#FF6692",
           "#B6E880",
           "#FF97FF",
           "#FECB52"
          ],
          "font": {
           "color": "#2a3f5f"
          },
          "geo": {
           "bgcolor": "white",
           "lakecolor": "white",
           "landcolor": "#E5ECF6",
           "showlakes": true,
           "showland": true,
           "subunitcolor": "white"
          },
          "hoverlabel": {
           "align": "left"
          },
          "hovermode": "closest",
          "mapbox": {
           "style": "light"
          },
          "paper_bgcolor": "white",
          "plot_bgcolor": "#E5ECF6",
          "polar": {
           "angularaxis": {
            "gridcolor": "white",
            "linecolor": "white",
            "ticks": ""
           },
           "bgcolor": "#E5ECF6",
           "radialaxis": {
            "gridcolor": "white",
            "linecolor": "white",
            "ticks": ""
           }
          },
          "scene": {
           "xaxis": {
            "backgroundcolor": "#E5ECF6",
            "gridcolor": "white",
            "gridwidth": 2,
            "linecolor": "white",
            "showbackground": true,
            "ticks": "",
            "zerolinecolor": "white"
           },
           "yaxis": {
            "backgroundcolor": "#E5ECF6",
            "gridcolor": "white",
            "gridwidth": 2,
            "linecolor": "white",
            "showbackground": true,
            "ticks": "",
            "zerolinecolor": "white"
           },
           "zaxis": {
            "backgroundcolor": "#E5ECF6",
            "gridcolor": "white",
            "gridwidth": 2,
            "linecolor": "white",
            "showbackground": true,
            "ticks": "",
            "zerolinecolor": "white"
           }
          },
          "shapedefaults": {
           "line": {
            "color": "#2a3f5f"
           }
          },
          "ternary": {
           "aaxis": {
            "gridcolor": "white",
            "linecolor": "white",
            "ticks": ""
           },
           "baxis": {
            "gridcolor": "white",
            "linecolor": "white",
            "ticks": ""
           },
           "bgcolor": "#E5ECF6",
           "caxis": {
            "gridcolor": "white",
            "linecolor": "white",
            "ticks": ""
           }
          },
          "title": {
           "x": 0.05
          },
          "xaxis": {
           "automargin": true,
           "gridcolor": "white",
           "linecolor": "white",
           "ticks": "",
           "title": {
            "standoff": 15
           },
           "zerolinecolor": "white",
           "zerolinewidth": 2
          },
          "yaxis": {
           "automargin": true,
           "gridcolor": "white",
           "linecolor": "white",
           "ticks": "",
           "title": {
            "standoff": 15
           },
           "zerolinecolor": "white",
           "zerolinewidth": 2
          }
         }
        },
        "title": {
         "text": "Hyperparameter Importances"
        },
        "xaxis": {
         "title": {
          "text": "Hyperparameter Importance"
         }
        },
        "yaxis": {
         "title": {
          "text": "Hyperparameter"
         }
        }
       }
      }
     },
     "metadata": {},
     "output_type": "display_data"
    }
   ],
   "source": [
    "fig = optuna.visualization.plot_param_importances(study)\n",
    "fig.show()"
   ]
  },
  {
   "cell_type": "code",
   "execution_count": null,
   "metadata": {},
   "outputs": [
    {
     "name": "stdout",
     "output_type": "stream",
     "text": [
      "FrozenTrial(number=0, state=1, values=[0.6820999999999999], datetime_start=datetime.datetime(2024, 1, 20, 19, 10, 1, 361903), datetime_complete=datetime.datetime(2024, 1, 20, 19, 12, 7, 42327), params={'max_loops': 1, 'warmup_steps': 4354, 'epsilon': 0.019644426287212947}, user_attrs={}, system_attrs={}, intermediate_values={3: 0.0, 6: 0.0, 11: 0.0, 15: 0.0, 21: 0.0, 24: 0.0, 28: 0.0, 32: 0.0, 35: 0.0, 38: 0.0, 43: 0.0, 46: 0.0, 49: 0.0, 53: 0.0, 56: 0.0, 59: 0.0, 63: 0.0, 68: 0.0, 74: 0.0, 78: 0.0, 88: 0.0, 91: 0.0, 94: 0.0, 101: 0.0, 105: 0.0, 108: 0.0, 114: 0.0, 118: 0.0, 121: 0.0, 127: 0.0, 134: 0.0, 138: 0.0, 141: 0.0, 144: 0.0, 150: 0.0, 157: 0.0, 163: 0.0, 167: 0.0, 171: 0.0, 174: 0.0, 180: 0.0, 183: 0.0, 188: 0.0, 193: 0.0, 196: 0.0, 200: 0.0, 203: 0.0, 206: 0.0, 209: 0.0, 212: 0.0, 217: 0.0, 223: 0.0, 227: 0.0, 230: 0.0, 233: 0.0, 238: 0.0, 241: 0.0, 244: 0.0, 247: 0.0, 251: 0.0, 255: 0.0, 258: 0.0, 262: 0.0, 265: 0.0, 270: 0.0, 273: 0.0, 277: 0.0, 281: 0.0, 285: 0.0, 293: 0.0, 296: 0.0, 300: 0.0, 303: 0.0, 307: 0.0, 316: 0.0, 320: 0.0, 325: 0.0, 329: 0.0, 333: 0.0, 336: 0.0, 339: 0.0, 344: 0.0, 347: 0.0, 353: 0.0, 356: 0.0, 362: 0.0, 365: 0.0, 368: 0.0, 372: 0.0, 376: 0.0, 379: 0.0, 382: 0.0, 385: 0.0, 390: 0.0, 393: 0.0, 396: 0.0, 405: 0.0, 409: 0.0, 414: 0.0, 419: 0.0, 423: 0.0, 426: 0.0, 433: 0.0, 437: 0.0, 440: 0.0, 444: 0.0, 447: 0.0, 452: 0.0, 458: 0.0, 461: 0.0, 464: 0.0, 467: 0.0, 472: 0.0, 477: 0.0, 483: 0.0, 486: 0.0, 489: 0.0, 493: 0.0, 497: 0.0, 502: 0.0, 506: 0.0, 510: 0.0, 516: 0.0, 519: 0.0, 523: 0.0, 529: 0.0, 536: 0.0, 540: 0.0, 544: 0.0, 551: 0.0, 554: 0.0, 562: 0.0, 566: 0.0, 571: 0.0, 574: 0.0, 582: 0.0, 585: 0.0, 589: 0.0, 592: 0.0, 595: 0.0, 598: 0.0, 601: 0.0, 606: 0.0, 609: 0.0, 612: 0.0, 615: 0.0, 619: 0.0, 629: 0.0, 632: 0.0, 635: 0.0, 639: 0.0, 643: 0.0, 647: 0.0, 650: 0.0, 655: 0.0, 658: 0.0, 662: 0.0, 667: 0.0, 670: 0.0, 674: 0.0, 678: 0.0, 681: 0.0, 688: 0.0, 697: 0.0, 700: 0.0, 703: 0.0, 707: 0.0, 710: 0.0, 713: 0.0, 716: 0.0, 719: 0.0, 728: 0.0, 732: 0.0, 738: 0.0, 743: 0.0, 747: 0.0, 750: 0.0, 755: 0.0, 760: 0.0, 766: 0.0, 769: 0.0, 775: 0.0, 785: 0.0, 788: 0.0, 793: 0.0, 796: 0.0, 802: 0.0, 810: 0.0, 813: 0.0, 818: 0.0, 822: 0.0, 827: 0.0, 830: 0.0, 833: 0.0, 842: 0.0, 848: 0.0, 854: 0.0, 860: 0.0, 863: 0.0, 867: 0.0, 870: 0.0, 875: 0.0, 878: 0.0, 884: 0.0, 887: 0.0, 897: 0.0, 900: 0.0, 903: 0.0, 906: 0.0, 910: 0.0, 916: 0.0, 921: 0.0, 927: 0.0, 934: 0.0, 937: 0.0, 943: 0.0, 948: 0.0, 951: 0.0, 954: 0.0, 957: 0.0, 963: 0.0, 966: 0.0, 970: 0.0, 973: 0.0, 977: 0.0, 985: 0.0, 989: 0.0, 992: 0.0, 999: 0.0, 1002: 0.0, 1009: 0.0, 1012: 0.0, 1015: 0.0, 1018: 0.0, 1026: 0.0, 1030: 0.0, 1033: 0.0, 1036: 0.0, 1041: 0.0, 1047: 0.0, 1051: 0.0, 1056: 0.0, 1059: 0.0, 1064: 0.0, 1069: 0.0, 1073: 0.0, 1078: 0.0, 1084: 0.0, 1087: 0.0, 1094: 0.0, 1097: 0.0, 1103: 0.0, 1108: 0.0, 1112: 0.0, 1115: 0.0, 1118: 0.0, 1123: 0.0, 1128: 0.0, 1132: 0.0, 1135: 0.0, 1138: 0.0, 1144: 0.0, 1147: 0.0, 1151: 0.0, 1155: 0.0, 1161: 0.0, 1166: 0.0, 1171: 0.0, 1174: 0.0, 1178: 0.0, 1188: 0.0, 1192: 0.0, 1197: 0.0, 1200: 0.0, 1205: 0.0, 1209: 0.0, 1217: 0.0, 1221: 0.0, 1224: 0.0, 1227: 0.0, 1232: 0.0, 1236: 0.0, 1239: 0.0, 1245: 0.0, 1250: 0.0, 1259: 0.0, 1263: 0.0, 1266: 0.0, 1271: 0.0, 1275: 0.0, 1280: 0.0, 1283: 0.0, 1286: 0.0, 1290: 0.0, 1293: 0.0, 1296: 0.0, 1300: 0.0, 1304: 0.0, 1309: 0.0, 1317: 0.0, 1322: 0.0, 1326: 0.0, 1329: 0.0, 1337: 0.0, 1340: 0.0, 1344: 0.0, 1347: 0.0, 1352: 0.0, 1355: 0.0, 1360: 0.0, 1363: 0.0, 1371: 0.0, 1374: 0.0, 1377: 0.0, 1380: 0.0, 1389: 0.0, 1397: 0.0, 1400: 0.0, 1403: 0.0, 1406: 0.0, 1409: 0.0, 1412: 0.0, 1415: 0.0, 1419: 0.0, 1424: 0.0, 1428: 0.0, 1431: 0.0, 1436: 0.0, 1444: 0.0, 1447: 0.0, 1452: 0.0, 1462: 0.0, 1467: 0.0, 1471: 0.0, 1476: 0.0, 1479: 0.0, 1483: 0.0, 1488: 0.0, 1492: 0.0, 1495: 0.0, 1498: 0.0, 1501: 0.0, 1504: 0.0, 1508: 0.0, 1511: 0.0, 1515: 0.0, 1521: 0.0, 1524: 0.0, 1529: 0.0, 1532: 0.0, 1536: 0.0, 1542: 0.0, 1546: 0.0, 1551: 0.0, 1555: 0.0, 1561: 0.0, 1564: 0.0, 1569: 0.0, 1575: 0.0, 1581: 0.0, 1588: 0.0, 1592: 0.0, 1595: 0.0, 1598: 0.0, 1601: 0.0, 1604: 0.0, 1615: 0.0, 1623: 0.0, 1630: 0.0, 1634: 0.0, 1637: 0.0, 1642: 0.0, 1647: 0.0, 1653: 0.0, 1660: 0.0, 1665: 0.0, 1671: 0.0, 1674: 0.0, 1677: 0.0, 1685: 0.0, 1688: 0.0, 1692: 0.0, 1699: 0.0, 1702: 0.0, 1707: 0.0, 1711: 0.0, 1714: 0.0, 1718: 0.0, 1721: 0.0, 1724: 0.0, 1728: 0.0, 1732: 0.0, 1736: 0.0, 1742: 0.0, 1745: 0.0, 1748: 0.0, 1751: 0.0, 1755: 0.0, 1759: 0.0, 1762: 0.0, 1766: 0.0, 1769: 0.0, 1774: 0.0, 1777: 0.0, 1784: 0.0, 1787: 0.0, 1790: 0.0, 1795: 0.0, 1802: 0.0, 1806: 0.0, 1809: 0.0, 1813: 0.0, 1816: 0.0, 1820: 0.0, 1823: 0.0, 1826: 0.0, 1829: 0.0, 1837: 0.0, 1840: 0.0, 1844: 0.0, 1848: 0.0, 1852: 0.0, 1855: 0.0, 1860: 0.0, 1863: 0.0, 1868: 0.0, 1871: 0.0, 1876: 0.0, 1879: 0.0, 1883: 0.0, 1889: 0.0, 1893: 0.0, 1899: 0.0, 1902: 0.0, 1905: 0.0, 1909: 0.0, 1913: 0.0, 1918: 0.0, 1921: 0.0, 1925: 0.0, 1930: 0.0, 1933: 0.0, 1937: 0.0, 1947: 0.0, 1957: 0.0, 1960: 0.0, 1963: 0.0, 1971: 0.0, 1979: 0.0, 1984: 0.0, 1987: 0.0, 1994: 0.0, 1997: 0.0, 2000: 0.0, 2004: 0.0, 2008: 0.0, 2012: 0.0, 2016: 0.0, 2021: 0.0, 2027: 0.0, 2031: 0.0, 2034: 0.0, 2041: 0.0, 2046: 0.0, 2050: 0.0, 2056: 0.0, 2060: 0.0, 2065: 0.0, 2072: 0.0, 2079: 0.0, 2083: 0.0, 2089: 0.0, 2092: 0.0, 2097: 0.0, 2109: 0.0, 2113: 0.0, 2116: 0.0, 2124: 0.0, 2127: 0.0, 2132: 0.0, 2136: 0.0, 2140: 0.0, 2145: 0.0, 2148: 0.0, 2157: 0.0, 2166: 0.0, 2170: 0.0, 2173: 0.0, 2176: 0.0, 2179: 0.0, 2182: 0.0, 2186: 0.0, 2190: 0.0, 2195: 0.0, 2199: 0.0, 2202: 0.0, 2206: 0.0, 2209: 0.0, 2213: 0.0, 2217: 0.0, 2225: 0.0, 2228: 0.0, 2231: 0.0, 2235: 0.0, 2239: 0.0, 2243: 0.0, 2247: 0.0, 2252: 0.0, 2256: 0.0, 2259: 0.0, 2267: 0.0, 2271: 0.0, 2276: 0.0, 2279: 0.0, 2282: 0.0, 2286: 0.0, 2290: 0.0, 2295: 0.0, 2300: 0.0, 2305: 0.0, 2308: 0.0, 2311: 0.0, 2315: 0.0, 2319: 0.0, 2322: 0.0, 2325: 0.0, 2328: 0.0, 2335: 0.0, 2338: 0.0, 2342: 0.0, 2345: 0.0, 2350: 0.0, 2360: 0.0, 2365: 0.0, 2368: 0.0, 2371: 0.0, 2376: 0.0, 2381: 0.0, 2384: 0.0, 2388: 0.0, 2398: 0.0, 2401: 0.0, 2404: 0.0, 2407: 0.0, 2415: 0.0, 2421: 0.0, 2430: 0.0, 2434: 0.0, 2438: 0.0, 2442: 0.0, 2448: 0.0, 2454: 0.0, 2461: 0.0, 2464: 0.0, 2468: 0.0, 2477: 0.0, 2480: 0.0, 2487: 0.0, 2491: 0.0, 2497: 0.0, 2507: 0.0, 2512: 0.0, 2518: 0.0, 2523: 0.0, 2527: 0.0, 2534: 0.0, 2537: 0.0, 2542: 0.0, 2545: 0.0, 2550: 0.0, 2557: 0.0, 2562: 0.0, 2565: 0.0, 2569: 0.0, 2575: 0.0, 2578: 0.0, 2582: 0.0, 2585: 0.0, 2590: 0.0, 2598: 0.0, 2602: 0.0, 2610: 0.0, 2613: 0.0, 2620: 0.0, 2625: 0.0, 2629: 0.0, 2633: 0.0, 2637: 0.0, 2641: 0.0, 2650: 0.0, 2655: 0.0, 2660: 0.0, 2663: 0.0, 2667: 0.0, 2670: 0.0, 2675: 0.0, 2681: 0.0, 2684: 0.0, 2688: 0.0, 2694: 0.0, 2698: 0.0, 2701: 0.0, 2704: 0.0, 2710: 0.0, 2715: 0.0, 2719: 0.0, 2725: 0.0, 2729: 0.0, 2735: 0.0, 2744: 0.0, 2748: 0.0, 2751: 0.0, 2756: 0.0, 2760: 0.0, 2764: 0.0, 2772: 0.0, 2777: 0.0, 2781: 0.0, 2784: 0.0, 2787: 0.0, 2795: 0.0, 2803: 0.0, 2806: 0.0, 2810: 0.0, 2818: 0.0, 2821: 0.0, 2826: 0.0, 2830: 0.0, 2836: 0.0, 2841: 0.0, 2845: 0.0, 2849: 0.0, 2854: 0.0, 2857: 0.0, 2861: 0.0, 2865: 0.0, 2868: 0.0, 2875: 0.0, 2884: 0.0, 2889: 0.0, 2893: 0.0, 2900: 0.0, 2909: 0.0, 2913: 0.0, 2916: 0.0, 2921: 0.0, 2926: 0.0, 2929: 0.0, 2932: 0.0, 2936: 0.0, 2939: 0.0, 2944: 0.0, 2947: 0.0, 2950: 0.0, 2959: 0.0, 2970: 0.0, 2973: 0.0, 2977: 0.0, 2981: 0.0, 2985: 0.0, 2991: 0.0, 2995: 0.0, 2998: 0.0, 3008: 0.0, 3014: 0.0, 3018: 0.0, 3022: 0.0, 3028: 0.0, 3031: 0.0, 3035: 0.0, 3039: 0.0, 3046: 0.0, 3051: 0.0, 3058: 0.0, 3062: 0.0, 3066: 0.0, 3069: 0.0, 3072: 0.0, 3075: 0.0, 3079: 0.0, 3085: 0.0, 3090: 0.0, 3093: 0.0, 3097: 0.0, 3102: 0.0, 3106: 0.0, 3109: 0.0, 3112: 0.0, 3115: 0.0, 3118: 0.0, 3126: 0.0, 3130: 0.0, 3134: 0.0, 3142: 0.0, 3145: 0.0, 3148: 0.0, 3155: 0.0, 3158: 0.0, 3161: 0.0, 3165: 0.0, 3170: 0.0, 3174: 0.0, 3177: 0.0, 3181: 0.0002, 3184: 0.0005, 3189: 0.001, 3194: 0.0015, 3199: 0.002, 3204: 0.0025, 3207: 0.0028, 3214: 0.0035, 3218: 0.0039, 3226: 0.0047, 3231: 0.0052, 3234: 0.0055, 3238: 0.0059, 3242: 0.0063, 3252: 0.0073, 3255: 0.0076, 3260: 0.0081, 3264: 0.0085, 3268: 0.0089, 3273: 0.0094, 3276: 0.0097, 3279: 0.01, 3286: 0.0107, 3291: 0.0112, 3295: 0.0116, 3299: 0.012, 3304: 0.0125, 3307: 0.0128, 3314: 0.0135, 3321: 0.0142, 3324: 0.0145, 3327: 0.0148, 3331: 0.0152, 3340: 0.0161, 3343: 0.0164, 3349: 0.017, 3353: 0.0174, 3356: 0.0177, 3360: 0.0181, 3364: 0.0185, 3376: 0.0197, 3381: 0.0202, 3384: 0.0205, 3392: 0.0213, 3401: 0.0222, 3407: 0.0228, 3416: 0.0237, 3419: 0.024, 3424: 0.0245, 3431: 0.0252, 3436: 0.0257, 3440: 0.0261, 3443: 0.0264, 3448: 0.0269, 3451: 0.0272, 3454: 0.0275, 3458: 0.0279, 3462: 0.0283, 3466: 0.0287, 3470: 0.0291, 3479: 0.03, 3482: 0.0303, 3486: 0.0307, 3494: 0.0315, 3501: 0.0322, 3505: 0.0326, 3509: 0.033, 3512: 0.0333, 3519: 0.034, 3526: 0.0347, 3533: 0.0354, 3540: 0.0361, 3546: 0.0367, 3553: 0.0374, 3560: 0.0381, 3567: 0.0388, 3574: 0.0395, 3582: 0.0403, 3585: 0.0406, 3592: 0.0413, 3595: 0.0416, 3598: 0.0419, 3603: 0.0424, 3612: 0.0433, 3616: 0.0437, 3621: 0.0442, 3630: 0.0451, 3634: 0.0455, 3646: 0.0467, 3649: 0.047, 3657: 0.0478, 3661: 0.0482, 3669: 0.049, 3677: 0.0498, 3684: 0.0505, 3691: 0.0512, 3699: 0.052, 3706: 0.0527, 3710: 0.0531, 3714: 0.0535, 3717: 0.0538, 3725: 0.0546, 3728: 0.0549, 3731: 0.0552, 3738: 0.0559, 3742: 0.0563, 3747: 0.0568, 3756: 0.0577, 3760: 0.0581, 3768: 0.0589, 3778: 0.0599, 3788: 0.0609, 3796: 0.0617, 3804: 0.0625, 3815: 0.0636, 3822: 0.0643, 3830: 0.0651, 3838: 0.0659, 3847: 0.0668, 3854: 0.0675, 3862: 0.0683, 3869: 0.069, 3876: 0.0697, 3883: 0.0704, 3890: 0.0711, 3897: 0.0718, 3904: 0.0725, 3911: 0.0732, 3919: 0.074, 3927: 0.0748, 3935: 0.0756, 3938: 0.0759, 3945: 0.0766, 3952: 0.0773, 3961: 0.0782, 3968: 0.0789, 3975: 0.0796, 3982: 0.0803, 3987: 0.0808, 3991: 0.0812, 3998: 0.0819, 4005: 0.0826, 4012: 0.0833, 4021: 0.0842, 4029: 0.085, 4036: 0.0857, 4043: 0.0864, 4050: 0.0871, 4059: 0.088, 4067: 0.0888, 4076: 0.0897, 4083: 0.0904, 4090: 0.0911, 4093: 0.0914, 4100: 0.0921, 4107: 0.0928, 4116: 0.0937, 4123: 0.0944, 4131: 0.0952, 4138: 0.0959, 4146: 0.0967, 4153: 0.0974, 4160: 0.0981, 4167: 0.0988, 4174: 0.0995, 4184: 0.1005, 4191: 0.1012, 4198: 0.1019, 4205: 0.1026, 4212: 0.1033, 4219: 0.104, 4226: 0.1047, 4233: 0.1054, 4240: 0.1061, 4247: 0.1068, 4254: 0.1075, 4261: 0.1082, 4268: 0.1089, 4275: 0.1096, 4282: 0.1103, 4289: 0.111, 4296: 0.1117, 4303: 0.1124, 4310: 0.1131, 4317: 0.1138, 4324: 0.1145, 4331: 0.1152, 4338: 0.1159, 4345: 0.1166, 4352: 0.1173, 4359: 0.118, 4366: 0.1187, 4373: 0.1194, 4380: 0.1201, 4387: 0.1208, 4394: 0.1215, 4401: 0.1222, 4408: 0.1229, 4415: 0.1236, 4422: 0.1243, 4429: 0.125, 4436: 0.1257, 4443: 0.1264, 4450: 0.1271, 4457: 0.1278, 4464: 0.1285, 4471: 0.1292, 4478: 0.1299, 4485: 0.1306, 4492: 0.1313, 4499: 0.132, 4506: 0.1327, 4513: 0.1334, 4520: 0.1341, 4527: 0.1348, 4534: 0.1355, 4541: 0.1362, 4548: 0.1369, 4555: 0.1376, 4562: 0.1383, 4569: 0.139, 4576: 0.1397, 4583: 0.1404, 4590: 0.1411, 4597: 0.1418, 4604: 0.1425, 4611: 0.1432, 4618: 0.1439, 4625: 0.1446, 4632: 0.1453, 4639: 0.146, 4647: 0.1468, 4654: 0.1475, 4661: 0.1482, 4668: 0.1489, 4675: 0.1496, 4682: 0.1503, 4689: 0.151, 4696: 0.1517, 4703: 0.1524, 4710: 0.1531, 4717: 0.1538, 4724: 0.1545, 4731: 0.1552, 4738: 0.1559, 4745: 0.1566, 4752: 0.1573, 4759: 0.158, 4766: 0.1587, 4773: 0.1594, 4780: 0.1601, 4787: 0.1608, 4794: 0.1615, 4801: 0.1622, 4808: 0.1629, 4815: 0.1636, 4822: 0.1643, 4829: 0.165, 4836: 0.1657, 4843: 0.1664, 4850: 0.1671, 4857: 0.1678, 4864: 0.1685, 4871: 0.1692, 4878: 0.1699, 4885: 0.1706, 4892: 0.1713, 4900: 0.1721, 4907: 0.1728, 4914: 0.1735, 4921: 0.1742, 4928: 0.1749, 4935: 0.1756, 4942: 0.1763, 4949: 0.177, 4956: 0.1777, 4963: 0.1784, 4970: 0.1791, 4977: 0.1798, 4984: 0.1805, 4991: 0.1812, 4998: 0.1819, 5005: 0.1826, 5012: 0.1833, 5019: 0.184, 5026: 0.1847, 5033: 0.1854, 5040: 0.1861, 5047: 0.1868, 5054: 0.1875, 5061: 0.1882, 5068: 0.1889, 5075: 0.1896, 5082: 0.1903, 5089: 0.191, 5096: 0.1917, 5103: 0.1924, 5110: 0.1931, 5117: 0.1938, 5124: 0.1945, 5131: 0.1952, 5138: 0.1959, 5145: 0.1966, 5152: 0.1973, 5159: 0.198, 5166: 0.1987, 5173: 0.1994, 10000: 1.0}, distributions={'max_loops': IntDistribution(high=10, log=True, low=1, step=1), 'warmup_steps': IntDistribution(high=5000, log=True, low=1000, step=1), 'epsilon': FloatDistribution(high=0.5, log=True, low=0.01, step=None)}, trial_id=0, value=None)\n",
      "FrozenTrial(number=1, state=1, values=[0.0], datetime_start=datetime.datetime(2024, 1, 20, 19, 10, 1, 363835), datetime_complete=datetime.datetime(2024, 1, 20, 19, 12, 34, 744898), params={'max_loops': 9, 'warmup_steps': 1054, 'epsilon': 0.012189874244796055}, user_attrs={}, system_attrs={}, intermediate_values={7: 0.0, 23: 0.0, 32: 0.0, 41: 0.0, 44: 0.0, 57: 0.0, 73: 0.0, 83: 0.0, 98: 0.0, 104: 0.0, 111: 0.0, 132: 0.0, 144: 0.0, 153: 0.0, 160: 0.0, 174: 0.0, 181: 0.0, 194: 0.0, 204: 0.0, 213: 0.0, 220: 0.0, 231: 0.0, 241: 0.0, 261: 0.0, 265: 0.0, 279: 0.0, 294: 0.0, 300: 0.0, 317: 0.0, 329: 0.0, 337: 0.0, 357: 0.0, 363: 0.0, 375: 0.0, 386: 0.0, 391: 0.0, 411: 0.0, 420: 0.0, 429: 0.0, 438: 0.0, 442: 0.0, 448: 0.0, 467: 0.0, 470: 0.0, 477: 0.0, 484: 0.0, 491: 0.0, 505: 0.0, 518: 0.0, 522: 0.0, 534: 0.0, 537: 0.0, 562: 0.0, 578: 0.0, 599: 0.0, 611: 0.0, 623: 0.0, 640: 0.0, 659: 0.0, 677: 0.0, 690: 0.0, 705: 0.0, 719: 0.0, 732: 0.0, 745: 0.0, 759: 0.0, 772: 0.0, 785: 0.0, 799: 0.0, 813: 0.0, 827: 0.0, 842: 0.0, 855: 0.0, 868: 0.0, 882: 0.0, 895: 0.0, 908: 0.0, 921: 0.0, 934: 0.0, 947: 0.0, 960: 0.0, 973: 0.0, 986: 0.0, 999: 0.0, 1012: 0.0, 1025: 0.0, 1038: 0.0, 1051: 0.0, 1064: 0.0, 1077: 0.0, 1090: 0.0, 1103: 0.0, 1116: 0.0, 1129: 0.0, 1142: 0.0, 1155: 0.0, 1168: 0.0, 1181: 0.0, 1194: 0.0, 1207: 0.0, 1220: 0.0, 1233: 0.0, 1246: 0.0, 1259: 0.0, 1272: 0.0, 1285: 0.0, 1298: 0.0, 1311: 0.0, 1324: 0.0, 1337: 0.0, 1350: 0.0, 1363: 0.0, 1376: 0.0, 1389: 0.0, 1402: 0.0, 1415: 0.0, 1428: 0.0, 1441: 0.0, 1454: 0.0, 1467: 0.0, 1480: 0.0, 1493: 0.0, 1506: 0.0, 1519: 0.0, 1532: 0.0, 1545: 0.0, 1558: 0.0, 1571: 0.0, 1584: 0.0, 1597: 0.0, 1610: 0.0, 1623: 0.0, 1636: 0.0, 1649: 0.0, 1662: 0.0, 1675: 0.0, 1688: 0.0, 1701: 0.0, 1714: 0.0, 1727: 0.0, 1740: 0.0, 1753: 0.0, 1766: 0.0, 1779: 0.0, 1792: 0.0, 1805: 0.0, 1818: 0.0, 1831: 0.0, 1844: 0.0, 1857: 0.0, 1870: 0.0, 1883: 0.0, 1896: 0.0, 1909: 0.0, 1922: 0.0, 1935: 0.0, 1948: 0.0, 1961: 0.0, 1974: 0.0, 1987: 0.0, 2000: 0.0, 2013: 0.0, 2026: 0.0, 2039: 0.0, 2052: 0.0, 2065: 0.0, 2078: 0.0, 2091: 0.0, 2104: 0.0, 2117: 0.0, 2132: 0.0, 2147: 0.0, 2160: 0.0, 2173: 0.0, 2186: 0.0, 2199: 0.0, 2212: 0.0, 2225: 0.0, 2238: 0.0, 2251: 0.0, 2264: 0.0, 2277: 0.0, 2290: 0.0, 2303: 0.0, 2316: 0.0, 2329: 0.0, 2342: 0.0, 2355: 0.0, 2368: 0.0, 2381: 0.0, 2394: 0.0, 2407: 0.0, 2420: 0.0, 2433: 0.0, 2446: 0.0, 2459: 0.0, 2472: 0.0, 2485: 0.0, 2498: 0.0, 2511: 0.0, 2524: 0.0, 2537: 0.0, 2550: 0.0, 2563: 0.0, 2576: 0.0, 2589: 0.0, 2602: 0.0, 2615: 0.0, 2628: 0.0, 2641: 0.0, 2654: 0.0, 2667: 0.0, 2680: 0.0, 2693: 0.0, 2706: 0.0, 2719: 0.0, 2732: 0.0, 2745: 0.0, 2758: 0.0, 2771: 0.0, 2784: 0.0, 2797: 0.0, 2810: 0.0, 2823: 0.0, 2836: 0.0, 2849: 0.0, 2862: 0.0, 2875: 0.0, 2888: 0.0, 2901: 0.0, 2914: 0.0, 2927: 0.0, 2940: 0.0, 2953: 0.0, 2966: 0.0, 2979: 0.0, 2992: 0.0, 3005: 0.0, 3018: 0.0, 3031: 0.0, 3044: 0.0, 3057: 0.0, 3070: 0.0, 3083: 0.0, 3096: 0.0, 3109: 0.0, 3122: 0.0, 3135: 0.0, 3148: 0.0, 3161: 0.0, 3173: 0.0, 3185: 0.0, 3197: 0.0, 3209: 0.0, 3221: 0.0, 3233: 0.0, 3245: 0.0, 3257: 0.0, 3269: 0.0, 3281: 0.0, 3293: 0.0, 3305: 0.0, 3317: 0.0, 3329: 0.0, 3341: 0.0, 3353: 0.0, 3365: 0.0, 3377: 0.0, 3389: 0.0, 3401: 0.0, 3413: 0.0, 3425: 0.0, 3437: 0.0, 3449: 0.0, 3461: 0.0, 3473: 0.0, 3495: 0.0, 3507: 0.0, 3519: 0.0, 3531: 0.0, 3545: 0.0, 3562: 0.0, 3573: 0.0, 3584: 0.0, 3595: 0.0, 3606: 0.0, 3617: 0.0, 3628: 0.0, 3639: 0.0, 3650: 0.0, 3661: 0.0, 3672: 0.0, 3683: 0.0, 3694: 0.0, 3705: 0.0, 3716: 0.0, 3727: 0.0, 3743: 0.0, 3755: 0.0, 3770: 0.0, 3783: 0.0, 3795: 0.0, 3808: 0.0, 3829: 0.0, 3847: 0.0, 3860: 0.0, 3873: 0.0, 3886: 0.0, 3899: 0.0, 3912: 0.0, 3925: 0.0, 3938: 0.0, 3951: 0.0, 3964: 0.0, 3977: 0.0, 3990: 0.0, 4011: 0.0, 4027: 0.0, 4049: 0.0, 4060: 0.0, 4081: 0.0, 4092: 0.0, 4107: 0.0, 4118: 0.0, 4129: 0.0, 4143: 0.0, 4156: 0.0, 4176: 0.0, 4193: 0.0, 4206: 0.0, 4218: 0.0, 4229: 0.0, 4243: 0.0, 4254: 0.0, 4265: 0.0, 4284: 0.0, 4305: 0.0, 4316: 0.0, 4327: 0.0, 4343: 0.0, 4354: 0.0, 4365: 0.0, 4376: 0.0, 4387: 0.0, 4398: 0.0, 4409: 0.0, 4420: 0.0, 4431: 0.0, 4442: 0.0, 4453: 0.0, 4471: 0.0, 4482: 0.0, 4499: 0.0, 4518: 0.0, 4531: 0.0, 4560: 0.0, 4579: 0.0, 4594: 0.0, 4608: 0.0, 4623: 0.0, 4636: 0.0, 4651: 0.0, 4664: 0.0, 4678: 0.0, 4693: 0.0, 4707: 0.0, 4721: 0.0, 4736: 0.0, 4751: 0.0, 4770: 0.0, 4781: 0.0, 4795: 0.0, 4812: 0.0, 4824: 0.0, 4837: 0.0, 4858: 0.0, 4872: 0.0, 4883: 0.0, 4899: 0.0, 4916: 0.0, 4929: 0.0, 4940: 0.0, 4951: 0.0, 4962: 0.0, 4973: 0.0, 4984: 0.0, 4995: 0.0, 5006: 0.0, 5017: 0.0, 5028: 0.0, 5039: 0.0, 5050: 0.0, 5061: 0.0, 5072: 0.0, 5092: 0.0, 5103: 0.0, 5118: 0.0, 5146: 0.0, 5167: 0.0, 5180: 0.0, 5196: 0.0, 5211: 0.0, 5233: 0.0, 5246: 0.0, 5257: 0.0, 5274: 0.0, 5288: 0.0, 5308: 0.0, 5319: 0.0, 5330: 0.0, 5351: 0.0, 5362: 0.0, 5373: 0.0, 5384: 0.0, 5395: 0.0, 5406: 0.0, 5421: 0.0, 5437: 0.0, 5450: 0.0, 5463: 0.0, 5477: 0.0, 5490: 0.0, 5503: 0.0, 5518: 0.0, 5532: 0.0, 5550: 0.0, 5564: 0.0, 5578: 0.0, 5591: 0.0, 5605: 0.0, 5619: 0.0, 5633: 0.0, 5647: 0.0, 5662: 0.0, 5677: 0.0, 5692: 0.0, 5707: 0.0, 5721: 0.0, 5739: 0.0, 5752: 0.0, 5768: 0.0, 5779: 0.0, 5790: 0.0, 5801: 0.0, 5812: 0.0, 5835: 0.0, 5846: 0.0, 5864: 0.0, 5889: 0.0, 5900: 0.0, 5920: 0.0, 5944: 0.0, 5955: 0.0, 5971: 0.0, 5983: 0.0, 6000: 0.0, 6021: 0.0, 6045: 0.0, 6068: 0.0, 6089: 0.0, 6100: 0.0, 6115: 0.0, 6131: 0.0, 6142: 0.0, 6153: 0.0, 6169: 0.0, 6186: 0.0, 6205: 0.0, 6216: 0.0, 6232: 0.0, 6243: 0.0, 6254: 0.0, 6274: 0.0, 6285: 0.0, 6310: 0.0, 6331: 0.0, 6349: 0.0, 6363: 0.0, 6383: 0.0, 6399: 0.0, 6411: 0.0, 6422: 0.0, 6441: 0.0, 6457: 0.0, 6468: 0.0, 6479: 0.0, 6490: 0.0, 6510: 0.0, 6521: 0.0, 6532: 0.0, 6543: 0.0, 6554: 0.0, 6565: 0.0, 6576: 0.0, 6587: 0.0, 6602: 0.0, 6613: 0.0, 6624: 0.0, 6635: 0.0, 6646: 0.0, 6660: 0.0, 6673: 0.0, 6687: 0.0, 6700: 0.0, 6716: 0.0, 6739: 0.0, 6753: 0.0, 6767: 0.0, 6786: 0.0, 6801: 0.0, 6815: 0.0, 6829: 0.0, 6844: 0.0, 6860: 0.0, 6878: 0.0, 6890: 0.0, 6901: 0.0, 6912: 0.0, 6926: 0.0, 6937: 0.0, 6953: 0.0, 6964: 0.0, 6975: 0.0, 6986: 0.0, 6997: 0.0, 7008: 0.0, 7019: 0.0, 7030: 0.0, 7041: 0.0, 7052: 0.0, 7063: 0.0, 7074: 0.0, 7097: 0.0, 7117: 0.0, 7128: 0.0, 7139: 0.0, 7164: 0.0, 7175: 0.0, 7186: 0.0, 7205: 0.0, 7223: 0.0, 7237: 0.0, 7256: 0.0, 7267: 0.0, 7278: 0.0, 7290: 0.0, 7301: 0.0, 7312: 0.0, 7323: 0.0, 7334: 0.0, 7345: 0.0, 7356: 0.0, 7371: 0.0, 7388: 0.0, 7408: 0.0, 7424: 0.0, 7435: 0.0, 7449: 0.0, 7463: 0.0, 7481: 0.0, 7498: 0.0, 7512: 0.0, 7525: 0.0, 7536: 0.0, 7549: 0.0, 7566: 0.0, 7587: 0.0, 7598: 0.0, 7615: 0.0, 7627: 0.0, 7643: 0.0, 7655: 0.0, 7666: 0.0, 7678: 0.0, 7691: 0.0, 7704: 0.0, 7720: 0.0, 7733: 0.0, 7750: 0.0, 7768: 0.0, 7785: 0.0, 7804: 0.0, 7825: 0.0, 7843: 0.0, 7860: 0.0, 7884: 0.0, 7905: 0.0, 7927: 0.0, 7948: 0.0, 7960: 0.0, 7972: 0.0, 7984: 0.0, 7998: 0.0, 8010: 0.0, 8024: 0.0, 8037: 0.0, 8052: 0.0, 8073: 0.0, 8092: 0.0, 8111: 0.0, 8129: 0.0, 8149: 0.0, 8165: 0.0, 8179: 0.0, 8191: 0.0, 8203: 0.0, 8215: 0.0, 8226: 0.0, 8237: 0.0, 8249: 0.0, 8260: 0.0, 8273: 0.0, 8284: 0.0, 8296: 0.0, 8310: 0.0, 8322: 0.0, 8336: 0.0, 8351: 0.0, 8365: 0.0, 8377: 0.0, 8392: 0.0, 8405: 0.0, 8419: 0.0, 8434: 0.0, 8449: 0.0, 8464: 0.0, 8479: 0.0, 8493: 0.0, 8510: 0.0, 8527: 0.0, 8543: 0.0, 8567: 0.0, 8590: 0.0, 8615: 0.0, 8634: 0.0, 8654: 0.0, 8666: 0.0, 8678: 0.0, 8691: 0.0, 8702: 0.0, 8716: 0.0, 8730: 0.0, 8742: 0.0, 8753: 0.0, 8764: 0.0, 8776: 0.0, 8788: 0.0, 8799: 0.0, 8811: 0.0, 8822: 0.0, 8833: 0.0, 8846: 0.0, 8859: 0.0, 8870: 0.0, 8881: 0.0, 8894: 0.0, 8906: 0.0, 8918: 0.0, 8930: 0.0, 8942: 0.0, 8954: 0.0, 8973: 0.0, 8984: 0.0, 8995: 0.0, 9006: 0.0, 9018: 0.0, 9032: 0.0, 9044: 0.0, 9059: 0.0, 9074: 0.0, 9086: 0.0, 9099: 0.0, 9117: 0.0, 9130: 0.0, 9144: 0.0, 9155: 0.0, 9169: 0.0, 9181: 0.0, 9195: 0.0, 9207: 0.0, 9223: 0.0, 9240: 0.0, 9256: 0.0, 9267: 0.0, 9291: 0.0, 9306: 0.0, 9319: 0.0, 9330: 0.0, 9341: 0.0, 9353: 0.0, 9364: 0.0, 9379: 0.0, 9390: 0.0, 9401: 0.0, 9412: 0.0, 9424: 0.0, 9435: 0.0, 9447: 0.0, 9458: 0.0, 9469: 0.0, 9480: 0.0, 9491: 0.0, 9502: 0.0, 9513: 0.0, 9524: 0.0, 9535: 0.0, 9546: 0.0, 9557: 0.0, 9568: 0.0, 9579: 0.0, 9590: 0.0, 9601: 0.0, 9613: 0.0, 9624: 0.0, 9635: 0.0, 9646: 0.0, 9657: 0.0, 9668: 0.0, 9679: 0.0, 9690: 0.0, 9701: 0.0, 9712: 0.0, 9724: 0.0, 9739: 0.0, 9752: 0.0, 9768: 0.0, 9779: 0.0, 9792: 0.0, 9805: 0.0, 9818: 0.0, 9831: 0.0, 9843: 0.0, 9857: 0.0, 9869: 0.0, 9882: 0.0, 9893: 0.0, 9910: 0.0, 9922: 0.0, 9938: 0.0, 9950: 0.0, 9963: 0.0, 9977: 0.0, 9992: 0.0, 10008: 0.0}, distributions={'max_loops': IntDistribution(high=10, log=True, low=1, step=1), 'warmup_steps': IntDistribution(high=5000, log=True, low=1000, step=1), 'epsilon': FloatDistribution(high=0.5, log=True, low=0.01, step=None)}, trial_id=1, value=None)\n",
      "FrozenTrial(number=2, state=1, values=[0.59395], datetime_start=datetime.datetime(2024, 1, 20, 19, 10, 1, 365838), datetime_complete=datetime.datetime(2024, 1, 20, 19, 12, 25, 237557), params={'max_loops': 1, 'warmup_steps': 4964, 'epsilon': 0.045713837799179716}, user_attrs={}, system_attrs={}, intermediate_values={3: 0.0, 6: 0.0, 13: 0.0, 16: 0.0, 19: 0.0, 23: 0.0, 32: 0.0, 37: 0.0, 42: 0.0, 45: 0.0, 48: 0.0, 52: 0.0, 56: 0.0, 59: 0.0, 64: 0.0, 67: 0.0, 71: 0.0, 74: 0.0, 80: 0.0, 84: 0.0, 87: 0.0, 90: 0.0, 96: 0.0, 101: 0.0, 107: 0.0, 110: 0.0, 113: 0.0, 116: 0.0, 121: 0.0, 124: 0.0, 127: 0.0, 130: 0.0, 141: 0.0, 145: 0.0, 149: 0.0, 155: 0.0, 158: 0.0, 163: 0.0, 168: 0.0, 172: 0.0, 178: 0.0, 191: 0.0, 195: 0.0, 201: 0.0, 205: 0.0, 209: 0.0, 218: 0.0, 226: 0.0, 240: 0.0, 244: 0.0, 247: 0.0, 252: 0.0, 256: 0.0, 261: 0.0, 267: 0.0, 275: 0.0, 278: 0.0, 281: 0.0, 285: 0.0, 288: 0.0, 291: 0.0, 295: 0.0, 298: 0.0, 302: 0.0, 305: 0.0, 311: 0.0, 318: 0.0, 321: 0.0, 328: 0.0, 332: 0.0, 337: 0.0, 341: 0.0, 345: 0.0, 350: 0.0, 354: 0.0, 357: 0.0, 360: 0.0, 364: 0.0, 367: 0.0, 370: 0.0, 374: 0.0, 378: 0.0, 382: 0.0, 385: 0.0, 391: 0.0, 394: 0.0, 397: 0.0, 400: 0.0, 404: 0.0, 409: 0.0, 412: 0.0, 418: 0.0, 423: 0.0, 427: 0.0, 430: 0.0, 435: 0.0, 440: 0.0, 445: 0.0, 451: 0.0, 454: 0.0, 458: 0.0, 464: 0.0, 467: 0.0, 471: 0.0, 476: 0.0, 479: 0.0, 482: 0.0, 486: 0.0, 489: 0.0, 492: 0.0, 495: 0.0, 500: 0.0, 504: 0.0, 509: 0.0, 515: 0.0, 518: 0.0, 521: 0.0, 524: 0.0, 529: 0.0, 532: 0.0, 536: 0.0, 539: 0.0, 542: 0.0, 549: 0.0, 552: 0.0, 556: 0.0, 559: 0.0, 564: 0.0, 569: 0.0, 574: 0.0, 578: 0.0, 582: 0.0, 587: 0.0, 593: 0.0, 597: 0.0, 602: 0.0, 609: 0.0, 612: 0.0, 619: 0.0, 622: 0.0, 626: 0.0, 636: 0.0, 640: 0.0, 645: 0.0, 652: 0.0, 659: 0.0, 662: 0.0, 665: 0.0, 668: 0.0, 672: 0.0, 675: 0.0, 683: 0.0, 688: 0.0, 692: 0.0, 695: 0.0, 699: 0.0, 702: 0.0, 705: 0.0, 710: 0.0, 713: 0.0, 716: 0.0, 721: 0.0, 724: 0.0, 728: 0.0, 734: 0.0, 739: 0.0, 743: 0.0, 746: 0.0, 749: 0.0, 753: 0.0, 760: 0.0, 765: 0.0, 768: 0.0, 771: 0.0, 775: 0.0, 781: 0.0, 786: 0.0, 790: 0.0, 798: 0.0, 801: 0.0, 806: 0.0, 810: 0.0, 813: 0.0, 816: 0.0, 823: 0.0, 826: 0.0, 829: 0.0, 832: 0.0, 836: 0.0, 839: 0.0, 844: 0.0, 847: 0.0, 851: 0.0, 855: 0.0, 858: 0.0, 862: 0.0, 868: 0.0, 871: 0.0, 877: 0.0, 881: 0.0, 885: 0.0, 888: 0.0, 891: 0.0, 896: 0.0, 899: 0.0, 902: 0.0, 905: 0.0, 911: 0.0, 916: 0.0, 922: 0.0, 925: 0.0, 928: 0.0, 933: 0.0, 942: 0.0, 948: 0.0, 951: 0.0, 956: 0.0, 959: 0.0, 965: 0.0, 971: 0.0, 974: 0.0, 979: 0.0, 983: 0.0, 986: 0.0, 992: 0.0, 997: 0.0, 1001: 0.0, 1007: 0.0, 1010: 0.0, 1014: 0.0, 1019: 0.0, 1023: 0.0, 1030: 0.0, 1035: 0.0, 1038: 0.0, 1043: 0.0, 1050: 0.0, 1053: 0.0, 1056: 0.0, 1059: 0.0, 1065: 0.0, 1069: 0.0, 1073: 0.0, 1077: 0.0, 1081: 0.0, 1085: 0.0, 1088: 0.0, 1092: 0.0, 1097: 0.0, 1100: 0.0, 1103: 0.0, 1107: 0.0, 1110: 0.0, 1116: 0.0, 1121: 0.0, 1127: 0.0, 1134: 0.0, 1137: 0.0, 1140: 0.0, 1145: 0.0, 1148: 0.0, 1151: 0.0, 1155: 0.0, 1160: 0.0, 1164: 0.0, 1168: 0.0, 1171: 0.0, 1176: 0.0, 1180: 0.0, 1184: 0.0, 1188: 0.0, 1191: 0.0, 1194: 0.0, 1198: 0.0, 1202: 0.0, 1206: 0.0, 1209: 0.0, 1212: 0.0, 1218: 0.0, 1221: 0.0, 1228: 0.0, 1232: 0.0, 1239: 0.0, 1243: 0.0, 1246: 0.0, 1252: 0.0, 1258: 0.0, 1262: 0.0, 1269: 0.0, 1274: 0.0, 1278: 0.0, 1282: 0.0, 1285: 0.0, 1289: 0.0, 1292: 0.0, 1295: 0.0, 1298: 0.0, 1302: 0.0, 1308: 0.0, 1311: 0.0, 1314: 0.0, 1317: 0.0, 1324: 0.0, 1328: 0.0, 1333: 0.0, 1336: 0.0, 1339: 0.0, 1345: 0.0, 1348: 0.0, 1353: 0.0, 1361: 0.0, 1364: 0.0, 1372: 0.0, 1378: 0.0, 1389: 0.0, 1393: 0.0, 1396: 0.0, 1399: 0.0, 1406: 0.0, 1413: 0.0, 1418: 0.0, 1423: 0.0, 1426: 0.0, 1436: 0.0, 1439: 0.0, 1444: 0.0, 1447: 0.0, 1450: 0.0, 1454: 0.0, 1462: 0.0, 1467: 0.0, 1472: 0.0, 1476: 0.0, 1480: 0.0, 1486: 0.0, 1489: 0.0, 1496: 0.0, 1500: 0.0, 1503: 0.0, 1507: 0.0, 1510: 0.0, 1514: 0.0, 1517: 0.0, 1520: 0.0, 1523: 0.0, 1526: 0.0, 1529: 0.0, 1535: 0.0, 1539: 0.0, 1542: 0.0, 1546: 0.0, 1550: 0.0, 1553: 0.0, 1557: 0.0, 1562: 0.0, 1566: 0.0, 1569: 0.0, 1575: 0.0, 1580: 0.0, 1588: 0.0, 1591: 0.0, 1597: 0.0, 1600: 0.0, 1607: 0.0, 1611: 0.0, 1616: 0.0, 1621: 0.0, 1625: 0.0, 1631: 0.0, 1634: 0.0, 1638: 0.0, 1645: 0.0, 1648: 0.0, 1656: 0.0, 1664: 0.0, 1667: 0.0, 1671: 0.0, 1674: 0.0, 1681: 0.0, 1685: 0.0, 1688: 0.0, 1699: 0.0, 1702: 0.0, 1706: 0.0, 1709: 0.0, 1714: 0.0, 1722: 0.0, 1727: 0.0, 1730: 0.0, 1733: 0.0, 1737: 0.0, 1742: 0.0, 1749: 0.0, 1756: 0.0, 1761: 0.0, 1765: 0.0, 1770: 0.0, 1774: 0.0, 1778: 0.0, 1782: 0.0, 1785: 0.0, 1790: 0.0, 1795: 0.0, 1802: 0.0, 1806: 0.0, 1809: 0.0, 1812: 0.0, 1817: 0.0, 1822: 0.0, 1826: 0.0, 1830: 0.0, 1833: 0.0, 1837: 0.0, 1840: 0.0, 1843: 0.0, 1847: 0.0, 1852: 0.0, 1858: 0.0, 1861: 0.0, 1869: 0.0, 1872: 0.0, 1881: 0.0, 1888: 0.0, 1892: 0.0, 1897: 0.0, 1902: 0.0, 1905: 0.0, 1910: 0.0, 1919: 0.0, 1923: 0.0, 1926: 0.0, 1932: 0.0, 1939: 0.0, 1942: 0.0, 1945: 0.0, 1948: 0.0, 1951: 0.0, 1956: 0.0, 1960: 0.0, 1964: 0.0, 1970: 0.0, 1978: 0.0, 1981: 0.0, 1984: 0.0, 1988: 0.0, 1994: 0.0, 1997: 0.0, 2000: 0.0, 2005: 0.0, 2008: 0.0, 2011: 0.0, 2014: 0.0, 2023: 0.0, 2029: 0.0, 2033: 0.0, 2036: 0.0, 2040: 0.0, 2044: 0.0, 2049: 0.0, 2054: 0.0, 2058: 0.0, 2062: 0.0, 2069: 0.0, 2074: 0.0, 2077: 0.0, 2080: 0.0, 2086: 0.0, 2091: 0.0, 2096: 0.0, 2101: 0.0, 2106: 0.0, 2110: 0.0, 2114: 0.0, 2123: 0.0, 2126: 0.0, 2129: 0.0, 2135: 0.0, 2139: 0.0, 2145: 0.0, 2148: 0.0, 2152: 0.0, 2155: 0.0, 2159: 0.0, 2162: 0.0, 2165: 0.0, 2169: 0.0, 2173: 0.0, 2178: 0.0, 2182: 0.0, 2185: 0.0, 2188: 0.0, 2193: 0.0, 2201: 0.0, 2206: 0.0, 2209: 0.0, 2213: 0.0, 2218: 0.0, 2222: 0.0, 2227: 0.0, 2231: 0.0, 2235: 0.0, 2241: 0.0, 2246: 0.0, 2249: 0.0, 2253: 0.0, 2256: 0.0, 2260: 0.0, 2266: 0.0, 2269: 0.0, 2273: 0.0, 2276: 0.0, 2281: 0.0, 2286: 0.0, 2291: 0.0, 2294: 0.0, 2298: 0.0, 2302: 0.0, 2306: 0.0, 2310: 0.0, 2314: 0.0, 2317: 0.0, 2321: 0.0, 2330: 0.0, 2335: 0.0, 2341: 0.0, 2347: 0.0, 2350: 0.0, 2354: 0.0, 2360: 0.0, 2363: 0.0, 2372: 0.0, 2377: 0.0, 2380: 0.0, 2385: 0.0, 2388: 0.0, 2391: 0.0, 2395: 0.0, 2399: 0.0, 2405: 0.0, 2410: 0.0, 2414: 0.0, 2418: 0.0, 2425: 0.0, 2430: 0.0, 2436: 0.0, 2445: 0.0, 2448: 0.0, 2452: 0.0, 2456: 0.0, 2459: 0.0, 2462: 0.0, 2466: 0.0, 2469: 0.0, 2475: 0.0, 2479: 0.0, 2482: 0.0, 2485: 0.0, 2489: 0.0, 2494: 0.0, 2498: 0.0, 2505: 0.0, 2510: 0.0, 2513: 0.0, 2519: 0.0, 2522: 0.0, 2529: 0.0, 2534: 0.0, 2539: 0.0, 2542: 0.0, 2551: 0.0, 2556: 0.0, 2563: 0.0, 2567: 0.0, 2570: 0.0, 2579: 0.0, 2583: 0.0, 2589: 0.0, 2594: 0.0, 2597: 0.0, 2600: 0.0, 2604: 0.0, 2608: 0.0, 2611: 0.0, 2614: 0.0, 2617: 0.0, 2621: 0.0, 2627: 0.0, 2632: 0.0, 2636: 0.0, 2639: 0.0, 2645: 0.0, 2650: 0.0, 2655: 0.0, 2658: 0.0, 2662: 0.0, 2665: 0.0, 2670: 0.0, 2674: 0.0, 2679: 0.0, 2683: 0.0, 2690: 0.0, 2695: 0.0, 2699: 0.0, 2702: 0.0, 2705: 0.0, 2708: 0.0, 2712: 0.0, 2716: 0.0, 2725: 0.0, 2728: 0.0, 2733: 0.0, 2736: 0.0, 2739: 0.0, 2748: 0.0, 2752: 0.0, 2761: 0.0, 2764: 0.0, 2767: 0.0, 2770: 0.0, 2776: 0.0, 2781: 0.0, 2785: 0.0, 2788: 0.0, 2791: 0.0, 2795: 0.0, 2801: 0.0, 2804: 0.0, 2807: 0.0, 2810: 0.0, 2814: 0.0, 2817: 0.0, 2823: 0.0, 2832: 0.0, 2837: 0.0, 2840: 0.0, 2843: 0.0, 2852: 0.0, 2856: 0.0, 2860: 0.0, 2864: 0.0, 2867: 0.0, 2870: 0.0, 2874: 0.0, 2877: 0.0, 2880: 0.0, 2885: 0.0, 2888: 0.0, 2898: 0.0, 2903: 0.0, 2909: 0.0, 2913: 0.0, 2917: 0.0, 2920: 0.0, 2925: 0.0, 2932: 0.0, 2938: 0.0, 2942: 0.0, 2945: 0.0, 2952: 0.0, 2959: 0.0, 2963: 0.0, 2967: 0.0, 2970: 0.0, 2974: 0.0, 2978: 0.0, 2984: 0.0, 2991: 0.0, 2996: 0.0, 3001: 0.0, 3006: 0.0, 3015: 0.0, 3018: 0.0, 3025: 0.0, 3033: 0.0, 3038: 0.0, 3041: 0.0, 3044: 0.0, 3055: 0.0, 3067: 0.0, 3074: 0.0, 3083: 0.0, 3091: 0.0, 3095: 0.0, 3099: 0.0, 3104: 0.0, 3107: 0.0, 3115: 0.0, 3119: 0.0, 3122: 0.0, 3126: 0.0, 3129: 0.0, 3132: 0.0, 3135: 0.0, 3140: 0.0, 3143: 0.0, 3146: 0.0, 3151: 0.0, 3154: 0.0, 3157: 0.0, 3162: 0.0, 3166: 0.0, 3169: 0.0, 3181: 0.0, 3186: 0.0, 3192: 0.0, 3199: 0.0, 3203: 0.0, 3206: 0.0, 3214: 0.0, 3219: 0.0, 3224: 0.0, 3229: 0.0, 3233: 0.0, 3237: 0.0, 3243: 0.0, 3246: 0.0, 3249: 0.0, 3253: 0.0, 3260: 0.0, 3263: 0.0, 3268: 0.0, 3273: 0.0, 3279: 0.0, 3288: 0.0, 3291: 0.0, 3295: 0.0, 3303: 0.0, 3308: 0.0, 3311: 0.0, 3314: 0.0, 3324: 0.0, 3327: 0.0, 3330: 0.0, 3334: 0.0, 3339: 0.0, 3342: 0.0, 3345: 0.0, 3348: 0.0, 3352: 0.0, 3356: 0.0, 3360: 0.0, 3364: 0.0, 3368: 0.0, 3372: 0.0, 3375: 0.0, 3381: 0.0, 3385: 0.0, 3392: 0.0, 3395: 0.0, 3399: 0.0, 3404: 0.0, 3413: 0.0, 3418: 0.0, 3424: 0.0, 3429: 0.0, 3432: 0.0, 3437: 0.0, 3441: 0.0, 3447: 0.0, 3452: 0.0, 3456: 0.0, 3460: 0.0, 3464: 0.0, 3467: 0.0, 3472: 0.0, 3481: 0.0, 3489: 0.0, 3494: 0.0, 3499: 0.0, 3505: 0.0, 3516: 0.0, 3523: 0.0, 3526: 0.0, 3537: 0.0, 3542: 0.0, 3553: 0.00055, 3559: 0.00115, 3565: 0.00175, 3571: 0.00235, 3577: 0.00295, 3580: 0.00325, 3587: 0.00395, 3591: 0.00435, 3594: 0.00465, 3601: 0.00535, 3605: 0.00575, 3617: 0.00695, 3624: 0.00765, 3629: 0.00815, 3633: 0.00855, 3638: 0.00905, 3647: 0.00995, 3652: 0.01045, 3655: 0.01075, 3660: 0.01125, 3671: 0.01235, 3675: 0.01255, 3678: 0.01255, 3683: 0.01255, 3693: 0.01255, 3702: 0.013, 3705: 0.0133, 3708: 0.0136, 3714: 0.0139, 3717: 0.0139, 3730: 0.0139, 3739: 0.0139, 3742: 0.0139, 3746: 0.0139, 3749: 0.0139, 3753: 0.0139, 3756: 0.0139, 3759: 0.0139, 3764: 0.0139, 3769: 0.0139, 3772: 0.0139, 3780: 0.0139, 3783: 0.0139, 3790: 0.0139, 3796: 0.0139, 3799: 0.0139, 3814: 0.0139, 3819: 0.0139, 3825: 0.0139, 3831: 0.0139, 3836: 0.0139, 3839: 0.0139, 3842: 0.0139, 3846: 0.0139, 3857: 0.0139, 3866: 0.0139, 3870: 0.0141, 3873: 0.0144, 3876: 0.0147, 3879: 0.015, 3887: 0.0154, 3890: 0.0154, 3900: 0.0154, 3910: 0.0154, 3914: 0.0154, 3919: 0.0154, 3927: 0.0154, 3939: 0.0154, 3944: 0.0154, 3950: 0.0154, 3955: 0.0154, 3958: 0.0154, 3967: 0.0154, 3971: 0.0154, 3982: 0.0154, 3989: 0.0154, 3993: 0.0154, 3996: 0.01555, 3999: 0.01585, 4002: 0.01615, 4005: 0.01645, 4010: 0.01695, 4013: 0.01725, 4017: 0.01765, 4024: 0.018, 4033: 0.018, 4036: 0.018, 4039: 0.018, 4047: 0.018, 4052: 0.018, 4056: 0.018, 4060: 0.018, 4069: 0.018, 4074: 0.018, 4077: 0.018, 4081: 0.018, 4084: 0.018, 4087: 0.018, 4091: 0.0182, 4095: 0.0186, 4101: 0.0192, 4107: 0.0198, 4111: 0.0202, 4115: 0.0206, 4118: 0.0209, 4122: 0.0213, 4125: 0.0216, 4129: 0.022, 4132: 0.0223, 4136: 0.0227, 4146: 0.0232, 4149: 0.02335, 4155: 0.02395, 4161: 0.02455, 4164: 0.02485, 4168: 0.02525, 4176: 0.02605, 4179: 0.02635, 4182: 0.02665, 4185: 0.02695, 4193: 0.02775, 4200: 0.02845, 4203: 0.02875, 4211: 0.02955, 4218: 0.03025, 4222: 0.03065, 4227: 0.03115, 4234: 0.03185, 4240: 0.03245, 4245: 0.03295, 4252: 0.03365, 4258: 0.03395, 4263: 0.03395, 4267: 0.03395, 4272: 0.03395, 4275: 0.03395, 4281: 0.03395, 4288: 0.03395, 4294: 0.03395, 4302: 0.03395, 4309: 0.0343, 4316: 0.035, 4320: 0.0354, 4327: 0.0361, 4338: 0.0372, 4342: 0.0376, 4349: 0.0383, 4354: 0.0388, 4358: 0.0392, 4361: 0.0395, 4368: 0.0402, 4377: 0.0411, 4386: 0.042, 4390: 0.0424, 4395: 0.0429, 4405: 0.0439, 4409: 0.0443, 4414: 0.0448, 4422: 0.0456, 4425: 0.0459, 4435: 0.0469, 4438: 0.0472, 4441: 0.0475, 4449: 0.0483, 4452: 0.0486, 4458: 0.0492, 4468: 0.0502, 4473: 0.0507, 4481: 0.0515, 4488: 0.0522, 4491: 0.0525, 4496: 0.053, 4499: 0.0533, 4507: 0.0541, 4511: 0.0545, 4520: 0.0554, 4526: 0.056, 4534: 0.0568, 4537: 0.0571, 4547: 0.0581, 4557: 0.0591, 4563: 0.0597, 4566: 0.06, 4574: 0.0608, 4579: 0.0613, 4583: 0.0617, 4588: 0.0622, 4595: 0.0629, 4605: 0.0639, 4608: 0.0642, 4618: 0.0652, 4626: 0.066, 4630: 0.0664, 4638: 0.0672, 4644: 0.0678, 4647: 0.0681, 4652: 0.0686, 4660: 0.0694, 4664: 0.0698, 4671: 0.0705, 4674: 0.0708, 4685: 0.0719, 4692: 0.0726, 4700: 0.0734, 4703: 0.0737, 4711: 0.0741, 4718: 0.0741, 4725: 0.0741, 4729: 0.0743, 4736: 0.075, 4745: 0.0759, 4748: 0.0762, 4753: 0.07645, 4758: 0.0767, 4765: 0.0774, 4768: 0.0777, 4776: 0.0785, 4784: 0.0793, 4790: 0.0799, 4798: 0.0807, 4802: 0.0811, 4809: 0.0818, 4816: 0.0825, 4821: 0.083, 4827: 0.0836, 4834: 0.0843, 4843: 0.0852, 4847: 0.0856, 4854: 0.0863, 4858: 0.0867, 4866: 0.0875, 4874: 0.0883, 4878: 0.0887, 4886: 0.0895, 4889: 0.0898, 4897: 0.0906, 4904: 0.0913, 4909: 0.09155, 4916: 0.09155, 4922: 0.09155, 4928: 0.09155, 4935: 0.09155, 4939: 0.09155, 4944: 0.09155, 4952: 0.09155, 4955: 0.09155, 4958: 0.09155, 4962: 0.09155, 4967: 0.09155, 4972: 0.09155, 4980: 0.09195, 4984: 0.09235, 4991: 0.09305, 4999: 0.09385, 5006: 0.09455, 5013: 0.09525, 5020: 0.09595, 5027: 0.09665, 5034: 0.09735, 5041: 0.09805, 5049: 0.09885, 5056: 0.09955, 5065: 0.10045, 5072: 0.10115, 5080: 0.10195, 5087: 0.10265, 5094: 0.10335, 5097: 0.10365, 5105: 0.10445, 5113: 0.10525, 5120: 0.10595, 5127: 0.10665, 5132: 0.10715, 5139: 0.10785, 5146: 0.10855, 5153: 0.10925, 5164: 0.11035, 5172: 0.11115, 5181: 0.11205, 5188: 0.11275, 5198: 0.11375, 5205: 0.11445, 5212: 0.11515, 5219: 0.11585, 5226: 0.11655, 5233: 0.11725, 5240: 0.11795, 5243: 0.11825, 5250: 0.11895, 5260: 0.11995, 5268: 0.12075, 5276: 0.12155, 5284: 0.12235, 5289: 0.12285, 5297: 0.12365, 5304: 0.12435, 5311: 0.12505, 5318: 0.12575, 5325: 0.12645, 5332: 0.12715, 5341: 0.12805, 5348: 0.12875, 5355: 0.12945, 5363: 0.13025, 5370: 0.13095, 5377: 0.13165, 5384: 0.13235, 5387: 0.13265, 5395: 0.13345, 5402: 0.13415, 5409: 0.13485, 5416: 0.13555, 5424: 0.13635, 5427: 0.13665, 5434: 0.13735, 5442: 0.13815, 5449: 0.13885, 5456: 0.13955, 5459: 0.13985, 5466: 0.14055, 5473: 0.14125, 5480: 0.14195, 5487: 0.14265, 5496: 0.14355, 5503: 0.14425, 5510: 0.14495, 5517: 0.14565, 5524: 0.14635, 5533: 0.14725, 5540: 0.14795, 5547: 0.14865, 5555: 0.14945, 5562: 0.15015, 5570: 0.15095, 5577: 0.15165, 5587: 0.15265, 5594: 0.15335, 5602: 0.15415, 5610: 0.15495, 5618: 0.15575, 5625: 0.15645, 5632: 0.15715, 5639: 0.15785, 5646: 0.15855, 5655: 0.15945, 5662: 0.16015, 5670: 0.16095, 5681: 0.16205, 5688: 0.16275, 5695: 0.16345, 5702: 0.16415, 5712: 0.16515, 5720: 0.16595, 5727: 0.16665, 5736: 0.16755, 5744: 0.16835, 5754: 0.16935, 5762: 0.17015, 5767: 0.17065, 5775: 0.17145, 5783: 0.17225, 5792: 0.17315, 5799: 0.17385, 5806: 0.17455, 5814: 0.17535, 5821: 0.17605, 5828: 0.17675, 5835: 0.17745, 5842: 0.17815, 5851: 0.17905, 5858: 0.17975, 5865: 0.18045, 5872: 0.18115, 5880: 0.18195, 5888: 0.18275, 5891: 0.18305, 5898: 0.18375, 5905: 0.18445, 5913: 0.18525, 5920: 0.18595, 5927: 0.18665, 5935: 0.18745, 5942: 0.18815, 5949: 0.18885, 5957: 0.18965, 5965: 0.19045, 5972: 0.19115, 5977: 0.19165, 5984: 0.19235, 5991: 0.19305, 5997: 0.19365, 6005: 0.19445, 6008: 0.19475, 6016: 0.19555, 6020: 0.19595, 6027: 0.19665, 6034: 0.19735, 6041: 0.19805, 6048: 0.19875, 6053: 0.19925, 6060: 0.19995, 10000: 1.0}, distributions={'max_loops': IntDistribution(high=10, log=True, low=1, step=1), 'warmup_steps': IntDistribution(high=5000, log=True, low=1000, step=1), 'epsilon': FloatDistribution(high=0.5, log=True, low=0.01, step=None)}, trial_id=2, value=None)\n",
      "FrozenTrial(number=3, state=1, values=[0.15905], datetime_start=datetime.datetime(2024, 1, 20, 19, 10, 1, 368170), datetime_complete=datetime.datetime(2024, 1, 20, 19, 13, 15, 124592), params={'max_loops': 2, 'warmup_steps': 4054, 'epsilon': 0.30316185259799094}, user_attrs={}, system_attrs={}, intermediate_values={9: 0.0, 15: 0.0, 19: 0.0, 24: 0.0, 30: 0.0, 33: 0.0, 38: 0.0, 44: 0.0, 51: 0.0, 56: 0.0, 62: 0.0, 69: 0.0, 75: 0.0, 81: 0.0, 88: 0.0, 91: 0.0, 96: 0.0, 105: 0.0, 112: 0.0, 118: 0.0, 123: 0.0, 129: 0.0, 133: 0.0, 137: 0.0, 144: 0.0, 153: 0.0, 156: 0.0, 160: 0.0, 165: 0.0, 170: 0.0, 174: 0.0, 179: 0.0, 183: 0.0, 191: 0.0, 195: 0.0, 198: 0.0, 204: 0.0, 211: 0.0, 217: 0.0, 221: 0.0, 228: 0.0, 232: 0.0, 236: 0.0, 240: 0.0, 244: 0.0, 250: 0.0, 259: 0.0, 263: 0.0, 273: 0.0, 280: 0.0, 284: 0.0, 289: 0.0, 295: 0.0, 304: 0.0, 308: 0.0, 314: 0.0, 320: 0.0, 328: 0.0, 332: 0.0, 339: 0.0, 345: 0.0, 349: 0.0, 354: 0.0, 358: 0.0, 363: 0.0, 367: 0.0, 371: 0.0, 374: 0.0, 377: 0.0, 381: 0.0, 385: 0.0, 389: 0.0, 393: 0.0, 398: 0.0, 404: 0.0, 412: 0.0, 417: 0.0, 422: 0.0, 427: 0.0, 431: 0.0, 440: 0.0, 446: 0.0, 452: 0.0, 459: 0.0, 463: 0.0, 467: 0.0, 475: 0.0, 478: 0.0, 486: 0.0, 490: 0.0, 494: 0.0, 499: 0.0, 508: 0.0, 514: 0.0, 520: 0.0, 524: 0.0, 529: 0.0, 535: 0.0, 540: 0.0, 544: 0.0, 548: 0.0, 555: 0.0, 561: 0.0, 570: 0.0, 575: 0.0, 581: 0.0, 591: 0.0, 602: 0.0, 612: 0.0, 618: 0.0, 624: 0.0, 628: 0.0, 633: 0.0, 639: 0.0, 643: 0.0, 650: 0.0, 654: 0.0, 661: 0.0, 667: 0.0, 670: 0.0, 673: 0.0, 678: 0.0, 683: 0.0, 687: 0.0, 698: 0.0, 710: 0.0, 717: 0.0, 721: 0.0, 724: 0.0, 729: 0.0, 735: 0.0, 741: 0.0, 745: 0.0, 750: 0.0, 754: 0.0, 760: 0.0, 765: 0.0, 771: 0.0, 775: 0.0, 778: 0.0, 782: 0.0, 786: 0.0, 792: 0.0, 797: 0.0, 801: 0.0, 806: 0.0, 813: 0.0, 820: 0.0, 825: 0.0, 830: 0.0, 834: 0.0, 840: 0.0, 850: 0.0, 856: 0.0, 863: 0.0, 867: 0.0, 871: 0.0, 878: 0.0, 882: 0.0, 886: 0.0, 890: 0.0, 898: 0.0, 904: 0.0, 908: 0.0, 914: 0.0, 917: 0.0, 920: 0.0, 925: 0.0, 929: 0.0, 934: 0.0, 941: 0.0, 949: 0.0, 954: 0.0, 960: 0.0, 968: 0.0, 975: 0.0, 981: 0.0, 989: 0.0, 994: 0.0, 1001: 0.0, 1005: 0.0, 1010: 0.0, 1014: 0.0, 1019: 0.0, 1028: 0.0, 1034: 0.0, 1038: 0.0, 1042: 0.0, 1053: 0.0, 1057: 0.0, 1061: 0.0, 1066: 0.0, 1070: 0.0, 1074: 0.0, 1079: 0.0, 1084: 0.0, 1088: 0.0, 1093: 0.0, 1098: 0.0, 1102: 0.0, 1109: 0.0, 1114: 0.0, 1118: 0.0, 1128: 0.0, 1132: 0.0, 1141: 0.0, 1145: 0.0, 1149: 0.0, 1155: 0.0, 1164: 0.0, 1168: 0.0, 1176: 0.0, 1181: 0.0, 1185: 0.0, 1189: 0.0, 1198: 0.0, 1202: 0.0, 1207: 0.0, 1211: 0.0, 1216: 0.0, 1221: 0.0, 1226: 0.0, 1231: 0.0, 1238: 0.0, 1242: 0.0, 1246: 0.0, 1251: 0.0, 1255: 0.0, 1263: 0.0, 1267: 0.0, 1272: 0.0, 1278: 0.0, 1283: 0.0, 1287: 0.0, 1294: 0.0, 1300: 0.0, 1315: 0.0, 1320: 0.0, 1324: 0.0, 1329: 0.0, 1337: 0.0, 1342: 0.0, 1349: 0.0, 1356: 0.0, 1361: 0.0, 1365: 0.0, 1369: 0.0, 1373: 0.0, 1378: 0.0, 1381: 0.0, 1388: 0.0, 1392: 0.0, 1399: 0.0, 1403: 0.0, 1411: 0.0, 1417: 0.0, 1427: 0.0, 1434: 0.0, 1438: 0.0, 1444: 0.0, 1450: 0.0, 1455: 0.0, 1459: 0.0, 1468: 0.0, 1473: 0.0, 1477: 0.0, 1481: 0.0, 1485: 0.0, 1492: 0.0, 1496: 0.0, 1499: 0.0, 1506: 0.0, 1514: 0.0, 1518: 0.0, 1522: 0.0, 1531: 0.0, 1537: 0.0, 1541: 0.0, 1551: 0.0, 1556: 0.0, 1563: 0.0, 1573: 0.0, 1577: 0.0, 1586: 0.0, 1591: 0.0, 1595: 0.0, 1602: 0.0, 1607: 0.0, 1618: 0.0, 1625: 0.0, 1635: 0.0, 1641: 0.0, 1650: 0.0, 1655: 0.0, 1661: 0.0, 1665: 0.0, 1671: 0.0, 1677: 0.0, 1682: 0.0, 1686: 0.0, 1690: 0.0, 1694: 0.0, 1699: 0.0, 1706: 0.0, 1710: 0.0, 1713: 0.0, 1718: 0.0, 1722: 0.0, 1727: 0.0, 1734: 0.0, 1741: 0.0, 1748: 0.0, 1752: 0.0, 1755: 0.0, 1759: 0.0, 1763: 0.0, 1767: 0.0, 1774: 0.0, 1779: 0.0, 1782: 0.0, 1787: 0.0, 1795: 0.0, 1801: 0.0, 1810: 0.0, 1817: 0.0, 1823: 0.0, 1827: 0.0, 1830: 0.0, 1835: 0.0, 1844: 0.0, 1851: 0.0, 1858: 0.0, 1865: 0.0, 1876: 0.0, 1881: 0.0, 1890: 0.0, 1895: 0.0, 1901: 0.0, 1913: 0.0, 1918: 0.0, 1925: 0.0, 1930: 0.0, 1942: 0.0, 1945: 0.0, 1950: 0.0, 1957: 0.0, 1966: 0.0, 1973: 0.0, 1982: 0.0, 1987: 0.0, 1993: 0.0, 1998: 0.0, 2008: 0.0, 2015: 0.0, 2020: 0.0, 2029: 0.0, 2039: 0.0, 2043: 0.0, 2046: 0.0, 2052: 0.0, 2062: 0.0, 2068: 0.0, 2072: 0.0, 2076: 0.0, 2082: 0.0, 2086: 0.0, 2095: 0.0, 2115: 0.0, 2123: 0.0, 2129: 0.0, 2135: 0.0, 2143: 0.0, 2147: 0.0, 2156: 0.0, 2163: 0.0, 2169: 0.0, 2173: 0.0, 2177: 0.0, 2182: 0.0, 2186: 0.0, 2192: 0.0, 2203: 0.0, 2210: 0.0, 2215: 0.0, 2222: 0.0, 2227: 0.0, 2232: 0.0, 2238: 0.0, 2245: 0.0, 2249: 0.0, 2256: 0.0, 2264: 0.0, 2274: 0.0, 2279: 0.0, 2284: 0.0, 2294: 0.0, 2297: 0.0, 2301: 0.0, 2306: 0.0, 2311: 0.0, 2316: 0.0, 2319: 0.0, 2323: 0.0, 2333: 0.0, 2339: 0.0, 2343: 0.0, 2352: 0.0, 2355: 0.0, 2361: 0.0, 2366: 0.0, 2371: 0.0, 2378: 0.0, 2387: 0.0, 2392: 0.0, 2397: 0.0, 2403: 0.0, 2409: 0.0, 2416: 0.0, 2421: 0.0, 2425: 0.0, 2429: 0.0, 2433: 0.0, 2440: 0.0, 2443: 0.0, 2453: 0.0, 2457: 0.0, 2461: 0.0, 2465: 0.0, 2472: 0.0, 2479: 0.0, 2489: 0.0, 2492: 0.0, 2496: 0.0, 2503: 0.0, 2508: 0.0, 2512: 0.0, 2519: 0.0, 2532: 0.0, 2538: 0.0, 2546: 0.0, 2550: 0.0, 2556: 0.0, 2561: 0.0, 2566: 0.0, 2570: 0.0, 2574: 0.0, 2580: 0.0, 2584: 0.0, 2593: 0.0, 2600: 0.0, 2610: 0.0, 2616: 0.0, 2620: 0.0, 2626: 0.0, 2631: 0.0, 2638: 0.0, 2642: 0.0, 2648: 0.0, 2652: 0.0, 2656: 0.0, 2664: 0.0, 2683: 0.0, 2690: 0.0, 2695: 0.0, 2699: 0.0, 2702: 0.0, 2709: 0.0, 2715: 0.0, 2720: 0.0, 2727: 0.0, 2730: 0.0, 2734: 0.0, 2748: 0.0, 2753: 0.0, 2759: 0.0, 2770: 0.0, 2774: 0.0, 2779: 0.0, 2783: 0.0, 2787: 0.0, 2790: 0.0, 2797: 0.0, 2802: 0.0, 2808: 0.0, 2815: 0.0, 2818: 0.0, 2823: 0.0, 2830: 0.0, 2833: 0.0, 2838: 0.0, 2842: 0.0, 2848: 0.0, 2852: 0.0, 2855: 0.0, 2858: 0.0, 2864: 0.0, 2878: 0.0, 2885: 0.0, 2892: 0.0, 2899: 0.0, 2903: 0.0, 2913: 0.0, 2919: 0.0, 2926: 0.0, 2936: 0.0, 2940: 0.0, 2945: 0.0, 2950: 0.0, 2957: 0.0, 2972: 0.0, 2977: 0.0, 2982: 0.0, 2986: 0.0, 2991: 0.0, 3004: 0.0, 3007: 0.0, 3015: 0.0, 3020: 0.0, 3026: 0.0, 3030: 0.0, 3038: 0.0, 3041: 0.0, 3046: 0.0, 3054: 0.0, 3061: 0.0, 3066: 0.0, 3072: 0.0, 3077: 0.0, 3080: 0.0, 3086: 0.0, 3090: 0.0, 3096: 0.0, 3101: 0.0, 3110: 0.0, 3115: 0.0, 3124: 0.0, 3131: 0.0, 3136: 0.0, 3143: 0.0, 3147: 0.0, 3157: 0.0, 3163: 0.0, 3174: 0.0, 3178: 0.0, 3186: 0.0, 3192: 0.0, 3197: 0.0, 3214: 0.0, 3219: 0.0, 3224: 0.0, 3232: 0.0, 3244: 0.0, 3250: 0.0, 3254: 0.0, 3258: 0.0, 3263: 0.0, 3270: 0.0, 3274: 0.0, 3278: 0.0, 3284: 0.0, 3288: 0.0, 3293: 0.0, 3298: 0.0, 3303: 0.0, 3307: 0.0, 3313: 0.0, 3320: 0.0, 3326: 0.0, 3333: 0.0, 3337: 0.0, 3341: 0.0, 3346: 0.0, 3354: 0.0, 3366: 0.0, 3377: 0.0, 3382: 0.0, 3393: 0.0, 3402: 0.0, 3410: 0.0, 3416: 0.0, 3429: 0.0, 3437: 0.0, 3442: 0.0, 3447: 0.0, 3454: 0.0, 3465: 0.0, 3478: 0.0, 3485: 0.0, 3490: 0.0, 3505: 0.0, 3509: 0.0, 3514: 0.0, 3523: 0.0, 3530: 0.00035, 3536: 0.00065, 3542: 0.00065, 3547: 0.00065, 3553: 0.00065, 3565: 0.00065, 3573: 0.00065, 3584: 0.00065, 3594: 0.00065, 3603: 0.00065, 3607: 0.00065, 3615: 0.00065, 3620: 0.00065, 3626: 0.00065, 3636: 0.00065, 3641: 0.00065, 3647: 0.00065, 3651: 0.00065, 3659: 0.00065, 3668: 0.00065, 3681: 0.00065, 3686: 0.00065, 3697: 0.00065, 3707: 0.00065, 3713: 0.00065, 3718: 0.00065, 3723: 0.00065, 3730: 0.00065, 3742: 0.00065, 3750: 0.00065, 3756: 0.00065, 3765: 0.00065, 3768: 0.00065, 3778: 0.00065, 3783: 0.00065, 3793: 0.00065, 3797: 0.00065, 3802: 0.00065, 3813: 0.00065, 3819: 0.00065, 3830: 0.00065, 3839: 0.00065, 3847: 0.00065, 3854: 0.00065, 3860: 0.00065, 3867: 0.00065, 3872: 0.00065, 3882: 0.00065, 3890: 0.00065, 3897: 0.00065, 3905: 0.00065, 3915: 0.00065, 3922: 0.00065, 3931: 0.00065, 3943: 0.00065, 3949: 0.00065, 3957: 0.00065, 3965: 0.00065, 3974: 0.00065, 3981: 0.00065, 3994: 0.00065, 4006: 0.00065, 4013: 0.00065, 4024: 0.00065, 4032: 0.00065, 4039: 0.00065, 4046: 0.00065, 4056: 0.00065, 4068: 0.00065, 4075: 0.00065, 4084: 0.00065, 4089: 0.00065, 4099: 0.00065, 4107: 0.00065, 4116: 0.00065, 4126: 0.00065, 4134: 0.00065, 4144: 0.00065, 4150: 0.00065, 4157: 0.00065, 4160: 0.00065, 4164: 0.00065, 4176: 0.00065, 4182: 0.00065, 4187: 0.00065, 4191: 0.00065, 4201: 0.00065, 4211: 0.00065, 4220: 0.00065, 4227: 0.00065, 4234: 0.00065, 4237: 0.00065, 4247: 0.00065, 4259: 0.00065, 4269: 0.00065, 4274: 0.00065, 4280: 0.00065, 4285: 0.00065, 4295: 0.00065, 4302: 0.00065, 4313: 0.00065, 4316: 0.00065, 4321: 0.00065, 4327: 0.00065, 4340: 0.00065, 4359: 0.00065, 4376: 0.00065, 4383: 0.00065, 4395: 0.00065, 4402: 0.00065, 4411: 0.00065, 4416: 0.00065, 4427: 0.00065, 4436: 0.00065, 4441: 0.00065, 4447: 0.00065, 4455: 0.00065, 4465: 0.00065, 4472: 0.00065, 4479: 0.00065, 4488: 0.00065, 4499: 0.00065, 4506: 0.00065, 4516: 0.00065, 4523: 0.00065, 4537: 0.00065, 4541: 0.00065, 4545: 0.00065, 4554: 0.00065, 4565: 0.00065, 4575: 0.00065, 4585: 0.00065, 4591: 0.00065, 4603: 0.00065, 4613: 0.00065, 4619: 0.00065, 4624: 0.00065, 4632: 0.00065, 4638: 0.00065, 4644: 0.00065, 4657: 0.00065, 4668: 0.00065, 4674: 0.00065, 4685: 0.00065, 4691: 0.00065, 4695: 0.00065, 4705: 0.00065, 4712: 0.00065, 4722: 0.00065, 4731: 0.00065, 4738: 0.00065, 4742: 0.00065, 4749: 0.00065, 4755: 0.00065, 4763: 0.00065, 4773: 0.00115, 4782: 0.00205, 4788: 0.00265, 4792: 0.00305, 4801: 0.0035, 4808: 0.0035, 4813: 0.0035, 4820: 0.0035, 4827: 0.0035, 4838: 0.0035, 4845: 0.0035, 4856: 0.0035, 4862: 0.0035, 4866: 0.0035, 4879: 0.0035, 4889: 0.0035, 4895: 0.0035, 4901: 0.0035, 4910: 0.0035, 4914: 0.0035, 4927: 0.0035, 4935: 0.0035, 4944: 0.0035, 4950: 0.0035, 4957: 0.0035, 4974: 0.0035, 4982: 0.0035, 4988: 0.0035, 4995: 0.0035, 4999: 0.0035, 5003: 0.0035, 5013: 0.0035, 5022: 0.0035, 5029: 0.0035, 5033: 0.0035, 5037: 0.0035, 5048: 0.0035, 5052: 0.0035, 5062: 0.0035, 5071: 0.0035, 5083: 0.0035, 5087: 0.0035, 5096: 0.0035, 5103: 0.00385, 5110: 0.00455, 5127: 0.00625, 5131: 0.00665, 5138: 0.00735, 5145: 0.00805, 5158: 0.00935, 5167: 0.0098, 5175: 0.0098, 5186: 0.0098, 5192: 0.0101, 5197: 0.0106, 5211: 0.0113, 5223: 0.0113, 5236: 0.0113, 5247: 0.0113, 5252: 0.0113, 5269: 0.0113, 5278: 0.0113, 5291: 0.0113, 5299: 0.0113, 5303: 0.0113, 5309: 0.0113, 5314: 0.0113, 5321: 0.0113, 5330: 0.0113, 5334: 0.0113, 5338: 0.0113, 5346: 0.0113, 5359: 0.0113, 5368: 0.0113, 5381: 0.0113, 5389: 0.0113, 5397: 0.0117, 5406: 0.0126, 5413: 0.0133, 5419: 0.0139, 5426: 0.01425, 5436: 0.01425, 5441: 0.0145, 5447: 0.0151, 5460: 0.01575, 5473: 0.01575, 5481: 0.01575, 5488: 0.01575, 5493: 0.01575, 5501: 0.01615, 5511: 0.01715, 5522: 0.01825, 5532: 0.01925, 5540: 0.02005, 5546: 0.02065, 5554: 0.02145, 5562: 0.02225, 5567: 0.0225, 5570: 0.0225, 5577: 0.0225, 5589: 0.0225, 5598: 0.0225, 5604: 0.0225, 5612: 0.0229, 5622: 0.0239, 5626: 0.0243, 5632: 0.0249, 5638: 0.0252, 5644: 0.0252, 5647: 0.0252, 5652: 0.02545, 5660: 0.02625, 5668: 0.02705, 5679: 0.02815, 5686: 0.02885, 5694: 0.02965, 5703: 0.03055, 5709: 0.03115, 5720: 0.03225, 5733: 0.03355, 5741: 0.03395, 5751: 0.03395, 5756: 0.03395, 5767: 0.03395, 5777: 0.03395, 5784: 0.03395, 5791: 0.03395, 5801: 0.03395, 5806: 0.0342, 5820: 0.0356, 5828: 0.0364, 5834: 0.037, 5841: 0.0377, 5850: 0.03815, 5857: 0.03815, 5863: 0.03815, 5870: 0.03815, 5874: 0.03815, 5883: 0.03815, 5896: 0.03815, 5906: 0.03815, 5910: 0.03815, 5920: 0.03815, 5927: 0.03815, 5934: 0.03815, 5940: 0.03815, 5945: 0.03815, 5959: 0.03815, 5964: 0.03815, 5978: 0.03815, 5983: 0.03815, 5992: 0.03815, 5996: 0.03815, 6002: 0.03815, 6009: 0.03815, 6015: 0.03815, 6019: 0.03815, 6030: 0.03815, 6034: 0.03815, 6046: 0.03815, 6054: 0.03815, 6068: 0.03815, 6077: 0.0386, 6083: 0.0392, 6092: 0.0401, 6098: 0.0407, 6101: 0.041, 6111: 0.042, 6125: 0.0434, 6130: 0.0439, 6135: 0.0444, 6143: 0.0452, 6153: 0.0462, 6160: 0.0469, 6168: 0.0477, 6184: 0.0485, 6189: 0.0485, 6193: 0.0485, 6197: 0.0485, 6204: 0.0485, 6215: 0.0485, 6225: 0.0485, 6242: 0.0485, 6248: 0.0485, 6252: 0.0485, 6264: 0.0491, 6281: 0.0508, 6287: 0.0511, 6296: 0.0511, 6312: 0.0511, 6315: 0.0511, 6321: 0.0511, 6334: 0.0511, 6339: 0.05135, 6354: 0.05285, 6360: 0.05345, 6370: 0.05445, 6385: 0.0552, 6398: 0.0552, 6402: 0.0552, 6407: 0.0552, 6416: 0.05565, 6427: 0.05675, 6435: 0.05755, 6440: 0.05805, 6453: 0.05935, 6473: 0.06035, 6479: 0.06035, 6493: 0.06035, 6498: 0.06035, 6506: 0.06035, 6519: 0.06035, 6525: 0.06035, 6537: 0.06035, 6548: 0.06035, 6552: 0.06035, 6556: 0.06035, 6567: 0.06035, 6574: 0.06035, 6585: 0.0609, 6596: 0.062, 6604: 0.0628, 6610: 0.0634, 6616: 0.064, 6626: 0.065, 6636: 0.066, 6644: 0.0668, 6649: 0.0673, 6658: 0.06775, 6670: 0.06775, 6677: 0.06775, 6687: 0.06775, 6696: 0.06775, 6703: 0.06775, 6709: 0.06775, 6714: 0.068, 6718: 0.0684, 6723: 0.0689, 6732: 0.0698, 6736: 0.0702, 6749: 0.0715, 6758: 0.07195, 6766: 0.07195, 6770: 0.07195, 6781: 0.07195, 6786: 0.07195, 6794: 0.07235, 6801: 0.0727, 6818: 0.0727, 6829: 0.0727, 6836: 0.0727, 6852: 0.0727, 6858: 0.0727, 6866: 0.0727, 6877: 0.0727, 6892: 0.07345, 6907: 0.07495, 6914: 0.07565, 6922: 0.07645, 6929: 0.0768, 6938: 0.0768, 6946: 0.0768, 6952: 0.0768, 6965: 0.0768, 6971: 0.0768, 6978: 0.0768, 6984: 0.0768, 6996: 0.0768, 7000: 0.0768, 7013: 0.0768, 7019: 0.0768, 7027: 0.0768, 7044: 0.0768, 7050: 0.0768, 7055: 0.0768, 7073: 0.0768, 7078: 0.0768, 7096: 0.0768, 7111: 0.0768, 7118: 0.0768, 7141: 0.0768, 7155: 0.0768, 7162: 0.0768, 7169: 0.0768, 7182: 0.0768, 7186: 0.0768, 7195: 0.0768, 7208: 0.0768, 7215: 0.0768, 7222: 0.0768, 7228: 0.0768, 7238: 0.0768, 7249: 0.0768, 7254: 0.0768, 7261: 0.0768, 7265: 0.0768, 7269: 0.0768, 7277: 0.0768, 7288: 0.0768, 7297: 0.07725, 7307: 0.07825, 7313: 0.07885, 7318: 0.0791, 7326: 0.0791, 7338: 0.0791, 7347: 0.0791, 7355: 0.0791, 7362: 0.0791, 7369: 0.0791, 7375: 0.0791, 7388: 0.0791, 7399: 0.0791, 7407: 0.0791, 7421: 0.0791, 7432: 0.0791, 7447: 0.0791, 7453: 0.0791, 7460: 0.0791, 7463: 0.0791, 7472: 0.0791, 7485: 0.07975, 7491: 0.08035, 7503: 0.08155, 7514: 0.08265, 7518: 0.08305, 7525: 0.08375, 7538: 0.08505, 7545: 0.08575, 7554: 0.08665, 7561: 0.08735, 7572: 0.08845, 7581: 0.08935, 7595: 0.09075, 7599: 0.09095, 7605: 0.09095, 7618: 0.09095, 7625: 0.09095, 7633: 0.09095, 7643: 0.09095, 7658: 0.09095, 7662: 0.09095, 7667: 0.09095, 7680: 0.0916, 7687: 0.0923, 7692: 0.0928, 7702: 0.0938, 7718: 0.0954, 7727: 0.0963, 7742: 0.09705, 7751: 0.09705, 7755: 0.09725, 7762: 0.09795, 7781: 0.09985, 7792: 0.1004, 7799: 0.1004, 7811: 0.1004, 7819: 0.1004, 7824: 0.1004, 7835: 0.1004, 7846: 0.10095, 7858: 0.10215, 7873: 0.10365, 7879: 0.10425, 7898: 0.10615, 7905: 0.10685, 7913: 0.10725, 7918: 0.10725, 7928: 0.10725, 7936: 0.10725, 7942: 0.10725, 7953: 0.10725, 7970: 0.10725, 7980: 0.10725, 7985: 0.10725, 7993: 0.10725, 8010: 0.10725, 8024: 0.10725, 8029: 0.10725, 8049: 0.10725, 8057: 0.10725, 8072: 0.10725, 8079: 0.10725, 8093: 0.10725, 8098: 0.10725, 8109: 0.10725, 8119: 0.10725, 8126: 0.10725, 8131: 0.10725, 8136: 0.10725, 8142: 0.10725, 8149: 0.10725, 8158: 0.10725, 8167: 0.10725, 8174: 0.10725, 8193: 0.10725, 8209: 0.10725, 8217: 0.10725, 8223: 0.10725, 8230: 0.10725, 8236: 0.10725, 8242: 0.10725, 8255: 0.10725, 8262: 0.10725, 8266: 0.10745, 8269: 0.10775, 8273: 0.10815, 8277: 0.10855, 8288: 0.1091, 8302: 0.1091, 8314: 0.1091, 8324: 0.1091, 8336: 0.1097, 8345: 0.1106, 8358: 0.1119, 8362: 0.1121, 8375: 0.1121, 8385: 0.1121, 8390: 0.1121, 8399: 0.1121, 8408: 0.1121, 8421: 0.1121, 8430: 0.1121, 8442: 0.1121, 8451: 0.1121, 8464: 0.1121, 8479: 0.1121, 8486: 0.11245, 8495: 0.1129, 8505: 0.1129, 8517: 0.1129, 8528: 0.1129, 8532: 0.1129, 8536: 0.1131, 8542: 0.1137, 8556: 0.1144, 8564: 0.1144, 8570: 0.1144, 8574: 0.1144, 8579: 0.1144, 8598: 0.1144, 8607: 0.11485, 8611: 0.11525, 8620: 0.11615, 8627: 0.11685, 8640: 0.1175, 8646: 0.1175, 8653: 0.1175, 8667: 0.1175, 8675: 0.1175, 8685: 0.1175, 8698: 0.1175, 8718: 0.1175, 8722: 0.1175, 8730: 0.1175, 8738: 0.1175, 8741: 0.1175, 8746: 0.1175, 8754: 0.1175, 8763: 0.1175, 8774: 0.1175, 8783: 0.1175, 8788: 0.1175, 8792: 0.1175, 8807: 0.1175, 8812: 0.11775, 8816: 0.11815, 8823: 0.11885, 8833: 0.11985, 8844: 0.12095, 8851: 0.12165, 8868: 0.12335, 8881: 0.12465, 8896: 0.1254, 8906: 0.1254, 8916: 0.1254, 8922: 0.1254, 8927: 0.1254, 8942: 0.1254, 8952: 0.1254, 8960: 0.1254, 8972: 0.1254, 8983: 0.1254, 8990: 0.1254, 8996: 0.1254, 9014: 0.1254, 9028: 0.1254, 9040: 0.1254, 9045: 0.1254, 9055: 0.1254, 9060: 0.1254, 9063: 0.1254, 9073: 0.1254, 9092: 0.1254, 9098: 0.1254, 9112: 0.1254, 9120: 0.1254, 9129: 0.1254, 9150: 0.1254, 9154: 0.1254, 9161: 0.1254, 9173: 0.1254, 9182: 0.12585, 9192: 0.12685, 9201: 0.12775, 9207: 0.12835, 9212: 0.12885, 9221: 0.12975, 9237: 0.13135, 9244: 0.13205, 9254: 0.13255, 9260: 0.13255, 9271: 0.13255, 9281: 0.13255, 9287: 0.13255, 9292: 0.1328, 9296: 0.133, 9309: 0.13365, 9317: 0.13445, 9337: 0.13645, 9342: 0.13695, 9359: 0.13865, 9369: 0.13965, 9378: 0.14055, 9390: 0.14115, 9404: 0.14115, 9415: 0.14115, 9433: 0.14115, 9443: 0.14115, 9452: 0.14115, 9459: 0.14115, 9463: 0.14115, 9475: 0.14115, 9485: 0.14115, 9489: 0.14115, 9498: 0.14115, 9509: 0.14115, 9514: 0.14115, 9522: 0.14115, 9526: 0.14115, 9534: 0.14115, 9544: 0.14115, 9552: 0.14115, 9558: 0.14115, 9564: 0.14115, 9570: 0.14145, 9578: 0.14225, 9587: 0.1427, 9598: 0.14325, 9606: 0.14405, 9615: 0.14495, 9622: 0.14565, 9627: 0.14615, 9631: 0.14655, 9648: 0.14825, 9659: 0.14935, 9666: 0.15005, 9674: 0.15045, 9679: 0.15045, 9683: 0.15045, 9688: 0.15045, 9698: 0.15045, 9703: 0.15045, 9708: 0.15045, 9714: 0.15045, 9719: 0.15045, 9725: 0.15045, 9734: 0.15045, 9739: 0.15045, 9749: 0.15045, 9757: 0.15045, 9769: 0.15045, 9775: 0.15045, 9779: 0.15045, 9785: 0.15045, 9792: 0.15045, 9801: 0.1509, 9806: 0.1514, 9811: 0.1519, 9817: 0.1525, 9826: 0.1534, 9838: 0.1546, 9852: 0.156, 9856: 0.1564, 9860: 0.1568, 9871: 0.1579, 9879: 0.1587, 9886: 0.15905, 9894: 0.15905, 9899: 0.15905, 9912: 0.15905, 9917: 0.15905, 9925: 0.15905, 9930: 0.15905, 9940: 0.15905, 9948: 0.15905, 9953: 0.15905, 9965: 0.15905, 9974: 0.15905, 9986: 0.15905, 9996: 0.15905, 10009: 0.15905}, distributions={'max_loops': IntDistribution(high=10, log=True, low=1, step=1), 'warmup_steps': IntDistribution(high=5000, log=True, low=1000, step=1), 'epsilon': FloatDistribution(high=0.5, log=True, low=0.01, step=None)}, trial_id=3, value=None)\n",
      "FrozenTrial(number=4, state=2, values=[0.0], datetime_start=datetime.datetime(2024, 1, 20, 19, 12, 7, 53370), datetime_complete=datetime.datetime(2024, 1, 20, 19, 13, 35, 624372), params={'max_loops': 4, 'warmup_steps': 2545, 'epsilon': 0.05845422010116389}, user_attrs={}, system_attrs={}, intermediate_values={10: 0.0, 17: 0.0, 35: 0.0, 42: 0.0, 48: 0.0, 52: 0.0, 58: 0.0, 69: 0.0, 78: 0.0, 81: 0.0, 94: 0.0, 105: 0.0, 108: 0.0, 114: 0.0, 120: 0.0, 131: 0.0, 138: 0.0, 141: 0.0, 149: 0.0, 158: 0.0, 168: 0.0, 176: 0.0, 182: 0.0, 191: 0.0, 198: 0.0, 201: 0.0, 213: 0.0, 219: 0.0, 226: 0.0, 229: 0.0, 240: 0.0, 252: 0.0, 257: 0.0, 264: 0.0, 277: 0.0, 295: 0.0, 302: 0.0, 306: 0.0, 311: 0.0, 316: 0.0, 327: 0.0, 333: 0.0, 350: 0.0, 357: 0.0, 360: 0.0, 367: 0.0, 371: 0.0, 380: 0.0, 386: 0.0, 403: 0.0, 410: 0.0, 413: 0.0, 426: 0.0, 438: 0.0, 447: 0.0, 460: 0.0, 468: 0.0, 481: 0.0, 490: 0.0, 495: 0.0, 511: 0.0, 520: 0.0, 529: 0.0, 549: 0.0, 555: 0.0, 561: 0.0, 565: 0.0, 570: 0.0, 575: 0.0, 583: 0.0, 592: 0.0, 595: 0.0, 603: 0.0, 609: 0.0, 619: 0.0, 622: 0.0, 628: 0.0, 634: 0.0, 646: 0.0, 649: 0.0, 653: 0.0, 661: 0.0, 673: 0.0, 680: 0.0, 688: 0.0, 700: 0.0, 705: 0.0, 712: 0.0, 715: 0.0, 723: 0.0, 728: 0.0, 733: 0.0, 739: 0.0, 746: 0.0, 751: 0.0, 758: 0.0, 769: 0.0, 773: 0.0, 777: 0.0, 791: 0.0, 799: 0.0, 802: 0.0, 805: 0.0, 819: 0.0, 826: 0.0, 840: 0.0, 851: 0.0, 862: 0.0, 869: 0.0, 876: 0.0, 887: 0.0, 894: 0.0, 907: 0.0, 915: 0.0, 921: 0.0, 928: 0.0, 933: 0.0, 944: 0.0, 954: 0.0, 961: 0.0, 967: 0.0, 975: 0.0, 981: 0.0, 989: 0.0, 999: 0.0, 1007: 0.0, 1013: 0.0, 1026: 0.0, 1033: 0.0, 1041: 0.0, 1051: 0.0, 1056: 0.0, 1064: 0.0, 1074: 0.0, 1080: 0.0, 1086: 0.0, 1095: 0.0, 1104: 0.0, 1108: 0.0, 1112: 0.0, 1116: 0.0, 1123: 0.0, 1136: 0.0, 1145: 0.0, 1152: 0.0, 1159: 0.0, 1168: 0.0, 1172: 0.0, 1176: 0.0, 1183: 0.0, 1193: 0.0, 1200: 0.0, 1211: 0.0, 1221: 0.0, 1228: 0.0, 1235: 0.0, 1241: 0.0, 1253: 0.0, 1262: 0.0, 1276: 0.0, 1283: 0.0, 1289: 0.0, 1300: 0.0, 1306: 0.0, 1312: 0.0, 1322: 0.0, 1330: 0.0, 1342: 0.0, 1350: 0.0, 1360: 0.0, 1377: 0.0, 1384: 0.0, 1390: 0.0, 1404: 0.0, 1419: 0.0, 1422: 0.0, 1448: 0.0, 1460: 0.0, 1466: 0.0, 1481: 0.0, 1491: 0.0, 1508: 0.0, 1515: 0.0, 1524: 0.0, 1541: 0.0, 1550: 0.0, 1558: 0.0, 1564: 0.0, 1574: 0.0, 1592: 0.0, 1603: 0.0, 1613: 0.0, 1629: 0.0, 1634: 0.0, 1646: 0.0, 1660: 0.0, 1672: 0.0, 1682: 0.0, 1693: 0.0, 1699: 0.0, 1709: 0.0, 1715: 0.0, 1721: 0.0, 1731: 0.0, 1746: 0.0, 1752: 0.0, 1765: 0.0, 1773: 0.0, 1785: 0.0, 1791: 0.0, 1798: 0.0, 1808: 0.0, 1827: 0.0, 1834: 0.0, 1849: 0.0, 1862: 0.0, 1878: 0.0, 1886: 0.0, 1897: 0.0, 1904: 0.0, 1921: 0.0, 1928: 0.0, 1942: 0.0, 1952: 0.0, 1966: 0.0, 1974: 0.0, 1980: 0.0, 1991: 0.0, 1998: 0.0, 2005: 0.0, 2021: 0.0, 2034: 0.0, 2047: 0.0, 2054: 0.0, 2063: 0.0, 2071: 0.0, 2078: 0.0, 2081: 0.0, 2098: 0.0, 2107: 0.0, 2120: 0.0, 2134: 0.0, 2146: 0.0, 2160: 0.0, 2166: 0.0, 2182: 0.0, 2189: 0.0, 2195: 0.0, 2201: 0.0, 2210: 0.0, 2226: 0.0, 2237: 0.0, 2246: 0.0, 2253: 0.0, 2261: 0.0, 2272: 0.0, 2279: 0.0, 2289: 0.0, 2295: 0.0, 2305: 0.0, 2319: 0.0, 2325: 0.0, 2334: 0.0, 2343: 0.0, 2352: 0.0, 2359: 0.0, 2370: 0.0, 2378: 0.0, 2387: 0.0, 2393: 0.0, 2405: 0.0, 2416: 0.0, 2427: 0.0, 2442: 0.0, 2451: 0.0, 2458: 0.0, 2464: 0.0, 2473: 0.0, 2488: 0.0, 2502: 0.0, 2508: 0.0, 2516: 0.0, 2523: 0.0, 2530: 0.0, 2536: 0.0, 2547: 0.0, 2555: 0.0, 2564: 0.0, 2578: 0.0, 2584: 0.0, 2594: 0.0, 2601: 0.0, 2608: 0.0, 2621: 0.0, 2638: 0.0, 2647: 0.0, 2659: 0.0, 2680: 0.0, 2693: 0.0, 2703: 0.0, 2718: 0.0, 2725: 0.0, 2737: 0.0, 2749: 0.0, 2762: 0.0, 2768: 0.0, 2783: 0.0, 2794: 0.0, 2802: 0.0, 2813: 0.0, 2819: 0.0, 2825: 0.0, 2838: 0.0, 2844: 0.0, 2850: 0.0, 2861: 0.0, 2878: 0.0, 2888: 0.0, 2903: 0.0, 2915: 0.0, 2924: 0.0, 2930: 0.0, 2941: 0.0, 2958: 0.0, 2968: 0.0, 2985: 0.0, 2999: 0.0, 3005: 0.0, 3019: 0.0, 3030: 0.0, 3038: 0.0, 3051: 0.0, 3066: 0.0, 3075: 0.0, 3085: 0.0, 3098: 0.0, 3113: 0.0, 3124: 0.0, 3134: 0.0, 3148: 0.0, 3157: 0.0, 3173: 0.0, 3184: 0.0, 3193: 0.0, 3204: 0.0, 3216: 0.0, 3226: 0.0, 3233: 0.0, 3247: 0.0, 3257: 0.0, 3276: 0.0, 3288: 0.0, 3299: 0.0, 3313: 0.0, 3321: 0.0, 3331: 0.0, 3343: 0.0, 3357: 0.0, 3369: 0.0, 3384: 0.0, 3399: 0.0, 3412: 0.0, 3424: 0.0, 3434: 0.0, 3444: 0.0, 3455: 0.0, 3465: 0.0, 3479: 0.0, 3490: 0.0, 3499: 0.0, 3509: 0.0, 3530: 0.0, 3541: 0.0, 3552: 0.0, 3560: 0.0, 3569: 0.0, 3576: 0.0, 3584: 0.0, 3590: 0.0, 3598: 0.0, 3609: 0.0, 3619: 0.0, 3634: 0.0, 3651: 0.0, 3672: 0.0, 3688: 0.0, 3697: 0.0, 3718: 0.0, 3735: 0.0, 3744: 0.0, 3757: 0.0, 3764: 0.0, 3771: 0.0, 3780: 0.0, 3788: 0.0, 3795: 0.0, 3803: 0.0, 3811: 0.0, 3826: 0.0, 3833: 0.0, 3848: 0.0, 3861: 0.0, 3871: 0.0, 3888: 0.0, 3906: 0.0, 3914: 0.0, 3930: 0.0, 3939: 0.0, 3957: 0.0, 3967: 0.0, 3979: 0.0, 3991: 0.0, 4000: 0.0, 4019: 0.0, 4027: 0.0, 4033: 0.0, 4042: 0.0, 4052: 0.0, 4061: 0.0, 4072: 0.0, 4086: 0.0, 4095: 0.0, 4105: 0.0, 4119: 0.0, 4130: 0.0, 4142: 0.0, 4155: 0.0, 4165: 0.0, 4175: 0.0, 4185: 0.0, 4192: 0.0, 4200: 0.0, 4212: 0.0, 4219: 0.0, 4228: 0.0, 4246: 0.0, 4256: 0.0, 4263: 0.0, 4273: 0.0, 4280: 0.0, 4289: 0.0, 4302: 0.0, 4319: 0.0, 4334: 0.0, 4351: 0.0, 4364: 0.0, 4376: 0.0, 4385: 0.0, 4395: 0.0, 4407: 0.0, 4418: 0.0, 4428: 0.0, 4437: 0.0, 4450: 0.0, 4460: 0.0, 4469: 0.0, 4487: 0.0, 4498: 0.0, 4508: 0.0, 4519: 0.0, 4534: 0.0, 4539: 0.0, 4552: 0.0, 4562: 0.0, 4569: 0.0, 4580: 0.0, 4583: 0.0, 4590: 0.0, 4603: 0.0, 4610: 0.0, 4616: 0.0, 4624: 0.0, 4635: 0.0, 4649: 0.0, 4663: 0.0, 4671: 0.0, 4693: 0.0, 4705: 0.0, 4710: 0.0, 4717: 0.0, 4732: 0.0, 4750: 0.0, 4764: 0.0, 4782: 0.0, 4791: 0.0, 4801: 0.0, 4812: 0.0, 4817: 0.0, 4828: 0.0, 4842: 0.0, 4856: 0.0, 4871: 0.0, 4877: 0.0, 4885: 0.0, 4896: 0.0, 4912: 0.0, 4920: 0.0, 4928: 0.0, 4943: 0.0, 4950: 0.0, 4965: 0.0, 4979: 0.0, 4988: 0.0, 4996: 0.0, 5006: 0.0, 5032: 0.0, 5045: 0.0, 5059: 0.0, 5066: 0.0, 5081: 0.0, 5092: 0.0, 5099: 0.0, 5111: 0.0, 5117: 0.0, 5133: 0.0, 5140: 0.0, 5146: 0.0, 5163: 0.0, 5181: 0.0, 5189: 0.0, 5201: 0.0, 5208: 0.0, 5222: 0.0, 5230: 0.0, 5244: 0.0, 5251: 0.0, 5270: 0.0, 5278: 0.0, 5284: 0.0, 5298: 0.0, 5315: 0.0, 5321: 0.0, 5333: 0.0, 5342: 0.0, 5360: 0.0, 5374: 0.0, 5381: 0.0, 5399: 0.0, 5406: 0.0, 5419: 0.0, 5426: 0.0, 5441: 0.0, 5453: 0.0, 5461: 0.0, 5467: 0.0, 5477: 0.0, 5484: 0.0, 5493: 0.0, 5505: 0.0, 5517: 0.0, 5523: 0.0, 5541: 0.0, 5560: 0.0, 5572: 0.0, 5583: 0.0, 5590: 0.0, 5600: 0.0, 5618: 0.0, 5636: 0.0, 5649: 0.0, 5666: 0.0, 5679: 0.0, 5685: 0.0, 5694: 0.0, 5708: 0.0, 5716: 0.0, 5723: 0.0, 5744: 0.0, 5753: 0.0, 5762: 0.0, 5776: 0.0, 5791: 0.0, 5812: 0.0, 5819: 0.0, 5833: 0.0, 5843: 0.0, 5854: 0.0, 5870: 0.0, 5887: 0.0, 5897: 0.0, 5906: 0.0, 5919: 0.0, 5931: 0.0, 5943: 0.0, 5961: 0.0, 5969: 0.0, 5976: 0.0, 5983: 0.0, 5995: 0.0, 6011: 0.0, 6019: 0.0, 6028: 0.0, 6037: 0.0, 6050: 0.0, 6064: 0.0, 6077: 0.0, 6090: 0.0, 6100: 0.0, 6113: 0.0, 6127: 0.0, 6137: 0.0, 6144: 0.0, 6160: 0.0}, distributions={'max_loops': IntDistribution(high=10, log=True, low=1, step=1), 'warmup_steps': IntDistribution(high=5000, log=True, low=1000, step=1), 'epsilon': FloatDistribution(high=0.5, log=True, low=0.01, step=None)}, trial_id=4, value=None)\n",
      "FrozenTrial(number=5, state=2, values=[0.006], datetime_start=datetime.datetime(2024, 1, 20, 19, 12, 25, 248433), datetime_complete=datetime.datetime(2024, 1, 20, 19, 13, 35, 649601), params={'max_loops': 2, 'warmup_steps': 3458, 'epsilon': 0.10947828676797641}, user_attrs={}, system_attrs={}, intermediate_values={7: 0.0, 11: 0.0, 17: 0.0, 20: 0.0, 32: 0.0, 36: 0.0, 47: 0.0, 53: 0.0, 57: 0.0, 65: 0.0, 70: 0.0, 77: 0.0, 82: 0.0, 86: 0.0, 90: 0.0, 96: 0.0, 99: 0.0, 102: 0.0, 110: 0.0, 114: 0.0, 119: 0.0, 129: 0.0, 135: 0.0, 138: 0.0, 142: 0.0, 146: 0.0, 151: 0.0, 155: 0.0, 159: 0.0, 174: 0.0, 180: 0.0, 191: 0.0, 195: 0.0, 205: 0.0, 208: 0.0, 211: 0.0, 216: 0.0, 220: 0.0, 225: 0.0, 230: 0.0, 236: 0.0, 241: 0.0, 245: 0.0, 251: 0.0, 256: 0.0, 260: 0.0, 265: 0.0, 269: 0.0, 272: 0.0, 276: 0.0, 282: 0.0, 289: 0.0, 301: 0.0, 309: 0.0, 317: 0.0, 328: 0.0, 333: 0.0, 337: 0.0, 342: 0.0, 345: 0.0, 350: 0.0, 356: 0.0, 359: 0.0, 363: 0.0, 371: 0.0, 374: 0.0, 381: 0.0, 388: 0.0, 392: 0.0, 396: 0.0, 399: 0.0, 404: 0.0, 407: 0.0, 411: 0.0, 415: 0.0, 419: 0.0, 424: 0.0, 429: 0.0, 438: 0.0, 441: 0.0, 447: 0.0, 450: 0.0, 454: 0.0, 458: 0.0, 464: 0.0, 469: 0.0, 478: 0.0, 481: 0.0, 486: 0.0, 492: 0.0, 497: 0.0, 506: 0.0, 510: 0.0, 518: 0.0, 522: 0.0, 532: 0.0, 538: 0.0, 547: 0.0, 556: 0.0, 559: 0.0, 564: 0.0, 569: 0.0, 573: 0.0, 579: 0.0, 583: 0.0, 589: 0.0, 598: 0.0, 601: 0.0, 606: 0.0, 612: 0.0, 619: 0.0, 631: 0.0, 636: 0.0, 639: 0.0, 643: 0.0, 651: 0.0, 658: 0.0, 665: 0.0, 669: 0.0, 674: 0.0, 681: 0.0, 686: 0.0, 690: 0.0, 695: 0.0, 699: 0.0, 704: 0.0, 719: 0.0, 725: 0.0, 730: 0.0, 737: 0.0, 741: 0.0, 745: 0.0, 754: 0.0, 758: 0.0, 762: 0.0, 770: 0.0, 775: 0.0, 780: 0.0, 789: 0.0, 794: 0.0, 798: 0.0, 805: 0.0, 812: 0.0, 818: 0.0, 821: 0.0, 827: 0.0, 830: 0.0, 833: 0.0, 837: 0.0, 842: 0.0, 849: 0.0, 853: 0.0, 856: 0.0, 862: 0.0, 871: 0.0, 875: 0.0, 880: 0.0, 889: 0.0, 895: 0.0, 900: 0.0, 909: 0.0, 914: 0.0, 919: 0.0, 925: 0.0, 932: 0.0, 949: 0.0, 954: 0.0, 968: 0.0, 975: 0.0, 979: 0.0, 989: 0.0, 994: 0.0, 1001: 0.0, 1004: 0.0, 1009: 0.0, 1015: 0.0, 1020: 0.0, 1027: 0.0, 1031: 0.0, 1035: 0.0, 1039: 0.0, 1043: 0.0, 1049: 0.0, 1055: 0.0, 1060: 0.0, 1063: 0.0, 1069: 0.0, 1078: 0.0, 1084: 0.0, 1091: 0.0, 1095: 0.0, 1100: 0.0, 1105: 0.0, 1113: 0.0, 1118: 0.0, 1124: 0.0, 1135: 0.0, 1140: 0.0, 1144: 0.0, 1149: 0.0, 1154: 0.0, 1162: 0.0, 1170: 0.0, 1175: 0.0, 1179: 0.0, 1187: 0.0, 1191: 0.0, 1195: 0.0, 1198: 0.0, 1202: 0.0, 1209: 0.0, 1212: 0.0, 1218: 0.0, 1225: 0.0, 1228: 0.0, 1232: 0.0, 1236: 0.0, 1241: 0.0, 1251: 0.0, 1254: 0.0, 1258: 0.0, 1263: 0.0, 1269: 0.0, 1273: 0.0, 1279: 0.0, 1282: 0.0, 1287: 0.0, 1292: 0.0, 1298: 0.0, 1303: 0.0, 1307: 0.0, 1312: 0.0, 1317: 0.0, 1324: 0.0, 1331: 0.0, 1341: 0.0, 1345: 0.0, 1351: 0.0, 1361: 0.0, 1364: 0.0, 1371: 0.0, 1377: 0.0, 1380: 0.0, 1385: 0.0, 1389: 0.0, 1397: 0.0, 1403: 0.0, 1409: 0.0, 1415: 0.0, 1422: 0.0, 1428: 0.0, 1432: 0.0, 1437: 0.0, 1441: 0.0, 1444: 0.0, 1451: 0.0, 1456: 0.0, 1466: 0.0, 1485: 0.0, 1490: 0.0, 1497: 0.0, 1504: 0.0, 1510: 0.0, 1517: 0.0, 1524: 0.0, 1532: 0.0, 1537: 0.0, 1545: 0.0, 1548: 0.0, 1556: 0.0, 1560: 0.0, 1564: 0.0, 1571: 0.0, 1577: 0.0, 1583: 0.0, 1586: 0.0, 1590: 0.0, 1594: 0.0, 1605: 0.0, 1611: 0.0, 1615: 0.0, 1622: 0.0, 1626: 0.0, 1632: 0.0, 1637: 0.0, 1642: 0.0, 1646: 0.0, 1654: 0.0, 1659: 0.0, 1665: 0.0, 1671: 0.0, 1681: 0.0, 1686: 0.0, 1694: 0.0, 1700: 0.0, 1710: 0.0, 1719: 0.0, 1729: 0.0, 1734: 0.0, 1739: 0.0, 1743: 0.0, 1749: 0.0, 1757: 0.0, 1762: 0.0, 1770: 0.0, 1776: 0.0, 1783: 0.0, 1787: 0.0, 1790: 0.0, 1793: 0.0, 1800: 0.0, 1804: 0.0, 1809: 0.0, 1823: 0.0, 1831: 0.0, 1836: 0.0, 1843: 0.0, 1852: 0.0, 1856: 0.0, 1860: 0.0, 1864: 0.0, 1869: 0.0, 1873: 0.0, 1881: 0.0, 1886: 0.0, 1891: 0.0, 1895: 0.0, 1899: 0.0, 1906: 0.0, 1913: 0.0, 1917: 0.0, 1920: 0.0, 1926: 0.0, 1931: 0.0, 1937: 0.0, 1942: 0.0, 1947: 0.0, 1955: 0.0, 1961: 0.0, 1966: 0.0, 1971: 0.0, 1977: 0.0, 1987: 0.0, 1993: 0.0, 2002: 0.0, 2008: 0.0, 2017: 0.0, 2021: 0.0, 2028: 0.0, 2038: 0.0, 2045: 0.0, 2051: 0.0, 2055: 0.0, 2059: 0.0, 2066: 0.0, 2071: 0.0, 2080: 0.0, 2097: 0.0, 2101: 0.0, 2111: 0.0, 2118: 0.0, 2123: 0.0, 2127: 0.0, 2135: 0.0, 2139: 0.0, 2143: 0.0, 2150: 0.0, 2160: 0.0, 2165: 0.0, 2169: 0.0, 2173: 0.0, 2178: 0.0, 2184: 0.0, 2191: 0.0, 2200: 0.0, 2206: 0.0, 2209: 0.0, 2212: 0.0, 2217: 0.0, 2224: 0.0, 2228: 0.0, 2239: 0.0, 2249: 0.0, 2256: 0.0, 2261: 0.0, 2271: 0.0, 2283: 0.0, 2289: 0.0, 2300: 0.0, 2310: 0.0, 2319: 0.0, 2326: 0.0, 2333: 0.0, 2337: 0.0, 2345: 0.0, 2349: 0.0, 2356: 0.0, 2360: 0.0, 2365: 0.0, 2368: 0.0, 2375: 0.0, 2381: 0.0, 2387: 0.0, 2392: 0.0, 2397: 0.0, 2407: 0.0, 2424: 0.0, 2433: 0.0, 2442: 0.0, 2448: 0.0, 2457: 0.0, 2464: 0.0, 2472: 0.0, 2478: 0.0, 2486: 0.0, 2491: 0.0, 2495: 0.0, 2500: 0.0, 2507: 0.0, 2516: 0.0, 2521: 0.0, 2528: 0.0, 2533: 0.0, 2548: 0.0, 2555: 0.0, 2567: 0.0, 2571: 0.0, 2578: 0.0, 2583: 0.0, 2587: 0.0, 2594: 0.0, 2597: 0.0, 2602: 0.0, 2610: 0.0, 2615: 0.0, 2625: 0.0, 2630: 0.0, 2637: 0.0, 2644: 0.0, 2649: 0.0, 2654: 0.0, 2659: 0.0, 2666: 0.0, 2671: 0.0, 2678: 0.0, 2686: 0.0, 2697: 0.0, 2707: 0.0, 2715: 0.0, 2721: 0.0, 2737: 0.0, 2748: 0.0, 2754: 0.0, 2757: 0.0, 2760: 0.0, 2771: 0.0, 2775: 0.0, 2783: 0.0, 2788: 0.0, 2793: 0.0, 2800: 0.0, 2807: 0.0, 2814: 0.0, 2821: 0.0, 2829: 0.0, 2836: 0.0, 2843: 0.0, 2849: 0.0, 2854: 0.0, 2859: 0.0, 2867: 0.0, 2874: 0.0, 2881: 0.0, 2889: 0.0, 2895: 0.0, 2908: 0.0, 2918: 0.0, 2925: 0.0, 2936: 0.0, 2944: 0.0, 2953: 0.0, 2958: 0.0, 2966: 0.0, 2975: 0.0, 2983: 0.0, 2992: 0.0, 3000: 0.0, 3004: 0.0, 3012: 0.0, 3022: 0.0, 3026: 0.0, 3033: 0.0, 3040: 0.0, 3044: 0.0, 3049: 0.0, 3061: 0.0, 3070: 0.0, 3075: 0.0, 3082: 0.0, 3087: 0.0, 3094: 0.0, 3098: 0.0, 3109: 0.0, 3114: 0.0, 3123: 0.0, 3129: 0.0, 3137: 0.0, 3148: 0.0, 3153: 0.0, 3162: 0.0, 3168: 0.0, 3176: 0.0, 3184: 0.0, 3189: 0.0, 3195: 0.0, 3201: 0.0, 3211: 0.0, 3215: 0.0, 3222: 0.0, 3226: 0.0, 3233: 0.0, 3240: 0.0, 3248: 0.0, 3256: 0.0, 3266: 0.0, 3274: 0.0, 3279: 0.0, 3283: 0.0, 3293: 0.0, 3297: 0.0, 3302: 0.0, 3308: 0.0, 3317: 0.0, 3321: 0.0, 3332: 0.0, 3338: 0.0, 3347: 0.0, 3360: 0.0, 3366: 0.0, 3372: 0.0, 3381: 0.0, 3389: 0.0, 3395: 0.0, 3401: 0.0, 3407: 0.0, 3412: 0.0, 3420: 0.0, 3426: 0.0, 3431: 0.0, 3437: 0.0, 3441: 0.0, 3449: 0.0, 3456: 0.0, 3462: 0.0, 3471: 0.0, 3478: 0.0, 3484: 0.0, 3494: 0.0, 3500: 0.0, 3509: 0.0, 3512: 0.0, 3520: 0.0, 3533: 0.0, 3540: 0.0, 3549: 0.0, 3557: 0.0004, 3564: 0.0011, 3572: 0.0019, 3581: 0.0028, 3588: 0.0035, 3599: 0.0046, 3608: 0.0055, 3618: 0.006, 3625: 0.006, 3636: 0.006, 3642: 0.006, 3652: 0.006, 3660: 0.006, 3666: 0.006, 3670: 0.006, 3675: 0.006, 3682: 0.006, 3694: 0.006, 3698: 0.006, 3707: 0.006, 3715: 0.006, 3723: 0.006, 3730: 0.006, 3738: 0.006, 3750: 0.006, 3754: 0.006, 3763: 0.006, 3767: 0.006, 3773: 0.006, 3781: 0.006, 3787: 0.006, 3792: 0.006, 3798: 0.006, 3811: 0.006, 3821: 0.006, 3828: 0.006, 3839: 0.006, 3850: 0.006, 3856: 0.006, 3862: 0.006, 3868: 0.006, 3876: 0.006, 3887: 0.006, 3894: 0.006, 3903: 0.006, 3914: 0.006, 3921: 0.006, 3925: 0.006, 3931: 0.006, 3940: 0.006, 3949: 0.006, 3957: 0.006, 3962: 0.006, 3966: 0.006, 3973: 0.006, 3981: 0.006, 3989: 0.006, 3992: 0.006, 3999: 0.006, 4006: 0.006, 4017: 0.006, 4021: 0.006, 4030: 0.006, 4037: 0.006, 4042: 0.006, 4052: 0.006, 4058: 0.006, 4065: 0.006, 4077: 0.006, 4085: 0.006, 4090: 0.006}, distributions={'max_loops': IntDistribution(high=10, log=True, low=1, step=1), 'warmup_steps': IntDistribution(high=5000, log=True, low=1000, step=1), 'epsilon': FloatDistribution(high=0.5, log=True, low=0.01, step=None)}, trial_id=5, value=None)\n",
      "FrozenTrial(number=6, state=1, values=[0.85115], datetime_start=datetime.datetime(2024, 1, 20, 19, 12, 34, 756258), datetime_complete=datetime.datetime(2024, 1, 20, 19, 13, 35, 483285), params={'max_loops': 4, 'warmup_steps': 1249, 'epsilon': 0.1047105925328586}, user_attrs={}, system_attrs={}, intermediate_values={7: 0.0, 15: 0.0, 25: 0.0, 29: 0.0, 35: 0.0, 41: 0.0, 45: 0.0, 48: 0.0, 52: 0.0, 69: 0.0, 74: 0.0, 81: 0.0, 87: 0.0, 102: 0.0, 107: 0.0, 116: 0.0, 122: 0.0, 128: 0.0, 133: 0.0, 136: 0.0, 142: 0.0, 151: 0.0, 160: 0.0, 163: 0.0, 173: 0.0, 182: 0.0, 185: 0.0, 195: 0.0, 203: 0.0, 210: 0.0, 220: 0.0, 223: 0.0, 230: 0.0, 233: 0.0, 240: 0.0, 247: 0.0, 254: 0.0, 260: 0.0, 266: 0.0, 269: 0.0, 274: 0.0, 282: 0.0, 291: 0.0, 295: 0.0, 299: 0.0, 303: 0.0, 314: 0.0, 321: 0.0, 324: 0.0, 327: 0.0, 337: 0.0, 346: 0.0, 353: 0.0, 358: 0.0, 365: 0.0, 368: 0.0, 374: 0.0, 377: 0.0, 387: 0.0, 394: 0.0, 397: 0.0, 400: 0.0, 404: 0.0, 418: 0.0, 433: 0.0, 441: 0.0, 444: 0.0, 448: 0.0, 455: 0.0, 465: 0.0, 477: 0.0, 488: 0.0, 495: 0.0, 498: 0.0, 516: 0.0, 524: 0.0, 530: 0.0, 533: 0.0, 541: 0.0, 550: 0.0, 560: 0.0, 567: 0.0, 580: 0.0, 590: 0.0, 599: 0.0, 605: 0.0, 611: 0.0, 615: 0.0, 626: 0.0, 637: 0.0, 640: 0.0, 651: 0.0, 655: 0.0, 662: 0.0, 671: 0.0, 696: 0.0, 705: 0.0, 711: 0.0, 715: 0.0, 724: 0.0, 737: 0.0, 745: 0.0, 748: 0.0, 756: 0.0, 761: 0.0, 767: 0.0, 777: 0.0, 784: 0.0, 797: 0.0, 802: 0.0, 814: 0.0, 821: 0.0, 831: 0.0, 845: 0.0, 852: 0.0, 862: 0.0, 875: 0.0, 883: 0.0, 894: 0.0, 897: 0.0, 905: 0.0, 912: 0.0, 927: 0.0, 936: 0.0, 945: 0.0, 950: 0.0, 963: 0.0, 974: 0.0, 984: 0.0, 1000: 0.0, 1011: 0.0, 1024: 0.0, 1029: 0.0, 1042: 0.0, 1052: 0.0, 1064: 0.0, 1075: 0.0, 1086: 0.0, 1099: 0.0, 1107: 0.0, 1116: 0.0, 1124: 0.0, 1132: 0.0, 1148: 0.0008, 1157: 0.0017, 1161: 0.0021, 1170: 0.003, 1178: 0.0038, 1186: 0.0046, 1194: 0.0054, 1201: 0.0061, 1212: 0.0072, 1220: 0.008, 1232: 0.0092, 1235: 0.00935, 1242: 0.00935, 1252: 0.00935, 1262: 0.00935, 1269: 0.00935, 1274: 0.00935, 1281: 0.00935, 1285: 0.00935, 1293: 0.00935, 1301: 0.00935, 1305: 0.00935, 1314: 0.00935, 1321: 0.00935, 1332: 0.00935, 1340: 0.00935, 1350: 0.00935, 1355: 0.00935, 1359: 0.00935, 1365: 0.00935, 1374: 0.00935, 1386: 0.00935, 1397: 0.00935, 1404: 0.00935, 1413: 0.00935, 1429: 0.00935, 1438: 0.00935, 1446: 0.00935, 1450: 0.00935, 1459: 0.00935, 1471: 0.00935, 1485: 0.00935, 1492: 0.00935, 1501: 0.00935, 1508: 0.00935, 1519: 0.0099, 1527: 0.0107, 1536: 0.0116, 1543: 0.0123, 1551: 0.0131, 1559: 0.0139, 1567: 0.0147, 1575: 0.0155, 1582: 0.0162, 1589: 0.0169, 1599: 0.0179, 1606: 0.0186, 1613: 0.0193, 1620: 0.02, 1627: 0.0207, 1634: 0.0214, 1642: 0.0222, 1650: 0.023, 1659: 0.0239, 1666: 0.0246, 1673: 0.0253, 1681: 0.0261, 1688: 0.0268, 1695: 0.0275, 1703: 0.0283, 1716: 0.0296, 1723: 0.0303, 1730: 0.031, 1738: 0.0318, 1746: 0.0326, 1756: 0.0336, 1763: 0.03395, 1770: 0.03395, 1779: 0.0344, 1786: 0.0351, 1794: 0.0359, 1801: 0.0366, 1809: 0.0374, 1818: 0.0383, 1825: 0.039, 1833: 0.0398, 1843: 0.0408, 1852: 0.0417, 1862: 0.0427, 1870: 0.0435, 1879: 0.0444, 1886: 0.0451, 1893: 0.0458, 1900: 0.0465, 1909: 0.0474, 1916: 0.0481, 1931: 0.0496, 1940: 0.0505, 1947: 0.0512, 1954: 0.0519, 1961: 0.0526, 1969: 0.053, 1982: 0.053, 1989: 0.053, 1999: 0.0535, 2008: 0.0544, 2016: 0.0552, 2027: 0.0563, 2036: 0.0572, 2043: 0.0579, 2050: 0.0586, 2059: 0.0595, 2070: 0.0606, 2079: 0.0615, 2086: 0.0622, 2094: 0.063, 2102: 0.0638, 2109: 0.0645, 2117: 0.0653, 2126: 0.0662, 2133: 0.0669, 2140: 0.0676, 2147: 0.0683, 2156: 0.0692, 2166: 0.0702, 2175: 0.0711, 2182: 0.0718, 2189: 0.0725, 2197: 0.0733, 2204: 0.074, 2214: 0.075, 2221: 0.0757, 2231: 0.0767, 2238: 0.0774, 2247: 0.0783, 2254: 0.079, 2263: 0.0799, 2271: 0.0807, 2280: 0.0816, 2289: 0.0825, 2296: 0.0832, 2303: 0.0839, 2315: 0.0851, 2324: 0.086, 2331: 0.0867, 2338: 0.0874, 2345: 0.0881, 2352: 0.0888, 2361: 0.0897, 2368: 0.0904, 2376: 0.0912, 2384: 0.092, 2391: 0.0927, 2400: 0.0936, 2409: 0.0945, 2417: 0.0953, 2425: 0.0957, 2434: 0.0957, 2442: 0.0957, 2449: 0.09605, 2459: 0.09705, 2466: 0.09775, 2473: 0.09845, 2480: 0.09915, 2487: 0.09985, 2494: 0.10055, 2503: 0.10145, 2510: 0.10215, 2519: 0.10305, 2526: 0.10375, 2534: 0.10455, 2543: 0.10545, 2551: 0.10625, 2558: 0.10695, 2565: 0.10765, 2574: 0.10855, 2584: 0.10955, 2591: 0.11025, 2602: 0.11135, 2612: 0.11235, 2621: 0.11325, 2629: 0.11405, 2636: 0.11475, 2643: 0.11545, 2650: 0.11615, 2658: 0.11695, 2666: 0.11775, 2674: 0.11855, 2683: 0.11945, 2692: 0.12035, 2699: 0.12105, 2706: 0.12175, 2713: 0.12245, 2723: 0.12345, 2730: 0.12415, 2737: 0.12485, 2744: 0.12555, 2754: 0.12655, 2762: 0.12735, 2769: 0.12805, 2780: 0.12915, 2788: 0.12995, 2798: 0.13095, 2809: 0.13205, 2818: 0.13295, 2826: 0.13375, 2838: 0.13495, 2847: 0.13585, 2854: 0.13655, 2861: 0.13725, 2872: 0.13835, 2881: 0.13925, 2889: 0.14005, 2900: 0.14115, 2907: 0.14185, 2915: 0.14265, 2923: 0.14345, 2931: 0.14425, 2940: 0.14515, 2947: 0.14585, 2954: 0.14655, 2962: 0.14735, 2970: 0.14815, 2980: 0.14915, 2988: 0.14995, 2999: 0.15105, 3005: 0.15165, 3014: 0.15255, 3024: 0.15355, 3031: 0.15425, 3040: 0.15515, 3047: 0.15585, 3059: 0.15705, 3069: 0.15805, 3076: 0.15875, 3084: 0.15955, 3092: 0.16035, 3101: 0.16125, 3111: 0.16225, 3120: 0.16315, 3128: 0.16395, 3136: 0.16475, 3146: 0.16575, 3154: 0.16655, 3161: 0.16725, 3171: 0.16825, 3178: 0.16895, 3185: 0.16965, 3195: 0.17065, 3202: 0.17135, 3210: 0.17215, 3217: 0.17285, 3227: 0.17385, 3234: 0.17455, 3241: 0.17525, 3248: 0.17595, 3251: 0.17625, 3258: 0.17695, 3268: 0.17795, 3280: 0.17915, 3289: 0.18005, 3297: 0.18085, 3306: 0.18175, 3316: 0.18275, 3324: 0.18355, 3331: 0.18425, 3339: 0.18505, 3348: 0.18595, 3355: 0.18665, 3363: 0.18745, 3370: 0.18815, 3377: 0.18885, 3384: 0.18955, 3391: 0.19025, 3399: 0.19105, 3406: 0.19175, 3414: 0.19255, 3422: 0.19335, 3430: 0.19415, 3438: 0.19495, 3448: 0.19595, 3455: 0.19665, 3463: 0.19745, 3471: 0.19825, 3478: 0.19895, 3486: 0.19975, 10000: 1.0}, distributions={'max_loops': IntDistribution(high=10, log=True, low=1, step=1), 'warmup_steps': IntDistribution(high=5000, log=True, low=1000, step=1), 'epsilon': FloatDistribution(high=0.5, log=True, low=0.01, step=None)}, trial_id=6, value=None)\n",
      "FrozenTrial(number=7, state=2, values=[0.0], datetime_start=datetime.datetime(2024, 1, 20, 19, 13, 15, 135595), datetime_complete=datetime.datetime(2024, 1, 20, 19, 13, 35, 922018), params={'max_loops': 6, 'warmup_steps': 1172, 'epsilon': 0.14735447619425665}, user_attrs={}, system_attrs={}, intermediate_values={5: 0.0, 8: 0.0, 18: 0.0, 22: 0.0, 28: 0.0, 34: 0.0, 46: 0.0, 52: 0.0, 55: 0.0, 65: 0.0, 72: 0.0, 80: 0.0, 92: 0.0, 112: 0.0, 122: 0.0, 134: 0.0, 143: 0.0, 150: 0.0, 160: 0.0, 166: 0.0, 174: 0.0, 180: 0.0, 190: 0.0, 205: 0.0, 210: 0.0, 222: 0.0, 236: 0.0, 240: 0.0, 248: 0.0, 252: 0.0, 262: 0.0, 271: 0.0, 279: 0.0, 282: 0.0, 285: 0.0, 289: 0.0, 303: 0.0, 312: 0.0, 320: 0.0, 330: 0.0, 337: 0.0, 351: 0.0, 359: 0.0, 371: 0.0, 375: 0.0, 395: 0.0, 399: 0.0, 402: 0.0, 409: 0.0, 415: 0.0, 421: 0.0, 426: 0.0, 432: 0.0, 436: 0.0, 441: 0.0, 445: 0.0, 452: 0.0, 457: 0.0, 471: 0.0, 480: 0.0, 485: 0.0, 493: 0.0, 496: 0.0, 505: 0.0, 513: 0.0, 517: 0.0, 523: 0.0, 529: 0.0, 537: 0.0, 542: 0.0, 561: 0.0, 567: 0.0, 574: 0.0, 585: 0.0, 601: 0.0, 620: 0.0, 628: 0.0, 640: 0.0, 654: 0.0, 660: 0.0, 665: 0.0, 676: 0.0, 685: 0.0, 688: 0.0, 702: 0.0, 712: 0.0, 716: 0.0, 725: 0.0, 729: 0.0, 742: 0.0, 747: 0.0, 759: 0.0, 782: 0.0, 794: 0.0, 798: 0.0, 803: 0.0, 817: 0.0, 821: 0.0, 826: 0.0, 833: 0.0, 842: 0.0, 853: 0.0, 862: 0.0, 880: 0.0, 891: 0.0, 904: 0.0, 907: 0.0, 926: 0.0, 945: 0.0, 956: 0.0, 962: 0.0, 975: 0.0, 1003: 0.0, 1008: 0.0, 1017: 0.0, 1025: 0.0, 1030: 0.0, 1039: 0.0, 1046: 0.0, 1051: 0.0, 1055: 0.0, 1061: 0.0, 1074: 0.0, 1077: 0.0, 1095: 0.0, 1098: 0.0, 1107: 0.0, 1114: 0.0, 1122: 0.0, 1132: 0.0, 1147: 0.0, 1162: 0.0, 1175: 0.0, 1189: 0.0, 1204: 0.0, 1218: 0.0, 1233: 0.0, 1246: 0.0, 1249: 0.0, 1263: 0.0, 1278: 0.0, 1293: 0.0, 1309: 0.0, 1323: 0.0, 1338: 0.0, 1352: 0.0, 1366: 0.0, 1381: 0.0, 1396: 0.0, 1409: 0.0, 1421: 0.0, 1436: 0.0, 1451: 0.0, 1465: 0.0, 1480: 0.0, 1494: 0.0, 1513: 0.0, 1528: 0.0, 1542: 0.0, 1557: 0.0, 1571: 0.0, 1586: 0.0, 1599: 0.0}, distributions={'max_loops': IntDistribution(high=10, log=True, low=1, step=1), 'warmup_steps': IntDistribution(high=5000, log=True, low=1000, step=1), 'epsilon': FloatDistribution(high=0.5, log=True, low=0.01, step=None)}, trial_id=7, value=None)\n"
     ]
    },
    {
     "data": {
      "image/png": "[encoded data removed]",
      "text/plain": [
       "<Figure size 1800x900 with 1 Axes>"
      ]
     },
     "metadata": {},
     "output_type": "display_data"
    }
   ],
   "source": [
    "plt.figure(figsize=(6,3), dpi=300)\n",
    "for trial in study.trials:\n",
    "    if trial.value < 0.5:\n",
    "        continue\n",
    "    avg_reward = list(trial.intermediate_values.values())\n",
    "    iterations = list(trial.intermediate_values.keys())\n",
    "    deltay = [next-prev for next, prev in zip(avg_reward[1:], avg_reward[:-1])]\n",
    "    deltax = [next-prev for next, prev in zip(iterations[1:], iterations[:-1])]\n",
    "    reward_per_step = utils.smooth([dy/dx*max_steps for dy, dx in zip(deltay, deltax)], 0.05)\n",
    "    plt.step(iterations[1:], reward_per_step[:], label=f\"{trial.number}= {trial.value:.2f}\")\n",
    "plt.legend()\n",
    "plt.grid()"
   ]
  },
  {
   "cell_type": "code",
   "execution_count": null,
   "metadata": {},
   "outputs": [],
   "source": []
  },
  {
   "cell_type": "code",
   "execution_count": null,
   "metadata": {},
   "outputs": [],
   "source": []
  }
 ],
 "metadata": {
  "kernelspec": {
   "display_name": "python310base",
   "language": "python",
   "name": "python3"
  },
  "language_info": {
   "codemirror_mode": {
    "name": "ipython",
    "version": 3
   },
   "file_extension": ".py",
   "mimetype": "text/x-python",
   "name": "python",
   "nbconvert_exporter": "python",
   "pygments_lexer": "ipython3",
   "version": "3.11.5"
  },
  "orig_nbformat": 4
 },
 "nbformat": 4,
 "nbformat_minor": 2
}
