{
 "cells": [
  {
   "cell_type": "code",
   "execution_count": 1,
   "metadata": {},
   "outputs": [
    {
     "name": "stdout",
     "output_type": "stream",
     "text": [
      "/home/alessio_arcudi/Documents/MANGO-lite\n"
     ]
    },
    {
     "name": "stderr",
     "output_type": "stream",
     "text": [
      "/home/alessio_arcudi/Documents/MANGO-lite/.venv/lib/python3.10/site-packages/IPython/core/magics/osm.py:417: UserWarning: using dhist requires you to install the `pickleshare` library.\n",
      "  self.shell.db['dhist'] = compress_dhist(dhist)[-100:]\n"
     ]
    }
   ],
   "source": [
    "# imports\n",
    "%cd ..\n",
    "import os\n",
    "from tqdm.notebook import tqdm\n",
    "from mango.environments import frozen_lake\n",
    "from mango import Agent, Mango\n",
    "from frozen_lake_tests import utils_plot, utils_save, utils_sim"
   ]
  },
  {
   "cell_type": "markdown",
   "metadata": {},
   "source": [
    "Experiment Parameters"
   ]
  },
  {
   "cell_type": "code",
   "execution_count": 2,
   "metadata": {},
   "outputs": [],
   "source": [
    "# parameters for the environment\n",
    "map_base = 2\n",
    "map_scale = 2\n",
    "p_frozen = [0.4]\n",
    "one_shot = False\n",
    "\n",
    "plot_mango = True\n",
    "plot_vanilla_agent = True\n",
    "plot_nomask_mango_agent = False\n",
    "plot_single = True"
   ]
  },
  {
   "cell_type": "code",
   "execution_count": 3,
   "metadata": {},
   "outputs": [
    {
     "ename": "UnpicklingError",
     "evalue": "state is not a dictionary",
     "output_type": "error",
     "traceback": [
      "\u001b[0;31m---------------------------------------------------------------------------\u001b[0m",
      "\u001b[0;31mUnpicklingError\u001b[0m                           Traceback (most recent call last)",
      "Cell \u001b[0;32mIn[3], line 22\u001b[0m\n\u001b[1;32m     20\u001b[0m mango_agent_files \u001b[38;5;241m=\u001b[39m [name \u001b[38;5;28;01mfor\u001b[39;00m name \u001b[38;5;129;01min\u001b[39;00m files \u001b[38;5;28;01mif\u001b[39;00m name\u001b[38;5;241m.\u001b[39mstartswith(\u001b[38;5;124m\"\u001b[39m\u001b[38;5;124mmango_agent\u001b[39m\u001b[38;5;124m\"\u001b[39m)]\n\u001b[1;32m     21\u001b[0m run_ids \u001b[38;5;241m=\u001b[39m [\u001b[38;5;124mf\u001b[39m\u001b[38;5;124m\"\u001b[39m\u001b[38;5;124mrun_\u001b[39m\u001b[38;5;132;01m{\u001b[39;00mname[\u001b[38;5;241m-\u001b[39m\u001b[38;5;241m9\u001b[39m:\u001b[38;5;241m-\u001b[39m\u001b[38;5;241m7\u001b[39m]\u001b[38;5;132;01m}\u001b[39;00m\u001b[38;5;124m\"\u001b[39m \u001b[38;5;28;01mfor\u001b[39;00m name \u001b[38;5;129;01min\u001b[39;00m mango_agent_files]\n\u001b[0;32m---> 22\u001b[0m mango_agents \u001b[38;5;241m=\u001b[39m [\n\u001b[1;32m     23\u001b[0m     utils_save\u001b[38;5;241m.\u001b[39mload_from_file(dir_path \u001b[38;5;241m+\u001b[39m \u001b[38;5;124m\"\u001b[39m\u001b[38;5;124mmodels/\u001b[39m\u001b[38;5;124m\"\u001b[39m \u001b[38;5;241m+\u001b[39m file_name)\n\u001b[1;32m     24\u001b[0m     \u001b[38;5;28;01mfor\u001b[39;00m file_name \u001b[38;5;129;01min\u001b[39;00m mango_agent_files\n\u001b[1;32m     25\u001b[0m ]\n\u001b[1;32m     26\u001b[0m agents_list\u001b[38;5;241m.\u001b[39mappend(mango_agents)\n\u001b[1;32m     27\u001b[0m labels\u001b[38;5;241m.\u001b[39mappend(\u001b[38;5;124m\"\u001b[39m\u001b[38;5;124mmango\u001b[39m\u001b[38;5;124m\"\u001b[39m)\n",
      "Cell \u001b[0;32mIn[3], line 23\u001b[0m, in \u001b[0;36m<listcomp>\u001b[0;34m(.0)\u001b[0m\n\u001b[1;32m     20\u001b[0m mango_agent_files \u001b[38;5;241m=\u001b[39m [name \u001b[38;5;28;01mfor\u001b[39;00m name \u001b[38;5;129;01min\u001b[39;00m files \u001b[38;5;28;01mif\u001b[39;00m name\u001b[38;5;241m.\u001b[39mstartswith(\u001b[38;5;124m\"\u001b[39m\u001b[38;5;124mmango_agent\u001b[39m\u001b[38;5;124m\"\u001b[39m)]\n\u001b[1;32m     21\u001b[0m run_ids \u001b[38;5;241m=\u001b[39m [\u001b[38;5;124mf\u001b[39m\u001b[38;5;124m\"\u001b[39m\u001b[38;5;124mrun_\u001b[39m\u001b[38;5;132;01m{\u001b[39;00mname[\u001b[38;5;241m-\u001b[39m\u001b[38;5;241m9\u001b[39m:\u001b[38;5;241m-\u001b[39m\u001b[38;5;241m7\u001b[39m]\u001b[38;5;132;01m}\u001b[39;00m\u001b[38;5;124m\"\u001b[39m \u001b[38;5;28;01mfor\u001b[39;00m name \u001b[38;5;129;01min\u001b[39;00m mango_agent_files]\n\u001b[1;32m     22\u001b[0m mango_agents \u001b[38;5;241m=\u001b[39m [\n\u001b[0;32m---> 23\u001b[0m     \u001b[43mutils_save\u001b[49m\u001b[38;5;241;43m.\u001b[39;49m\u001b[43mload_from_file\u001b[49m\u001b[43m(\u001b[49m\u001b[43mdir_path\u001b[49m\u001b[43m \u001b[49m\u001b[38;5;241;43m+\u001b[39;49m\u001b[43m \u001b[49m\u001b[38;5;124;43m\"\u001b[39;49m\u001b[38;5;124;43mmodels/\u001b[39;49m\u001b[38;5;124;43m\"\u001b[39;49m\u001b[43m \u001b[49m\u001b[38;5;241;43m+\u001b[39;49m\u001b[43m \u001b[49m\u001b[43mfile_name\u001b[49m\u001b[43m)\u001b[49m\n\u001b[1;32m     24\u001b[0m     \u001b[38;5;28;01mfor\u001b[39;00m file_name \u001b[38;5;129;01min\u001b[39;00m mango_agent_files\n\u001b[1;32m     25\u001b[0m ]\n\u001b[1;32m     26\u001b[0m agents_list\u001b[38;5;241m.\u001b[39mappend(mango_agents)\n\u001b[1;32m     27\u001b[0m labels\u001b[38;5;241m.\u001b[39mappend(\u001b[38;5;124m\"\u001b[39m\u001b[38;5;124mmango\u001b[39m\u001b[38;5;124m\"\u001b[39m)\n",
      "File \u001b[0;32m~/Documents/MANGO-lite/frozen_lake_tests/utils_save.py:57\u001b[0m, in \u001b[0;36mload_from_file\u001b[0;34m(path, device)\u001b[0m\n\u001b[1;32m     55\u001b[0m \u001b[38;5;28;01mdef\u001b[39;00m \u001b[38;5;21mload_from_file\u001b[39m(path: \u001b[38;5;28mstr\u001b[39m, device\u001b[38;5;241m=\u001b[39m\u001b[38;5;28;01mNone\u001b[39;00m) \u001b[38;5;241m-\u001b[39m\u001b[38;5;241m>\u001b[39m Any:\n\u001b[1;32m     56\u001b[0m     \u001b[38;5;28;01mwith\u001b[39;00m \u001b[38;5;28mopen\u001b[39m(path, \u001b[38;5;124m\"\u001b[39m\u001b[38;5;124mrb\u001b[39m\u001b[38;5;124m\"\u001b[39m) \u001b[38;5;28;01mas\u001b[39;00m f:\n\u001b[0;32m---> 57\u001b[0m         obj \u001b[38;5;241m=\u001b[39m \u001b[43mpickle\u001b[49m\u001b[38;5;241;43m.\u001b[39;49m\u001b[43mload\u001b[49m\u001b[43m(\u001b[49m\u001b[43mf\u001b[49m\u001b[43m)\u001b[49m\n\u001b[1;32m     59\u001b[0m     \u001b[38;5;28;01mif\u001b[39;00m \u001b[38;5;28misinstance\u001b[39m(obj, Mango):\n\u001b[1;32m     60\u001b[0m         \u001b[38;5;28;01mfor\u001b[39;00m layer \u001b[38;5;129;01min\u001b[39;00m obj\u001b[38;5;241m.\u001b[39mabstract_layers:\n",
      "\u001b[0;31mUnpicklingError\u001b[0m: state is not a dictionary"
     ]
    }
   ],
   "source": [
    "if isinstance(p_frozen, float):\n",
    "    p_frozen = [p_frozen]\n",
    "elif len(p_frozen) > 1:\n",
    "    dir_path = f\"frozen_lake_tests/results/{map_base**map_scale}x{map_base**map_scale}/\"\n",
    "    name = \"allmaps\" if one_shot else \"1randmap\"\n",
    "    utils_plot.plot_confront_reward_avg_multiple_p(\n",
    "        map_base,\n",
    "        map_scale,\n",
    "        p_frozen,\n",
    "        one_shot,\n",
    "        plot_vanilla_agent,\n",
    "        plot_nomask_mango_agent,\n",
    "        save_path=dir_path + f\"comparison_avg_reward_{name}.pdf\",\n",
    "    )\n",
    "for p in p_frozen:\n",
    "    dir_path = utils_save.path_to_save_dir(map_base, map_scale, p, one_shot)\n",
    "    files = sorted(os.listdir(dir_path + \"models/\"))\n",
    "    agents_list, labels, colors = [], [], []\n",
    "    if plot_mango:\n",
    "        mango_agent_files = [name for name in files if name.startswith(\"mango_agent\")]\n",
    "        run_ids = [f\"run_{name[-9:-7]}\" for name in mango_agent_files]\n",
    "        mango_agents = [\n",
    "            utils_save.load_from_file(dir_path + \"models/\" + file_name)\n",
    "            for file_name in mango_agent_files\n",
    "        ]\n",
    "        agents_list.append(mango_agents)\n",
    "        labels.append(\"mango\")\n",
    "        colors.append(\"tab:orange\")\n",
    "    if plot_vanilla_agent:\n",
    "        normal_agent_files = [name for name in files if name.startswith(\"normal_agent\")]\n",
    "        run_ids = [f\"run_{name[-9:-7]}\" for name in normal_agent_files]\n",
    "        normal_agents = [\n",
    "            utils_save.load_from_file(dir_path + \"models/\" + file_name)\n",
    "            for file_name in normal_agent_files\n",
    "        ]\n",
    "        agents_list.append(normal_agents)\n",
    "        labels.append(\"vanilla\")\n",
    "        colors.append(\"tab:blue\")\n",
    "    if plot_nomask_mango_agent:\n",
    "        mango_nomask_agent_files = [name for name in files if name.startswith(\"nomask_mango_agent\")]\n",
    "        run_ids = [f\"run_{name[-9:-7]}\" for name in mango_nomask_agent_files]\n",
    "        mango_nomask_agents = [\n",
    "            utils_save.load_from_file(dir_path + \"models/\" + file_name)\n",
    "            for file_name in mango_nomask_agent_files\n",
    "        ]\n",
    "        agents_list.append(mango_nomask_agents)\n",
    "        labels.append(\"mango_nomask\")\n",
    "        colors.append(\"tab:green\")\n",
    "\n",
    "    os.makedirs(dir_path + \"comparisons/\", exist_ok=True)\n",
    "    utils_plot.plot_confront_loss_reward_avg(\n",
    "        agents_list, labels, colors, save_path=f\"{dir_path}comparisons/compare_reward_avg.pdf\"\n",
    "    )\n",
    "\n",
    "    if plot_single:\n",
    "        for agents, run_id_str in zip(zip(*agents_list), run_ids):\n",
    "            utils_plot.plot_confront_loss_reward(\n",
    "                agents,\n",
    "                labels,\n",
    "                colors,\n",
    "                save_path=f\"{dir_path}comparisons/compare_reward_{run_id_str}.pdf\",\n",
    "            )"
   ]
  },
  {
   "cell_type": "code",
   "execution_count": null,
   "metadata": {},
   "outputs": [],
   "source": []
  }
 ],
 "metadata": {
  "kernelspec": {
   "display_name": "python310base",
   "language": "python",
   "name": "python3"
  },
  "language_info": {
   "codemirror_mode": {
    "name": "ipython",
    "version": 3
   },
   "file_extension": ".py",
   "mimetype": "text/x-python",
   "name": "python",
   "nbconvert_exporter": "python",
   "pygments_lexer": "ipython3",
   "version": "3.10.12"
  },
  "orig_nbformat": 4
 },
 "nbformat": 4,
 "nbformat_minor": 2
}
