{
 "cells": [
  {
   "cell_type": "code",
   "execution_count": 1,
   "metadata": {},
   "outputs": [
    {
     "name": "stdout",
     "output_type": "stream",
     "text": [
      "(array([], dtype=int32), array(0), array([0, 1]), array([0, 1, 2]), array([0, 1, 2, 3]), array([0, 1, 2, 3, 4]), array([0, 1, 2, 3, 4, 5]), array([0, 1, 2, 3, 4, 5, 6]), array([0, 1, 2, 3, 4, 5, 6, 7]), array([0, 1, 2, 3, 4, 5, 6, 7, 8]))\n",
      "{'0': array([], dtype=int32), '1': array(0), '2': array([0, 1]), '3': array([0, 1, 2]), '4': array([0, 1, 2, 3]), '5': array([0, 1, 2, 3, 4]), '6': array([0, 1, 2, 3, 4, 5]), '7': array([0, 1, 2, 3, 4, 5, 6]), '8': array([0, 1, 2, 3, 4, 5, 6, 7]), '9': array([0, 1, 2, 3, 4, 5, 6, 7, 8])}\n"
     ]
    }
   ],
   "source": [
    "import numpy as np\n",
    "from mango import NamedMultiArray, MultiArray\n",
    "a = MultiArray(np.arange(i).squeeze() for i in range(10))\n",
    "print(a)\n",
    "a = NamedMultiArray([str(i) for i in range(10)], a)\n",
    "print(a)"
   ]
  },
  {
   "cell_type": "code",
   "execution_count": 9,
   "metadata": {},
   "outputs": [
    {
     "data": {
      "text/plain": [
       "ConvEncoder(\n",
       "  (0): ConvNet(\n",
       "    (0): ConvCell(\n",
       "      (0): Conv2d(1, 16, kernel_size=(3, 3), stride=(1, 1))\n",
       "      (1): ReLU()\n",
       "    )\n",
       "    (1): ConvCell(\n",
       "      (0): BatchNorm2d(16, eps=1e-05, momentum=0.1, affine=True, track_running_stats=True)\n",
       "      (1): MaxPool2d(kernel_size=2, stride=2, padding=0, dilation=1, ceil_mode=False)\n",
       "      (2): Conv2d(16, 16, kernel_size=(3, 3), stride=(1, 1))\n",
       "      (3): ReLU()\n",
       "    )\n",
       "  )\n",
       "  (1): LinearNet(\n",
       "    (0): Flatten(start_dim=1, end_dim=-1)\n",
       "    (1): LinearCell(\n",
       "      (0): BatchNorm1d(64, eps=1e-05, momentum=0.1, affine=True, track_running_stats=True)\n",
       "      (1): Linear(in_features=64, out_features=16, bias=True)\n",
       "      (2): ReLU()\n",
       "    )\n",
       "    (2): LinearCell(\n",
       "      (0): BatchNorm1d(16, eps=1e-05, momentum=0.1, affine=True, track_running_stats=True)\n",
       "      (1): Linear(in_features=16, out_features=8, bias=True)\n",
       "    )\n",
       "  )\n",
       ")"
      ]
     },
     "execution_count": 9,
     "metadata": {},
     "output_type": "execute_result"
    }
   ],
   "source": [
    "from networks.networks import *\n",
    "\n",
    "ConvEncoder(in_shape=(10,10), out_features=8)"
   ]
  },
  {
   "cell_type": "code",
   "execution_count": 10,
   "metadata": {},
   "outputs": [
    {
     "data": {
      "text/plain": [
       "Sequential(\n",
       "  (0): RReLU(lower=0.125, upper=0.3333333333333333)\n",
       "  (1): Conv2d(1, 1, kernel_size=(3, 3), stride=(1, 1), padding=(1, 1))\n",
       ")"
      ]
     },
     "execution_count": 10,
     "metadata": {},
     "output_type": "execute_result"
    }
   ],
   "source": [
    "import torch\n",
    "torch.nn.Sequential(torch.nn.RReLU(), torch.nn.Conv2d(1, 1, 3, padding=1))"
   ]
  },
  {
   "cell_type": "code",
   "execution_count": null,
   "metadata": {},
   "outputs": [],
   "source": []
  },
  {
   "cell_type": "code",
   "execution_count": 8,
   "metadata": {},
   "outputs": [
    {
     "name": "stdout",
     "output_type": "stream",
     "text": [
      "caca\n",
      "caca2\n"
     ]
    }
   ],
   "source": [
    "class Caca:\n",
    "    name = \"caca\" \n",
    "    @classmethod\n",
    "    def esempio(cls, x):\n",
    "        print(cls.name)\n",
    "        \n",
    "        \n",
    "class Caca2(Caca):\n",
    "    name = \"caca2\"\n",
    "       \n",
    "oggetto = Caca()\n",
    "Caca.esempio(oggetto)\n",
    "Caca2.esempio(oggetto)"
   ]
  },
  {
   "cell_type": "code",
   "execution_count": 14,
   "metadata": {},
   "outputs": [
    {
     "data": {
      "text/plain": [
       "array([[1, 2, 3]])"
      ]
     },
     "execution_count": 14,
     "metadata": {},
     "output_type": "execute_result"
    }
   ],
   "source": [
    "def func(x, nhaankddl)-> y:\n",
    "    ..."
   ]
  },
  {
   "cell_type": "code",
   "execution_count": 6,
   "metadata": {},
   "outputs": [
    {
     "name": "stdout",
     "output_type": "stream",
     "text": [
      "10\n"
     ]
    }
   ],
   "source": [
    "try: \n",
    "    raise ValueError(f\"a\", 10)\n",
    "except ValueError as e:\n",
    "    (msg, a) = e.args\n",
    "    print(a)"
   ]
  },
  {
   "cell_type": "code",
   "execution_count": 3,
   "metadata": {},
   "outputs": [
    {
     "name": "stdout",
     "output_type": "stream",
     "text": [
      "AbsTransition(start_state='s1', action='a1', next_state='s2', reward=1, terminated=False, truncated=False, info={}, start_abs_state=None, next_abs_state=None)\n"
     ]
    }
   ],
   "source": [
    "from protocols import AbsTransition\n",
    "\n",
    "a = AbsTransition(\"s1\", \"a1\", \"s2\", 1, False, False, {})\n",
    "\n",
    "\n",
    "print(a)"
   ]
  }
 ],
 "metadata": {
  "kernelspec": {
   "display_name": "python310base",
   "language": "python",
   "name": "python3"
  },
  "language_info": {
   "codemirror_mode": {
    "name": "ipython",
    "version": 3
   },
   "file_extension": ".py",
   "mimetype": "text/x-python",
   "name": "python",
   "nbconvert_exporter": "python",
   "pygments_lexer": "ipython3",
   "version": "3.10.12"
  },
  "orig_nbformat": 4
 },
 "nbformat": 4,
 "nbformat_minor": 2
}
