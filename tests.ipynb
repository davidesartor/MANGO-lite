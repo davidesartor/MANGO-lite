{
 "cells": [
  {
   "cell_type": "code",
   "execution_count": 1,
   "metadata": {},
   "outputs": [
    {
     "name": "stdout",
     "output_type": "stream",
     "text": [
      "the input shape is: torch.Size([3, 4, 1, 1])\n",
      "the output shape is: torch.Size([3, 8])\n",
      "the net after first run is:\n",
      "ConvEncoder(\n",
      "  (0): Flatten(start_dim=1, end_dim=-1)\n",
      "  (1): LinearNet(\n",
      "    (0): LinearCell(\n",
      "      (0): BatchNorm1d(4, eps=1e-05, momentum=0.1, affine=True, track_running_stats=True)\n",
      "      (1): Linear(in_features=4, out_features=16, bias=True)\n",
      "      (2): ReLU()\n",
      "    )\n",
      "    (1): LinearCell(\n",
      "      (0): BatchNorm1d(16, eps=1e-05, momentum=0.1, affine=True, track_running_stats=True)\n",
      "      (1): Linear(in_features=16, out_features=8, bias=True)\n",
      "    )\n",
      "  )\n",
      ")\n"
     ]
    },
    {
     "name": "stderr",
     "output_type": "stream",
     "text": [
      "c:\\Users\\dsart\\anaconda3\\envs\\python310base\\lib\\site-packages\\torch\\nn\\modules\\lazy.py:180: UserWarning: Lazy modules are a new feature under heavy development so changes to the API or functionality can happen at any moment.\n",
      "  warnings.warn('Lazy modules are a new feature under heavy development '\n"
     ]
    }
   ],
   "source": [
    "import torch\n",
    "from mango.neuralnetworks.networks import ConvEncoder\n",
    "\n",
    "net = ConvEncoder(\n",
    "    in_channels=None,\n",
    "    out_features=8,\n",
    ")\n",
    "\n",
    "# play with the input shape and dimension\n",
    "batch_size = 3\n",
    "channels = 4\n",
    "\n",
    "x = torch.randn(batch_size, channels, 1, 1)\n",
    "print(f\"the input shape is: {x.shape}\")\n",
    "\n",
    "y = net(x)\n",
    "print(f\"the output shape is: {y.shape}\")\n",
    "    \n",
    "\n",
    "print(\"the net after first run is:\")\n",
    "print(net)"
   ]
  },
  {
   "cell_type": "code",
   "execution_count": 1,
   "metadata": {},
   "outputs": [
    {
     "name": "stderr",
     "output_type": "stream",
     "text": [
      "c:\\Users\\dsart\\anaconda3\\envs\\python310base\\lib\\site-packages\\torch\\nn\\modules\\lazy.py:180: UserWarning: Lazy modules are a new feature under heavy development so changes to the API or functionality can happen at any moment.\n",
      "  warnings.warn('Lazy modules are a new feature under heavy development '\n"
     ]
    },
    {
     "data": {
      "text/plain": [
       "Mango(\n",
       "    (env): DummyEnvironment(state=0),\n",
       "    (options): \n",
       "        (0): Discrete(2),\n",
       "        (1): Discrete(2),\n",
       "        (2): Discrete(2),\n",
       "    (concepts): \n",
       "        (base): IdentityConcept(),\n",
       "        (1): Combine(concept=IdentityConcept(), action_compatibility=FullCompatibility(comand_space=Discrete(2))),\n",
       "        (2): Combine(concept=IdentityConcept(), action_compatibility=FullCompatibility(comand_space=Discrete(2))),\n",
       "    (policies): \n",
       "        (0): DQnetPolicyMapper(comand_space=Discrete(2), action_space=Discrete(2)),\n",
       "        (1): DQnetPolicyMapper(comand_space=Discrete(2), action_space=Discrete(2)),\n",
       "        (2): DQnetPolicyMapper(comand_space=Discrete(2), action_space=Discrete(2)),\n",
       ")"
      ]
     },
     "execution_count": 1,
     "metadata": {},
     "output_type": "execute_result"
    }
   ],
   "source": [
    "from mango.mango import Mango\n",
    "from mango.concepts import Combine, IdentityConcept, FullCompatibility\n",
    "from mango.environments import DummyEnvironment\n",
    "from gymnasium import spaces\n",
    "\n",
    "n_layers = 2\n",
    "\n",
    "mango = Mango(\n",
    "    environment=DummyEnvironment(),\n",
    "    concepts=[\n",
    "        Combine(IdentityConcept(), FullCompatibility(spaces.Discrete(2)))\n",
    "        for _ in range(n_layers)\n",
    "    ],\n",
    "    base_concept=IdentityConcept(),\n",
    ")\n",
    "\n",
    "mango"
   ]
  }
 ],
 "metadata": {
  "kernelspec": {
   "display_name": "python310base",
   "language": "python",
   "name": "python3"
  },
  "language_info": {
   "codemirror_mode": {
    "name": "ipython",
    "version": 3
   },
   "file_extension": ".py",
   "mimetype": "text/x-python",
   "name": "python",
   "nbconvert_exporter": "python",
   "pygments_lexer": "ipython3",
   "version": "3.10.12"
  },
  "orig_nbformat": 4
 },
 "nbformat": 4,
 "nbformat_minor": 2
}
