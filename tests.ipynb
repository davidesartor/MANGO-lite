{
 "cells": [
  {
   "cell_type": "code",
   "execution_count": 1,
   "metadata": {},
   "outputs": [],
   "source": [
    "import torch\n",
    "from neuralnetworks.networks import ConvEncoder"
   ]
  },
  {
   "cell_type": "code",
   "execution_count": 10,
   "metadata": {},
   "outputs": [
    {
     "name": "stdout",
     "output_type": "stream",
     "text": [
      "the input shape is: torch.Size([3, 4, 1, 32])\n",
      "the output shape is: torch.Size([3, 8])\n",
      "the net after first run is:\n",
      "ConvEncoder(\n",
      "  (0): ConvNet(\n",
      "    (0): ConvCell(\n",
      "      (0): BatchNorm2d(4, eps=1e-05, momentum=0.1, affine=True, track_running_stats=True)\n",
      "      (1): Conv2d(4, 16, kernel_size=(3, 3), stride=(1, 1), padding=same)\n",
      "      (2): ReLU()\n",
      "    )\n",
      "    (1): ConvCell(\n",
      "      (0): BatchNorm2d(16, eps=1e-05, momentum=0.1, affine=True, track_running_stats=True)\n",
      "      (1): Conv2d(16, 16, kernel_size=(3, 3), stride=(1, 1), padding=same, dilation=(2, 2))\n",
      "      (2): ReLU()\n",
      "    )\n",
      "  )\n",
      "  (1): Flatten(start_dim=1, end_dim=-1)\n",
      "  (2): LinearNet(\n",
      "    (0): LinearCell(\n",
      "      (0): BatchNorm1d(512, eps=1e-05, momentum=0.1, affine=True, track_running_stats=True)\n",
      "      (1): Linear(in_features=512, out_features=16, bias=True)\n",
      "      (2): ReLU()\n",
      "    )\n",
      "    (1): LinearCell(\n",
      "      (0): BatchNorm1d(16, eps=1e-05, momentum=0.1, affine=True, track_running_stats=True)\n",
      "      (1): Linear(in_features=16, out_features=8, bias=True)\n",
      "    )\n",
      "  )\n",
      ")\n"
     ]
    }
   ],
   "source": [
    "net = ConvEncoder(\n",
    "    in_channels=None,\n",
    "    out_features=8,\n",
    ")\n",
    "\n",
    "# play with the input shape and dimension\n",
    "batch_size = 3\n",
    "channels = 4\n",
    "\n",
    "x = torch.randn(batch_size, channels, 1, 32)\n",
    "print(f\"the input shape is: {x.shape}\")\n",
    "\n",
    "y = net(x)\n",
    "print(f\"the output shape is: {y.shape}\")\n",
    "    \n",
    "\n",
    "print(\"the net after first run is:\")\n",
    "print(net)"
   ]
  }
 ],
 "metadata": {
  "kernelspec": {
   "display_name": "python310base",
   "language": "python",
   "name": "python3"
  },
  "language_info": {
   "codemirror_mode": {
    "name": "ipython",
    "version": 3
   },
   "file_extension": ".py",
   "mimetype": "text/x-python",
   "name": "python",
   "nbconvert_exporter": "python",
   "pygments_lexer": "ipython3",
   "version": "3.10.12"
  },
  "orig_nbformat": 4
 },
 "nbformat": 4,
 "nbformat_minor": 2
}
