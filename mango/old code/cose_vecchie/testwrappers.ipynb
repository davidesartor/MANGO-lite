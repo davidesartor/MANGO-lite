{
 "cells": [
  {
   "cell_type": "code",
   "execution_count": 9,
   "id": "b4c18930-6e5b-4408-8615-507fc7f9da04",
   "metadata": {},
   "outputs": [],
   "source": [
    "import torch\n",
    "import torch.nn\n",
    "import numpy as np\n",
    "import matplotlib.pyplot as plt\n",
    "\n",
    "\n",
    "import gym_minigrid\n",
    "import gym"
   ]
  },
  {
   "cell_type": "code",
   "execution_count": 10,
   "id": "5386357c-8bf9-4c9c-89dc-a0f10a5128f3",
   "metadata": {},
   "outputs": [],
   "source": [
    "from gym_minigrid.wrappers import FullyObsWrapper, ImgObsWrapper\n",
    "from customwrappers import FreeMovementEnvWrapper, OneHotObsWrapper"
   ]
  },
  {
   "cell_type": "code",
   "execution_count": 11,
   "id": "84071eaf",
   "metadata": {},
   "outputs": [],
   "source": [
    "env_base = gym.make('MiniGrid-DoorKey-5x5-v0')"
   ]
  },
  {
   "cell_type": "code",
   "execution_count": 12,
   "id": "fbbb7d51",
   "metadata": {},
   "outputs": [],
   "source": [
    "env_obs = FullyObsWrapper(env_base)"
   ]
  },
  {
   "cell_type": "code",
   "execution_count": 13,
   "id": "581f2152",
   "metadata": {},
   "outputs": [
    {
     "data": {
      "text/plain": [
       "({'image': array([[[ 2,  5,  0],\n",
       "          [ 2,  5,  0],\n",
       "          [ 2,  5,  0],\n",
       "          [ 2,  5,  0],\n",
       "          [ 2,  5,  0]],\n",
       "  \n",
       "         [[ 2,  5,  0],\n",
       "          [ 5,  4,  0],\n",
       "          [10,  0,  1],\n",
       "          [ 1,  0,  0],\n",
       "          [ 2,  5,  0]],\n",
       "  \n",
       "         [[ 2,  5,  0],\n",
       "          [ 2,  5,  0],\n",
       "          [ 4,  4,  2],\n",
       "          [ 2,  5,  0],\n",
       "          [ 2,  5,  0]],\n",
       "  \n",
       "         [[ 2,  5,  0],\n",
       "          [ 1,  0,  0],\n",
       "          [ 1,  0,  0],\n",
       "          [ 8,  1,  0],\n",
       "          [ 2,  5,  0]],\n",
       "  \n",
       "         [[ 2,  5,  0],\n",
       "          [ 2,  5,  0],\n",
       "          [ 2,  5,  0],\n",
       "          [ 2,  5,  0],\n",
       "          [ 2,  5,  0]]], dtype=uint8),\n",
       "  'direction': 1,\n",
       "  'mission': 'use the key to open the door and then get to the goal'},\n",
       " {})"
      ]
     },
     "execution_count": 13,
     "metadata": {},
     "output_type": "execute_result"
    }
   ],
   "source": [
    "env_obs.reset()"
   ]
  },
  {
   "cell_type": "code",
   "execution_count": 14,
   "id": "d174f3a1",
   "metadata": {},
   "outputs": [],
   "source": [
    "max_objects = 16\n",
    "env_onehot = OneHotObsWrapper(env_obs,max_objects)"
   ]
  },
  {
   "cell_type": "code",
   "execution_count": 15,
   "id": "99b00446",
   "metadata": {},
   "outputs": [
    {
     "ename": "TypeError",
     "evalue": "tuple indices must be integers or slices, not str",
     "output_type": "error",
     "traceback": [
      "\u001b[0;31m---------------------------------------------------------------------------\u001b[0m",
      "\u001b[0;31mTypeError\u001b[0m                                 Traceback (most recent call last)",
      "Cell \u001b[0;32mIn [15], line 1\u001b[0m\n\u001b[0;32m----> 1\u001b[0m env_onehot\u001b[39m.\u001b[39;49mreset()\n",
      "File \u001b[0;32m~/Documents/Abstract_RL/customwrappers.py:127\u001b[0m, in \u001b[0;36mOneHotObsWrapper.reset\u001b[0;34m(self)\u001b[0m\n\u001b[1;32m    126\u001b[0m \u001b[39mdef\u001b[39;00m \u001b[39mreset\u001b[39m(\u001b[39mself\u001b[39m):\n\u001b[0;32m--> 127\u001b[0m     reset \u001b[39m=\u001b[39m \u001b[39mself\u001b[39;49m\u001b[39m.\u001b[39;49m_reset()\n\u001b[1;32m    128\u001b[0m     \u001b[39mself\u001b[39m\u001b[39m.\u001b[39mold_abstract_state \u001b[39m=\u001b[39m reset[\u001b[39m\"\u001b[39m\u001b[39mstate\u001b[39m\u001b[39m\"\u001b[39m]\n\u001b[1;32m    129\u001b[0m     \u001b[39mreturn\u001b[39;00m reset\n",
      "File \u001b[0;32m~/Documents/Abstract_RL/customwrappers.py:104\u001b[0m, in \u001b[0;36mOneHotObsWrapper._reset\u001b[0;34m(self)\u001b[0m\n\u001b[1;32m    102\u001b[0m \u001b[39mdef\u001b[39;00m \u001b[39m_reset\u001b[39m(\u001b[39mself\u001b[39m):\n\u001b[1;32m    103\u001b[0m     reset \u001b[39m=\u001b[39m \u001b[39mself\u001b[39m\u001b[39m.\u001b[39menv\u001b[39m.\u001b[39mreset()\n\u001b[0;32m--> 104\u001b[0m     img \u001b[39m=\u001b[39m reset[\u001b[39m\"\u001b[39;49m\u001b[39mimage\u001b[39;49m\u001b[39m\"\u001b[39;49m]\n\u001b[1;32m    105\u001b[0m     out \u001b[39m=\u001b[39m np\u001b[39m.\u001b[39mzeros(\u001b[39mself\u001b[39m\u001b[39m.\u001b[39mobservation_space\u001b[39m.\u001b[39mspaces[\u001b[39m\"\u001b[39m\u001b[39mimage\u001b[39m\u001b[39m\"\u001b[39m]\u001b[39m.\u001b[39mshape, dtype\u001b[39m=\u001b[39m\u001b[39m\"\u001b[39m\u001b[39muint8\u001b[39m\u001b[39m\"\u001b[39m)\n\u001b[1;32m    106\u001b[0m     state_space \u001b[39m=\u001b[39m np\u001b[39m.\u001b[39mzeros(\u001b[39mself\u001b[39m\u001b[39m.\u001b[39mmax_state_objects)\n",
      "\u001b[0;31mTypeError\u001b[0m: tuple indices must be integers or slices, not str"
     ]
    }
   ],
   "source": [
    "env_onehot.reset()"
   ]
  },
  {
   "cell_type": "code",
   "execution_count": 21,
   "id": "6c96325a",
   "metadata": {},
   "outputs": [
    {
     "ename": "TypeError",
     "evalue": "MiniGridEnv.render() takes 1 positional argument but 2 were given",
     "output_type": "error",
     "traceback": [
      "\u001b[0;31m---------------------------------------------------------------------------\u001b[0m",
      "\u001b[0;31mTypeError\u001b[0m                                 Traceback (most recent call last)",
      "Cell \u001b[0;32mIn [21], line 1\u001b[0m\n\u001b[0;32m----> 1\u001b[0m img \u001b[39m=\u001b[39m env_onehot\u001b[39m.\u001b[39;49mrender(\u001b[39m'\u001b[39;49m\u001b[39mrgb_array\u001b[39;49m\u001b[39m'\u001b[39;49m)\n",
      "File \u001b[0;32m~/.virtualenvs/minigrid/lib/python3.10/site-packages/gym/core.py:329\u001b[0m, in \u001b[0;36mWrapper.render\u001b[0;34m(self, *args, **kwargs)\u001b[0m\n\u001b[1;32m    325\u001b[0m \u001b[39mdef\u001b[39;00m \u001b[39mrender\u001b[39m(\n\u001b[1;32m    326\u001b[0m     \u001b[39mself\u001b[39m, \u001b[39m*\u001b[39margs, \u001b[39m*\u001b[39m\u001b[39m*\u001b[39mkwargs\n\u001b[1;32m    327\u001b[0m ) \u001b[39m-\u001b[39m\u001b[39m>\u001b[39m Optional[Union[RenderFrame, List[RenderFrame]]]:\n\u001b[1;32m    328\u001b[0m     \u001b[39m\"\"\"Renders the environment.\"\"\"\u001b[39;00m\n\u001b[0;32m--> 329\u001b[0m     \u001b[39mreturn\u001b[39;00m \u001b[39mself\u001b[39;49m\u001b[39m.\u001b[39;49menv\u001b[39m.\u001b[39;49mrender(\u001b[39m*\u001b[39;49margs, \u001b[39m*\u001b[39;49m\u001b[39m*\u001b[39;49mkwargs)\n",
      "File \u001b[0;32m~/.virtualenvs/minigrid/lib/python3.10/site-packages/gym/core.py:329\u001b[0m, in \u001b[0;36mWrapper.render\u001b[0;34m(self, *args, **kwargs)\u001b[0m\n\u001b[1;32m    325\u001b[0m \u001b[39mdef\u001b[39;00m \u001b[39mrender\u001b[39m(\n\u001b[1;32m    326\u001b[0m     \u001b[39mself\u001b[39m, \u001b[39m*\u001b[39margs, \u001b[39m*\u001b[39m\u001b[39m*\u001b[39mkwargs\n\u001b[1;32m    327\u001b[0m ) \u001b[39m-\u001b[39m\u001b[39m>\u001b[39m Optional[Union[RenderFrame, List[RenderFrame]]]:\n\u001b[1;32m    328\u001b[0m     \u001b[39m\"\"\"Renders the environment.\"\"\"\u001b[39;00m\n\u001b[0;32m--> 329\u001b[0m     \u001b[39mreturn\u001b[39;00m \u001b[39mself\u001b[39;49m\u001b[39m.\u001b[39;49menv\u001b[39m.\u001b[39;49mrender(\u001b[39m*\u001b[39;49margs, \u001b[39m*\u001b[39;49m\u001b[39m*\u001b[39;49mkwargs)\n",
      "File \u001b[0;32m~/.virtualenvs/minigrid/lib/python3.10/site-packages/gym/wrappers/order_enforcing.py:51\u001b[0m, in \u001b[0;36mOrderEnforcing.render\u001b[0;34m(self, *args, **kwargs)\u001b[0m\n\u001b[1;32m     46\u001b[0m \u001b[39mif\u001b[39;00m \u001b[39mnot\u001b[39;00m \u001b[39mself\u001b[39m\u001b[39m.\u001b[39m_disable_render_order_enforcing \u001b[39mand\u001b[39;00m \u001b[39mnot\u001b[39;00m \u001b[39mself\u001b[39m\u001b[39m.\u001b[39m_has_reset:\n\u001b[1;32m     47\u001b[0m     \u001b[39mraise\u001b[39;00m ResetNeeded(\n\u001b[1;32m     48\u001b[0m         \u001b[39m\"\u001b[39m\u001b[39mCannot call `env.render()` before calling `env.reset()`, if this is a intended action, \u001b[39m\u001b[39m\"\u001b[39m\n\u001b[1;32m     49\u001b[0m         \u001b[39m\"\u001b[39m\u001b[39mset `disable_render_order_enforcing=True` on the OrderEnforcer wrapper.\u001b[39m\u001b[39m\"\u001b[39m\n\u001b[1;32m     50\u001b[0m     )\n\u001b[0;32m---> 51\u001b[0m \u001b[39mreturn\u001b[39;00m \u001b[39mself\u001b[39;49m\u001b[39m.\u001b[39;49menv\u001b[39m.\u001b[39;49mrender(\u001b[39m*\u001b[39;49margs, \u001b[39m*\u001b[39;49m\u001b[39m*\u001b[39;49mkwargs)\n",
      "File \u001b[0;32m~/.virtualenvs/minigrid/lib/python3.10/site-packages/gym/wrappers/env_checker.py:53\u001b[0m, in \u001b[0;36mPassiveEnvChecker.render\u001b[0;34m(self, *args, **kwargs)\u001b[0m\n\u001b[1;32m     51\u001b[0m \u001b[39mif\u001b[39;00m \u001b[39mself\u001b[39m\u001b[39m.\u001b[39mchecked_render \u001b[39mis\u001b[39;00m \u001b[39mFalse\u001b[39;00m:\n\u001b[1;32m     52\u001b[0m     \u001b[39mself\u001b[39m\u001b[39m.\u001b[39mchecked_render \u001b[39m=\u001b[39m \u001b[39mTrue\u001b[39;00m\n\u001b[0;32m---> 53\u001b[0m     \u001b[39mreturn\u001b[39;00m env_render_passive_checker(\u001b[39mself\u001b[39;49m\u001b[39m.\u001b[39;49menv, \u001b[39m*\u001b[39;49margs, \u001b[39m*\u001b[39;49m\u001b[39m*\u001b[39;49mkwargs)\n\u001b[1;32m     54\u001b[0m \u001b[39melse\u001b[39;00m:\n\u001b[1;32m     55\u001b[0m     \u001b[39mreturn\u001b[39;00m \u001b[39mself\u001b[39m\u001b[39m.\u001b[39menv\u001b[39m.\u001b[39mrender(\u001b[39m*\u001b[39margs, \u001b[39m*\u001b[39m\u001b[39m*\u001b[39mkwargs)\n",
      "File \u001b[0;32m~/.virtualenvs/minigrid/lib/python3.10/site-packages/gym/utils/passive_env_checker.py:316\u001b[0m, in \u001b[0;36menv_render_passive_checker\u001b[0;34m(env, *args, **kwargs)\u001b[0m\n\u001b[1;32m    310\u001b[0m     \u001b[39melse\u001b[39;00m:\n\u001b[1;32m    311\u001b[0m         \u001b[39massert\u001b[39;00m env\u001b[39m.\u001b[39mrender_mode \u001b[39mis\u001b[39;00m \u001b[39mNone\u001b[39;00m \u001b[39mor\u001b[39;00m env\u001b[39m.\u001b[39mrender_mode \u001b[39min\u001b[39;00m render_modes, (\n\u001b[1;32m    312\u001b[0m             \u001b[39m\"\u001b[39m\u001b[39mThe environment was initialized successfully however with an unsupported render mode. \u001b[39m\u001b[39m\"\u001b[39m\n\u001b[1;32m    313\u001b[0m             \u001b[39mf\u001b[39m\u001b[39m\"\u001b[39m\u001b[39mRender mode: \u001b[39m\u001b[39m{\u001b[39;00menv\u001b[39m.\u001b[39mrender_mode\u001b[39m}\u001b[39;00m\u001b[39m, modes: \u001b[39m\u001b[39m{\u001b[39;00mrender_modes\u001b[39m}\u001b[39;00m\u001b[39m\"\u001b[39m\n\u001b[1;32m    314\u001b[0m         )\n\u001b[0;32m--> 316\u001b[0m result \u001b[39m=\u001b[39m env\u001b[39m.\u001b[39;49mrender(\u001b[39m*\u001b[39;49margs, \u001b[39m*\u001b[39;49m\u001b[39m*\u001b[39;49mkwargs)\n\u001b[1;32m    318\u001b[0m \u001b[39m# TODO: Check that the result is correct\u001b[39;00m\n\u001b[1;32m    320\u001b[0m \u001b[39mreturn\u001b[39;00m result\n",
      "\u001b[0;31mTypeError\u001b[0m: MiniGridEnv.render() takes 1 positional argument but 2 were given"
     ]
    }
   ],
   "source": [
    "img = env_onehot.render('rgb_array')"
   ]
  },
  {
   "cell_type": "code",
   "execution_count": 12,
   "id": "122ec302-a7fa-4916-9d56-2bdd338e0be4",
   "metadata": {},
   "outputs": [
    {
     "name": "stdout",
     "output_type": "stream",
     "text": [
      "({'image': array([[[0, 0, 0],\n",
      "        [0, 0, 0],\n",
      "        [0, 0, 0],\n",
      "        [0, 0, 0],\n",
      "        [0, 0, 0],\n",
      "        [0, 0, 0],\n",
      "        [0, 0, 0]],\n",
      "\n",
      "       [[0, 0, 0],\n",
      "        [0, 0, 0],\n",
      "        [0, 0, 0],\n",
      "        [0, 0, 0],\n",
      "        [0, 0, 0],\n",
      "        [0, 0, 0],\n",
      "        [0, 0, 0]],\n",
      "\n",
      "       [[0, 0, 0],\n",
      "        [0, 0, 0],\n",
      "        [0, 0, 0],\n",
      "        [0, 0, 0],\n",
      "        [2, 5, 0],\n",
      "        [2, 5, 0],\n",
      "        [2, 5, 0]],\n",
      "\n",
      "       [[0, 0, 0],\n",
      "        [0, 0, 0],\n",
      "        [0, 0, 0],\n",
      "        [0, 0, 0],\n",
      "        [2, 5, 0],\n",
      "        [5, 4, 0],\n",
      "        [1, 0, 0]],\n",
      "\n",
      "       [[0, 0, 0],\n",
      "        [0, 0, 0],\n",
      "        [0, 0, 0],\n",
      "        [0, 0, 0],\n",
      "        [2, 5, 0],\n",
      "        [4, 4, 2],\n",
      "        [2, 5, 0]],\n",
      "\n",
      "       [[0, 0, 0],\n",
      "        [0, 0, 0],\n",
      "        [0, 0, 0],\n",
      "        [0, 0, 0],\n",
      "        [0, 0, 0],\n",
      "        [0, 0, 0],\n",
      "        [0, 0, 0]],\n",
      "\n",
      "       [[0, 0, 0],\n",
      "        [0, 0, 0],\n",
      "        [0, 0, 0],\n",
      "        [0, 0, 0],\n",
      "        [0, 0, 0],\n",
      "        [0, 0, 0],\n",
      "        [0, 0, 0]]], dtype=uint8), 'direction': 3, 'mission': 'use the key to open the door and then get to the goal'}, {})\n"
     ]
    },
    {
     "ename": "TypeError",
     "evalue": "'Box' object is not subscriptable",
     "output_type": "error",
     "traceback": [
      "\u001b[0;31m---------------------------------------------------------------------------\u001b[0m",
      "\u001b[0;31mTypeError\u001b[0m                                 Traceback (most recent call last)",
      "Cell \u001b[0;32mIn [12], line 7\u001b[0m\n\u001b[1;32m      5\u001b[0m \u001b[39m# add obs wrappers\u001b[39;00m\n\u001b[1;32m      6\u001b[0m max_objects \u001b[39m=\u001b[39m \u001b[39m16\u001b[39m\n\u001b[0;32m----> 7\u001b[0m env_onehot \u001b[39m=\u001b[39m OneHotObsWrapper(env_obs,max_objects)\n\u001b[1;32m      8\u001b[0m \u001b[39m#env2 = ImgObsWrapper(env1)\u001b[39;00m\n\u001b[1;32m      9\u001b[0m env_onehot\u001b[39m.\u001b[39mreset()\n",
      "File \u001b[0;32m~/Documents/Abstract_RL/customwrappers.py:67\u001b[0m, in \u001b[0;36mOneHotObsWrapper.__init__\u001b[0;34m(self, env, max_objects, max_state_objects)\u001b[0m\n\u001b[1;32m     64\u001b[0m \u001b[39mself\u001b[39m\u001b[39m.\u001b[39mold_abstract_state \u001b[39m=\u001b[39m \u001b[39mNone\u001b[39;00m\n\u001b[1;32m     66\u001b[0m \u001b[39m# create new img space ( box of shape (row, cols, maxobjects) )\u001b[39;00m\n\u001b[0;32m---> 67\u001b[0m obs_shape \u001b[39m=\u001b[39m env\u001b[39m.\u001b[39;49mobservation_space[\u001b[39m\"\u001b[39;49m\u001b[39mimage\u001b[39;49m\u001b[39m\"\u001b[39;49m]\u001b[39m.\u001b[39mshape\n\u001b[1;32m     68\u001b[0m new_image_space \u001b[39m=\u001b[39m gym\u001b[39m.\u001b[39mcore\u001b[39m.\u001b[39mspaces\u001b[39m.\u001b[39mBox(\n\u001b[1;32m     69\u001b[0m     low\u001b[39m=\u001b[39m\u001b[39m0\u001b[39m, high\u001b[39m=\u001b[39m\u001b[39m255\u001b[39m, shape\u001b[39m=\u001b[39m(obs_shape[\u001b[39m0\u001b[39m], obs_shape[\u001b[39m1\u001b[39m], max_objects), dtype\u001b[39m=\u001b[39m\u001b[39m\"\u001b[39m\u001b[39muint8\u001b[39m\u001b[39m\"\u001b[39m\n\u001b[1;32m     70\u001b[0m )\n\u001b[1;32m     72\u001b[0m \u001b[39m# override img field in the obs dict with new img space\u001b[39;00m\n",
      "\u001b[0;31mTypeError\u001b[0m: 'Box' object is not subscriptable"
     ]
    }
   ],
   "source": [
    "env_base = gym.make('MiniGrid-DoorKey-5x5-v0')\n",
    "\n",
    "# add free movement\n",
    "#env = FreeMovementEnvWrapper(env)\n",
    "# add obs wrappers\n",
    "max_objects = 16\n",
    "env_obs = FullyObsWrapper(env_base)\n",
    "#p=env_obs.reset()\n",
    "env_onehot = OneHotObsWrapper(env_obs,max_objects)\n",
    "#env2 = ImgObsWrapper(env1)\n",
    "env_onehot.reset()\n",
    "img = env_onehot.render('rgb_array')\n",
    "plt.imshow(img)\n",
    "plt.show()\n",
    "\n"
   ]
  },
  {
   "cell_type": "code",
   "execution_count": 4,
   "id": "0ccb6162",
   "metadata": {},
   "outputs": [
    {
     "data": {
      "text/plain": [
       "{'image': array([[[1, 0, 0, 0, 0, 0, 0, 0, 0, 0, 0, 0, 0, 0, 0, 0],\n",
       "         [1, 0, 0, 0, 0, 0, 0, 0, 0, 0, 0, 0, 0, 0, 0, 0],\n",
       "         [1, 0, 0, 0, 0, 0, 0, 0, 0, 0, 0, 0, 0, 0, 0, 0],\n",
       "         [1, 0, 0, 0, 0, 0, 0, 0, 0, 0, 0, 0, 0, 0, 0, 0],\n",
       "         [1, 0, 0, 0, 0, 0, 0, 0, 0, 0, 0, 0, 0, 0, 0, 0]],\n",
       " \n",
       "        [[1, 0, 0, 0, 0, 0, 0, 0, 0, 0, 0, 0, 0, 0, 0, 0],\n",
       "         [0, 0, 1, 0, 0, 0, 0, 0, 0, 0, 0, 0, 0, 0, 0, 0],\n",
       "         [0, 0, 0, 0, 0, 0, 1, 0, 0, 0, 0, 0, 0, 0, 0, 0],\n",
       "         [0, 1, 0, 0, 0, 0, 0, 0, 0, 0, 0, 0, 0, 0, 0, 0],\n",
       "         [1, 0, 0, 0, 0, 0, 0, 0, 0, 0, 0, 0, 0, 0, 0, 0]],\n",
       " \n",
       "        [[1, 0, 0, 0, 0, 0, 0, 0, 0, 0, 0, 0, 0, 0, 0, 0],\n",
       "         [0, 0, 0, 0, 1, 0, 0, 0, 0, 0, 0, 0, 0, 0, 0, 0],\n",
       "         [1, 0, 0, 0, 0, 0, 0, 0, 0, 0, 0, 0, 0, 0, 0, 0],\n",
       "         [1, 0, 0, 0, 0, 0, 0, 0, 0, 0, 0, 0, 0, 0, 0, 0],\n",
       "         [1, 0, 0, 0, 0, 0, 0, 0, 0, 0, 0, 0, 0, 0, 0, 0]],\n",
       " \n",
       "        [[1, 0, 0, 0, 0, 0, 0, 0, 0, 0, 0, 0, 0, 0, 0, 0],\n",
       "         [0, 1, 0, 0, 0, 0, 0, 0, 0, 0, 0, 0, 0, 0, 0, 0],\n",
       "         [0, 1, 0, 0, 0, 0, 0, 0, 0, 0, 0, 0, 0, 0, 0, 0],\n",
       "         [0, 0, 0, 0, 0, 1, 0, 0, 0, 0, 0, 0, 0, 0, 0, 0],\n",
       "         [1, 0, 0, 0, 0, 0, 0, 0, 0, 0, 0, 0, 0, 0, 0, 0]],\n",
       " \n",
       "        [[1, 0, 0, 0, 0, 0, 0, 0, 0, 0, 0, 0, 0, 0, 0, 0],\n",
       "         [1, 0, 0, 0, 0, 0, 0, 0, 0, 0, 0, 0, 0, 0, 0, 0],\n",
       "         [1, 0, 0, 0, 0, 0, 0, 0, 0, 0, 0, 0, 0, 0, 0, 0],\n",
       "         [1, 0, 0, 0, 0, 0, 0, 0, 0, 0, 0, 0, 0, 0, 0, 0],\n",
       "         [1, 0, 0, 0, 0, 0, 0, 0, 0, 0, 0, 0, 0, 0, 0, 0]]], dtype=uint8),\n",
       " 'direction': 2,\n",
       " 'mission': 'use the key to open the door and then get to the goal',\n",
       " 'state': array([1., 1., 1., 0., 0., 0., 0., 0., 0., 0.])}"
      ]
     },
     "execution_count": 4,
     "metadata": {},
     "output_type": "execute_result"
    }
   ],
   "source": [
    "env_onehot.reset()"
   ]
  },
  {
   "cell_type": "code",
   "execution_count": 5,
   "id": "7b880601",
   "metadata": {},
   "outputs": [
    {
     "data": {
      "text/plain": [
       "{(5, 4, 0): 0, (4, 4, 2): 1, (8, 1, 0): 2}"
      ]
     },
     "execution_count": 5,
     "metadata": {},
     "output_type": "execute_result"
    }
   ],
   "source": [
    "env_onehot.item_dict"
   ]
  },
  {
   "cell_type": "code",
   "execution_count": 6,
   "id": "9e2ba9f6",
   "metadata": {},
   "outputs": [
    {
     "name": "stdout",
     "output_type": "stream",
     "text": [
      "({'image': array([[[ 2,  5,  0],\n",
      "        [ 2,  5,  0],\n",
      "        [ 2,  5,  0],\n",
      "        [ 2,  5,  0],\n",
      "        [ 2,  5,  0]],\n",
      "\n",
      "       [[ 2,  5,  0],\n",
      "        [ 5,  4,  0],\n",
      "        [10,  0,  2],\n",
      "        [ 1,  0,  0],\n",
      "        [ 2,  5,  0]],\n",
      "\n",
      "       [[ 2,  5,  0],\n",
      "        [ 4,  4,  2],\n",
      "        [ 2,  5,  0],\n",
      "        [ 2,  5,  0],\n",
      "        [ 2,  5,  0]],\n",
      "\n",
      "       [[ 2,  5,  0],\n",
      "        [ 1,  0,  0],\n",
      "        [ 1,  0,  0],\n",
      "        [ 8,  1,  0],\n",
      "        [ 2,  5,  0]],\n",
      "\n",
      "       [[ 2,  5,  0],\n",
      "        [ 2,  5,  0],\n",
      "        [ 2,  5,  0],\n",
      "        [ 2,  5,  0],\n",
      "        [ 2,  5,  0]]], dtype=uint8), 'direction': 2, 'mission': 'use the key to open the door and then get to the goal'}, 0, False, False, {})\n"
     ]
    }
   ],
   "source": [
    "print(env_obs.step(3))"
   ]
  },
  {
   "cell_type": "code",
   "execution_count": 4,
   "id": "008c9486",
   "metadata": {},
   "outputs": [
    {
     "name": "stdout",
     "output_type": "stream",
     "text": [
      "[0. 0. 0. 0. 0. 0. 0. 0. 0. 0.]\n",
      "(array([[[1, 0, 0, 0, 0, 0, 0, 0, 0, 0, 0, 0, 0, 0, 0, 0],\n",
      "        [1, 0, 0, 0, 0, 0, 0, 0, 0, 0, 0, 0, 0, 0, 0, 0],\n",
      "        [1, 0, 0, 0, 0, 0, 0, 0, 0, 0, 0, 0, 0, 0, 0, 0],\n",
      "        [1, 0, 0, 0, 0, 0, 0, 0, 0, 0, 0, 0, 0, 0, 0, 0],\n",
      "        [1, 0, 0, 0, 0, 0, 0, 0, 0, 0, 0, 0, 0, 0, 0, 0]],\n",
      "\n",
      "       [[1, 0, 0, 0, 0, 0, 0, 0, 0, 0, 0, 0, 0, 0, 0, 0],\n",
      "        [0, 1, 0, 0, 0, 0, 0, 0, 0, 0, 0, 0, 0, 0, 0, 0],\n",
      "        [0, 0, 1, 0, 0, 0, 0, 0, 0, 0, 0, 0, 0, 0, 0, 0],\n",
      "        [0, 0, 0, 1, 0, 0, 0, 0, 0, 0, 0, 0, 0, 0, 0, 0],\n",
      "        [1, 0, 0, 0, 0, 0, 0, 0, 0, 0, 0, 0, 0, 0, 0, 0]],\n",
      "\n",
      "       [[1, 0, 0, 0, 0, 0, 0, 0, 0, 0, 0, 0, 0, 0, 0, 0],\n",
      "        [0, 0, 0, 0, 1, 0, 0, 0, 0, 0, 0, 0, 0, 0, 0, 0],\n",
      "        [1, 0, 0, 0, 0, 0, 0, 0, 0, 0, 0, 0, 0, 0, 0, 0],\n",
      "        [1, 0, 0, 0, 0, 0, 0, 0, 0, 0, 0, 0, 0, 0, 0, 0],\n",
      "        [1, 0, 0, 0, 0, 0, 0, 0, 0, 0, 0, 0, 0, 0, 0, 0]],\n",
      "\n",
      "       [[1, 0, 0, 0, 0, 0, 0, 0, 0, 0, 0, 0, 0, 0, 0, 0],\n",
      "        [0, 0, 1, 0, 0, 0, 0, 0, 0, 0, 0, 0, 0, 0, 0, 0],\n",
      "        [0, 0, 1, 0, 0, 0, 0, 0, 0, 0, 0, 0, 0, 0, 0, 0],\n",
      "        [0, 0, 0, 0, 0, 1, 0, 0, 0, 0, 0, 0, 0, 0, 0, 0],\n",
      "        [1, 0, 0, 0, 0, 0, 0, 0, 0, 0, 0, 0, 0, 0, 0, 0]],\n",
      "\n",
      "       [[1, 0, 0, 0, 0, 0, 0, 0, 0, 0, 0, 0, 0, 0, 0, 0],\n",
      "        [1, 0, 0, 0, 0, 0, 0, 0, 0, 0, 0, 0, 0, 0, 0, 0],\n",
      "        [1, 0, 0, 0, 0, 0, 0, 0, 0, 0, 0, 0, 0, 0, 0, 0],\n",
      "        [1, 0, 0, 0, 0, 0, 0, 0, 0, 0, 0, 0, 0, 0, 0, 0],\n",
      "        [1, 0, 0, 0, 0, 0, 0, 0, 0, 0, 0, 0, 0, 0, 0, 0]]], dtype=uint8), array([1., 1., 1., 0., 0., 0., 0., 0., 0., 0.]), 0, False, False)\n"
     ]
    }
   ],
   "source": [
    "print(env_onehot.step(3))\n",
    "print(env_onehot.abstract_actions)\n",
    "img = env_onehot.render('rgb_array')\n",
    "plt.imshow(img)\n",
    "plt.show()\n"
   ]
  },
  {
   "cell_type": "code",
   "execution_count": 7,
   "id": "208f9303",
   "metadata": {},
   "outputs": [
    {
     "ename": "TypeError",
     "evalue": "observation() missing 1 required positional argument: 'obs'",
     "output_type": "error",
     "traceback": [
      "\u001b[0;31m---------------------------------------------------------------------------\u001b[0m",
      "\u001b[0;31mTypeError\u001b[0m                                 Traceback (most recent call last)",
      "\u001b[0;32m/var/folders/m5/gwy76h051b78cmrncgncqv880000gn/T/ipykernel_4748/1508931217.py\u001b[0m in \u001b[0;36m<module>\u001b[0;34m\u001b[0m\n\u001b[0;32m----> 1\u001b[0;31m \u001b[0menv1\u001b[0m\u001b[0;34m.\u001b[0m\u001b[0mobservation\u001b[0m\u001b[0;34m(\u001b[0m\u001b[0;34m)\u001b[0m\u001b[0;34m\u001b[0m\u001b[0;34m\u001b[0m\u001b[0m\n\u001b[0m",
      "\u001b[0;31mTypeError\u001b[0m: observation() missing 1 required positional argument: 'obs'"
     ]
    }
   ],
   "source": [
    "env1.observation()"
   ]
  },
  {
   "cell_type": "code",
   "execution_count": 23,
   "id": "0fd10699",
   "metadata": {},
   "outputs": [
    {
     "data": {
      "text/plain": [
       "{'[2 5 0]': 0,\n",
       " '[10  0  3]': 1,\n",
       " '[1 0 0]': 2,\n",
       " '[5 4 0]': 3,\n",
       " '[4 4 2]': 4,\n",
       " '[8 1 0]': 5,\n",
       " '[10  0  2]': 6,\n",
       " '[10  0  1]': 7,\n",
       " '[10  0  0]': 8,\n",
       " '[4 4 0]': 9}"
      ]
     },
     "execution_count": 23,
     "metadata": {},
     "output_type": "execute_result"
    }
   ],
   "source": [
    "env_onehot.object_dict"
   ]
  },
  {
   "cell_type": "code",
   "execution_count": 82,
   "id": "bd95025b",
   "metadata": {},
   "outputs": [
    {
     "data": {
      "text/plain": [
       "array([[[ 2,  2,  2,  2,  2],\n",
       "        [ 2,  1,  2,  1,  2],\n",
       "        [ 2, 10,  4,  1,  2],\n",
       "        [ 2,  5,  2,  8,  2],\n",
       "        [ 2,  2,  2,  2,  2]],\n",
       "\n",
       "       [[ 5,  5,  5,  5,  5],\n",
       "        [ 5,  0,  5,  0,  5],\n",
       "        [ 5,  0,  4,  0,  5],\n",
       "        [ 5,  4,  5,  1,  5],\n",
       "        [ 5,  5,  5,  5,  5]],\n",
       "\n",
       "       [[ 0,  0,  0,  0,  0],\n",
       "        [ 0,  0,  0,  0,  0],\n",
       "        [ 0,  3,  2,  0,  0],\n",
       "        [ 0,  0,  0,  0,  0],\n",
       "        [ 0,  0,  0,  0,  0]]], dtype=uint8)"
      ]
     },
     "execution_count": 82,
     "metadata": {},
     "output_type": "execute_result"
    }
   ],
   "source": [
    "p[\"image\"].T"
   ]
  },
  {
   "cell_type": "code",
   "execution_count": null,
   "id": "7977ff89",
   "metadata": {},
   "outputs": [],
   "source": [
    "env2.render(\"\")"
   ]
  },
  {
   "cell_type": "code",
   "execution_count": 79,
   "id": "e963c7e5",
   "metadata": {},
   "outputs": [
    {
     "data": {
      "text/plain": [
       "array([[[ 2,  5,  0],\n",
       "        [ 2,  5,  0],\n",
       "        [ 2,  5,  0],\n",
       "        [ 2,  5,  0],\n",
       "        [ 2,  5,  0]],\n",
       "\n",
       "       [[ 2,  5,  0],\n",
       "        [ 5,  4,  0],\n",
       "        [ 1,  0,  0],\n",
       "        [10,  0,  0],\n",
       "        [ 2,  5,  0]],\n",
       "\n",
       "       [[ 2,  5,  0],\n",
       "        [ 4,  4,  2],\n",
       "        [ 2,  5,  0],\n",
       "        [ 2,  5,  0],\n",
       "        [ 2,  5,  0]],\n",
       "\n",
       "       [[ 2,  5,  0],\n",
       "        [ 1,  0,  0],\n",
       "        [ 1,  0,  0],\n",
       "        [ 8,  1,  0],\n",
       "        [ 2,  5,  0]],\n",
       "\n",
       "       [[ 2,  5,  0],\n",
       "        [ 2,  5,  0],\n",
       "        [ 2,  5,  0],\n",
       "        [ 2,  5,  0],\n",
       "        [ 2,  5,  0]]], dtype=uint8)"
      ]
     },
     "execution_count": 79,
     "metadata": {},
     "output_type": "execute_result"
    }
   ],
   "source": [
    "r[\"image\"]"
   ]
  },
  {
   "cell_type": "code",
   "execution_count": 67,
   "id": "7d043ade",
   "metadata": {},
   "outputs": [
    {
     "data": {
      "image/png": "[encoded data removed]",
      "text/plain": [
       "<Figure size 640x480 with 1 Axes>"
      ]
     },
     "metadata": {},
     "output_type": "display_data"
    }
   ],
   "source": [
    "env1.step(0)\n",
    "img = env1.render('rgb_array')\n",
    "plt.imshow(img)\n",
    "plt.show()"
   ]
  },
  {
   "cell_type": "code",
   "execution_count": 30,
   "id": "2147c898",
   "metadata": {},
   "outputs": [
    {
     "data": {
      "text/plain": [
       "array([[[1, 1, 1, 1, 1],\n",
       "        [1, 0, 0, 0, 1],\n",
       "        [1, 0, 1, 0, 1],\n",
       "        [1, 0, 1, 0, 1],\n",
       "        [1, 1, 1, 1, 1]],\n",
       "\n",
       "       [[0, 0, 0, 0, 0],\n",
       "        [0, 0, 0, 0, 0],\n",
       "        [0, 1, 0, 0, 0],\n",
       "        [0, 0, 0, 0, 0],\n",
       "        [0, 0, 0, 0, 0]],\n",
       "\n",
       "       [[0, 0, 0, 0, 0],\n",
       "        [0, 0, 0, 1, 0],\n",
       "        [0, 0, 0, 1, 0],\n",
       "        [0, 1, 0, 0, 0],\n",
       "        [0, 0, 0, 0, 0]],\n",
       "\n",
       "       [[0, 0, 0, 0, 0],\n",
       "        [0, 0, 0, 0, 0],\n",
       "        [0, 0, 0, 0, 0],\n",
       "        [0, 0, 0, 0, 0],\n",
       "        [0, 0, 0, 0, 0]],\n",
       "\n",
       "       [[0, 0, 0, 0, 0],\n",
       "        [0, 0, 1, 0, 0],\n",
       "        [0, 0, 0, 0, 0],\n",
       "        [0, 0, 0, 0, 0],\n",
       "        [0, 0, 0, 0, 0]],\n",
       "\n",
       "       [[0, 0, 0, 0, 0],\n",
       "        [0, 0, 0, 0, 0],\n",
       "        [0, 0, 0, 0, 0],\n",
       "        [0, 0, 0, 1, 0],\n",
       "        [0, 0, 0, 0, 0]]], dtype=uint8)"
      ]
     },
     "execution_count": 30,
     "metadata": {},
     "output_type": "execute_result"
    }
   ],
   "source": [
    "env2.step(5)[0][:,:,:6].T"
   ]
  },
  {
   "cell_type": "code",
   "execution_count": 23,
   "id": "bae437f6",
   "metadata": {},
   "outputs": [
    {
     "data": {
      "text/plain": [
       "1"
      ]
     },
     "execution_count": 23,
     "metadata": {},
     "output_type": "execute_result"
    }
   ],
   "source": [
    "10%3"
   ]
  },
  {
   "cell_type": "code",
   "execution_count": 22,
   "id": "6d0ab831",
   "metadata": {},
   "outputs": [
    {
     "data": {
      "text/plain": [
       "1"
      ]
     },
     "execution_count": 22,
     "metadata": {},
     "output_type": "execute_result"
    }
   ],
   "source": [
    "ok1"
   ]
  },
  {
   "cell_type": "code",
   "execution_count": 4,
   "id": "473a74b4",
   "metadata": {},
   "outputs": [
    {
     "data": {
      "text/plain": [
       "array([[[1, 0, 0, 0, 0, 0, 0, 0, 0, 0, 0, 0, 0, 0, 0, 0],\n",
       "        [1, 0, 0, 0, 0, 0, 0, 0, 0, 0, 0, 0, 0, 0, 0, 0],\n",
       "        [1, 0, 0, 0, 0, 0, 0, 0, 0, 0, 0, 0, 0, 0, 0, 0],\n",
       "        [1, 0, 0, 0, 0, 0, 0, 0, 0, 0, 0, 0, 0, 0, 0, 0],\n",
       "        [1, 0, 0, 0, 0, 0, 0, 0, 0, 0, 0, 0, 0, 0, 0, 0]],\n",
       "\n",
       "       [[1, 0, 0, 0, 0, 0, 0, 0, 0, 0, 0, 0, 0, 0, 0, 0],\n",
       "        [0, 1, 0, 0, 0, 0, 0, 0, 0, 0, 0, 0, 0, 0, 0, 0],\n",
       "        [0, 0, 1, 0, 0, 0, 0, 0, 0, 0, 0, 0, 0, 0, 0, 0],\n",
       "        [0, 0, 1, 0, 0, 0, 0, 0, 0, 0, 0, 0, 0, 0, 0, 0],\n",
       "        [1, 0, 0, 0, 0, 0, 0, 0, 0, 0, 0, 0, 0, 0, 0, 0]],\n",
       "\n",
       "       [[1, 0, 0, 0, 0, 0, 0, 0, 0, 0, 0, 0, 0, 0, 0, 0],\n",
       "        [0, 0, 1, 0, 0, 0, 0, 0, 0, 0, 0, 0, 0, 0, 0, 0],\n",
       "        [0, 0, 1, 0, 0, 0, 0, 0, 0, 0, 0, 0, 0, 0, 0, 0],\n",
       "        [0, 0, 1, 0, 0, 0, 0, 0, 0, 0, 0, 0, 0, 0, 0, 0],\n",
       "        [1, 0, 0, 0, 0, 0, 0, 0, 0, 0, 0, 0, 0, 0, 0, 0]],\n",
       "\n",
       "       [[1, 0, 0, 0, 0, 0, 0, 0, 0, 0, 0, 0, 0, 0, 0, 0],\n",
       "        [0, 0, 1, 0, 0, 0, 0, 0, 0, 0, 0, 0, 0, 0, 0, 0],\n",
       "        [0, 0, 1, 0, 0, 0, 0, 0, 0, 0, 0, 0, 0, 0, 0, 0],\n",
       "        [0, 0, 0, 1, 0, 0, 0, 0, 0, 0, 0, 0, 0, 0, 0, 0],\n",
       "        [1, 0, 0, 0, 0, 0, 0, 0, 0, 0, 0, 0, 0, 0, 0, 0]],\n",
       "\n",
       "       [[1, 0, 0, 0, 0, 0, 0, 0, 0, 0, 0, 0, 0, 0, 0, 0],\n",
       "        [1, 0, 0, 0, 0, 0, 0, 0, 0, 0, 0, 0, 0, 0, 0, 0],\n",
       "        [1, 0, 0, 0, 0, 0, 0, 0, 0, 0, 0, 0, 0, 0, 0, 0],\n",
       "        [1, 0, 0, 0, 0, 0, 0, 0, 0, 0, 0, 0, 0, 0, 0, 0],\n",
       "        [1, 0, 0, 0, 0, 0, 0, 0, 0, 0, 0, 0, 0, 0, 0, 0]]], dtype=uint8)"
      ]
     },
     "execution_count": 4,
     "metadata": {},
     "output_type": "execute_result"
    }
   ],
   "source": [
    "env.reset()"
   ]
  },
  {
   "cell_type": "code",
   "execution_count": 6,
   "id": "4ab6ba42-6f5e-48de-931f-1a370385c5ad",
   "metadata": {},
   "outputs": [
    {
     "name": "stdout",
     "output_type": "stream",
     "text": [
      "WGWGWGWGWG\n",
      "WG>>    WG\n",
      "WG      WG\n",
      "WG    GGWG\n",
      "WGWGWGWGWG\n",
      "\n",
      "WGWGWGWGWG\n",
      "WG  >>  WG\n",
      "WG      WG\n",
      "WG    GGWG\n",
      "WGWGWGWGWG\n",
      "\n",
      "WGWGWGWGWG\n",
      "WG      WG\n",
      "WG  VV  WG\n",
      "WG    GGWG\n",
      "WGWGWGWGWG\n",
      "\n",
      "WGWGWGWGWG\n",
      "WG      WG\n",
      "WG<<    WG\n",
      "WG    GGWG\n",
      "WGWGWGWGWG\n",
      "\n",
      "WGWGWGWGWG\n",
      "WG^^    WG\n",
      "WG      WG\n",
      "WG    GGWG\n",
      "WGWGWGWGWG\n",
      "\n"
     ]
    }
   ],
   "source": [
    "# start position\n",
    "img= env.reset()\n",
    "print(env.unwrapped)\n",
    "print()\n",
    "\n",
    "# step right\n",
    "new_obs, reward, done, truncated = env.step(0)\n",
    "print(env.unwrapped)\n",
    "print()\n",
    "\n",
    "# step down\n",
    "new_obs, reward, done, truncated = env.step(1)\n",
    "print(env.unwrapped)\n",
    "print()\n",
    "\n",
    "# step left\n",
    "new_obs, reward, done, truncated = env.step(2)\n",
    "print(env.unwrapped)\n",
    "print()\n",
    "\n",
    "# step up\n",
    "new_obs, reward, done, truncated = env.step(3)\n",
    "print(env.unwrapped)\n",
    "print()"
   ]
  },
  {
   "cell_type": "code",
   "execution_count": null,
   "id": "613c8584-b12e-42e4-acb1-68023ff183ee",
   "metadata": {},
   "outputs": [],
   "source": []
  }
 ],
 "metadata": {
  "kernelspec": {
   "display_name": "Python 3.10.8 ('minigrid')",
   "language": "python",
   "name": "python3"
  },
  "language_info": {
   "codemirror_mode": {
    "name": "ipython",
    "version": 3
   },
   "file_extension": ".py",
   "mimetype": "text/x-python",
   "name": "python",
   "nbconvert_exporter": "python",
   "pygments_lexer": "ipython3",
   "version": "3.10.8"
  },
  "vscode": {
   "interpreter": {
    "hash": "4fe5e2243e5f8211266afd88540b92e8cd9caa558da99b723d476aa3581102bf"
   }
  }
 },
 "nbformat": 4,
 "nbformat_minor": 5
}
