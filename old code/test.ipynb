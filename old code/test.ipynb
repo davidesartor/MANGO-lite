{
 "cells": [
  {
   "cell_type": "code",
   "execution_count": 1,
   "metadata": {},
   "outputs": [
    {
     "data": {
      "image/png": "[encoded data removed]",
      "text/plain": [
       "<Figure size 200x100 with 1 Axes>"
      ]
     },
     "metadata": {},
     "output_type": "display_data"
    }
   ],
   "source": [
    "from matplotlib import pyplot as plt\n",
    "from utils.environments import NRoomsZanin\n",
    "env = NRoomsZanin(room_shapes=(5, 5), grid_shape=(1,2), n_doors=2)\n",
    "\n",
    "state, info = env.reset()\n",
    "env.render()"
   ]
  },
  {
   "cell_type": "code",
   "execution_count": 2,
   "metadata": {},
   "outputs": [],
   "source": [
    "from utils.concepts import LocalRoomConcept, AgentPosConcept, FruitPosConcept\n",
    "concepts = {\n",
    "    \"base\": LocalRoomConcept(env.observation_space),\n",
    "    \"layer1\": AgentPosConcept(env.observation_space),\n",
    "    \"layer2\": FruitPosConcept(env.observation_space),\n",
    "}"
   ]
  },
  {
   "cell_type": "code",
   "execution_count": 3,
   "metadata": {},
   "outputs": [
    {
     "name": "stdout",
     "output_type": "stream",
     "text": [
      "{'rooms': {0: array([[1., 1., 1., 1., 1.],\n",
      "       [1., 0., 0., 0., 2.],\n",
      "       [1., 0., 0., 3., 1.],\n",
      "       [1., 0., 0., 0., 2.],\n",
      "       [1., 1., 1., 1., 1.]]), 1: array([[ 1.,  1.,  1.,  1.,  1.],\n",
      "       [ 2.,  0.,  0.,  0.,  1.],\n",
      "       [ 1.,  0.,  0.,  0.,  1.],\n",
      "       [ 2.,  0., -1.,  0.,  1.],\n",
      "       [ 1.,  1.,  1.,  1.,  1.]])}, 'agent_pos': array([0., 1.]), 'fruit_pos': array([0., 1.])}\n",
      "\n",
      "[[ 1.  1.  1.  1.  1.]\n",
      " [ 2.  0.  0.  0.  1.]\n",
      " [ 1.  0.  0.  0.  1.]\n",
      " [ 2.  0. -1.  0.  1.]\n",
      " [ 1.  1.  1.  1.  1.]]\n",
      "[0. 1.]\n",
      "[0. 1.]\n"
     ]
    },
    {
     "data": {
      "image/png": "[encoded data removed]",
      "text/plain": [
       "<Figure size 200x100 with 1 Axes>"
      ]
     },
     "metadata": {},
     "output_type": "display_data"
    }
   ],
   "source": [
    "env.render()\n",
    "print(env.current_state)\n",
    "print()\n",
    "for key, concept in concepts.items():\n",
    "    print(concept(env.current_state))"
   ]
  }
 ],
 "metadata": {
  "kernelspec": {
   "display_name": "base",
   "language": "python",
   "name": "python3"
  },
  "language_info": {
   "codemirror_mode": {
    "name": "ipython",
    "version": 3
   },
   "file_extension": ".py",
   "mimetype": "text/x-python",
   "name": "python",
   "nbconvert_exporter": "python",
   "pygments_lexer": "ipython3",
   "version": "3.9.15"
  },
  "orig_nbformat": 4
 },
 "nbformat": 4,
 "nbformat_minor": 2
}
