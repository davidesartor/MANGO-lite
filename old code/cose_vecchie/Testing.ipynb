{
 "cells": [
  {
   "cell_type": "markdown",
   "id": "172e1599-5a82-4db3-84aa-532af214e9ce",
   "metadata": {},
   "source": [
    "# Mock environment\n",
    "\n",
    "define a simple grid where the agent can move freely\n",
    "actionspace = (0,1,2,3)"
   ]
  },
  {
   "cell_type": "code",
   "execution_count": 1,
   "id": "9d8e3ce0-986b-4924-8e35-bd42cfadab92",
   "metadata": {},
   "outputs": [],
   "source": [
    "import torch\n",
    "import numpy as np\n",
    "import matplotlib.pyplot as plt\n",
    "from mango import MangoEnvironment\n",
    "from actions import *\n",
    "from states import *"
   ]
  },
  {
   "cell_type": "code",
   "execution_count": 2,
   "id": "daff9ef7-77ee-4ef8-9121-bb335609d305",
   "metadata": {},
   "outputs": [],
   "source": [
    "class Environment():\n",
    "    def __init__(self):\n",
    "        self.reset()\n",
    "        self.actionspace = [0,1,2,3]\n",
    "    \n",
    "    def reset(self):\n",
    "        self.x, self.y = 0,0\n",
    "        self.render()\n",
    "        return self.get_state()\n",
    "    \n",
    "    def get_state(self):\n",
    "        state = torch.zeros((8,8))\n",
    "        state[self.x,self.y] = 1\n",
    "        return torch.Tensor(state)\n",
    "        \n",
    "    def step(self,action):\n",
    "        if action == 0:\n",
    "            self.x = min((max((self.x+1, 0)),7))\n",
    "        if action == 1:\n",
    "            self.y = min((max((self.y+1, 0)),7))\n",
    "        if action == 2:\n",
    "            self.x = min((max((self.x-1, 0)),7))\n",
    "        if action == 3:\n",
    "            self.y = min((max((self.y-1, 0)),7))\n",
    "        self.render()\n",
    "        return self.get_state(), \"reward\", \"terminated\", \"truncated\"\n",
    "    \n",
    "    def render(self):\n",
    "        plt.imshow(self.get_state())"
   ]
  },
  {
   "cell_type": "code",
   "execution_count": 3,
   "id": "60bf1280-57e0-4bd1-a162-7420b2f1a67d",
   "metadata": {},
   "outputs": [
    {
     "data": {
      "image/png": "[encoded data removed]",
      "text/plain": [
       "<Figure size 432x288 with 1 Axes>"
      ]
     },
     "metadata": {
      "needs_background": "light"
     },
     "output_type": "display_data"
    },
    {
     "data": {
      "image/png": "[encoded data removed]",
      "text/plain": [
       "<Figure size 1152x576 with 4 Axes>"
      ]
     },
     "metadata": {
      "needs_background": "light"
     },
     "output_type": "display_data"
    }
   ],
   "source": [
    "# test the mango env wrapper\n",
    "mangoenv = MangoEnvironment(Environment(),TensorState)\n",
    "\n",
    "plt.figure(figsize=(16,8))\n",
    "for i in range(4):    \n",
    "    plt.subplot(1,4,i+1)\n",
    "    state = mangoenv(i)"
   ]
  },
  {
   "cell_type": "markdown",
   "id": "27b6a674-897e-41d9-a677-5d7887cccf16",
   "metadata": {},
   "source": [
    "# Test Abstraction \n",
    "\n",
    "example abstraction = zoomed out wiew, lowres positional encoding"
   ]
  },
  {
   "cell_type": "code",
   "execution_count": 4,
   "id": "3ec7c908-5d71-42db-ad29-aa5d9c22b71c",
   "metadata": {},
   "outputs": [],
   "source": [
    "from abstraction import AbstractionBuffer,StateAbstractor"
   ]
  },
  {
   "cell_type": "code",
   "execution_count": 5,
   "id": "c5561522-e3a0-4d47-a3ea-64f673de8124",
   "metadata": {},
   "outputs": [],
   "source": [
    "class ZoomOutStateAbstractor(StateAbstractor):\n",
    "    def abstract(self, state):\n",
    "        state = state.repr\n",
    "        state_prime = torch.zeros(((state.shape[0]//2,state.shape[1]//2)))\n",
    "        for x in range(state_prime.shape[0]):\n",
    "            for y in range(state_prime.shape[1]):\n",
    "                state_prime[x,y] = torch.sum(state[2*x:2*x+2,2*y:2*y+2])\n",
    "        return TensorState(state_prime)             "
   ]
  },
  {
   "cell_type": "code",
   "execution_count": 6,
   "id": "c7b5c197-28ec-4a1f-9caa-8d8caa01e21b",
   "metadata": {},
   "outputs": [
    {
     "data": {
      "image/png": "[encoded data removed]",
      "text/plain": [
       "<Figure size 1152x576 with 15 Axes>"
      ]
     },
     "metadata": {
      "needs_background": "light"
     },
     "output_type": "display_data"
    }
   ],
   "source": [
    "abstractor = ZoomOutStateAbstractor()\n",
    "\n",
    "state_prime = abstractor(state)\n",
    "state_double_prime = abstractor(state_prime)\n",
    "\n",
    "plt.figure(figsize=(16,8))\n",
    "plt.subplot(3,5,1)\n",
    "mangoenv.env.render()\n",
    "plt.subplot(3,5,5+1)\n",
    "plt.imshow(state_prime.repr)\n",
    "plt.subplot(3,5,10+1)\n",
    "plt.imshow(state_double_prime.repr)\n",
    "for i in range(4):\n",
    "    plt.subplot(3,5,i+2)\n",
    "    for _ in range(4):\n",
    "        state = mangoenv(i) \n",
    "    state_prime = abstractor(state)\n",
    "    state_double_prime = abstractor(state_prime)\n",
    "    \n",
    "    plt.subplot(3,5,5+i+2)\n",
    "    plt.imshow(state_prime.repr)\n",
    "    plt.subplot(3,5,10+i+2)\n",
    "    plt.imshow(state_double_prime.repr) "
   ]
  },
  {
   "cell_type": "code",
   "execution_count": 7,
   "id": "929e3d6d-49cc-413c-ae95-a76cf0800e19",
   "metadata": {},
   "outputs": [
    {
     "name": "stdout",
     "output_type": "stream",
     "text": [
      "old state': [STATE ['(0,0):1.0)'] layerNone]\n",
      "new state': [STATE ['(0,0):1.0)'] layerNone]\n",
      "action': [ACTION NULL layerNone]\n",
      "\n",
      "old state': [STATE ['(0,0):1.0)'] layerNone]\n",
      "new state': [STATE ['(1,0):1.0)'] layerNone]\n",
      "action': [ACTION ['(0,0):-1.0)', '(1,0):1.0)'] layerNone]\n",
      "\n"
     ]
    },
    {
     "data": {
      "image/png": "[encoded data removed]",
      "text/plain": [
       "<Figure size 432x288 with 1 Axes>"
      ]
     },
     "metadata": {
      "needs_background": "light"
     },
     "output_type": "display_data"
    }
   ],
   "source": [
    "old_state_prime = state_prime\n",
    "new_state_prime = state_prime\n",
    "action_prime = abstractor.get_action_prime(old_state_prime,new_state_prime)\n",
    "print(f\"old state': {old_state_prime}\")\n",
    "print(f\"new state': {new_state_prime}\")\n",
    "print(f\"action': {action_prime}\")\n",
    "print()\n",
    "\n",
    "\n",
    "state = mangoenv(0)\n",
    "state = mangoenv(0)\n",
    "state_prime = abstractor(state)\n",
    "state_double_prime = abstractor(state_prime)\n",
    "\n",
    "new_state_prime = state_prime\n",
    "action_prime = abstractor.get_action_prime(old_state_prime,new_state_prime)\n",
    "print(f\"old state': {old_state_prime}\")\n",
    "print(f\"new state': {new_state_prime}\")\n",
    "print(f\"action': {action_prime}\")\n",
    "print()"
   ]
  },
  {
   "cell_type": "markdown",
   "id": "9565fd14-388e-4254-bd25-c5ac343548f2",
   "metadata": {},
   "source": [
    "# Test buffer"
   ]
  },
  {
   "cell_type": "code",
   "execution_count": 8,
   "id": "62e8dcc2-c359-4ef7-925f-3207a0fab9bc",
   "metadata": {},
   "outputs": [
    {
     "name": "stdout",
     "output_type": "stream",
     "text": [
      "pushing state [STATE ['(0,0):1.0)'] layerNone]\n",
      "\n",
      "current state: [STATE ['(0,0):1.0)'] layerNone]\n",
      "current state': [STATE ['(0,0):1.0)'] layerNone]\n",
      "action': [ACTION NULL layerNone]\n",
      "\n",
      "\n",
      "pushing state [STATE ['(1,0):1.0)'] layerNone]\n",
      "\n",
      "current state: [STATE ['(1,0):1.0)'] layerNone]\n",
      "current state': [STATE ['(0,0):1.0)'] layerNone]\n",
      "action': [ACTION NULL layerNone]\n",
      "\n",
      "\n",
      "pushing state [STATE ['(2,0):1.0)'] layerNone]\n",
      "\n",
      "current state: [STATE ['(2,0):1.0)'] layerNone]\n",
      "current state': [STATE ['(1,0):1.0)'] layerNone]\n",
      "action': [ACTION ['(0,0):-1.0)', '(1,0):1.0)'] layerNone]\n"
     ]
    },
    {
     "data": {
      "image/png": "[encoded data removed]",
      "text/plain": [
       "<Figure size 432x288 with 1 Axes>"
      ]
     },
     "metadata": {
      "needs_background": "light"
     },
     "output_type": "display_data"
    }
   ],
   "source": [
    "buffer = AbstractionBuffer(abstractor)\n",
    "\n",
    "mangoenv.reset()\n",
    "_, state = mangoenv.get_current_state()\n",
    "action_prime = buffer.push(state)\n",
    "print(f\"pushing state {state}\")\n",
    "print()\n",
    "\n",
    "state, state_prime = buffer.get_current_state()\n",
    "print(f\"current state: {state}\")\n",
    "print(f\"current state': {state_prime}\")\n",
    "print(f\"action': {action_prime}\")\n",
    "print()\n",
    "print()\n",
    "\n",
    "mangoenv(0)\n",
    "_, state = mangoenv.get_current_state()\n",
    "\n",
    "action_prime = buffer.push(state)\n",
    "print(f\"pushing state {state}\")\n",
    "print()\n",
    "\n",
    "state, state_prime = buffer.get_current_state()\n",
    "print(f\"current state: {state}\")\n",
    "print(f\"current state': {state_prime}\")\n",
    "print(f\"action': {action_prime}\")\n",
    "print()\n",
    "print()\n",
    "\n",
    "mangoenv(0)\n",
    "_, state = mangoenv.get_current_state()\n",
    "\n",
    "action_prime = buffer.push(state)\n",
    "print(f\"pushing state {state}\")\n",
    "print()\n",
    "\n",
    "state, state_prime = buffer.get_current_state()\n",
    "print(f\"current state: {state}\")\n",
    "print(f\"current state': {state_prime}\")\n",
    "print(f\"action': {action_prime}\")"
   ]
  },
  {
   "cell_type": "markdown",
   "id": "7c6145c7-9577-40db-b022-19259049c2fe",
   "metadata": {},
   "source": [
    "# Test policy"
   ]
  },
  {
   "cell_type": "code",
   "execution_count": 9,
   "id": "c7ab2ff0-a836-40f7-bae6-12fbf3e55b0f",
   "metadata": {},
   "outputs": [],
   "source": [
    "from policies import PolicyStack,Policy"
   ]
  },
  {
   "cell_type": "code",
   "execution_count": 10,
   "id": "fc28b484-5e1c-4110-a036-38cdf0a5dc9b",
   "metadata": {},
   "outputs": [
    {
     "data": {
      "text/plain": [
       "tensor([ 100., -100., -100., -100.])"
      ]
     },
     "execution_count": 10,
     "metadata": {},
     "output_type": "execute_result"
    }
   ],
   "source": [
    "class SimpleNet(torch.nn.Module):\n",
    "    def __init__(self, x,y):\n",
    "        super().__init__()\n",
    "        self.layer = torch.nn.Linear(x*y,4)\n",
    "        \n",
    "    def forward(self,x):\n",
    "        x = torch.flatten(x)\n",
    "        x = self.layer(x)\n",
    "        x = -100*torch.ones(4)\n",
    "        x[0]=100\n",
    "        return x\n",
    "SimpleNet(8,8)(torch.zeros((8,8)))"
   ]
  },
  {
   "cell_type": "code",
   "execution_count": 11,
   "id": "ddefd941-1843-4f24-aa60-9cb5e0c4039c",
   "metadata": {},
   "outputs": [
    {
     "name": "stdout",
     "output_type": "stream",
     "text": [
      "suggested action: 0\n"
     ]
    },
    {
     "data": {
      "image/png": "[encoded data removed]",
      "text/plain": [
       "<Figure size 432x288 with 1 Axes>"
      ]
     },
     "metadata": {
      "needs_background": "light"
     },
     "output_type": "display_data"
    }
   ],
   "source": [
    "mangoenv.reset()\n",
    "_, state = mangoenv.get_current_state()\n",
    "explore_policy = Policy(SimpleNet(8,8))\n",
    "print(f\"suggested action: {explore_policy(state,4)}\")"
   ]
  },
  {
   "cell_type": "code",
   "execution_count": 12,
   "id": "61c3638e-3334-46ac-9fdc-52a95f468dc1",
   "metadata": {},
   "outputs": [
    {
     "name": "stdout",
     "output_type": "stream",
     "text": [
      "current command: [ACTION EXPLORE layerNone]\n",
      "\n",
      "adding new policy for command [ACTION 1 layerNone]\n",
      "\n",
      "current command: [ACTION 1 layerNone]\n",
      "\n"
     ]
    }
   ],
   "source": [
    "policystack = PolicyStack(explore_policy)\n",
    "comand = policystack.current_comand\n",
    "print(f\"current command: {comand}\")\n",
    "print()\n",
    "\n",
    "comand = Action(1)\n",
    "policystack.add_new_policy(comand)\n",
    "print(f\"adding new policy for command {comand}\")\n",
    "print()\n",
    "\n",
    "policystack.set_comand(comand)\n",
    "comand = policystack.current_comand\n",
    "print(f\"current command: {comand}\")\n",
    "print()"
   ]
  },
  {
   "cell_type": "markdown",
   "id": "8e0e9ab2-e371-4122-b4c0-fdae5187699e",
   "metadata": {},
   "source": [
    "# Test MANGO"
   ]
  },
  {
   "cell_type": "code",
   "execution_count": 13,
   "id": "bfd4ea84-c613-4e90-9d43-1187a0b22348",
   "metadata": {},
   "outputs": [],
   "source": [
    "from mango import Mango,MangoEnvironment"
   ]
  },
  {
   "cell_type": "code",
   "execution_count": 14,
   "id": "601132f6-a2c3-4b83-b8cc-e4647c627f0a",
   "metadata": {},
   "outputs": [
    {
     "data": {
      "image/png": "[encoded data removed]",
      "text/plain": [
       "<Figure size 432x288 with 1 Axes>"
      ]
     },
     "metadata": {
      "needs_background": "light"
     },
     "output_type": "display_data"
    }
   ],
   "source": [
    "abstractor = ZoomOutStateAbstractor()\n",
    "mangoenv = MangoEnvironment(Environment(),TensorState)\n",
    "\n",
    "policystack = PolicyStack(Policy(SimpleNet(8,8)),layer=1)\n",
    "mango1 = Mango(mangoenv, policystack, abstractor, layer=1)\n",
    "\n",
    "policystack = PolicyStack(Policy(SimpleNet(4,4)), layer=2)\n",
    "mango2 = Mango(mango1, policystack, abstractor, layer=2)"
   ]
  },
  {
   "cell_type": "code",
   "execution_count": 15,
   "id": "b2127273-1b09-47b8-bbbd-cdbd1606d047",
   "metadata": {},
   "outputs": [
    {
     "name": "stdout",
     "output_type": "stream",
     "text": [
      "MANGO ENV\n",
      "learned commands: ['0', '1', '2', '3']\n",
      "MANGO 1\n",
      "learned commands: ['[ACTION EXPLORE layer1]']\n",
      "MANGO 2\n",
      "learned commands: ['[ACTION EXPLORE layer2]']\n"
     ]
    }
   ],
   "source": [
    "print(\"MANGO ENV\")\n",
    "print(f\"learned commands: {[str(c) for c in mangoenv.learned_comands()]}\")\n",
    "print(\"MANGO 1\")\n",
    "print(f\"learned commands: {[str(c) for c in mango1.learned_comands()]}\")\n",
    "print(\"MANGO 2\")\n",
    "print(f\"learned commands: {[str(c) for c in mango2.learned_comands()]}\")"
   ]
  },
  {
   "cell_type": "code",
   "execution_count": 16,
   "id": "e838ee61-d496-4c1b-8214-cb0ecf4bef5e",
   "metadata": {},
   "outputs": [
    {
     "name": "stdout",
     "output_type": "stream",
     "text": [
      "discovered new action [ACTION ['(0,0):-1.0)', '(1,0):1.0)'] layer1]\n",
      "discovered new action [ACTION ['(1,0):-1.0)', '(2,0):1.0)'] layer1]\n",
      "discovered new action [ACTION ['(2,0):-1.0)', '(3,0):1.0)'] layer1]\n",
      "discovered new action [ACTION ['(0,0):-1.0)', '(1,0):1.0)'] layer2]\n"
     ]
    },
    {
     "data": {
      "image/png": "[encoded data removed]",
      "text/plain": [
       "<Figure size 432x288 with 1 Axes>"
      ]
     },
     "metadata": {
      "needs_background": "light"
     },
     "output_type": "display_data"
    }
   ],
   "source": [
    "comand = mango2.learned_comands()[0]\n",
    "state_prime = mango2.handle_abstract_action(comand)"
   ]
  },
  {
   "cell_type": "code",
   "execution_count": 17,
   "id": "1bf8b911-2872-42e1-ae61-928976c144d0",
   "metadata": {},
   "outputs": [
    {
     "name": "stdout",
     "output_type": "stream",
     "text": [
      "MANGO ENV\n",
      "learned command: 0\n",
      "learned command: 1\n",
      "learned command: 2\n",
      "learned command: 3\n",
      "\n",
      "\n",
      "MANGO 1\n",
      "learned command: [ACTION EXPLORE layer1]\n",
      "learned command: [ACTION ['(0,0):-1.0)', '(1,0):1.0)'] layer1]\n",
      "learned command: [ACTION ['(1,0):-1.0)', '(2,0):1.0)'] layer1]\n",
      "learned command: [ACTION ['(2,0):-1.0)', '(3,0):1.0)'] layer1]\n",
      "\n",
      "\n",
      "MANGO 2\n",
      "learned command: [ACTION EXPLORE layer2]\n",
      "learned command: [ACTION ['(0,0):-1.0)', '(1,0):1.0)'] layer2]\n"
     ]
    }
   ],
   "source": [
    "print(\"MANGO ENV\")\n",
    "for c in mangoenv.learned_comands() :\n",
    "    print(f\"learned command: {str(c)}\")\n",
    "print(\"\\n\\nMANGO 1\")\n",
    "for c in mango1.learned_comands() :\n",
    "    print(f\"learned command: {str(c)}\")\n",
    "print(\"\\n\\nMANGO 2\")\n",
    "for c in mango2.learned_comands() :\n",
    "    print(f\"learned command: {str(c)}\")"
   ]
  },
  {
   "cell_type": "code",
   "execution_count": null,
   "id": "677e2634-d7fd-4a04-8d28-af8a0d6c246b",
   "metadata": {},
   "outputs": [],
   "source": []
  },
  {
   "cell_type": "code",
   "execution_count": null,
   "id": "c03bc4ff-e54c-4d96-be4f-9547f0cc6af1",
   "metadata": {},
   "outputs": [],
   "source": []
  }
 ],
 "metadata": {
  "kernelspec": {
   "display_name": "Python 3",
   "language": "python",
   "name": "python3"
  },
  "language_info": {
   "codemirror_mode": {
    "name": "ipython",
    "version": 3
   },
   "file_extension": ".py",
   "mimetype": "text/x-python",
   "name": "python",
   "nbconvert_exporter": "python",
   "pygments_lexer": "ipython3",
   "version": "3.8.8"
  },
  "vscode": {
   "interpreter": {
    "hash": "4fe5e2243e5f8211266afd88540b92e8cd9caa558da99b723d476aa3581102bf"
   }
  }
 },
 "nbformat": 4,
 "nbformat_minor": 5
}
