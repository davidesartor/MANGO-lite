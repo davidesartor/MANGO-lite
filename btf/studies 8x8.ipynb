{
 "cells": [
  {
   "cell_type": "code",
   "execution_count": 1,
   "metadata": {},
   "outputs": [],
   "source": [
    "import os\n",
    "os.environ[\"CUDA_VISIBLE_DEVICES\"] = \"0\"\n",
    "#os.environ['XLA_PYTHON_CLIENT_MEM_FRACTION'] = '0.5'\n",
    "import jax\n",
    "import jax.numpy as jnp\n",
    "import numpy as np\n",
    "from jax.experimental import host_callback\n",
    "from tqdm.auto import tqdm\n",
    "import matplotlib.pyplot as plt\n",
    "from functools import partial\n",
    "import frozen_lake\n",
    "import plotting\n",
    "import qlearning\n",
    "import actions\n",
    "import mangoenv\n",
    "import utils\n",
    "import nets\n",
    "import optuna"
   ]
  },
  {
   "cell_type": "code",
   "execution_count": 2,
   "metadata": {},
   "outputs": [],
   "source": [
    "def plot_accuracy_evolution(accuracy_evol, stages_duration):\n",
    "    def smooth(x, w=0.01):\n",
    "        filter = jnp.ones(int(1 + w * len(x)))\n",
    "        smoothed = jnp.convolve(x, filter / filter.sum(), mode=\"full\")\n",
    "        return smoothed[:len(x)]\n",
    "\n",
    "    for run_accuracy in accuracy_evol:\n",
    "        plt.plot(smooth(run_accuracy))\n",
    "\n",
    "    plt.plot(smooth(accuracy_evol.mean(axis=0)), label=\"mean\", color=\"black\", linewidth=3)\n",
    "    for stage_duration in jnp.cumsum(jnp.array(stages_duration)):\n",
    "        plt.axvline(stage_duration, color=\"red\")\n",
    "    plt.grid()\n",
    "    plt.ylim(0, 1)\n",
    "    plt.show()"
   ]
  },
  {
   "cell_type": "code",
   "execution_count": 3,
   "metadata": {},
   "outputs": [],
   "source": [
    "def setup_env(map_scale, p, rng_key):\n",
    "    env = frozen_lake.FrozenLake.make_random(rng_key, map_scale, p)\n",
    "    return env\n",
    "\n",
    "\n",
    "def setup_replay_buffer(env, rng_key, n_rollouts, rollout_steps):\n",
    "    episodes = utils.multi_random_rollout(env, rng_key, rollout_steps, n_rollouts)\n",
    "    replay_buffer = utils.CircularBuffer.store_episodes(episodes)\n",
    "    return replay_buffer\n",
    "\n",
    "\n",
    "def setup_dql_state(env, rng_key, lr, map_scale, cell_scale):\n",
    "    reward_fn = actions.get_reward_fn(cell_scale)\n",
    "    beta_fn = actions.get_beta_fn(cell_scale)\n",
    "    qnet = nets.MultiTaskQnet(\n",
    "        n_actions=env.action_space.n,\n",
    "        n_comands=5,\n",
    "        map_shape=(2**map_scale, 2**map_scale),\n",
    "        cell_shape=(2**cell_scale, 2**cell_scale),\n",
    "    )\n",
    "    dql_state = qlearning.MultiDQLTrainState.create(\n",
    "        rng_key, qnet, env, reward_fn=reward_fn, beta_fn=beta_fn, lr=lr\n",
    "    )\n",
    "    return dql_state\n",
    "\n",
    "\n",
    "def eval_policy(env, dql_state, rng_key, episodes, steps):\n",
    "    def eval_single(rng_key):\n",
    "        transitions = dql_state.greedy_rollout(env, rng_key, steps)\n",
    "        episodes = jnp.clip(transitions.done.sum(), a_min=1)\n",
    "        rewards = transitions.reward.sum()\n",
    "        return rewards, episodes\n",
    "\n",
    "    rewards, episodes = jax.vmap(eval_single)(jax.random.split(rng_key, episodes))\n",
    "    return rewards.sum() / episodes.sum()\n",
    "\n",
    "\n",
    "def train_stage(rng_key, env, dql_state, replay_buffer, n_train_iter, batch_size, eval_steps):\n",
    "    #pbar = tqdm(total=n_train_iter, desc=\"Training\")\n",
    "\n",
    "    def train_step(dql_state, rng_key):\n",
    "        rng_train, rng_eval = jax.random.split(rng_key)\n",
    "        # rng_train, rng_eval = host_callback.id_tap(\n",
    "        #     lambda a, t: pbar.update(1), jax.random.split(rng_key)\n",
    "        # )\n",
    "\n",
    "        dql_state = dql_state.update_params(replay_buffer.sample(rng_train, batch_size))\n",
    "        accuracy = eval_policy(env, dql_state, rng_eval, episodes=8, steps=eval_steps)\n",
    "        return dql_state, accuracy\n",
    "\n",
    "    rng_steps = jax.random.split(rng_key, n_train_iter)\n",
    "    dql_state, accuracy_evolution = jax.lax.scan(train_step, dql_state, rng_steps)\n",
    "    return dql_state, accuracy_evolution"
   ]
  },
  {
   "cell_type": "code",
   "execution_count": 4,
   "metadata": {},
   "outputs": [],
   "source": [
    "def get_objective_fn(\n",
    "    map_scale,\n",
    "    cell_scales,\n",
    "    max_steps,\n",
    "    p,\n",
    "    train_minicycles=16,\n",
    "    n_sims=16,\n",
    "    batch_size=512,\n",
    "    rollout_steps=16,\n",
    "    plot_results = True,\n",
    "):\n",
    "    multi_env_setup = jax.jit(\n",
    "        jax.vmap(setup_env, in_axes=(None, None, 0)),\n",
    "        static_argnames=(\"map_scale\", \"p\"),\n",
    "    )\n",
    "    multi_replay_buffer_setup = jax.jit(\n",
    "        jax.vmap(setup_replay_buffer, in_axes=(0, 0, None, None)),\n",
    "        static_argnames=(\"n_rollouts\", \"rollout_steps\"),\n",
    "    )\n",
    "    multi_dql_state_setup = jax.jit(\n",
    "        jax.vmap(setup_dql_state, in_axes=(0, 0, None, None, None)),\n",
    "        static_argnames=(\"lr\", \"map_scale\", \"cell_scale\"),\n",
    "    )\n",
    "    multi_train_stage = jax.jit(\n",
    "        jax.vmap(train_stage, in_axes=(0, 0, 0, 0, None, None, None)),\n",
    "        static_argnames=(\"n_train_iter\", \"batch_size\", \"eval_steps\"),\n",
    "    )\n",
    "\n",
    "    def objective(trial: optuna.Trial) -> jnp.float_:\n",
    "        # global hyperparameters\n",
    "        # batch_size = 2 ** trial.suggest_int(\"log_batch_size\", 10, 10)\n",
    "        # rollout_steps = 2 ** trial.suggest_int(\"log_rollout_steps\", 3, 3)\n",
    "        total_train_iter = max_steps // batch_size\n",
    "        train_iter = total_train_iter // train_minicycles\n",
    "        n_rollouts = train_iter * batch_size // rollout_steps\n",
    "\n",
    "        # attributes\n",
    "        seed = trial.number\n",
    "        trial.set_user_attr(\"max_steps\", max_steps)\n",
    "        trial.set_user_attr(\"cycle_train_iter\", train_iter)\n",
    "        trial.set_user_attr(\"batch_size\", batch_size)\n",
    "        trial.set_user_attr(\"rollout_steps\", rollout_steps)\n",
    "\n",
    "        # setup rng\n",
    "        rng_key = jax.random.PRNGKey(seed)\n",
    "        rng_env, rng_stages = jax.random.split(rng_key, 2)\n",
    "        rng_env = jax.random.split(rng_env, n_sims)\n",
    "        rng_stages = jax.random.split(rng_stages, len(cell_scales))\n",
    "\n",
    "        # sim setup\n",
    "        cycles_accuracy = []\n",
    "        envs = multi_env_setup(map_scale, p, rng_env)\n",
    "\n",
    "        def run_stage(envs, rng_key, cell_scale, n_cycles, n_rollouts, eval_steps):\n",
    "            rng_init, rng_cycles = jax.random.split(rng_key)\n",
    "            rng_init = jax.random.split(rng_init, n_sims)\n",
    "            rng_cycles = jax.random.split(rng_cycles, n_cycles)\n",
    "\n",
    "            dql_states = multi_dql_state_setup(envs, rng_init, lr, map_scale, cell_scale)\n",
    "            stage_cycles_accuracy = []\n",
    "            for rng_cycle in tqdm(rng_cycles, desc=f\"Training {cell_scale}\"):\n",
    "                # setup rngs\n",
    "                rng_rollout, rng_train = jax.random.split(rng_cycle)\n",
    "                rng_rollout = jax.random.split(rng_rollout, n_sims)\n",
    "                rng_train = jax.random.split(rng_train, n_sims)\n",
    "\n",
    "                # train stage\n",
    "                replay_buffers = multi_replay_buffer_setup(\n",
    "                    envs, rng_rollout, n_rollouts, rollout_steps\n",
    "                )\n",
    "                dql_states, accuracy_evol = multi_train_stage(\n",
    "                    rng_train, envs, dql_states, replay_buffers, train_iter, batch_size, eval_steps\n",
    "                )\n",
    "                stage_cycles_accuracy.append(accuracy_evol)\n",
    "            return dql_states, stage_cycles_accuracy\n",
    "\n",
    "        cycles_remaining = train_minicycles\n",
    "        for i, rng_stage in enumerate(rng_stages):\n",
    "            # inner stage hyperparameters\n",
    "            eval_steps = (2 ** (cell_scales[i] - ([0] + list(cell_scales))[i])) ** 2\n",
    "            lr = trial.suggest_float(f\"lr_{i}\", 3e-5, 3e-3, log=True)\n",
    "            if i == len(cell_scales) - 1:\n",
    "                train_cycles = cycles_remaining\n",
    "            else:\n",
    "                train_cycles = trial.suggest_int(\n",
    "                    f\"train_cycles_{i}\", 1, train_minicycles // len(cell_scales)\n",
    "                )\n",
    "            cycles_remaining -= train_cycles\n",
    "\n",
    "            # train stage\n",
    "            dql_states, stage_cycles_accuracy = run_stage(\n",
    "                envs, rng_stage, cell_scales[i], train_cycles, n_rollouts, eval_steps\n",
    "            )\n",
    "\n",
    "            # setup next stage and store results\n",
    "            cycles_accuracy.extend(stage_cycles_accuracy)\n",
    "            envs = mangoenv.MangoEnv(envs, dql_states, max_steps=eval_steps)\n",
    "            # n_rollouts = n_rollouts // 4\n",
    "\n",
    "        # store and plot results\n",
    "        accuracy_evol = jnp.concatenate(cycles_accuracy, axis=-1)\n",
    "        stages_duration = [\n",
    "            train_iter * trial.params[f\"train_cycles_{i}\"] for i in range(len(cell_scales) - 1)\n",
    "        ]\n",
    "        trial.set_user_attr(f\"accuracy_evol_mean\", np.asarray(accuracy_evol.mean(axis=0)).tolist())\n",
    "        trial.set_user_attr(f\"accuracy_evol_min\", np.asarray(accuracy_evol.min(axis=0)).tolist())\n",
    "        trial.set_user_attr(f\"accuracy_evol_max\", np.asarray(accuracy_evol.max(axis=0)).tolist())\n",
    "        trial.set_user_attr(f\"accuracy_evol_std\", np.asarray(accuracy_evol.std(axis=0)).tolist())        \n",
    "        if plot_results:\n",
    "            plot_accuracy_evolution(accuracy_evol, stages_duration)\n",
    "\n",
    "        # evaluate objective\n",
    "        cycles_accuracy = [acc.mean() for acc in cycles_accuracy]\n",
    "        final_accuracy = cycles_accuracy[-1]\n",
    "        convergence_time = train_minicycles\n",
    "        if final_accuracy > 0.9:\n",
    "            convergence_time = next((convergence_time-i for i, x in enumerate(cycles_accuracy[::-1]) if x < 0.9), 0)\n",
    "        return final_accuracy, convergence_time\n",
    "\n",
    "    return objective"
   ]
  },
  {
   "cell_type": "markdown",
   "metadata": {},
   "source": [
    "# RUN 4x4 vanilla"
   ]
  },
  {
   "cell_type": "code",
   "execution_count": 5,
   "metadata": {},
   "outputs": [
    {
     "name": "stderr",
     "output_type": "stream",
     "text": [
      "[I 2024-03-03 09:21:12,351] A new study created in RDB with name: mango_stages_[2]\n"
     ]
    },
    {
     "data": {
      "application/vnd.jupyter.widget-view+json": {
       "model_id": "d43a41e8de3440f0bab1c51ed46db03c",
       "version_major": 2,
       "version_minor": 0
      },
      "text/plain": [
       "  0%|          | 0/32 [00:00<?, ?it/s]"
      ]
     },
     "metadata": {},
     "output_type": "display_data"
    },
    {
     "data": {
      "application/vnd.jupyter.widget-view+json": {
       "model_id": "37d2f0c628034b9187cd6b9b5d5bc1c6",
       "version_major": 2,
       "version_minor": 0
      },
      "text/plain": [
       "Training 2:   0%|          | 0/16 [00:00<?, ?it/s]"
      ]
     },
     "metadata": {},
     "output_type": "display_data"
    },
    {
     "name": "stdout",
     "output_type": "stream",
     "text": [
      "[I 2024-03-03 09:21:23,572] Trial 0 finished with values: [0.9986236095428467, 6.0] and parameters: {'lr_0': 0.0011903521204309074}. \n"
     ]
    },
    {
     "data": {
      "application/vnd.jupyter.widget-view+json": {
       "model_id": "4ea38151c9dc42b690596f4d15cceb9b",
       "version_major": 2,
       "version_minor": 0
      },
      "text/plain": [
       "Training 2:   0%|          | 0/16 [00:00<?, ?it/s]"
      ]
     },
     "metadata": {},
     "output_type": "display_data"
    },
    {
     "name": "stdout",
     "output_type": "stream",
     "text": [
      "[I 2024-03-03 09:21:30,544] Trial 1 finished with values: [0.8564881682395935, 16.0] and parameters: {'lr_0': 0.00012887562945618482}. \n"
     ]
    },
    {
     "data": {
      "application/vnd.jupyter.widget-view+json": {
       "model_id": "1491729247d546b8a4ade95d62123ce1",
       "version_major": 2,
       "version_minor": 0
      },
      "text/plain": [
       "Training 2:   0%|          | 0/16 [00:00<?, ?it/s]"
      ]
     },
     "metadata": {},
     "output_type": "display_data"
    },
    {
     "name": "stdout",
     "output_type": "stream",
     "text": [
      "[I 2024-03-03 09:21:37,889] Trial 2 finished with values: [0.9706429243087769, 10.0] and parameters: {'lr_0': 0.00025754717973078186}. \n"
     ]
    },
    {
     "data": {
      "application/vnd.jupyter.widget-view+json": {
       "model_id": "0503878554af438b81bbd7ac07f94eca",
       "version_major": 2,
       "version_minor": 0
      },
      "text/plain": [
       "Training 2:   0%|          | 0/16 [00:00<?, ?it/s]"
      ]
     },
     "metadata": {},
     "output_type": "display_data"
    },
    {
     "name": "stdout",
     "output_type": "stream",
     "text": [
      "[I 2024-03-03 09:21:45,482] Trial 3 finished with values: [0.997687041759491, 6.0] and parameters: {'lr_0': 0.00206465928513767}. \n"
     ]
    },
    {
     "data": {
      "application/vnd.jupyter.widget-view+json": {
       "model_id": "6a8667fbeb9a4f218fbf05dc6c1e673e",
       "version_major": 2,
       "version_minor": 0
      },
      "text/plain": [
       "Training 2:   0%|          | 0/16 [00:00<?, ?it/s]"
      ]
     },
     "metadata": {},
     "output_type": "display_data"
    },
    {
     "name": "stdout",
     "output_type": "stream",
     "text": [
      "[I 2024-03-03 09:21:52,905] Trial 4 finished with values: [0.6089180707931519, 16.0] and parameters: {'lr_0': 3.154265501995509e-05}. \n"
     ]
    },
    {
     "data": {
      "application/vnd.jupyter.widget-view+json": {
       "model_id": "ec26867a581c474482b0fb6fc99272bc",
       "version_major": 2,
       "version_minor": 0
      },
      "text/plain": [
       "Training 2:   0%|          | 0/16 [00:00<?, ?it/s]"
      ]
     },
     "metadata": {},
     "output_type": "display_data"
    },
    {
     "name": "stdout",
     "output_type": "stream",
     "text": [
      "[I 2024-03-03 09:21:59,970] Trial 5 finished with values: [0.9845476746559143, 9.0] and parameters: {'lr_0': 0.0003632574786868855}. \n"
     ]
    },
    {
     "data": {
      "application/vnd.jupyter.widget-view+json": {
       "model_id": "ebbd6b82482145edaf14d67ab98bb591",
       "version_major": 2,
       "version_minor": 0
      },
      "text/plain": [
       "Training 2:   0%|          | 0/16 [00:00<?, ?it/s]"
      ]
     },
     "metadata": {},
     "output_type": "display_data"
    },
    {
     "name": "stdout",
     "output_type": "stream",
     "text": [
      "[I 2024-03-03 09:22:07,416] Trial 6 finished with values: [0.9992600679397583, 6.0] and parameters: {'lr_0': 0.0009720073943732756}. \n"
     ]
    },
    {
     "data": {
      "application/vnd.jupyter.widget-view+json": {
       "model_id": "1957810a35024d78b293addac55440eb",
       "version_major": 2,
       "version_minor": 0
      },
      "text/plain": [
       "Training 2:   0%|          | 0/16 [00:00<?, ?it/s]"
      ]
     },
     "metadata": {},
     "output_type": "display_data"
    },
    {
     "name": "stdout",
     "output_type": "stream",
     "text": [
      "[I 2024-03-03 09:22:14,859] Trial 7 finished with values: [0.8670086860656738, 16.0] and parameters: {'lr_0': 9.295453428121506e-05}. \n"
     ]
    },
    {
     "data": {
      "application/vnd.jupyter.widget-view+json": {
       "model_id": "b9c979e9633d48c088358d633e3de531",
       "version_major": 2,
       "version_minor": 0
      },
      "text/plain": [
       "Training 2:   0%|          | 0/16 [00:00<?, ?it/s]"
      ]
     },
     "metadata": {},
     "output_type": "display_data"
    },
    {
     "name": "stdout",
     "output_type": "stream",
     "text": [
      "[I 2024-03-03 09:22:22,166] Trial 8 finished with values: [0.8000866174697876, 16.0] and parameters: {'lr_0': 5.719644118817717e-05}. \n"
     ]
    },
    {
     "data": {
      "application/vnd.jupyter.widget-view+json": {
       "model_id": "e79323d128b9407d87335325f0bc0caf",
       "version_major": 2,
       "version_minor": 0
      },
      "text/plain": [
       "Training 2:   0%|          | 0/16 [00:00<?, ?it/s]"
      ]
     },
     "metadata": {},
     "output_type": "display_data"
    },
    {
     "name": "stdout",
     "output_type": "stream",
     "text": [
      "[I 2024-03-03 09:22:29,479] Trial 9 finished with values: [0.7803810834884644, 16.0] and parameters: {'lr_0': 5.0189490986677066e-05}. \n"
     ]
    },
    {
     "data": {
      "application/vnd.jupyter.widget-view+json": {
       "model_id": "0f763e3411d747b4ad284977602c853d",
       "version_major": 2,
       "version_minor": 0
      },
      "text/plain": [
       "Training 2:   0%|          | 0/16 [00:00<?, ?it/s]"
      ]
     },
     "metadata": {},
     "output_type": "display_data"
    },
    {
     "name": "stdout",
     "output_type": "stream",
     "text": [
      "[I 2024-03-03 09:22:36,771] Trial 10 finished with values: [0.9978077411651611, 6.0] and parameters: {'lr_0': 0.0021919084702805656}. \n"
     ]
    },
    {
     "data": {
      "application/vnd.jupyter.widget-view+json": {
       "model_id": "6308960d9f0d4f94a132cd1365a15986",
       "version_major": 2,
       "version_minor": 0
      },
      "text/plain": [
       "Training 2:   0%|          | 0/16 [00:00<?, ?it/s]"
      ]
     },
     "metadata": {},
     "output_type": "display_data"
    },
    {
     "name": "stdout",
     "output_type": "stream",
     "text": [
      "[I 2024-03-03 09:22:44,334] Trial 11 finished with values: [0.976447343826294, 10.0] and parameters: {'lr_0': 0.00030559586463286225}. \n"
     ]
    },
    {
     "data": {
      "application/vnd.jupyter.widget-view+json": {
       "model_id": "8987fca0e29445f49b4ca8be23ebb9b1",
       "version_major": 2,
       "version_minor": 0
      },
      "text/plain": [
       "Training 2:   0%|          | 0/16 [00:00<?, ?it/s]"
      ]
     },
     "metadata": {},
     "output_type": "display_data"
    },
    {
     "name": "stdout",
     "output_type": "stream",
     "text": [
      "[I 2024-03-03 09:22:51,689] Trial 12 finished with values: [0.6938637495040894, 16.0] and parameters: {'lr_0': 4.045118584580183e-05}. \n"
     ]
    },
    {
     "data": {
      "application/vnd.jupyter.widget-view+json": {
       "model_id": "61b2734282ac41d09627a1a5ca7136e7",
       "version_major": 2,
       "version_minor": 0
      },
      "text/plain": [
       "Training 2:   0%|          | 0/16 [00:00<?, ?it/s]"
      ]
     },
     "metadata": {},
     "output_type": "display_data"
    },
    {
     "name": "stdout",
     "output_type": "stream",
     "text": [
      "[I 2024-03-03 09:22:58,998] Trial 13 finished with values: [0.6848653554916382, 16.0] and parameters: {'lr_0': 3.826493843832486e-05}. \n"
     ]
    },
    {
     "data": {
      "application/vnd.jupyter.widget-view+json": {
       "model_id": "de57ba5acd7a4edd92959d709aeec386",
       "version_major": 2,
       "version_minor": 0
      },
      "text/plain": [
       "Training 2:   0%|          | 0/16 [00:00<?, ?it/s]"
      ]
     },
     "metadata": {},
     "output_type": "display_data"
    },
    {
     "name": "stdout",
     "output_type": "stream",
     "text": [
      "[I 2024-03-03 09:23:06,294] Trial 14 finished with values: [0.8816117644309998, 16.0] and parameters: {'lr_0': 0.00015053157920727513}. \n"
     ]
    },
    {
     "data": {
      "application/vnd.jupyter.widget-view+json": {
       "model_id": "a342d18275924b5f9a71469fe2f5faff",
       "version_major": 2,
       "version_minor": 0
      },
      "text/plain": [
       "Training 2:   0%|          | 0/16 [00:00<?, ?it/s]"
      ]
     },
     "metadata": {},
     "output_type": "display_data"
    },
    {
     "name": "stdout",
     "output_type": "stream",
     "text": [
      "[I 2024-03-03 09:23:13,586] Trial 15 finished with values: [0.998837411403656, 6.0] and parameters: {'lr_0': 0.0011588730533008496}. \n"
     ]
    },
    {
     "data": {
      "application/vnd.jupyter.widget-view+json": {
       "model_id": "e229cf1a2ee84c08b0cbd543c04e7f80",
       "version_major": 2,
       "version_minor": 0
      },
      "text/plain": [
       "Training 2:   0%|          | 0/16 [00:00<?, ?it/s]"
      ]
     },
     "metadata": {},
     "output_type": "display_data"
    },
    {
     "name": "stdout",
     "output_type": "stream",
     "text": [
      "[I 2024-03-03 09:23:21,098] Trial 16 finished with values: [0.9583842754364014, 11.0] and parameters: {'lr_0': 0.00024034765953453538}. \n"
     ]
    },
    {
     "data": {
      "application/vnd.jupyter.widget-view+json": {
       "model_id": "ad7781c31917452b96fc2cc3cb885b37",
       "version_major": 2,
       "version_minor": 0
      },
      "text/plain": [
       "Training 2:   0%|          | 0/16 [00:00<?, ?it/s]"
      ]
     },
     "metadata": {},
     "output_type": "display_data"
    },
    {
     "name": "stdout",
     "output_type": "stream",
     "text": [
      "[I 2024-03-03 09:23:28,397] Trial 17 finished with values: [0.9545530080795288, 11.0] and parameters: {'lr_0': 0.0002468357870782538}. \n"
     ]
    },
    {
     "data": {
      "application/vnd.jupyter.widget-view+json": {
       "model_id": "f8953917785e49348a72f329d4e96517",
       "version_major": 2,
       "version_minor": 0
      },
      "text/plain": [
       "Training 2:   0%|          | 0/16 [00:00<?, ?it/s]"
      ]
     },
     "metadata": {},
     "output_type": "display_data"
    },
    {
     "name": "stdout",
     "output_type": "stream",
     "text": [
      "[I 2024-03-03 09:23:35,735] Trial 18 finished with values: [0.9122848510742188, 14.0] and parameters: {'lr_0': 0.00017955290372898114}. \n"
     ]
    },
    {
     "data": {
      "application/vnd.jupyter.widget-view+json": {
       "model_id": "a651b90ad1d24172b1378e7e8ea3680b",
       "version_major": 2,
       "version_minor": 0
      },
      "text/plain": [
       "Training 2:   0%|          | 0/16 [00:00<?, ?it/s]"
      ]
     },
     "metadata": {},
     "output_type": "display_data"
    },
    {
     "name": "stdout",
     "output_type": "stream",
     "text": [
      "[I 2024-03-03 09:23:43,203] Trial 19 finished with values: [0.9834376573562622, 9.0] and parameters: {'lr_0': 0.00038054784387343745}. \n"
     ]
    },
    {
     "data": {
      "application/vnd.jupyter.widget-view+json": {
       "model_id": "34fed74e92d247088be9b0844392c680",
       "version_major": 2,
       "version_minor": 0
      },
      "text/plain": [
       "Training 2:   0%|          | 0/16 [00:00<?, ?it/s]"
      ]
     },
     "metadata": {},
     "output_type": "display_data"
    },
    {
     "name": "stdout",
     "output_type": "stream",
     "text": [
      "[I 2024-03-03 09:23:50,553] Trial 20 finished with values: [0.9525682926177979, 11.0] and parameters: {'lr_0': 0.00027032073689527516}. \n"
     ]
    },
    {
     "data": {
      "application/vnd.jupyter.widget-view+json": {
       "model_id": "070e4e72c44046e185987c4e7fa2f929",
       "version_major": 2,
       "version_minor": 0
      },
      "text/plain": [
       "Training 2:   0%|          | 0/16 [00:00<?, ?it/s]"
      ]
     },
     "metadata": {},
     "output_type": "display_data"
    },
    {
     "name": "stdout",
     "output_type": "stream",
     "text": [
      "[I 2024-03-03 09:23:58,211] Trial 21 finished with values: [0.9988300800323486, 6.0] and parameters: {'lr_0': 0.0016149210894557493}. \n"
     ]
    },
    {
     "data": {
      "application/vnd.jupyter.widget-view+json": {
       "model_id": "e3dbf3b96eb3434a87d8aeb58320c726",
       "version_major": 2,
       "version_minor": 0
      },
      "text/plain": [
       "Training 2:   0%|          | 0/16 [00:00<?, ?it/s]"
      ]
     },
     "metadata": {},
     "output_type": "display_data"
    },
    {
     "name": "stdout",
     "output_type": "stream",
     "text": [
      "[I 2024-03-03 09:24:05,658] Trial 22 finished with values: [0.9775094389915466, 9.0] and parameters: {'lr_0': 0.00044808608181186706}. \n"
     ]
    },
    {
     "data": {
      "application/vnd.jupyter.widget-view+json": {
       "model_id": "12ee24ce043a4851bf7bc8aee9ac5afb",
       "version_major": 2,
       "version_minor": 0
      },
      "text/plain": [
       "Training 2:   0%|          | 0/16 [00:00<?, ?it/s]"
      ]
     },
     "metadata": {},
     "output_type": "display_data"
    },
    {
     "name": "stdout",
     "output_type": "stream",
     "text": [
      "[I 2024-03-03 09:24:12,900] Trial 23 finished with values: [0.8657180070877075, 16.0] and parameters: {'lr_0': 0.0001541193961439427}. \n"
     ]
    },
    {
     "data": {
      "application/vnd.jupyter.widget-view+json": {
       "model_id": "57e9b60c8925465fb43718a768a7c189",
       "version_major": 2,
       "version_minor": 0
      },
      "text/plain": [
       "Training 2:   0%|          | 0/16 [00:00<?, ?it/s]"
      ]
     },
     "metadata": {},
     "output_type": "display_data"
    },
    {
     "name": "stdout",
     "output_type": "stream",
     "text": [
      "[I 2024-03-03 09:24:20,344] Trial 24 finished with values: [0.857600212097168, 16.0] and parameters: {'lr_0': 0.00011100365739740085}. \n"
     ]
    },
    {
     "data": {
      "application/vnd.jupyter.widget-view+json": {
       "model_id": "3831f530593442b2890c95f68892818a",
       "version_major": 2,
       "version_minor": 0
      },
      "text/plain": [
       "Training 2:   0%|          | 0/16 [00:00<?, ?it/s]"
      ]
     },
     "metadata": {},
     "output_type": "display_data"
    },
    {
     "name": "stdout",
     "output_type": "stream",
     "text": [
      "[I 2024-03-03 09:24:27,735] Trial 25 finished with values: [0.849923849105835, 16.0] and parameters: {'lr_0': 8.575387597958821e-05}. \n"
     ]
    },
    {
     "data": {
      "application/vnd.jupyter.widget-view+json": {
       "model_id": "21ea891faf754a83b2e07994e112cf56",
       "version_major": 2,
       "version_minor": 0
      },
      "text/plain": [
       "Training 2:   0%|          | 0/16 [00:00<?, ?it/s]"
      ]
     },
     "metadata": {},
     "output_type": "display_data"
    },
    {
     "name": "stdout",
     "output_type": "stream",
     "text": [
      "[I 2024-03-03 09:24:35,391] Trial 26 finished with values: [0.9993906021118164, 5.0] and parameters: {'lr_0': 0.0018342223305941097}. \n"
     ]
    },
    {
     "data": {
      "application/vnd.jupyter.widget-view+json": {
       "model_id": "9406928fa6a9450e82ac4e53d3046cfb",
       "version_major": 2,
       "version_minor": 0
      },
      "text/plain": [
       "Training 2:   0%|          | 0/16 [00:00<?, ?it/s]"
      ]
     },
     "metadata": {},
     "output_type": "display_data"
    },
    {
     "name": "stdout",
     "output_type": "stream",
     "text": [
      "[I 2024-03-03 09:24:42,710] Trial 27 finished with values: [0.9846211075782776, 9.0] and parameters: {'lr_0': 0.0003798407556312993}. \n"
     ]
    },
    {
     "data": {
      "application/vnd.jupyter.widget-view+json": {
       "model_id": "957c40122a714db4b9a8b2daacc8e9b4",
       "version_major": 2,
       "version_minor": 0
      },
      "text/plain": [
       "Training 2:   0%|          | 0/16 [00:00<?, ?it/s]"
      ]
     },
     "metadata": {},
     "output_type": "display_data"
    },
    {
     "name": "stdout",
     "output_type": "stream",
     "text": [
      "[I 2024-03-03 09:24:50,047] Trial 28 finished with values: [0.9982700943946838, 6.0] and parameters: {'lr_0': 0.0014490789370145058}. \n"
     ]
    },
    {
     "data": {
      "application/vnd.jupyter.widget-view+json": {
       "model_id": "92c8906016c74aa9a1d6b0d492c51426",
       "version_major": 2,
       "version_minor": 0
      },
      "text/plain": [
       "Training 2:   0%|          | 0/16 [00:00<?, ?it/s]"
      ]
     },
     "metadata": {},
     "output_type": "display_data"
    },
    {
     "name": "stdout",
     "output_type": "stream",
     "text": [
      "[I 2024-03-03 09:24:57,359] Trial 29 finished with values: [0.7683514356613159, 16.0] and parameters: {'lr_0': 6.265452002017598e-05}. \n"
     ]
    },
    {
     "data": {
      "application/vnd.jupyter.widget-view+json": {
       "model_id": "d8f23e86e34044159b481027fc760ad1",
       "version_major": 2,
       "version_minor": 0
      },
      "text/plain": [
       "Training 2:   0%|          | 0/16 [00:00<?, ?it/s]"
      ]
     },
     "metadata": {},
     "output_type": "display_data"
    },
    {
     "name": "stdout",
     "output_type": "stream",
     "text": [
      "[I 2024-03-03 09:25:04,399] Trial 30 finished with values: [0.9803440570831299, 10.0] and parameters: {'lr_0': 0.0004662758520392543}. \n"
     ]
    },
    {
     "data": {
      "application/vnd.jupyter.widget-view+json": {
       "model_id": "bcd29ab0f45f446eb2cfb0d3eca231a9",
       "version_major": 2,
       "version_minor": 0
      },
      "text/plain": [
       "Training 2:   0%|          | 0/16 [00:00<?, ?it/s]"
      ]
     },
     "metadata": {},
     "output_type": "display_data"
    },
    {
     "name": "stdout",
     "output_type": "stream",
     "text": [
      "[I 2024-03-03 09:25:11,747] Trial 31 finished with values: [0.9996241331100464, 6.0] and parameters: {'lr_0': 0.0010420844066937485}. \n"
     ]
    }
   ],
   "source": [
    "map_scale = 2\n",
    "cell_scales = (2,)\n",
    "p = 0.8\n",
    "max_steps = 1024*512\n",
    "\n",
    "storage_path = f\"sqlite:///optuna_studies/{2**map_scale}x{2**map_scale}_p_{p}.db\"\n",
    "study = optuna.create_study(\n",
    "    study_name=f\"mango_stages_{list(cell_scales)}\",\n",
    "    storage=storage_path,\n",
    "    load_if_exists=True,\n",
    "    directions=[\"maximize\", \"minimize\"],\n",
    ")\n",
    "study.optimize(\n",
    "    get_objective_fn(map_scale, cell_scales, max_steps, p, train_minicycles=16, plot_results=False),\n",
    "    n_trials=64,\n",
    "    show_progress_bar=True,\n",
    ")"
   ]
  },
  {
   "cell_type": "markdown",
   "metadata": {},
   "source": [
    "# RUN 4x4 mango"
   ]
  },
  {
   "cell_type": "code",
   "execution_count": 6,
   "metadata": {},
   "outputs": [
    {
     "name": "stderr",
     "output_type": "stream",
     "text": [
      "[I 2024-03-03 09:25:12,469] A new study created in RDB with name: mango_stages_[1, 2]\n"
     ]
    },
    {
     "data": {
      "application/vnd.jupyter.widget-view+json": {
       "model_id": "3ed71cae9e424d078b3e5cc5572e5dd4",
       "version_major": 2,
       "version_minor": 0
      },
      "text/plain": [
       "  0%|          | 0/64 [00:00<?, ?it/s]"
      ]
     },
     "metadata": {},
     "output_type": "display_data"
    },
    {
     "data": {
      "application/vnd.jupyter.widget-view+json": {
       "model_id": "e7212d1d017d4c57b9d9abfccd80614b",
       "version_major": 2,
       "version_minor": 0
      },
      "text/plain": [
       "Training 1:   0%|          | 0/7 [00:00<?, ?it/s]"
      ]
     },
     "metadata": {},
     "output_type": "display_data"
    },
    {
     "data": {
      "application/vnd.jupyter.widget-view+json": {
       "model_id": "1758e9fa8cc44a608f328692e3da7d2f",
       "version_major": 2,
       "version_minor": 0
      },
      "text/plain": [
       "Training 2:   0%|          | 0/9 [00:00<?, ?it/s]"
      ]
     },
     "metadata": {},
     "output_type": "display_data"
    },
    {
     "name": "stdout",
     "output_type": "stream",
     "text": [
      "[I 2024-03-03 09:25:27,672] Trial 0 finished with values: [1.0, 10.0] and parameters: {'lr_0': 0.00012923550033092608, 'train_cycles_0': 7, 'lr_1': 0.0021889071633619693}. \n"
     ]
    },
    {
     "data": {
      "application/vnd.jupyter.widget-view+json": {
       "model_id": "3e83ba0d3b574060ae8b90641cc84f23",
       "version_major": 2,
       "version_minor": 0
      },
      "text/plain": [
       "Training 1:   0%|          | 0/2 [00:00<?, ?it/s]"
      ]
     },
     "metadata": {},
     "output_type": "display_data"
    },
    {
     "data": {
      "application/vnd.jupyter.widget-view+json": {
       "model_id": "29b99e3262af4389979c86af3096000d",
       "version_major": 2,
       "version_minor": 0
      },
      "text/plain": [
       "Training 2:   0%|          | 0/14 [00:00<?, ?it/s]"
      ]
     },
     "metadata": {},
     "output_type": "display_data"
    },
    {
     "name": "stdout",
     "output_type": "stream",
     "text": [
      "[I 2024-03-03 09:25:42,229] Trial 1 finished with values: [0.7007726430892944, 16.0] and parameters: {'lr_0': 0.0002230177188573658, 'train_cycles_0': 2, 'lr_1': 0.00018578440574212648}. \n"
     ]
    },
    {
     "data": {
      "application/vnd.jupyter.widget-view+json": {
       "model_id": "a0506c47292d4891af0213c94897b713",
       "version_major": 2,
       "version_minor": 0
      },
      "text/plain": [
       "Training 1:   0%|          | 0/5 [00:00<?, ?it/s]"
      ]
     },
     "metadata": {},
     "output_type": "display_data"
    },
    {
     "data": {
      "application/vnd.jupyter.widget-view+json": {
       "model_id": "16ae623d82b44435ad8e982ba392ef2b",
       "version_major": 2,
       "version_minor": 0
      },
      "text/plain": [
       "Training 2:   0%|          | 0/11 [00:00<?, ?it/s]"
      ]
     },
     "metadata": {},
     "output_type": "display_data"
    },
    {
     "name": "stdout",
     "output_type": "stream",
     "text": [
      "[I 2024-03-03 09:25:55,735] Trial 2 finished with values: [0.828105628490448, 16.0] and parameters: {'lr_0': 0.00011981713051120457, 'train_cycles_0': 5, 'lr_1': 0.00014374307103657825}. \n"
     ]
    },
    {
     "data": {
      "application/vnd.jupyter.widget-view+json": {
       "model_id": "20309e5ef98c4a39a3f36562245d4018",
       "version_major": 2,
       "version_minor": 0
      },
      "text/plain": [
       "Training 1:   0%|          | 0/2 [00:00<?, ?it/s]"
      ]
     },
     "metadata": {},
     "output_type": "display_data"
    },
    {
     "data": {
      "application/vnd.jupyter.widget-view+json": {
       "model_id": "cb5ed85a29234112bd9d4b15973f7a74",
       "version_major": 2,
       "version_minor": 0
      },
      "text/plain": [
       "Training 2:   0%|          | 0/14 [00:00<?, ?it/s]"
      ]
     },
     "metadata": {},
     "output_type": "display_data"
    },
    {
     "name": "stdout",
     "output_type": "stream",
     "text": [
      "[I 2024-03-03 09:26:09,782] Trial 3 finished with values: [0.8213696479797363, 16.0] and parameters: {'lr_0': 0.00010337543891221303, 'train_cycles_0': 2, 'lr_1': 0.0005904249018779899}. \n"
     ]
    },
    {
     "data": {
      "application/vnd.jupyter.widget-view+json": {
       "model_id": "660046c26ed54300a211c744c3c008eb",
       "version_major": 2,
       "version_minor": 0
      },
      "text/plain": [
       "Training 1:   0%|          | 0/6 [00:00<?, ?it/s]"
      ]
     },
     "metadata": {},
     "output_type": "display_data"
    },
    {
     "data": {
      "application/vnd.jupyter.widget-view+json": {
       "model_id": "030e4741de094a87a67810c0946b8747",
       "version_major": 2,
       "version_minor": 0
      },
      "text/plain": [
       "Training 2:   0%|          | 0/10 [00:00<?, ?it/s]"
      ]
     },
     "metadata": {},
     "output_type": "display_data"
    },
    {
     "name": "stdout",
     "output_type": "stream",
     "text": [
      "[I 2024-03-03 09:26:22,573] Trial 4 finished with values: [0.9425994753837585, 11.0] and parameters: {'lr_0': 4.3208695517972565e-05, 'train_cycles_0': 6, 'lr_1': 0.0013804001434584055}. \n"
     ]
    },
    {
     "data": {
      "application/vnd.jupyter.widget-view+json": {
       "model_id": "d6a95b979c7d4bda90e1663732defec8",
       "version_major": 2,
       "version_minor": 0
      },
      "text/plain": [
       "Training 1:   0%|          | 0/7 [00:00<?, ?it/s]"
      ]
     },
     "metadata": {},
     "output_type": "display_data"
    },
    {
     "data": {
      "application/vnd.jupyter.widget-view+json": {
       "model_id": "929c3d7bcd704af3acb99e85bcc1742b",
       "version_major": 2,
       "version_minor": 0
      },
      "text/plain": [
       "Training 2:   0%|          | 0/9 [00:00<?, ?it/s]"
      ]
     },
     "metadata": {},
     "output_type": "display_data"
    },
    {
     "name": "stdout",
     "output_type": "stream",
     "text": [
      "[I 2024-03-03 09:26:35,203] Trial 5 finished with values: [0.7724594473838806, 16.0] and parameters: {'lr_0': 8.508721568446896e-05, 'train_cycles_0': 7, 'lr_1': 0.0001028460358632276}. \n"
     ]
    },
    {
     "data": {
      "application/vnd.jupyter.widget-view+json": {
       "model_id": "2af5442798e045039c10be3015a82964",
       "version_major": 2,
       "version_minor": 0
      },
      "text/plain": [
       "Training 1:   0%|          | 0/2 [00:00<?, ?it/s]"
      ]
     },
     "metadata": {},
     "output_type": "display_data"
    },
    {
     "data": {
      "application/vnd.jupyter.widget-view+json": {
       "model_id": "f18e67e1374b4cabb82ea24d66bde9ca",
       "version_major": 2,
       "version_minor": 0
      },
      "text/plain": [
       "Training 2:   0%|          | 0/14 [00:00<?, ?it/s]"
      ]
     },
     "metadata": {},
     "output_type": "display_data"
    }
   ],
   "source": [
    "map_scale = 2\n",
    "cell_scales = (1,2,)\n",
    "p = 0.8\n",
    "max_steps = 1024*512\n",
    "\n",
    "storage_path = f\"sqlite:///optuna_studies/{2**map_scale}x{2**map_scale}_p_{p}.db\"\n",
    "study = optuna.create_study(\n",
    "    study_name=f\"mango_stages_{list(cell_scales)}\",\n",
    "    storage=storage_path,\n",
    "    load_if_exists=True,\n",
    "    directions=[\"maximize\", \"minimize\"],\n",
    ")\n",
    "study.optimize(\n",
    "    get_objective_fn(map_scale, cell_scales, max_steps, p, train_minicycles=16, plot_results=False),\n",
    "    n_trials=128,\n",
    "    show_progress_bar=True,\n",
    ")"
   ]
  },
  {
   "cell_type": "markdown",
   "metadata": {},
   "source": [
    "# RUN 8x8 vanilla"
   ]
  },
  {
   "cell_type": "code",
   "execution_count": null,
   "metadata": {},
   "outputs": [
    {
     "name": "stderr",
     "output_type": "stream",
     "text": [
      "[I 2024-03-03 09:18:50,743] A new study created in RDB with name: mango_stages_[3]\n"
     ]
    },
    {
     "data": {
      "application/vnd.jupyter.widget-view+json": {
       "model_id": "b5826cf3d73449ccb31304bb1862d9fc",
       "version_major": 2,
       "version_minor": 0
      },
      "text/plain": [
       "  0%|          | 0/32 [00:00<?, ?it/s]"
      ]
     },
     "metadata": {},
     "output_type": "display_data"
    },
    {
     "data": {
      "application/vnd.jupyter.widget-view+json": {
       "model_id": "1f99841d4704484d83aab333a98962fc",
       "version_major": 2,
       "version_minor": 0
      },
      "text/plain": [
       "Training 3:   0%|          | 0/16 [00:00<?, ?it/s]"
      ]
     },
     "metadata": {},
     "output_type": "display_data"
    }
   ],
   "source": [
    "map_scale = 3\n",
    "cell_scales = (3,)\n",
    "p = 0.8\n",
    "max_steps = 1024*1024*4\n",
    "\n",
    "storage_path = f\"sqlite:///optuna_studies/{2**map_scale}x{2**map_scale}_p_{p}.db\"\n",
    "study = optuna.create_study(\n",
    "    study_name=f\"mango_stages_{list(cell_scales)}\",\n",
    "    storage=storage_path,\n",
    "    load_if_exists=True,\n",
    "    directions=[\"maximize\", \"minimize\"],\n",
    ")\n",
    "study.optimize(\n",
    "    get_objective_fn(map_scale, cell_scales, max_steps, p, train_minicycles=16),\n",
    "    n_trials=32,\n",
    "    show_progress_bar=True,\n",
    ")"
   ]
  },
  {
   "cell_type": "markdown",
   "metadata": {},
   "source": [
    "# RUN 8x8 mango"
   ]
  },
  {
   "cell_type": "code",
   "execution_count": null,
   "metadata": {},
   "outputs": [
    {
     "name": "stderr",
     "output_type": "stream",
     "text": [
      "[I 2024-03-03 09:09:55,975] A new study created in RDB with name: mango_stages_[1, 2, 3]\n"
     ]
    },
    {
     "data": {
      "application/vnd.jupyter.widget-view+json": {
       "model_id": "c8551b46018b424a99a4b8d8fc78f4cb",
       "version_major": 2,
       "version_minor": 0
      },
      "text/plain": [
       "  0%|          | 0/128 [00:00<?, ?it/s]"
      ]
     },
     "metadata": {},
     "output_type": "display_data"
    },
    {
     "data": {
      "application/vnd.jupyter.widget-view+json": {
       "model_id": "8c0b3f76b66245bdb45b725290daa9d2",
       "version_major": 2,
       "version_minor": 0
      },
      "text/plain": [
       "Training 1:   0%|          | 0/5 [00:00<?, ?it/s]"
      ]
     },
     "metadata": {},
     "output_type": "display_data"
    }
   ],
   "source": [
    "map_scale = 3\n",
    "cell_scales = (1,2,3)\n",
    "p = 0.8\n",
    "max_steps = 1024*1024*4\n",
    "\n",
    "storage_path = f\"sqlite:///optuna_studies/{2**map_scale}x{2**map_scale}_p_{p}.db\"\n",
    "study = optuna.create_study(\n",
    "    study_name=f\"mango_stages_{list(cell_scales)}\",\n",
    "    storage=storage_path,\n",
    "    load_if_exists=True,\n",
    "    directions=[\"maximize\", \"minimize\"],\n",
    ")\n",
    "study.optimize(\n",
    "    get_objective_fn(map_scale, cell_scales, max_steps, p, train_minicycles=16),\n",
    "    n_trials=128,\n",
    "    show_progress_bar=True,\n",
    ")"
   ]
  }
 ],
 "metadata": {
  "kernelspec": {
   "display_name": "Python 3",
   "language": "python",
   "name": "python3"
  },
  "language_info": {
   "codemirror_mode": {
    "name": "ipython",
    "version": 3
   },
   "file_extension": ".py",
   "mimetype": "text/x-python",
   "name": "python",
   "nbconvert_exporter": "python",
   "pygments_lexer": "ipython3",
   "version": "3.10.13"
  }
 },
 "nbformat": 4,
 "nbformat_minor": 2
}
