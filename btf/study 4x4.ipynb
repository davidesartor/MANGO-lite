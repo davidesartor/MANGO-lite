{
 "cells": [
  {
   "cell_type": "code",
   "execution_count": 1,
   "metadata": {},
   "outputs": [],
   "source": [
    "import os\n",
    "os.environ[\"CUDA_VISIBLE_DEVICES\"] = \"2\"\n",
    "import jax\n",
    "import jax.numpy as jnp\n",
    "from jax.experimental import host_callback\n",
    "from tqdm.auto import tqdm\n",
    "from functools import partial\n",
    "import frozen_lake\n",
    "import plotting\n",
    "import qlearning\n",
    "import actions\n",
    "import mangoenv\n",
    "import utils\n",
    "import nets\n",
    "import optuna"
   ]
  },
  {
   "cell_type": "code",
   "execution_count": 2,
   "metadata": {},
   "outputs": [],
   "source": [
    "@partial(jax.jit, static_argnames=(\"n_train_iter\", \"batch_size\"))\n",
    "def train_stage(rng_key, env, dql_state, replay_buffer, n_train_iter, batch_size):\n",
    "    pbar = tqdm(total=n_train_iter, desc=\"Training\")\n",
    "\n",
    "    def train_step(dql_state, rng_key):\n",
    "        rng_train, rng_eval = host_callback.id_tap(\n",
    "            lambda a, t: pbar.update(1), jax.random.split(rng_key)\n",
    "        )\n",
    "        transitions = replay_buffer.sample(rng_train, batch_size)\n",
    "        dql_state = dql_state.update_params(transitions)\n",
    "\n",
    "        transitions = dql_state.greedy_rollout(env, rng_eval, steps=32)\n",
    "        episodes = jnp.clip(transitions.done.sum(), a_min=1)\n",
    "        accuracy = transitions.reward.sum() / episodes\n",
    "        return dql_state, accuracy\n",
    "\n",
    "    rng_steps = jax.random.split(rng_key, n_train_iter)\n",
    "    dql_state, accuracy = jax.lax.scan(train_step, dql_state, rng_steps)\n",
    "    return dql_state, accuracy"
   ]
  },
  {
   "cell_type": "code",
   "execution_count": 3,
   "metadata": {},
   "outputs": [],
   "source": [
    "def get_run_sim_fn(map_scale, p, cell_scales):\n",
    "    def run_sim_fn(rng_key, rollout_steps, n_rollouts, stages_train_iter, batch_size):\n",
    "        rng_env, rng_stages = jax.random.split(rng_key)\n",
    "        rng_stages = jax.random.split(rng_stages, len(cell_scales))\n",
    "        \n",
    "        env = frozen_lake.FrozenLake.make_random(rng_env, map_scale, p)\n",
    "        abs_env = env\n",
    "        \n",
    "        for cell_scale, rng_stage, train_iter in zip(cell_scales, rng_stages, stages_train_iter):\n",
    "            rng_rollout, rng_setup, rng_train = jax.random.split(rng_stage, 3)\n",
    "\n",
    "            # fill replay buffer with random rollouts\n",
    "            episodes = utils.multi_random_rollout(abs_env, rng_rollout, rollout_steps, n_rollouts)\n",
    "            replay_buffer = utils.CircularBuffer.store_episodes(episodes)\n",
    "\n",
    "            # initialize DQL for current stage\n",
    "            reward_fn = actions.get_reward_fn(cell_scale)\n",
    "            beta_fn = actions.get_beta_fn(cell_scale)\n",
    "            qnet = nets.MultiTaskQnet(abs_env.action_space.n, n_comands=5)\n",
    "            dql_state = qlearning.MultiDQLTrainState.create(\n",
    "                rng_setup, qnet, abs_env, reward_fn=reward_fn, beta_fn=beta_fn,\n",
    "            )\n",
    "\n",
    "            # train DQL for current stage\n",
    "            dql_state, rewards = train_stage(\n",
    "                rng_train, abs_env, dql_state, replay_buffer, train_iter, batch_size\n",
    "            )\n",
    "\n",
    "            # setup for next stage\n",
    "            abs_env = mangoenv.MangoEnv.from_dql_state(abs_env, dql_state, max_steps=4)\n",
    "            n_rollouts = n_rollouts // 2 \n",
    "\n",
    "        rewards = jnp.concatenate([jnp.zeros(sum(stages_train_iter[:-1])), rewards])\n",
    "        return rewards\n",
    "\n",
    "    return run_sim_fn"
   ]
  },
  {
   "cell_type": "code",
   "execution_count": 4,
   "metadata": {},
   "outputs": [],
   "source": [
    "import matplotlib.pyplot as plt\n",
    "\n",
    "def plot_rewards(rewards):\n",
    "    def smooth(x, w=0.01):\n",
    "        return jnp.convolve(x, jnp.ones(int(w * len(x))) / int(w * len(x)), mode=\"valid\")\n",
    "    for rew in rewards:\n",
    "        plt.plot(smooth(rew))\n",
    "    plt.plot(smooth(rewards.mean(axis=0)), label=\"mean\", color=\"black\", linewidth=3)\n",
    "    plt.show()"
   ]
  },
  {
   "cell_type": "code",
   "execution_count": 5,
   "metadata": {},
   "outputs": [],
   "source": [
    "def get_objective_fn(map_scale, cell_scales, total_rollout_steps, total_train_iter, p=0.5):\n",
    "    run_sim = get_run_sim_fn(map_scale, p, cell_scales)\n",
    "    parrallel_run_sim = jax.vmap(run_sim, in_axes=(0, None, None, None, None))\n",
    "    parrallel_run_sim = jax.jit(parrallel_run_sim, static_argnums=(1, 2, 3, 4))\n",
    "\n",
    "    def objective(trial: optuna.Trial) -> jnp.float_:\n",
    "        # attributes\n",
    "        seed = trial.number\n",
    "        trial.set_user_attr(\"seed\", seed)\n",
    "        trial.set_user_attr(\"max_steps\", total_rollout_steps)\n",
    "        trial.set_user_attr(\"total_train_iter\", total_train_iter)\n",
    "        trial.set_user_attr(\"map_scale\", map_scale)\n",
    "        trial.set_user_attr(\"cell_scales\", cell_scales)\n",
    "\n",
    "        rollout_steps = 2 ** trial.suggest_int(\"log_rollout_steps\", 2, 7)  # 4 to 128\n",
    "        # lr = trial.suggest_float(\"lr\", 1e-4, 1e-2, log=True)\n",
    "        batch_size = 256 # 2 ** trial.suggest_int(\"log_batch_size\", 6, 10)  # 64 to 1024\n",
    "        train_iter = tuple(\n",
    "            2 ** trial.suggest_int(f\"log_train_iter_{i}\", 6, int(jnp.log2(total_train_iter))) \n",
    "            for i in cell_scales[:-1] # 64 to max_train_iter\n",
    "        ) \n",
    "        train_iter =  train_iter + (len(cell_scales)*total_train_iter - sum(train_iter),)\n",
    "        n_rollouts = total_rollout_steps // rollout_steps\n",
    "\n",
    "        rng_key = jax.random.PRNGKey(seed)\n",
    "        rng_keys = jax.random.split(rng_key, 16)\n",
    "        rewards = parrallel_run_sim(rng_keys, rollout_steps, n_rollouts, train_iter, batch_size)\n",
    "\n",
    "        plot_rewards(rewards)\n",
    "        return rewards.mean()\n",
    "\n",
    "    return objective"
   ]
  },
  {
   "cell_type": "code",
   "execution_count": 6,
   "metadata": {},
   "outputs": [
    {
     "name": "stderr",
     "output_type": "stream",
     "text": [
      "[I 2024-02-27 01:46:31,456] Using an existing study with name 'mango' instead of creating a new one.\n"
     ]
    },
    {
     "data": {
      "application/vnd.jupyter.widget-view+json": {
       "model_id": "0ebcaab3a02045199deb9df084f2ddf9",
       "version_major": 2,
       "version_minor": 0
      },
      "text/plain": [
       "  0%|          | 0/32 [00:00<?, ?it/s]"
      ]
     },
     "metadata": {},
     "output_type": "display_data"
    },
    {
     "data": {
      "application/vnd.jupyter.widget-view+json": {
       "model_id": "b222395a475e4848a5636b861f1eb7dd",
       "version_major": 2,
       "version_minor": 0
      },
      "text/plain": [
       "Random Rollout:   0%|          | 0/16 [00:00<?, ?it/s]"
      ]
     },
     "metadata": {},
     "output_type": "display_data"
    },
    {
     "data": {
      "application/vnd.jupyter.widget-view+json": {
       "model_id": "ab5b6f19348d421d8dd69c0656bfa9ae",
       "version_major": 2,
       "version_minor": 0
      },
      "text/plain": [
       "Training:   0%|          | 0/4096 [00:00<?, ?it/s]"
      ]
     },
     "metadata": {},
     "output_type": "display_data"
    },
    {
     "data": {
      "application/vnd.jupyter.widget-view+json": {
       "model_id": "3798bcba87e8471c929ab5d35bffa990",
       "version_major": 2,
       "version_minor": 0
      },
      "text/plain": [
       "Greedy Rollout:   0%|          | 0/32 [00:00<?, ?it/s]"
      ]
     },
     "metadata": {},
     "output_type": "display_data"
    },
    {
     "data": {
      "application/vnd.jupyter.widget-view+json": {
       "model_id": "38e357fa8ce4480d8e62bee257fd8ed5",
       "version_major": 2,
       "version_minor": 0
      },
      "text/plain": [
       "Random Rollout:   0%|          | 0/16 [00:00<?, ?it/s]"
      ]
     },
     "metadata": {},
     "output_type": "display_data"
    },
    {
     "data": {
      "application/vnd.jupyter.widget-view+json": {
       "model_id": "0aa3262b243442a8917dbb05422987a6",
       "version_major": 2,
       "version_minor": 0
      },
      "text/plain": [
       "Training:   0%|          | 0/128 [00:00<?, ?it/s]"
      ]
     },
     "metadata": {},
     "output_type": "display_data"
    },
    {
     "data": {
      "application/vnd.jupyter.widget-view+json": {
       "model_id": "f52e2d0bf24d4a7b879ffc3e5f9de86b",
       "version_major": 2,
       "version_minor": 0
      },
      "text/plain": [
       "Greedy Rollout:   0%|          | 0/32 [00:00<?, ?it/s]"
      ]
     },
     "metadata": {},
     "output_type": "display_data"
    },
    {
     "data": {
      "application/vnd.jupyter.widget-view+json": {
       "model_id": "5ad5ab76e0a14b528b388f227b2aec48",
       "version_major": 2,
       "version_minor": 0
      },
      "text/plain": [
       "Random Rollout:   0%|          | 0/16 [00:00<?, ?it/s]"
      ]
     },
     "metadata": {},
     "output_type": "display_data"
    },
    {
     "data": {
      "application/vnd.jupyter.widget-view+json": {
       "model_id": "3d42e772f67a4338b569cf7c8a11ed9f",
       "version_major": 2,
       "version_minor": 0
      },
      "text/plain": [
       "Training:   0%|          | 0/8064 [00:00<?, ?it/s]"
      ]
     },
     "metadata": {},
     "output_type": "display_data"
    },
    {
     "data": {
      "application/vnd.jupyter.widget-view+json": {
       "model_id": "ccfe54529eba40ec97c8de7303013192",
       "version_major": 2,
       "version_minor": 0
      },
      "text/plain": [
       "Greedy Rollout:   0%|          | 0/32 [00:00<?, ?it/s]"
      ]
     },
     "metadata": {},
     "output_type": "display_data"
    },
    {
     "data": {
      "image/png": "[encoded data removed]",
      "text/plain": [
       "<Figure size 640x480 with 1 Axes>"
      ]
     },
     "metadata": {},
     "output_type": "display_data"
    },
    {
     "name": "stdout",
     "output_type": "stream",
     "text": [
      "[I 2024-02-27 01:52:28,266] Trial 1 finished with value: 0.11708291620016098 and parameters: {'log_rollout_steps': 4, 'log_train_iter_3': 12, 'log_train_iter_2': 7}. Best is trial 1 with value: 0.11708291620016098.\n"
     ]
    },
    {
     "data": {
      "application/vnd.jupyter.widget-view+json": {
       "model_id": "6b5b2f50647949d0bdba9ff941b98cba",
       "version_major": 2,
       "version_minor": 0
      },
      "text/plain": [
       "Training:   0%|          | 0/1024 [00:00<?, ?it/s]"
      ]
     },
     "metadata": {},
     "output_type": "display_data"
    },
    {
     "data": {
      "application/vnd.jupyter.widget-view+json": {
       "model_id": "e26b64bcb590425681a0f81e835fefa4",
       "version_major": 2,
       "version_minor": 0
      },
      "text/plain": [
       "Greedy Rollout:   0%|          | 0/32 [00:00<?, ?it/s]"
      ]
     },
     "metadata": {},
     "output_type": "display_data"
    },
    {
     "data": {
      "application/vnd.jupyter.widget-view+json": {
       "model_id": "ac5f9b6ab76644f68b8cf6450888f9a1",
       "version_major": 2,
       "version_minor": 0
      },
      "text/plain": [
       "Random Rollout:   0%|          | 0/16 [00:00<?, ?it/s]"
      ]
     },
     "metadata": {},
     "output_type": "display_data"
    },
    {
     "data": {
      "application/vnd.jupyter.widget-view+json": {
       "model_id": "b97970f9aef046f5a14f88b8ee1b1e54",
       "version_major": 2,
       "version_minor": 0
      },
      "text/plain": [
       "Training:   0%|          | 0/2048 [00:00<?, ?it/s]"
      ]
     },
     "metadata": {},
     "output_type": "display_data"
    },
    {
     "data": {
      "application/vnd.jupyter.widget-view+json": {
       "model_id": "d5d954bad41045a1a05992b04c4ccbf3",
       "version_major": 2,
       "version_minor": 0
      },
      "text/plain": [
       "Greedy Rollout:   0%|          | 0/32 [00:00<?, ?it/s]"
      ]
     },
     "metadata": {},
     "output_type": "display_data"
    },
    {
     "data": {
      "application/vnd.jupyter.widget-view+json": {
       "model_id": "4db6ad8ff5d84f12a976cdb4eb3a8644",
       "version_major": 2,
       "version_minor": 0
      },
      "text/plain": [
       "Random Rollout:   0%|          | 0/16 [00:00<?, ?it/s]"
      ]
     },
     "metadata": {},
     "output_type": "display_data"
    },
    {
     "data": {
      "application/vnd.jupyter.widget-view+json": {
       "model_id": "98e9734a9c954545beaf95a0b9195de6",
       "version_major": 2,
       "version_minor": 0
      },
      "text/plain": [
       "Training:   0%|          | 0/9216 [00:00<?, ?it/s]"
      ]
     },
     "metadata": {},
     "output_type": "display_data"
    },
    {
     "data": {
      "application/vnd.jupyter.widget-view+json": {
       "model_id": "384c63b356f0418a9184366f24450531",
       "version_major": 2,
       "version_minor": 0
      },
      "text/plain": [
       "Greedy Rollout:   0%|          | 0/32 [00:00<?, ?it/s]"
      ]
     },
     "metadata": {},
     "output_type": "display_data"
    }
   ],
   "source": [
    "map_scale = 3\n",
    "cell_scales = ( 3, 2, 1)\n",
    "\n",
    "storage_path = f\"sqlite:///optuna_studies/{2**map_scale}x{2**map_scale}_stages={list(cell_scales)}.db\"\n",
    "study = optuna.create_study(\n",
    "    study_name=f\"mango\",\n",
    "    storage=storage_path,\n",
    "    load_if_exists=True,\n",
    "    direction=\"maximize\",\n",
    ")\n",
    "study.optimize(\n",
    "    get_objective_fn(map_scale, cell_scales, total_train_iter=4*1024, total_rollout_steps=1024 * 1024),\n",
    "    n_trials=32,\n",
    "    show_progress_bar=True,\n",
    ")"
   ]
  },
  {
   "cell_type": "code",
   "execution_count": null,
   "metadata": {},
   "outputs": [
    {
     "name": "stdout",
     "output_type": "stream",
     "text": [
      "Traceback (most recent call last):\n",
      "  File \"/home/davide_sartor/.conda/envs/dl_env/lib/python3.10/site-packages/sqlalchemy/engine/base.py\", line 1965, in _exec_single_context\n",
      "    self.dialect.do_execute(\n",
      "  File \"/home/davide_sartor/.conda/envs/dl_env/lib/python3.10/site-packages/sqlalchemy/engine/default.py\", line 921, in do_execute\n",
      "    cursor.execute(statement, parameters)\n",
      "sqlite3.OperationalError: no such table: version_info\n",
      "\n",
      "The above exception was the direct cause of the following exception:\n",
      "\n",
      "Traceback (most recent call last):\n",
      "  File \"/home/davide_sartor/.conda/envs/dl_env/lib/python3.10/site-packages/optuna/storages/_rdb/storage.py\", line 73, in _create_scoped_session\n",
      "    yield session\n",
      "  File \"/home/davide_sartor/.conda/envs/dl_env/lib/python3.10/site-packages/optuna/storages/_rdb/storage.py\", line 1043, in _init_version_info_model\n",
      "    version_info = models.VersionInfoModel.find(session)\n",
      "  File \"/home/davide_sartor/.conda/envs/dl_env/lib/python3.10/site-packages/optuna/storages/_rdb/models.py\", line 578, in find\n",
      "    version_info = session.query(cls).one_or_none()\n",
      "  File \"/home/davide_sartor/.conda/envs/dl_env/lib/python3.10/site-packages/sqlalchemy/orm/query.py\", line 2769, in one_or_none\n",
      "    return self._iter().one_or_none()  # type: ignore\n",
      "  File \"/home/davide_sartor/.conda/envs/dl_env/lib/python3.10/site-packages/sqlalchemy/orm/query.py\", line 2842, in _iter\n",
      "    result: Union[ScalarResult[_T], Result[_T]] = self.session.execute(\n",
      "  File \"/home/davide_sartor/.conda/envs/dl_env/lib/python3.10/site-packages/sqlalchemy/orm/session.py\", line 2262, in execute\n",
      "    return self._execute_internal(\n",
      "  File \"/home/davide_sartor/.conda/envs/dl_env/lib/python3.10/site-packages/sqlalchemy/orm/session.py\", line 2144, in _execute_internal\n",
      "    result: Result[Any] = compile_state_cls.orm_execute_statement(\n",
      "  File \"/home/davide_sartor/.conda/envs/dl_env/lib/python3.10/site-packages/sqlalchemy/orm/context.py\", line 293, in orm_execute_statement\n",
      "    result = conn.execute(\n",
      "  File \"/home/davide_sartor/.conda/envs/dl_env/lib/python3.10/site-packages/sqlalchemy/engine/base.py\", line 1412, in execute\n",
      "    return meth(\n",
      "  File \"/home/davide_sartor/.conda/envs/dl_env/lib/python3.10/site-packages/sqlalchemy/sql/elements.py\", line 516, in _execute_on_connection\n",
      "    return connection._execute_clauseelement(\n",
      "  File \"/home/davide_sartor/.conda/envs/dl_env/lib/python3.10/site-packages/sqlalchemy/engine/base.py\", line 1635, in _execute_clauseelement\n",
      "    ret = self._execute_context(\n",
      "  File \"/home/davide_sartor/.conda/envs/dl_env/lib/python3.10/site-packages/sqlalchemy/engine/base.py\", line 1844, in _execute_context\n",
      "    return self._exec_single_context(\n",
      "  File \"/home/davide_sartor/.conda/envs/dl_env/lib/python3.10/site-packages/sqlalchemy/engine/base.py\", line 1984, in _exec_single_context\n",
      "    self._handle_dbapi_exception(\n",
      "  File \"/home/davide_sartor/.conda/envs/dl_env/lib/python3.10/site-packages/sqlalchemy/engine/base.py\", line 2339, in _handle_dbapi_exception\n",
      "    raise sqlalchemy_exception.with_traceback(exc_info[2]) from e\n",
      "  File \"/home/davide_sartor/.conda/envs/dl_env/lib/python3.10/site-packages/sqlalchemy/engine/base.py\", line 1965, in _exec_single_context\n",
      "    self.dialect.do_execute(\n",
      "  File \"/home/davide_sartor/.conda/envs/dl_env/lib/python3.10/site-packages/sqlalchemy/engine/default.py\", line 921, in do_execute\n",
      "    cursor.execute(statement, parameters)\n",
      "sqlalchemy.exc.OperationalError: (sqlite3.OperationalError) no such table: version_info\n",
      "[SQL: SELECT version_info.version_info_id AS version_info_version_info_id, version_info.schema_version AS version_info_schema_version, version_info.library_version AS version_info_library_version \n",
      "FROM version_info]\n",
      "(Background on this error at: https://sqlalche.me/e/20/e3q8)\n",
      "\n",
      "The above exception was the direct cause of the following exception:\n",
      "\n",
      "Traceback (most recent call last):\n",
      "  File \"/home/davide_sartor/.conda/envs/dl_env/bin/optuna-dashboard\", line 8, in <module>\n",
      "    sys.exit(main())\n",
      "  File \"/home/davide_sartor/.conda/envs/dl_env/lib/python3.10/site-packages/optuna_dashboard/_cli.py\", line 119, in main\n",
      "    storage = get_storage(args.storage, storage_class=args.storage_class)\n",
      "  File \"/home/davide_sartor/.conda/envs/dl_env/lib/python3.10/site-packages/optuna_dashboard/_storage_url.py\", line 58, in get_storage\n",
      "    return guess_storage_from_url(storage)\n",
      "  File \"/home/davide_sartor/.conda/envs/dl_env/lib/python3.10/site-packages/optuna_dashboard/_storage_url.py\", line 69, in guess_storage_from_url\n",
      "    return get_rdb_storage(storage_url)\n",
      "  File \"/home/davide_sartor/.conda/envs/dl_env/lib/python3.10/site-packages/optuna_dashboard/_storage_url.py\", line 76, in get_rdb_storage\n",
      "    return RDBStorage(storage_url, skip_compatibility_check=True, skip_table_creation=True)\n",
      "  File \"/home/davide_sartor/.conda/envs/dl_env/lib/python3.10/site-packages/optuna/storages/_rdb/storage.py\", line 232, in __init__\n",
      "    self._version_manager = _VersionManager(self.url, self.engine, self.scoped_session)\n",
      "  File \"/home/davide_sartor/.conda/envs/dl_env/lib/python3.10/site-packages/optuna/storages/_rdb/storage.py\", line 1038, in __init__\n",
      "    self._init_version_info_model()\n",
      "  File \"/home/davide_sartor/.conda/envs/dl_env/lib/python3.10/site-packages/optuna/storages/_rdb/storage.py\", line 1042, in _init_version_info_model\n",
      "    with _create_scoped_session(self.scoped_session, True) as session:\n",
      "  File \"/home/davide_sartor/.conda/envs/dl_env/lib/python3.10/contextlib.py\", line 153, in __exit__\n",
      "    self.gen.throw(typ, value, traceback)\n",
      "  File \"/home/davide_sartor/.conda/envs/dl_env/lib/python3.10/site-packages/optuna/storages/_rdb/storage.py\", line 91, in _create_scoped_session\n",
      "    raise optuna.exceptions.StorageInternalError(message) from e\n",
      "optuna.exceptions.StorageInternalError: An exception is raised during the commit. This typically happens due to invalid data in the commit, e.g. exceeding max length. \n"
     ]
    }
   ],
   "source": [
    "map_scale = 2\n",
    "cell_scales = (2,)\n",
    "storage_path = f\"{2**map_scale}x{2**map_scale}_stages={list(cell_scales)}.db\"\n",
    "\n",
    "cmd = f\"optuna-dashboard 'sqlite:///optuna_studies/{storage_path}'\"\n",
    "get_ipython().system(cmd)"
   ]
  }
 ],
 "metadata": {
  "kernelspec": {
   "display_name": "Python 3",
   "language": "python",
   "name": "python3"
  },
  "language_info": {
   "codemirror_mode": {
    "name": "ipython",
    "version": 3
   },
   "file_extension": ".py",
   "mimetype": "text/x-python",
   "name": "python",
   "nbconvert_exporter": "python",
   "pygments_lexer": "ipython3",
   "version": "3.10.13"
  }
 },
 "nbformat": 4,
 "nbformat_minor": 2
}
