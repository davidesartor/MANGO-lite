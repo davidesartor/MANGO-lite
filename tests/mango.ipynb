{
 "cells": [
  {
   "cell_type": "code",
   "execution_count": 2,
   "metadata": {},
   "outputs": [],
   "source": [
    "import sys\n",
    "sys.path.append(\"..\")"
   ]
  },
  {
   "cell_type": "code",
   "execution_count": 4,
   "metadata": {},
   "outputs": [
    {
     "name": "stderr",
     "output_type": "stream",
     "text": [
      "c:\\Users\\dsart\\anaconda3\\envs\\python310base\\lib\\site-packages\\torch\\nn\\modules\\lazy.py:180: UserWarning: Lazy modules are a new feature under heavy development so changes to the API or functionality can happen at any moment.\n",
      "  warnings.warn('Lazy modules are a new feature under heavy development '\n"
     ]
    },
    {
     "data": {
      "text/plain": [
       "Mango(\n",
       "  (0): MangoEnv(\n",
       "    (concept): IdentityConcept()\n",
       "    (environment): DummyEnvironment(state=0, observation_space=Discrete(2), action_space=Discrete(2))\n",
       "  )\n",
       "  (1): MangoLayer(\n",
       "    (concept): IdentityConcept()\n",
       "    (act_comp): FullCompatibility(action_space=Discrete(3))\n",
       "    (policy): DQnetPolicyMapper(comand_space=Discrete(3), action_space=Discrete(2))\n",
       "  )\n",
       "  (2): MangoLayer(\n",
       "    (concept): IdentityConcept()\n",
       "    (act_comp): FullCompatibility(action_space=Discrete(4))\n",
       "    (policy): DQnetPolicyMapper(comand_space=Discrete(4), action_space=Discrete(3))\n",
       "  )\n",
       ")"
      ]
     },
     "execution_count": 4,
     "metadata": {},
     "output_type": "execute_result"
    }
   ],
   "source": [
    "from mango.mango import Mango\n",
    "from mango.concepts import IdentityConcept\n",
    "from mango.actions import FullCompatibility\n",
    "from mango.environments import DummyEnvironment\n",
    "from gymnasium import spaces\n",
    "\n",
    "n_layers = 2\n",
    "\n",
    "mango = Mango(\n",
    "    environment=DummyEnvironment(),\n",
    "    concepts=[IdentityConcept() for i in range(n_layers)],\n",
    "    action_compatibilities=[FullCompatibility(spaces.Discrete(i+3)) for i in range(n_layers)],\n",
    "    base_concept=IdentityConcept(),\n",
    ")\n",
    "\n",
    "mango"
   ]
  }
 ],
 "metadata": {
  "kernelspec": {
   "display_name": "python310base",
   "language": "python",
   "name": "python3"
  },
  "language_info": {
   "codemirror_mode": {
    "name": "ipython",
    "version": 3
   },
   "file_extension": ".py",
   "mimetype": "text/x-python",
   "name": "python",
   "nbconvert_exporter": "python",
   "pygments_lexer": "ipython3",
   "version": "3.10.12"
  },
  "orig_nbformat": 4
 },
 "nbformat": 4,
 "nbformat_minor": 2
}
