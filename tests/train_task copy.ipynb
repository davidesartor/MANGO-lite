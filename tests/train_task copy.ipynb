{
 "cells": [
  {
   "cell_type": "code",
   "execution_count": 1,
   "metadata": {},
   "outputs": [],
   "source": [
    "import sys\n",
    "sys.path.append(\"..\")\n",
    "from tqdm.notebook import tqdm"
   ]
  },
  {
   "cell_type": "code",
   "execution_count": 2,
   "metadata": {},
   "outputs": [],
   "source": [
    "from mango.saving import load_from_file, save_to_file\n",
    "from mango.utils.plotting import plot_agent_loss_reward\n",
    "from mango.environments import frozen_lake\n",
    "from mango.policies import DQNetPolicy\n",
    "from mango import Agent"
   ]
  },
  {
   "cell_type": "code",
   "execution_count": 3,
   "metadata": {},
   "outputs": [],
   "source": [
    "# agent parameters\n",
    "gamma = 0.95\n",
    "lr = 3e-4\n",
    "net_params = dict(\n",
    "    hidden_channels=[8, 8, 8, 8],\n",
    "    hidden_features=[],\n",
    "    # activation_out=torch.nn.Tanh(),\n",
    "    # device=torch.device(\"cuda\") if torch.cuda.is_available() else None,\n",
    ")\n",
    "\n",
    "# parameters of the environment\n",
    "env_params = {\n",
    "    \"map_name\": \"RANDOM\",\n",
    "    \"shape\": (8, 8),\n",
    "    \"p\": 0.8,\n",
    "    \"goal_pos\": [(0, 0), (-1, 0), (-1, -1), (0, -1)],\n",
    "    \"start_pos\": [(0, 0), (-1, 0), (-1, -1), (0, -1)],\n",
    "}\n",
    "\n",
    "# parameters of the training\n",
    "N_episodes = 10000\n",
    "train_steps = 10\n",
    "episode_length = env_params[\"shape\"][0] * env_params[\"shape\"][1]"
   ]
  },
  {
   "cell_type": "code",
   "execution_count": 4,
   "metadata": {},
   "outputs": [],
   "source": [
    "dir_path = frozen_lake.utils.path_to_save_dir(env_params)\n",
    "\n",
    "# agent that interacts with the environment\n",
    "environment = load_from_file(path=dir_path+\"option_manager.pickle\").environment\n",
    "agent = Agent(\n",
    "    environment=environment,\n",
    "    policy_cls=DQNetPolicy,\n",
    "    policy_params=dict(lr=lr, gamma=gamma, net_params=net_params),\n",
    ")\n",
    "\n",
    "# agent that interacts with the option manager\n",
    "option_manager = load_from_file(path=dir_path+\"option_manager.pickle\")\n",
    "mango_agent = Agent(\n",
    "    environment=option_manager,\n",
    "    policy_cls=DQNetPolicy,\n",
    "    policy_params=dict(lr=lr, gamma=gamma, net_params=net_params),\n",
    ")"
   ]
  },
  {
   "cell_type": "code",
   "execution_count": 5,
   "metadata": {},
   "outputs": [
    {
     "data": {
      "application/vnd.jupyter.widget-view+json": {
       "model_id": "b3867d365e3345248f5fdaa6053c22d0",
       "version_major": 2,
       "version_minor": 0
      },
      "text/plain": [
       "  0%|          | 0/10000 [00:00<?, ?it/s]"
      ]
     },
     "metadata": {},
     "output_type": "display_data"
    }
   ],
   "source": [
    "randomness = [((N_episodes - 1 - i) / N_episodes) for i in range(N_episodes)]\n",
    "for r in (pbar := tqdm(randomness)):\n",
    "    pbar.set_description(f\"randomness: {r:.3f}\")\n",
    "    obs, reward, term, trunc, info = agent.explore(episode_length, randomness=r)\n",
    "    for _ in range(train_steps):\n",
    "        agent.train()\n",
    "save_to_file(path=dir_path + \"/agent.pickle\", obj=agent)\n",
    "plot_agent_loss_reward(agent, reward_lims=(-0.05, 1.05), save_path=dir_path + \"/agent_training.png\")\n",
    "frozen_lake.plot_utils.plot_all_qvals_agent(agent, save_path=dir_path + \"/agent_qvals.png\")"
   ]
  }
 ],
 "metadata": {
  "kernelspec": {
   "display_name": "python310base",
   "language": "python",
   "name": "python3"
  },
  "language_info": {
   "codemirror_mode": {
    "name": "ipython",
    "version": 3
   },
   "file_extension": ".py",
   "mimetype": "text/x-python",
   "name": "python",
   "nbconvert_exporter": "python",
   "pygments_lexer": "ipython3",
   "version": "3.10.12"
  },
  "orig_nbformat": 4
 },
 "nbformat": 4,
 "nbformat_minor": 2
}
