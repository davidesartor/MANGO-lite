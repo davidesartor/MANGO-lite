{
 "cells": [
  {
   "cell_type": "code",
   "execution_count": 1,
   "metadata": {},
   "outputs": [],
   "source": [
    "import os\n",
    "os.environ[\"CUDA_VISIBLE_DEVICES\"] = \"0\""
   ]
  },
  {
   "cell_type": "code",
   "execution_count": 2,
   "metadata": {},
   "outputs": [],
   "source": [
    "from functools import partial\n",
    "import numpy as np\n",
    "import jax\n",
    "import jax.numpy as jnp\n",
    "import sims"
   ]
  },
  {
   "cell_type": "code",
   "execution_count": 3,
   "metadata": {},
   "outputs": [],
   "source": [
    "seed = 42\n",
    "map_size = 8\n",
    "max_interactions = 10_000\n",
    "map_scale = int(jnp.log2(map_size))\n",
    "\n",
    "# hyperparams\n",
    "lr = 1e-3\n",
    "rollout_length = 2 * map_size**2\n",
    "n_rollouts = max_interactions // rollout_length\n",
    "train_iter = 8"
   ]
  },
  {
   "cell_type": "code",
   "execution_count": 4,
   "metadata": {},
   "outputs": [],
   "source": [
    "import utils\n",
    "import qlearning\n",
    "import replay\n",
    "\n",
    "@partial(jax.jit, static_argnames=(\"map_size\", \"lr\", \"replay_capacity\"))\n",
    "def setup_simulation(rng_key, map_size, lr, replay_capacity):\n",
    "    rng_env, rng_dql = jax.random.split(rng_key)\n",
    "    #env = utils.FrozenLake.make_preset(rng_env, (map_size, map_size))\n",
    "    env = utils.FrozenLake.make_random(rng_env, (map_size, map_size), 0.8)\n",
    "\n",
    "    env_state, obs = env.reset(rng_key)\n",
    "    action = env.action_space.sample(rng_key)\n",
    "    sample_transition = utils.Transition(env_state, obs, action, 0.0, obs, False, {})\n",
    "\n",
    "    qnet = utils.ConvNet(hidden=[2 * map_size] * int(np.log2(map_size)), out=4)\n",
    "    dql_state = qlearning.DQLTrainState.create(rng_dql, qnet, obs, lr)\n",
    "    replay_memory = replay.CircularBuffer.create(sample_transition, replay_capacity)\n",
    "    return sims.SimulationState(env, dql_state, replay_memory)"
   ]
  },
  {
   "cell_type": "code",
   "execution_count": 5,
   "metadata": {},
   "outputs": [],
   "source": [
    "rng_key = jax.random.PRNGKey(seed)\n",
    "rng_init, rng_sim = jax.random.split(rng_key)\n",
    "sim_state = setup_simulation(rng_key, map_size, lr, replay_capacity=1024)\n",
    "%timeit setup_simulation(rng_key, map_size, lr, replay_capacity=1024)[0].frozen.block_until_ready()\n",
    "\n",
    "q_learning_step =partial(sims.q_learning_step, rollout_length=rollout_length, train_iter=train_iter)\n",
    "sim_state, results = q_learning_step(sim_state, rng_sim)\n",
    "%timeit q_learning_step(setup_simulation(rng_key, map_size, lr, 1024), rng_sim)[0][0].frozen.block_until_ready()\n",
    "\n",
    "rng_sim = jax.random.split(rng_sim, n_rollouts)\n",
    "q_learning_step =partial(sims.q_learning_step, rollout_length=rollout_length, train_iter=train_iter)\n",
    "scan = jax.jit(lambda rng: jax.lax.scan(q_learning_step, sim_state, rng))\n",
    "%timeit scan(rng_sim)[0][0].frozen.block_until_ready()"
   ]
  }
 ],
 "metadata": {
  "kernelspec": {
   "display_name": "Python 3",
   "language": "python",
   "name": "python3"
  },
  "language_info": {
   "codemirror_mode": {
    "name": "ipython",
    "version": 3
   },
   "file_extension": ".py",
   "mimetype": "text/x-python",
   "name": "python",
   "nbconvert_exporter": "python",
   "pygments_lexer": "ipython3",
   "version": "3.10.13"
  }
 },
 "nbformat": 4,
 "nbformat_minor": 2
}
